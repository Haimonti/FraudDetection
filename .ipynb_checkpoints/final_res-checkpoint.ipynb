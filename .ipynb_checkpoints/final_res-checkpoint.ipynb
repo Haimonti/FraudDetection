{
 "cells": [
  {
   "cell_type": "code",
   "execution_count": 1,
   "id": "abe24b16",
   "metadata": {},
   "outputs": [],
   "source": [
    "import pandas as pd\n",
    "import json"
   ]
  },
  {
   "cell_type": "code",
   "execution_count": 2,
   "id": "bc374e09",
   "metadata": {},
   "outputs": [],
   "source": [
    "data = pd.read_csv('data/Bao_28_items_1990_2023_v3.csv')"
   ]
  },
  {
   "cell_type": "code",
   "execution_count": 3,
   "id": "6d32cc25",
   "metadata": {},
   "outputs": [
    {
     "data": {
      "text/plain": [
       "Index(['gvkey', 'datadate', 'fyear', 'indfmt', 'consol', 'popsrc', 'datafmt',\n",
       "       'tic', 'cusip', 'conm', 'curcd', 'fyr', 'act', 'ap', 'at', 'ceq', 'che',\n",
       "       'cogs', 'csho', 'dlc', 'dltis', 'dltt', 'dp', 'ib', 'invt', 'ivao',\n",
       "       'ivst', 'lct', 'lt', 'ni', 'ppegt', 'ppent', 'pstk', 're', 'rect',\n",
       "       'sale', 'sstk', 'txp', 'txt', 'xint', 'cik', 'costat', 'prcc_f',\n",
       "       'conml', 'sic'],\n",
       "      dtype='object')"
      ]
     },
     "execution_count": 3,
     "metadata": {},
     "output_type": "execute_result"
    }
   ],
   "source": [
    "data.columns"
   ]
  },
  {
   "cell_type": "code",
   "execution_count": 4,
   "id": "2b7e4529",
   "metadata": {
    "scrolled": false
   },
   "outputs": [
    {
     "data": {
      "text/plain": [
       "gvkey            0\n",
       "datadate         0\n",
       "fyear            0\n",
       "indfmt           0\n",
       "consol           0\n",
       "popsrc           0\n",
       "datafmt          0\n",
       "tic             96\n",
       "cusip           93\n",
       "conm             0\n",
       "curcd            0\n",
       "fyr              0\n",
       "act         107807\n",
       "ap           61018\n",
       "at           58645\n",
       "ceq          59271\n",
       "che          58984\n",
       "cogs         60155\n",
       "csho         20139\n",
       "dlc          59393\n",
       "dltis        79229\n",
       "dltt         59532\n",
       "dp           69479\n",
       "ib           59843\n",
       "invt         62697\n",
       "ivao         69326\n",
       "ivst         63544\n",
       "lct         106185\n",
       "lt           59135\n",
       "ni           59846\n",
       "ppegt        93112\n",
       "ppent        65412\n",
       "pstk         59431\n",
       "re           66839\n",
       "rect         61019\n",
       "sale         60116\n",
       "sstk         75498\n",
       "txp          87206\n",
       "txt          60116\n",
       "xint         97742\n",
       "cik          38466\n",
       "costat           0\n",
       "prcc_f       48082\n",
       "conml            0\n",
       "sic              0\n",
       "dtype: int64"
      ]
     },
     "execution_count": 4,
     "metadata": {},
     "output_type": "execute_result"
    }
   ],
   "source": [
    "data.isna().sum()"
   ]
  },
  {
   "cell_type": "code",
   "execution_count": 5,
   "id": "10386f84",
   "metadata": {
    "scrolled": false
   },
   "outputs": [],
   "source": [
    "with open('./MLP/features.json') as json_file:\n",
    "    features = json.load(json_file)"
   ]
  },
  {
   "cell_type": "code",
   "execution_count": 6,
   "id": "cad14d65",
   "metadata": {},
   "outputs": [],
   "source": [
    "for feat in features['raw_financial_items_28']:\n",
    "    if feat not in data.columns:\n",
    "        print(feat)"
   ]
  },
  {
   "cell_type": "code",
   "execution_count": 7,
   "id": "e75cfeff",
   "metadata": {
    "scrolled": false
   },
   "outputs": [
    {
     "data": {
      "text/plain": [
       "act       107807\n",
       "ap         61018\n",
       "at         58645\n",
       "ceq        59271\n",
       "che        58984\n",
       "cogs       60155\n",
       "csho       20139\n",
       "dlc        59393\n",
       "dltis      79229\n",
       "dltt       59532\n",
       "dp         69479\n",
       "ib         59843\n",
       "invt       62697\n",
       "ivao       69326\n",
       "ivst       63544\n",
       "lct       106185\n",
       "lt         59135\n",
       "ni         59846\n",
       "ppegt      93112\n",
       "pstk       59431\n",
       "re         66839\n",
       "rect       61019\n",
       "sale       60116\n",
       "sstk       75498\n",
       "txp        87206\n",
       "txt        60116\n",
       "xint       97742\n",
       "prcc_f     48082\n",
       "ppent      65412\n",
       "dtype: int64"
      ]
     },
     "execution_count": 7,
     "metadata": {},
     "output_type": "execute_result"
    }
   ],
   "source": [
    "data[features['raw_financial_items_28']+['ppent']].isna().sum()"
   ]
  },
  {
   "cell_type": "code",
   "execution_count": 8,
   "id": "794b6ba9",
   "metadata": {},
   "outputs": [],
   "source": [
    "data = data.dropna(subset=['at'])"
   ]
  },
  {
   "cell_type": "code",
   "execution_count": 9,
   "id": "7d738f6c",
   "metadata": {
    "scrolled": false
   },
   "outputs": [
    {
     "data": {
      "text/plain": [
       "act       49162\n",
       "ap         2373\n",
       "at            0\n",
       "ceq         637\n",
       "che         340\n",
       "cogs       1614\n",
       "csho       6207\n",
       "dlc         749\n",
       "dltis     20618\n",
       "dltt        891\n",
       "dp        10915\n",
       "ib         1354\n",
       "invt       4052\n",
       "ivao      10681\n",
       "ivst       4901\n",
       "lct       47540\n",
       "lt          491\n",
       "ni         1358\n",
       "ppegt     34468\n",
       "pstk        797\n",
       "re         8205\n",
       "rect       2376\n",
       "sale       1615\n",
       "sstk      16887\n",
       "txp       28561\n",
       "txt        1582\n",
       "xint      39155\n",
       "prcc_f    36777\n",
       "ppent      6770\n",
       "dtype: int64"
      ]
     },
     "execution_count": 9,
     "metadata": {},
     "output_type": "execute_result"
    }
   ],
   "source": [
    "data[features['raw_financial_items_28']+['ppent']].isna().sum()"
   ]
  },
  {
   "cell_type": "code",
   "execution_count": null,
   "id": "ac4d892a",
   "metadata": {},
   "outputs": [],
   "source": []
  },
  {
   "cell_type": "code",
   "execution_count": 11,
   "id": "e0d54786",
   "metadata": {},
   "outputs": [],
   "source": [
    "data[features['raw_financial_items_28']+['ppent']] = \\\n",
    "    data[features['raw_financial_items_28']+['ppent']].fillna(0)"
   ]
  },
  {
   "cell_type": "code",
   "execution_count": 12,
   "id": "5f4ae2db",
   "metadata": {},
   "outputs": [],
   "source": [
    "df = data.copy()"
   ]
  },
  {
   "cell_type": "code",
   "execution_count": 13,
   "id": "186cefeb",
   "metadata": {
    "scrolled": false
   },
   "outputs": [
    {
     "data": {
      "text/plain": [
       "Index(['gvkey', 'datadate', 'fyear', 'indfmt', 'consol', 'popsrc', 'datafmt',\n",
       "       'tic', 'cusip', 'conm', 'curcd', 'fyr', 'act', 'ap', 'at', 'ceq', 'che',\n",
       "       'cogs', 'csho', 'dlc', 'dltis', 'dltt', 'dp', 'ib', 'invt', 'ivao',\n",
       "       'ivst', 'lct', 'lt', 'ni', 'ppegt', 'ppent', 'pstk', 're', 'rect',\n",
       "       'sale', 'sstk', 'txp', 'txt', 'xint', 'cik', 'costat', 'prcc_f',\n",
       "       'conml', 'sic'],\n",
       "      dtype='object')"
      ]
     },
     "execution_count": 13,
     "metadata": {},
     "output_type": "execute_result"
    }
   ],
   "source": [
    "df.columns"
   ]
  },
  {
   "cell_type": "code",
   "execution_count": 14,
   "id": "ec35edd1",
   "metadata": {},
   "outputs": [],
   "source": [
    "#1 changes in working capital accruals\n",
    "df['wc'] = (df['act'] - df['che']) - (df['lct'] - df['dlc'] - df['txp'])\n",
    "df['ch_wc'] = df['wc'] - df['wc'].shift(1)\n",
    "df['dch_wc'] = df['ch_wc'] * 2 / (df['at'] - df['at'].shift(1))\n",
    "\n",
    "#2 changes in RSST_accruals\n",
    "df['nco'] = (df['at'] - df['act'] - df['ivao']) - (df['lt'] - df['lct'] - df['dltt'])\n",
    "df['ch_nco'] = df['nco'] - df['nco'].shift(1)\n",
    "\n",
    "df['fin'] = (df['ivst'] + df['ivao']) - (df['dltt'] + df['dlc'] + df['pstk'])\n",
    "df['ch_fin'] = df['fin'] - df['fin'].shift(1)\n",
    "\n",
    "df['ch_rsst'] = (df['ch_wc'] + df['ch_nco'] + df['ch_fin']) * 2 / (df['at'] + df['at'].shift(1))\n",
    "\n",
    "#3 changes in receivables\n",
    "df['ch_rec'] = df['rect'] - df['rect'].shift(1)\n",
    "df['dch_rec'] = df['ch_rec'] * 2 / (df['at'] + df['at'].shift(1))\n",
    "\n",
    "#4 changes in inventories\n",
    "df['ch_inv'] = df['invt'] - df['invt'].shift(1)\n",
    "df['dch_inv'] = df['ch_inv'] * 2 / (df['at'] + df['at'].shift(1))\n",
    "\n",
    "#5 percentage of soft assets\n",
    "df['soft_assets'] = (df['at'] - df['ppent'] - df['che']) / df['at']\n",
    "\n",
    "#6 percentage change in cash sales\n",
    "df['cs'] = df['sale'] - (df['rect'] - df['rect'].shift(1))\n",
    "df['ch_cs'] = (df['cs'] - df['cs'].shift(1)) / df['cs'].shift(1)\n",
    "\n",
    "#7 change in cash margin\n",
    "df['cmm'] = (df['cogs'] - (df['invt'] - df['invt'].shift(1)) + (df['ap'] - df['ap'].shift(1))) / (df['sale'] - (df['rect'] - df['rect'].shift(1)))\n",
    "df['ch_cm'] = (df['cmm'] - df['cmm'].shift(1)) / df['cmm'].shift(1)\n",
    "\n",
    "#8 change in return on assets\n",
    "df['roa'] = (df['ni'] * 2) / (df['at'] + df['at'].shift(1))\n",
    "\n",
    "df['ch_roa'] = df['roa'] - df['roa'].shift(1)\n",
    "\n",
    "#9 actual issuance\n",
    "df['issue'] = ((df['sstk'] > 0) | (df['dltis'] > 0)).astype(int)\n",
    "\n",
    "#10 Book-to-market\n",
    "df['bm'] = df['ceq'] / (df['prcc_f'] * df['csho'])\n",
    "\n",
    "#11 Depreciation Index (Ratio from Beneish 1999)\n",
    "df['dpi'] = (df['dp'].shift(1) / (df['dp'].shift(1) + df['ppent'].shift(1))) / (df['dp'] / (df['dp'] + df['ppent']))\n",
    "\n",
    "#12 Retained earnings over assets\n",
    "df['reoa'] = df['re'] / df['at']\n",
    "\n",
    "#13 Earnings before interest and tax (Ratios from Summers and Sweeney, 1998)\n",
    "df['EBIT'] = (df['ni'] + df['xint'] + df['txt']) / df['at']\n",
    "\n",
    "#14 changes in free cash flow\n",
    "df['ch_ib'] = df['ib'] - df['ib'].shift(1)\n",
    "df['ch_fcf'] = df['ch_ib'] - df['ch_rsst']\n"
   ]
  },
  {
   "cell_type": "code",
   "execution_count": 15,
   "id": "3c436f99",
   "metadata": {},
   "outputs": [],
   "source": [
    "selected_columns = ['dch_wc', 'ch_rsst', 'dch_rec', 'dch_inv', 'soft_assets', 'ch_cs', 'ch_cm', 'ch_roa', 'issue', 'bm', 'dpi', 'reoa', 'EBIT', 'ch_fcf']\n",
    "selected_df = df[selected_columns]"
   ]
  },
  {
   "cell_type": "code",
   "execution_count": 16,
   "id": "d8f2c7af",
   "metadata": {},
   "outputs": [
    {
     "data": {
      "text/plain": [
       "dch_wc            98\n",
       "ch_rsst           68\n",
       "dch_rec          460\n",
       "dch_inv          460\n",
       "soft_assets     1099\n",
       "ch_cs           4772\n",
       "ch_cm           8444\n",
       "ch_roa           261\n",
       "issue              0\n",
       "bm               391\n",
       "dpi            22497\n",
       "reoa              32\n",
       "EBIT             143\n",
       "ch_fcf            68\n",
       "dtype: int64"
      ]
     },
     "execution_count": 16,
     "metadata": {},
     "output_type": "execute_result"
    }
   ],
   "source": [
    "selected_df.isna().sum()"
   ]
  },
  {
   "cell_type": "code",
   "execution_count": 17,
   "id": "1aae7fb3",
   "metadata": {},
   "outputs": [],
   "source": [
    "data[selected_columns] = df[selected_columns]\n"
   ]
  },
  {
   "cell_type": "code",
   "execution_count": 18,
   "id": "9a10c116",
   "metadata": {},
   "outputs": [
    {
     "data": {
      "text/plain": [
       "Index(['gvkey', 'datadate', 'fyear', 'indfmt', 'consol', 'popsrc', 'datafmt',\n",
       "       'tic', 'cusip', 'conm', 'curcd', 'fyr', 'act', 'ap', 'at', 'ceq', 'che',\n",
       "       'cogs', 'csho', 'dlc', 'dltis', 'dltt', 'dp', 'ib', 'invt', 'ivao',\n",
       "       'ivst', 'lct', 'lt', 'ni', 'ppegt', 'ppent', 'pstk', 're', 'rect',\n",
       "       'sale', 'sstk', 'txp', 'txt', 'xint', 'cik', 'costat', 'prcc_f',\n",
       "       'conml', 'sic', 'dch_wc', 'ch_rsst', 'dch_rec', 'dch_inv',\n",
       "       'soft_assets', 'ch_cs', 'ch_cm', 'ch_roa', 'issue', 'bm', 'dpi', 'reoa',\n",
       "       'EBIT', 'ch_fcf'],\n",
       "      dtype='object')"
      ]
     },
     "execution_count": 18,
     "metadata": {},
     "output_type": "execute_result"
    }
   ],
   "source": [
    "data.columns"
   ]
  },
  {
   "cell_type": "code",
   "execution_count": 19,
   "id": "ad713dea",
   "metadata": {},
   "outputs": [
    {
     "data": {
      "text/plain": [
       "gvkey              0\n",
       "datadate           0\n",
       "fyear              0\n",
       "indfmt             0\n",
       "consol             0\n",
       "popsrc             0\n",
       "datafmt            0\n",
       "tic                3\n",
       "cusip              0\n",
       "conm               0\n",
       "curcd              0\n",
       "fyr                0\n",
       "act                0\n",
       "ap                 0\n",
       "at                 0\n",
       "ceq                0\n",
       "che                0\n",
       "cogs               0\n",
       "csho               0\n",
       "dlc                0\n",
       "dltis              0\n",
       "dltt               0\n",
       "dp                 0\n",
       "ib                 0\n",
       "invt               0\n",
       "ivao               0\n",
       "ivst               0\n",
       "lct                0\n",
       "lt                 0\n",
       "ni                 0\n",
       "ppegt              0\n",
       "ppent              0\n",
       "pstk               0\n",
       "re                 0\n",
       "rect               0\n",
       "sale               0\n",
       "sstk               0\n",
       "txp                0\n",
       "txt                0\n",
       "xint               0\n",
       "cik            10673\n",
       "costat             0\n",
       "prcc_f             0\n",
       "conml              0\n",
       "sic                0\n",
       "dch_wc            98\n",
       "ch_rsst           68\n",
       "dch_rec          460\n",
       "dch_inv          460\n",
       "soft_assets     1099\n",
       "ch_cs           4772\n",
       "ch_cm           8444\n",
       "ch_roa           261\n",
       "issue              0\n",
       "bm               391\n",
       "dpi            22497\n",
       "reoa              32\n",
       "EBIT             143\n",
       "ch_fcf            68\n",
       "dtype: int64"
      ]
     },
     "execution_count": 19,
     "metadata": {},
     "output_type": "execute_result"
    }
   ],
   "source": [
    "data.isna().sum()"
   ]
  },
  {
   "cell_type": "code",
   "execution_count": null,
   "id": "55a10d49",
   "metadata": {},
   "outputs": [],
   "source": []
  }
 ],
 "metadata": {
  "kernelspec": {
   "display_name": "Python 3 (ipykernel)",
   "language": "python",
   "name": "python3"
  },
  "language_info": {
   "codemirror_mode": {
    "name": "ipython",
    "version": 3
   },
   "file_extension": ".py",
   "mimetype": "text/x-python",
   "name": "python",
   "nbconvert_exporter": "python",
   "pygments_lexer": "ipython3",
   "version": "3.10.6"
  }
 },
 "nbformat": 4,
 "nbformat_minor": 5
}

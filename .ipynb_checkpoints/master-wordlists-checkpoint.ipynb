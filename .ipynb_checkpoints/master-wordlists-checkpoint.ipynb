{
 "cells": [
  {
   "cell_type": "code",
   "execution_count": 66,
   "id": "f4f4ee99",
   "metadata": {},
   "outputs": [],
   "source": [
    "import pandas as pd\n",
    "import numpy as np\n",
    "import json\n",
    "import re"
   ]
  },
  {
   "cell_type": "code",
   "execution_count": 4,
   "id": "84f76ba0",
   "metadata": {},
   "outputs": [],
   "source": [
    "data = pd.read_excel('./data/words-master.xlsx')"
   ]
  },
  {
   "cell_type": "code",
   "execution_count": 10,
   "id": "72cc717a",
   "metadata": {},
   "outputs": [
    {
     "data": {
      "text/plain": [
       "array(['Revenue Overstatement', 'financial transactions, stock prices',\n",
       "       'international relations, financial transactions',\n",
       "       'financial transactions', nan,\n",
       "       'violation of GAAP, Revenue Overstatement',\n",
       "       'financial reporting, control failures', 'Revenue overstatement',\n",
       "       'Overstated Revenue'], dtype=object)"
      ]
     },
     "execution_count": 10,
     "metadata": {},
     "output_type": "execute_result"
    }
   ],
   "source": [
    "data['Type of Fraud'].unique()"
   ]
  },
  {
   "cell_type": "code",
   "execution_count": 15,
   "id": "5c4bafa4",
   "metadata": {
    "scrolled": true
   },
   "outputs": [
    {
     "data": {
      "text/plain": [
       "13"
      ]
     },
     "execution_count": 15,
     "metadata": {},
     "output_type": "execute_result"
    }
   ],
   "source": [
    "len(data.columns[7:])"
   ]
  },
  {
   "cell_type": "code",
   "execution_count": 96,
   "id": "b5c7d0e7",
   "metadata": {},
   "outputs": [
    {
     "data": {
      "text/plain": [
       "Index(['Possible words that can be extracted from 10K', 'Deceptive Words',\n",
       "       'Litiguous Proportions', 'Uncertain Proportions',\n",
       "       'Negative Proportions',\n",
       "       'Presence or absence of words pertaining to financial statements, stocks, revenue management, financial transactions, securities',\n",
       "       'Presence or absence of words referring to top executives such as C-suite officials, presidents, trustees, member of a board of directors',\n",
       "       'Audit ', 'Presence or absence of International Relationships',\n",
       "       'Words associated with a firm's life cycle - mergers and acquisitions',\n",
       "       'Misstatements',\n",
       "       'Words referring \\nto Internal Controls \\nof a company \\nInternal Controls',\n",
       "       'Bribery'],\n",
       "      dtype='object')"
      ]
     },
     "execution_count": 96,
     "metadata": {},
     "output_type": "execute_result"
    }
   ],
   "source": [
    "data.columns[7:]"
   ]
  },
  {
   "cell_type": "code",
   "execution_count": 97,
   "id": "f62961de",
   "metadata": {},
   "outputs": [],
   "source": [
    "keys = data.columns[7:]"
   ]
  },
  {
   "cell_type": "code",
   "execution_count": 98,
   "id": "3a06e74d",
   "metadata": {},
   "outputs": [],
   "source": [
    "word_dict = {}"
   ]
  },
  {
   "cell_type": "code",
   "execution_count": 99,
   "id": "57e7c137",
   "metadata": {},
   "outputs": [],
   "source": [
    "def get_words(cat_data):\n",
    "    words = []\n",
    "    for sent in cat_data.dropna():\n",
    "        sent = sent.replace('\\n',',')\n",
    "        sent = sent.replace(\"''\",'')\n",
    "        sent = sent.replace(\"/\",',')\n",
    "        sent = sent.replace(\".\",',')\n",
    "        sent = sent.replace(\"and\",'')\n",
    "        sent = sent.replace(\":\",'')\n",
    "        sent = re.sub(r\"[\\d]\", \"\", sent)\n",
    "        for word in sent.split(','):\n",
    "            word = word.replace(\"\\\"\", \"\").replace(\"\\\\\", \"\")\n",
    "            word=word.strip()\n",
    "            if word == '':\n",
    "                continue\n",
    "            if word not in words:\n",
    "                words.append(word)\n",
    "    return words"
   ]
  },
  {
   "cell_type": "code",
   "execution_count": 100,
   "id": "f11d74ec",
   "metadata": {
    "scrolled": true
   },
   "outputs": [],
   "source": [
    "for key in keys:\n",
    "    word_dict[key] = get_words(data[key])"
   ]
  },
  {
   "cell_type": "code",
   "execution_count": 101,
   "id": "6e246c22",
   "metadata": {},
   "outputs": [],
   "source": [
    "with open(\"./data/word-master-list.json\",\"w\") as file:\n",
    "    json.dump(word_dict,file)"
   ]
  },
  {
   "cell_type": "code",
   "execution_count": null,
   "id": "bbbfd1c9",
   "metadata": {},
   "outputs": [],
   "source": []
  },
  {
   "cell_type": "code",
   "execution_count": null,
   "id": "d079f2a7",
   "metadata": {},
   "outputs": [],
   "source": []
  }
 ],
 "metadata": {
  "kernelspec": {
   "display_name": "Python 3 (ipykernel)",
   "language": "python",
   "name": "python3"
  },
  "language_info": {
   "codemirror_mode": {
    "name": "ipython",
    "version": 3
   },
   "file_extension": ".py",
   "mimetype": "text/x-python",
   "name": "python",
   "nbconvert_exporter": "python",
   "pygments_lexer": "ipython3",
   "version": "3.10.6"
  }
 },
 "nbformat": 4,
 "nbformat_minor": 5
}

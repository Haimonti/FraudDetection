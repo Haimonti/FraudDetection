{
 "cells": [
  {
   "cell_type": "code",
   "execution_count": 1,
   "id": "8e91d787",
   "metadata": {},
   "outputs": [],
   "source": [
    "import pandas as pd\n",
    "import ast"
   ]
  },
  {
   "cell_type": "code",
   "execution_count": 17,
   "id": "597fdffc",
   "metadata": {},
   "outputs": [],
   "source": [
    "fc_data = pd.read_csv(\"data/data_fraud_constraint.csv\")"
   ]
  },
  {
   "cell_type": "code",
   "execution_count": 18,
   "id": "fb4a08da",
   "metadata": {},
   "outputs": [
    {
     "data": {
      "text/plain": [
       "array([2017, 2018, 2019, 2020, 2021, 2022, 2002, 2003, 2004, 2007, 2005,\n",
       "       2006, 2008, 2009, 2010, 2011, 2012, 2013, 2014, 2015, 2016, 2023,\n",
       "       2001, 2000], dtype=int64)"
      ]
     },
     "execution_count": 18,
     "metadata": {},
     "output_type": "execute_result"
    }
   ],
   "source": [
    "fc_data['year'].unique()"
   ]
  },
  {
   "cell_type": "code",
   "execution_count": 19,
   "id": "f5bcd90b",
   "metadata": {
    "scrolled": false
   },
   "outputs": [
    {
     "data": {
      "text/html": [
       "<div>\n",
       "<style scoped>\n",
       "    .dataframe tbody tr th:only-of-type {\n",
       "        vertical-align: middle;\n",
       "    }\n",
       "\n",
       "    .dataframe tbody tr th {\n",
       "        vertical-align: top;\n",
       "    }\n",
       "\n",
       "    .dataframe thead th {\n",
       "        text-align: right;\n",
       "    }\n",
       "</style>\n",
       "<table border=\"1\" class=\"dataframe\">\n",
       "  <thead>\n",
       "    <tr style=\"text-align: right;\">\n",
       "      <th></th>\n",
       "      <th>id</th>\n",
       "      <th>ticker</th>\n",
       "      <th>cik</th>\n",
       "      <th>year</th>\n",
       "      <th>accession_number</th>\n",
       "      <th>mda_section</th>\n",
       "      <th>target_word_frequency</th>\n",
       "      <th>created_at</th>\n",
       "    </tr>\n",
       "  </thead>\n",
       "  <tbody>\n",
       "    <tr>\n",
       "      <th>0</th>\n",
       "      <td>1</td>\n",
       "      <td>AAPL</td>\n",
       "      <td>320193</td>\n",
       "      <td>2017</td>\n",
       "      <td>70</td>\n",
       "      <td>0</td>\n",
       "      <td>{\"recklessness\": 0, \"guarantor\": 0, \"hazard\": ...</td>\n",
       "      <td>2023-10-16 20:10:30.994056+00</td>\n",
       "    </tr>\n",
       "    <tr>\n",
       "      <th>1</th>\n",
       "      <td>2</td>\n",
       "      <td>AAPL</td>\n",
       "      <td>320193</td>\n",
       "      <td>2018</td>\n",
       "      <td>145</td>\n",
       "      <td>0</td>\n",
       "      <td>{\"recklessness\": 0, \"guarantor\": 0, \"hazard\": ...</td>\n",
       "      <td>2023-10-16 20:10:30.994056+00</td>\n",
       "    </tr>\n",
       "    <tr>\n",
       "      <th>2</th>\n",
       "      <td>3</td>\n",
       "      <td>AAPL</td>\n",
       "      <td>320193</td>\n",
       "      <td>2019</td>\n",
       "      <td>119</td>\n",
       "      <td>0</td>\n",
       "      <td>{\"recklessness\": 0, \"guarantor\": 0, \"hazard\": ...</td>\n",
       "      <td>2023-10-16 20:10:30.994056+00</td>\n",
       "    </tr>\n",
       "  </tbody>\n",
       "</table>\n",
       "</div>"
      ],
      "text/plain": [
       "   id ticker     cik  year  accession_number  mda_section  \\\n",
       "0   1   AAPL  320193  2017                70            0   \n",
       "1   2   AAPL  320193  2018               145            0   \n",
       "2   3   AAPL  320193  2019               119            0   \n",
       "\n",
       "                               target_word_frequency  \\\n",
       "0  {\"recklessness\": 0, \"guarantor\": 0, \"hazard\": ...   \n",
       "1  {\"recklessness\": 0, \"guarantor\": 0, \"hazard\": ...   \n",
       "2  {\"recklessness\": 0, \"guarantor\": 0, \"hazard\": ...   \n",
       "\n",
       "                      created_at  \n",
       "0  2023-10-16 20:10:30.994056+00  \n",
       "1  2023-10-16 20:10:30.994056+00  \n",
       "2  2023-10-16 20:10:30.994056+00  "
      ]
     },
     "execution_count": 19,
     "metadata": {},
     "output_type": "execute_result"
    }
   ],
   "source": [
    "fc_data.head(3)"
   ]
  },
  {
   "cell_type": "code",
   "execution_count": 20,
   "id": "337d6355",
   "metadata": {},
   "outputs": [
    {
     "name": "stdout",
     "output_type": "stream",
     "text": [
      "<class 'pandas.core.frame.DataFrame'>\n",
      "RangeIndex: 48833 entries, 0 to 48832\n",
      "Data columns (total 8 columns):\n",
      " #   Column                 Non-Null Count  Dtype \n",
      "---  ------                 --------------  ----- \n",
      " 0   id                     48833 non-null  int64 \n",
      " 1   ticker                 48833 non-null  object\n",
      " 2   cik                    48833 non-null  int64 \n",
      " 3   year                   48833 non-null  int64 \n",
      " 4   accession_number       48833 non-null  int64 \n",
      " 5   mda_section            48833 non-null  int64 \n",
      " 6   target_word_frequency  48833 non-null  object\n",
      " 7   created_at             48833 non-null  object\n",
      "dtypes: int64(5), object(3)\n",
      "memory usage: 3.0+ MB\n"
     ]
    }
   ],
   "source": [
    "fc_data.info()"
   ]
  },
  {
   "cell_type": "code",
   "execution_count": 21,
   "id": "45a4420d",
   "metadata": {},
   "outputs": [
    {
     "data": {
      "text/plain": [
       "recklessness     0\n",
       "guarantor        0\n",
       "hazard           0\n",
       "constrains       0\n",
       "despicable       0\n",
       "                ..\n",
       "guilty           0\n",
       "reprehensible    0\n",
       "threat           0\n",
       "restricting      0\n",
       "selfishness      0\n",
       "Length: 454, dtype: int64"
      ]
     },
     "execution_count": 21,
     "metadata": {},
     "output_type": "execute_result"
    }
   ],
   "source": [
    "pd.Series(ast.literal_eval(fc_data['target_word_frequency'][0]))"
   ]
  },
  {
   "cell_type": "code",
   "execution_count": 22,
   "id": "cfc16bc7",
   "metadata": {},
   "outputs": [],
   "source": [
    "data_col = fc_data['target_word_frequency'].apply(ast.literal_eval)\n",
    "data_col = data_col.apply(pd.Series)"
   ]
  },
  {
   "cell_type": "code",
   "execution_count": 24,
   "id": "8921dae1",
   "metadata": {},
   "outputs": [
    {
     "data": {
      "text/html": [
       "<div>\n",
       "<style scoped>\n",
       "    .dataframe tbody tr th:only-of-type {\n",
       "        vertical-align: middle;\n",
       "    }\n",
       "\n",
       "    .dataframe tbody tr th {\n",
       "        vertical-align: top;\n",
       "    }\n",
       "\n",
       "    .dataframe thead th {\n",
       "        text-align: right;\n",
       "    }\n",
       "</style>\n",
       "<table border=\"1\" class=\"dataframe\">\n",
       "  <thead>\n",
       "    <tr style=\"text-align: right;\">\n",
       "      <th></th>\n",
       "      <th>recklessness</th>\n",
       "      <th>guarantor</th>\n",
       "      <th>hazard</th>\n",
       "      <th>constrains</th>\n",
       "      <th>despicable</th>\n",
       "      <th>refusal</th>\n",
       "      <th>restitution</th>\n",
       "      <th>dependance</th>\n",
       "      <th>constrain</th>\n",
       "      <th>prevented</th>\n",
       "      <th>...</th>\n",
       "      <th>condemnation</th>\n",
       "      <th>responsible</th>\n",
       "      <th>motive</th>\n",
       "      <th>conviction</th>\n",
       "      <th>applicant</th>\n",
       "      <th>guilty</th>\n",
       "      <th>reprehensible</th>\n",
       "      <th>threat</th>\n",
       "      <th>restricting</th>\n",
       "      <th>selfishness</th>\n",
       "    </tr>\n",
       "  </thead>\n",
       "  <tbody>\n",
       "    <tr>\n",
       "      <th>0</th>\n",
       "      <td>0</td>\n",
       "      <td>0</td>\n",
       "      <td>0</td>\n",
       "      <td>0</td>\n",
       "      <td>0</td>\n",
       "      <td>0</td>\n",
       "      <td>0</td>\n",
       "      <td>0</td>\n",
       "      <td>0</td>\n",
       "      <td>0</td>\n",
       "      <td>...</td>\n",
       "      <td>0</td>\n",
       "      <td>0</td>\n",
       "      <td>0</td>\n",
       "      <td>0</td>\n",
       "      <td>0</td>\n",
       "      <td>0</td>\n",
       "      <td>0</td>\n",
       "      <td>0</td>\n",
       "      <td>0</td>\n",
       "      <td>0</td>\n",
       "    </tr>\n",
       "    <tr>\n",
       "      <th>1</th>\n",
       "      <td>0</td>\n",
       "      <td>0</td>\n",
       "      <td>0</td>\n",
       "      <td>0</td>\n",
       "      <td>0</td>\n",
       "      <td>0</td>\n",
       "      <td>0</td>\n",
       "      <td>0</td>\n",
       "      <td>0</td>\n",
       "      <td>0</td>\n",
       "      <td>...</td>\n",
       "      <td>0</td>\n",
       "      <td>0</td>\n",
       "      <td>0</td>\n",
       "      <td>0</td>\n",
       "      <td>0</td>\n",
       "      <td>0</td>\n",
       "      <td>0</td>\n",
       "      <td>0</td>\n",
       "      <td>0</td>\n",
       "      <td>0</td>\n",
       "    </tr>\n",
       "    <tr>\n",
       "      <th>2</th>\n",
       "      <td>0</td>\n",
       "      <td>0</td>\n",
       "      <td>0</td>\n",
       "      <td>0</td>\n",
       "      <td>0</td>\n",
       "      <td>0</td>\n",
       "      <td>0</td>\n",
       "      <td>0</td>\n",
       "      <td>0</td>\n",
       "      <td>0</td>\n",
       "      <td>...</td>\n",
       "      <td>0</td>\n",
       "      <td>0</td>\n",
       "      <td>0</td>\n",
       "      <td>0</td>\n",
       "      <td>0</td>\n",
       "      <td>0</td>\n",
       "      <td>0</td>\n",
       "      <td>0</td>\n",
       "      <td>0</td>\n",
       "      <td>0</td>\n",
       "    </tr>\n",
       "    <tr>\n",
       "      <th>3</th>\n",
       "      <td>0</td>\n",
       "      <td>0</td>\n",
       "      <td>0</td>\n",
       "      <td>0</td>\n",
       "      <td>0</td>\n",
       "      <td>0</td>\n",
       "      <td>0</td>\n",
       "      <td>0</td>\n",
       "      <td>0</td>\n",
       "      <td>0</td>\n",
       "      <td>...</td>\n",
       "      <td>0</td>\n",
       "      <td>0</td>\n",
       "      <td>0</td>\n",
       "      <td>0</td>\n",
       "      <td>0</td>\n",
       "      <td>0</td>\n",
       "      <td>0</td>\n",
       "      <td>0</td>\n",
       "      <td>0</td>\n",
       "      <td>0</td>\n",
       "    </tr>\n",
       "    <tr>\n",
       "      <th>4</th>\n",
       "      <td>0</td>\n",
       "      <td>0</td>\n",
       "      <td>0</td>\n",
       "      <td>0</td>\n",
       "      <td>0</td>\n",
       "      <td>0</td>\n",
       "      <td>0</td>\n",
       "      <td>0</td>\n",
       "      <td>0</td>\n",
       "      <td>0</td>\n",
       "      <td>...</td>\n",
       "      <td>0</td>\n",
       "      <td>0</td>\n",
       "      <td>0</td>\n",
       "      <td>0</td>\n",
       "      <td>0</td>\n",
       "      <td>0</td>\n",
       "      <td>0</td>\n",
       "      <td>0</td>\n",
       "      <td>0</td>\n",
       "      <td>0</td>\n",
       "    </tr>\n",
       "    <tr>\n",
       "      <th>...</th>\n",
       "      <td>...</td>\n",
       "      <td>...</td>\n",
       "      <td>...</td>\n",
       "      <td>...</td>\n",
       "      <td>...</td>\n",
       "      <td>...</td>\n",
       "      <td>...</td>\n",
       "      <td>...</td>\n",
       "      <td>...</td>\n",
       "      <td>...</td>\n",
       "      <td>...</td>\n",
       "      <td>...</td>\n",
       "      <td>...</td>\n",
       "      <td>...</td>\n",
       "      <td>...</td>\n",
       "      <td>...</td>\n",
       "      <td>...</td>\n",
       "      <td>...</td>\n",
       "      <td>...</td>\n",
       "      <td>...</td>\n",
       "      <td>...</td>\n",
       "    </tr>\n",
       "    <tr>\n",
       "      <th>48828</th>\n",
       "      <td>0</td>\n",
       "      <td>0</td>\n",
       "      <td>0</td>\n",
       "      <td>0</td>\n",
       "      <td>0</td>\n",
       "      <td>0</td>\n",
       "      <td>0</td>\n",
       "      <td>0</td>\n",
       "      <td>0</td>\n",
       "      <td>1</td>\n",
       "      <td>...</td>\n",
       "      <td>0</td>\n",
       "      <td>3</td>\n",
       "      <td>0</td>\n",
       "      <td>0</td>\n",
       "      <td>0</td>\n",
       "      <td>0</td>\n",
       "      <td>0</td>\n",
       "      <td>0</td>\n",
       "      <td>1</td>\n",
       "      <td>0</td>\n",
       "    </tr>\n",
       "    <tr>\n",
       "      <th>48829</th>\n",
       "      <td>0</td>\n",
       "      <td>0</td>\n",
       "      <td>0</td>\n",
       "      <td>0</td>\n",
       "      <td>0</td>\n",
       "      <td>0</td>\n",
       "      <td>0</td>\n",
       "      <td>0</td>\n",
       "      <td>0</td>\n",
       "      <td>0</td>\n",
       "      <td>...</td>\n",
       "      <td>0</td>\n",
       "      <td>0</td>\n",
       "      <td>0</td>\n",
       "      <td>0</td>\n",
       "      <td>0</td>\n",
       "      <td>0</td>\n",
       "      <td>0</td>\n",
       "      <td>0</td>\n",
       "      <td>1</td>\n",
       "      <td>0</td>\n",
       "    </tr>\n",
       "    <tr>\n",
       "      <th>48830</th>\n",
       "      <td>0</td>\n",
       "      <td>0</td>\n",
       "      <td>0</td>\n",
       "      <td>0</td>\n",
       "      <td>0</td>\n",
       "      <td>0</td>\n",
       "      <td>0</td>\n",
       "      <td>0</td>\n",
       "      <td>0</td>\n",
       "      <td>0</td>\n",
       "      <td>...</td>\n",
       "      <td>0</td>\n",
       "      <td>1</td>\n",
       "      <td>0</td>\n",
       "      <td>0</td>\n",
       "      <td>0</td>\n",
       "      <td>0</td>\n",
       "      <td>0</td>\n",
       "      <td>0</td>\n",
       "      <td>0</td>\n",
       "      <td>0</td>\n",
       "    </tr>\n",
       "    <tr>\n",
       "      <th>48831</th>\n",
       "      <td>0</td>\n",
       "      <td>0</td>\n",
       "      <td>0</td>\n",
       "      <td>0</td>\n",
       "      <td>0</td>\n",
       "      <td>0</td>\n",
       "      <td>0</td>\n",
       "      <td>0</td>\n",
       "      <td>0</td>\n",
       "      <td>0</td>\n",
       "      <td>...</td>\n",
       "      <td>0</td>\n",
       "      <td>0</td>\n",
       "      <td>0</td>\n",
       "      <td>0</td>\n",
       "      <td>0</td>\n",
       "      <td>0</td>\n",
       "      <td>0</td>\n",
       "      <td>0</td>\n",
       "      <td>0</td>\n",
       "      <td>0</td>\n",
       "    </tr>\n",
       "    <tr>\n",
       "      <th>48832</th>\n",
       "      <td>0</td>\n",
       "      <td>0</td>\n",
       "      <td>0</td>\n",
       "      <td>0</td>\n",
       "      <td>0</td>\n",
       "      <td>0</td>\n",
       "      <td>0</td>\n",
       "      <td>0</td>\n",
       "      <td>0</td>\n",
       "      <td>0</td>\n",
       "      <td>...</td>\n",
       "      <td>0</td>\n",
       "      <td>0</td>\n",
       "      <td>0</td>\n",
       "      <td>0</td>\n",
       "      <td>0</td>\n",
       "      <td>0</td>\n",
       "      <td>0</td>\n",
       "      <td>0</td>\n",
       "      <td>0</td>\n",
       "      <td>0</td>\n",
       "    </tr>\n",
       "  </tbody>\n",
       "</table>\n",
       "<p>48833 rows × 454 columns</p>\n",
       "</div>"
      ],
      "text/plain": [
       "       recklessness  guarantor  hazard  constrains  despicable  refusal  \\\n",
       "0                 0          0       0           0           0        0   \n",
       "1                 0          0       0           0           0        0   \n",
       "2                 0          0       0           0           0        0   \n",
       "3                 0          0       0           0           0        0   \n",
       "4                 0          0       0           0           0        0   \n",
       "...             ...        ...     ...         ...         ...      ...   \n",
       "48828             0          0       0           0           0        0   \n",
       "48829             0          0       0           0           0        0   \n",
       "48830             0          0       0           0           0        0   \n",
       "48831             0          0       0           0           0        0   \n",
       "48832             0          0       0           0           0        0   \n",
       "\n",
       "       restitution  dependance  constrain  prevented  ...  condemnation  \\\n",
       "0                0           0          0          0  ...             0   \n",
       "1                0           0          0          0  ...             0   \n",
       "2                0           0          0          0  ...             0   \n",
       "3                0           0          0          0  ...             0   \n",
       "4                0           0          0          0  ...             0   \n",
       "...            ...         ...        ...        ...  ...           ...   \n",
       "48828            0           0          0          1  ...             0   \n",
       "48829            0           0          0          0  ...             0   \n",
       "48830            0           0          0          0  ...             0   \n",
       "48831            0           0          0          0  ...             0   \n",
       "48832            0           0          0          0  ...             0   \n",
       "\n",
       "       responsible  motive  conviction  applicant  guilty  reprehensible  \\\n",
       "0                0       0           0          0       0              0   \n",
       "1                0       0           0          0       0              0   \n",
       "2                0       0           0          0       0              0   \n",
       "3                0       0           0          0       0              0   \n",
       "4                0       0           0          0       0              0   \n",
       "...            ...     ...         ...        ...     ...            ...   \n",
       "48828            3       0           0          0       0              0   \n",
       "48829            0       0           0          0       0              0   \n",
       "48830            1       0           0          0       0              0   \n",
       "48831            0       0           0          0       0              0   \n",
       "48832            0       0           0          0       0              0   \n",
       "\n",
       "       threat  restricting  selfishness  \n",
       "0           0            0            0  \n",
       "1           0            0            0  \n",
       "2           0            0            0  \n",
       "3           0            0            0  \n",
       "4           0            0            0  \n",
       "...       ...          ...          ...  \n",
       "48828       0            1            0  \n",
       "48829       0            1            0  \n",
       "48830       0            0            0  \n",
       "48831       0            0            0  \n",
       "48832       0            0            0  \n",
       "\n",
       "[48833 rows x 454 columns]"
      ]
     },
     "execution_count": 24,
     "metadata": {},
     "output_type": "execute_result"
    }
   ],
   "source": [
    "data_col"
   ]
  },
  {
   "cell_type": "code",
   "execution_count": 25,
   "id": "145e5672",
   "metadata": {},
   "outputs": [],
   "source": [
    "df = pd.concat([fc_data, data_col], axis=1)"
   ]
  },
  {
   "cell_type": "code",
   "execution_count": 26,
   "id": "1f3da32c",
   "metadata": {
    "scrolled": true
   },
   "outputs": [
    {
     "data": {
      "text/html": [
       "<div>\n",
       "<style scoped>\n",
       "    .dataframe tbody tr th:only-of-type {\n",
       "        vertical-align: middle;\n",
       "    }\n",
       "\n",
       "    .dataframe tbody tr th {\n",
       "        vertical-align: top;\n",
       "    }\n",
       "\n",
       "    .dataframe thead th {\n",
       "        text-align: right;\n",
       "    }\n",
       "</style>\n",
       "<table border=\"1\" class=\"dataframe\">\n",
       "  <thead>\n",
       "    <tr style=\"text-align: right;\">\n",
       "      <th></th>\n",
       "      <th>id</th>\n",
       "      <th>ticker</th>\n",
       "      <th>cik</th>\n",
       "      <th>year</th>\n",
       "      <th>accession_number</th>\n",
       "      <th>mda_section</th>\n",
       "      <th>target_word_frequency</th>\n",
       "      <th>created_at</th>\n",
       "      <th>recklessness</th>\n",
       "      <th>guarantor</th>\n",
       "      <th>...</th>\n",
       "      <th>condemnation</th>\n",
       "      <th>responsible</th>\n",
       "      <th>motive</th>\n",
       "      <th>conviction</th>\n",
       "      <th>applicant</th>\n",
       "      <th>guilty</th>\n",
       "      <th>reprehensible</th>\n",
       "      <th>threat</th>\n",
       "      <th>restricting</th>\n",
       "      <th>selfishness</th>\n",
       "    </tr>\n",
       "  </thead>\n",
       "  <tbody>\n",
       "    <tr>\n",
       "      <th>0</th>\n",
       "      <td>1</td>\n",
       "      <td>AAPL</td>\n",
       "      <td>320193</td>\n",
       "      <td>2017</td>\n",
       "      <td>70</td>\n",
       "      <td>0</td>\n",
       "      <td>{\"recklessness\": 0, \"guarantor\": 0, \"hazard\": ...</td>\n",
       "      <td>2023-10-16 20:10:30.994056+00</td>\n",
       "      <td>0</td>\n",
       "      <td>0</td>\n",
       "      <td>...</td>\n",
       "      <td>0</td>\n",
       "      <td>0</td>\n",
       "      <td>0</td>\n",
       "      <td>0</td>\n",
       "      <td>0</td>\n",
       "      <td>0</td>\n",
       "      <td>0</td>\n",
       "      <td>0</td>\n",
       "      <td>0</td>\n",
       "      <td>0</td>\n",
       "    </tr>\n",
       "    <tr>\n",
       "      <th>1</th>\n",
       "      <td>2</td>\n",
       "      <td>AAPL</td>\n",
       "      <td>320193</td>\n",
       "      <td>2018</td>\n",
       "      <td>145</td>\n",
       "      <td>0</td>\n",
       "      <td>{\"recklessness\": 0, \"guarantor\": 0, \"hazard\": ...</td>\n",
       "      <td>2023-10-16 20:10:30.994056+00</td>\n",
       "      <td>0</td>\n",
       "      <td>0</td>\n",
       "      <td>...</td>\n",
       "      <td>0</td>\n",
       "      <td>0</td>\n",
       "      <td>0</td>\n",
       "      <td>0</td>\n",
       "      <td>0</td>\n",
       "      <td>0</td>\n",
       "      <td>0</td>\n",
       "      <td>0</td>\n",
       "      <td>0</td>\n",
       "      <td>0</td>\n",
       "    </tr>\n",
       "    <tr>\n",
       "      <th>2</th>\n",
       "      <td>3</td>\n",
       "      <td>AAPL</td>\n",
       "      <td>320193</td>\n",
       "      <td>2019</td>\n",
       "      <td>119</td>\n",
       "      <td>0</td>\n",
       "      <td>{\"recklessness\": 0, \"guarantor\": 0, \"hazard\": ...</td>\n",
       "      <td>2023-10-16 20:10:30.994056+00</td>\n",
       "      <td>0</td>\n",
       "      <td>0</td>\n",
       "      <td>...</td>\n",
       "      <td>0</td>\n",
       "      <td>0</td>\n",
       "      <td>0</td>\n",
       "      <td>0</td>\n",
       "      <td>0</td>\n",
       "      <td>0</td>\n",
       "      <td>0</td>\n",
       "      <td>0</td>\n",
       "      <td>0</td>\n",
       "      <td>0</td>\n",
       "    </tr>\n",
       "  </tbody>\n",
       "</table>\n",
       "<p>3 rows × 462 columns</p>\n",
       "</div>"
      ],
      "text/plain": [
       "   id ticker     cik  year  accession_number  mda_section  \\\n",
       "0   1   AAPL  320193  2017                70            0   \n",
       "1   2   AAPL  320193  2018               145            0   \n",
       "2   3   AAPL  320193  2019               119            0   \n",
       "\n",
       "                               target_word_frequency  \\\n",
       "0  {\"recklessness\": 0, \"guarantor\": 0, \"hazard\": ...   \n",
       "1  {\"recklessness\": 0, \"guarantor\": 0, \"hazard\": ...   \n",
       "2  {\"recklessness\": 0, \"guarantor\": 0, \"hazard\": ...   \n",
       "\n",
       "                      created_at  recklessness  guarantor  ...  condemnation  \\\n",
       "0  2023-10-16 20:10:30.994056+00             0          0  ...             0   \n",
       "1  2023-10-16 20:10:30.994056+00             0          0  ...             0   \n",
       "2  2023-10-16 20:10:30.994056+00             0          0  ...             0   \n",
       "\n",
       "   responsible  motive  conviction  applicant  guilty  reprehensible  threat  \\\n",
       "0            0       0           0          0       0              0       0   \n",
       "1            0       0           0          0       0              0       0   \n",
       "2            0       0           0          0       0              0       0   \n",
       "\n",
       "   restricting  selfishness  \n",
       "0            0            0  \n",
       "1            0            0  \n",
       "2            0            0  \n",
       "\n",
       "[3 rows x 462 columns]"
      ]
     },
     "execution_count": 26,
     "metadata": {},
     "output_type": "execute_result"
    }
   ],
   "source": [
    "df.head(3)"
   ]
  },
  {
   "cell_type": "code",
   "execution_count": 27,
   "id": "b3ca95ff",
   "metadata": {},
   "outputs": [
    {
     "data": {
      "text/plain": [
       "462"
      ]
     },
     "execution_count": 27,
     "metadata": {},
     "output_type": "execute_result"
    }
   ],
   "source": [
    "len(df.columns)"
   ]
  },
  {
   "cell_type": "code",
   "execution_count": 28,
   "id": "acf0c5a4",
   "metadata": {},
   "outputs": [],
   "source": [
    "df.to_csv('data/fraud_constr_dist.csv')"
   ]
  },
  {
   "cell_type": "code",
   "execution_count": null,
   "id": "1e5e49ba",
   "metadata": {},
   "outputs": [],
   "source": []
  },
  {
   "cell_type": "code",
   "execution_count": 4,
   "id": "216ba890",
   "metadata": {},
   "outputs": [],
   "source": [
    "df = pd.read_csv('data/fraud_constr_dist.csv')"
   ]
  },
  {
   "cell_type": "code",
   "execution_count": 5,
   "id": "a5845355",
   "metadata": {},
   "outputs": [],
   "source": [
    "df = df.rename(columns = {'cik':'cik_2'})"
   ]
  },
  {
   "cell_type": "code",
   "execution_count": 6,
   "id": "703e896b",
   "metadata": {},
   "outputs": [
    {
     "data": {
      "text/plain": [
       "Index(['Unnamed: 0', 'id', 'ticker', 'cik_2', 'year', 'accession_number',\n",
       "       'mda_section', 'target_word_frequency', 'created_at', 'recklessness',\n",
       "       ...\n",
       "       'condemnation', 'responsible', 'motive', 'conviction', 'applicant',\n",
       "       'guilty', 'reprehensible', 'threat', 'restricting', 'selfishness'],\n",
       "      dtype='object', length=463)"
      ]
     },
     "execution_count": 6,
     "metadata": {},
     "output_type": "execute_result"
    }
   ],
   "source": [
    "df.columns"
   ]
  },
  {
   "cell_type": "code",
   "execution_count": 77,
   "id": "40acd852",
   "metadata": {},
   "outputs": [
    {
     "data": {
      "text/plain": [
       "327790"
      ]
     },
     "execution_count": 77,
     "metadata": {},
     "output_type": "execute_result"
    }
   ],
   "source": [
    "data1 = pd.read_csv('data/bao_all_data2.csv')\n",
    "len(data1)"
   ]
  },
  {
   "cell_type": "code",
   "execution_count": 78,
   "id": "397b84cd",
   "metadata": {
    "scrolled": true
   },
   "outputs": [
    {
     "data": {
      "text/plain": [
       "Index(['gvkey', 'datadate', 'fyear', 'indfmt', 'consol', 'popsrc', 'datafmt',\n",
       "       'tic', 'cusip', 'conm', 'curcd', 'fyr', 'act', 'ap', 'at', 'ceq', 'che',\n",
       "       'cogs', 'csho', 'dlc', 'dltis', 'dltt', 'dp', 'ib', 'invt', 'ivao',\n",
       "       'ivst', 'lct', 'lt', 'ni', 'ppegt', 'pstk', 're', 'rect', 'sale',\n",
       "       'sstk', 'txp', 'txt', 'xint', 'cik', 'costat', 'prcc_f', 'conml',\n",
       "       'sic'],\n",
       "      dtype='object')"
      ]
     },
     "execution_count": 78,
     "metadata": {},
     "output_type": "execute_result"
    }
   ],
   "source": [
    "data1.columns"
   ]
  },
  {
   "cell_type": "code",
   "execution_count": 79,
   "id": "dc898ef7",
   "metadata": {},
   "outputs": [
    {
     "data": {
      "text/plain": [
       "96"
      ]
     },
     "execution_count": 79,
     "metadata": {},
     "output_type": "execute_result"
    }
   ],
   "source": [
    "data1['tic'].isna().sum()"
   ]
  },
  {
   "cell_type": "code",
   "execution_count": 80,
   "id": "6ea732b7",
   "metadata": {},
   "outputs": [],
   "source": [
    "# data1[data1['fyear']>=2000]['Mistate'].value_counts()"
   ]
  },
  {
   "cell_type": "code",
   "execution_count": 81,
   "id": "1286235b",
   "metadata": {},
   "outputs": [],
   "source": [
    "final_df = data1.merge(df,how='inner',left_on=['fyear','tic'],right_on=['year','ticker'])"
   ]
  },
  {
   "cell_type": "code",
   "execution_count": 82,
   "id": "9ffe527f",
   "metadata": {},
   "outputs": [
    {
     "name": "stdout",
     "output_type": "stream",
     "text": [
      "<class 'pandas.core.frame.DataFrame'>\n",
      "Int64Index: 32234 entries, 0 to 32233\n",
      "Columns: 507 entries, gvkey to selfishness\n",
      "dtypes: float64(29), int64(464), object(14)\n",
      "memory usage: 124.9+ MB\n"
     ]
    }
   ],
   "source": [
    "final_df.info()"
   ]
  },
  {
   "cell_type": "code",
   "execution_count": 83,
   "id": "491b27c4",
   "metadata": {},
   "outputs": [
    {
     "data": {
      "text/plain": [
       "Index(['gvkey', 'datadate', 'fyear', 'indfmt', 'consol', 'popsrc', 'datafmt',\n",
       "       'tic', 'cusip', 'conm', 'curcd', 'fyr', 'act', 'ap', 'at', 'ceq', 'che',\n",
       "       'cogs', 'csho', 'dlc', 'dltis', 'dltt', 'dp', 'ib', 'invt', 'ivao',\n",
       "       'ivst', 'lct', 'lt', 'ni', 'ppegt', 'pstk', 're', 'rect', 'sale',\n",
       "       'sstk', 'txp', 'txt', 'xint', 'cik', 'costat', 'prcc_f', 'conml', 'sic',\n",
       "       'Unnamed: 0', 'id', 'ticker', 'cik_2', 'year', 'accession_number'],\n",
       "      dtype='object')"
      ]
     },
     "execution_count": 83,
     "metadata": {},
     "output_type": "execute_result"
    }
   ],
   "source": [
    "final_df.columns[:50]"
   ]
  },
  {
   "cell_type": "code",
   "execution_count": 84,
   "id": "9b5fb6d9",
   "metadata": {},
   "outputs": [],
   "source": [
    "final_df.to_csv('data/nlp_data_after_merge.csv')"
   ]
  },
  {
   "cell_type": "code",
   "execution_count": 3,
   "id": "8959ce60",
   "metadata": {},
   "outputs": [],
   "source": [
    "final_df = pd.read_csv('data/nlp_data_after_merge.csv')"
   ]
  },
  {
   "cell_type": "code",
   "execution_count": 4,
   "id": "86127e32",
   "metadata": {},
   "outputs": [],
   "source": [
    "data = pd.read_csv('data/bao_all_data.csv')"
   ]
  },
  {
   "cell_type": "code",
   "execution_count": 5,
   "id": "be7aa98f",
   "metadata": {},
   "outputs": [],
   "source": [
    "final_df['Mistate'] = final_df.merge(data,right_on=['fyear','gvkey'],left_on=['fyear','gvkey'])['Mistate']"
   ]
  },
  {
   "cell_type": "code",
   "execution_count": 6,
   "id": "e5955c1b",
   "metadata": {},
   "outputs": [],
   "source": [
    "final_df.to_csv('data/nlp_data_after_merge.csv')"
   ]
  },
  {
   "cell_type": "code",
   "execution_count": 8,
   "id": "b4b709e9",
   "metadata": {},
   "outputs": [
    {
     "data": {
      "text/plain": [
       "(32234, 509)"
      ]
     },
     "execution_count": 8,
     "metadata": {},
     "output_type": "execute_result"
    }
   ],
   "source": [
    "final_df.shape"
   ]
  },
  {
   "cell_type": "code",
   "execution_count": 7,
   "id": "ea93269d",
   "metadata": {},
   "outputs": [
    {
     "data": {
      "text/plain": [
       "0    21917\n",
       "1       65\n",
       "Name: Mistate, dtype: int64"
      ]
     },
     "execution_count": 7,
     "metadata": {},
     "output_type": "execute_result"
    }
   ],
   "source": [
    "final_df[final_df['year']<=2017]['Mistate'].value_counts()"
   ]
  },
  {
   "cell_type": "markdown",
   "id": "32a705bf",
   "metadata": {},
   "source": [
    "------------\n",
    "----------"
   ]
  },
  {
   "cell_type": "code",
   "execution_count": 1,
   "id": "34d7db9a",
   "metadata": {},
   "outputs": [],
   "source": [
    "import pandas as pd"
   ]
  },
  {
   "cell_type": "code",
   "execution_count": 2,
   "id": "c8ae789e",
   "metadata": {},
   "outputs": [],
   "source": [
    "data_main = pd.read_csv('data/nlp_data_after_merge.csv')"
   ]
  },
  {
   "cell_type": "code",
   "execution_count": null,
   "id": "e1af5083",
   "metadata": {},
   "outputs": [],
   "source": [
    "df = pd.read_csv('data/fraud_constr_dist.csv')\n",
    "\n",
    "df = df.rename(columns = {'cik':'cik_2'})\n"
   ]
  },
  {
   "cell_type": "code",
   "execution_count": 15,
   "id": "b2c03411",
   "metadata": {
    "scrolled": true
   },
   "outputs": [
    {
     "data": {
      "text/plain": [
       "Index(['Unnamed: 0', 'id', 'ticker', 'cik_2', 'year', 'accession_number',\n",
       "       'mda_section', 'target_word_frequency', 'created_at', 'recklessness',\n",
       "       'guarantor', 'hazard', 'constrains', 'despicable', 'refusal',\n",
       "       'restitution', 'dependance', 'constrain', 'prevented', 'pledges',\n",
       "       'fiasco', 'conspiracy', 'illegal', 'prohibits', 'restrictive',\n",
       "       'entailed', 'circumstance', 'immorality', 'prosecution', 'ingratitude',\n",
       "       'publicity', 'imposture', 'noncancelable', 'compensation', 'disruption',\n",
       "       'dispute', 'solicitor', 'offence', 'distress', 'depending',\n",
       "       'alienation', 'inconvenience', 'complaint', 'constraining', 'policy',\n",
       "       'tres', 'precludes', 'helplessness', 'vexatious', 'prohibit'],\n",
       "      dtype='object')"
      ]
     },
     "execution_count": 15,
     "metadata": {},
     "output_type": "execute_result"
    }
   ],
   "source": [
    "df.columns[:50]"
   ]
  },
  {
   "cell_type": "code",
   "execution_count": 18,
   "id": "5b0216be",
   "metadata": {},
   "outputs": [],
   "source": [
    "data_remove = data_main[df.columns].rename(columns={'cik_2':'cik'})"
   ]
  },
  {
   "cell_type": "code",
   "execution_count": 27,
   "id": "ec714702",
   "metadata": {},
   "outputs": [],
   "source": [
    "result_df = pd.merge(df, data_remove, how='outer', indicator=True).query('_merge == \"left_only\"').drop('_merge', axis=1)"
   ]
  },
  {
   "cell_type": "code",
   "execution_count": null,
   "id": "0c82599a",
   "metadata": {},
   "outputs": [],
   "source": [
    "result_df = pd.merge(df, data_remove, how='outer', indicator=True).query('_merge == \"left_only\"').drop('_merge', axis=1)"
   ]
  },
  {
   "cell_type": "code",
   "execution_count": 31,
   "id": "6ee38863",
   "metadata": {
    "scrolled": true
   },
   "outputs": [],
   "source": [
    "result_df.to_csv('data/unmatched_text.csv')"
   ]
  },
  {
   "cell_type": "code",
   "execution_count": null,
   "id": "a790c23a",
   "metadata": {},
   "outputs": [],
   "source": []
  },
  {
   "cell_type": "code",
   "execution_count": null,
   "id": "e51b7206",
   "metadata": {},
   "outputs": [],
   "source": []
  },
  {
   "cell_type": "code",
   "execution_count": null,
   "id": "e0137758",
   "metadata": {},
   "outputs": [],
   "source": []
  },
  {
   "cell_type": "code",
   "execution_count": null,
   "id": "c39e3bbf",
   "metadata": {},
   "outputs": [],
   "source": []
  },
  {
   "cell_type": "markdown",
   "id": "cc780038",
   "metadata": {},
   "source": [
    "------------"
   ]
  },
  {
   "cell_type": "code",
   "execution_count": 32,
   "id": "6482e7c5",
   "metadata": {},
   "outputs": [
    {
     "data": {
      "text/plain": [
       "Index(['gvkey', 'datadate', 'fyear', 'indfmt', 'consol', 'popsrc', 'datafmt',\n",
       "       'tic', 'cusip', 'conm', 'curcd', 'fyr', 'act', 'ap', 'at', 'ceq', 'che',\n",
       "       'cogs', 'csho', 'dlc', 'dltis', 'dltt', 'dp', 'ib', 'invt', 'ivao',\n",
       "       'ivst', 'lct', 'lt', 'ni', 'ppegt', 'pstk', 're', 'rect', 'sale',\n",
       "       'sstk', 'txp', 'txt', 'xint', 'cik', 'costat', 'prcc_f', 'conml',\n",
       "       'sic'],\n",
       "      dtype='object')"
      ]
     },
     "execution_count": 32,
     "metadata": {},
     "output_type": "execute_result"
    }
   ],
   "source": [
    "df = pd.read_csv('data/fraud_constr_dist.csv')\n",
    "\n",
    "df = df.rename(columns = {'cik':'cik_2'})\n",
    "\n",
    "\n",
    "data1 = pd.read_csv('data/bao_all_data2.csv')\n",
    "\n",
    "\n",
    "data1.columns"
   ]
  },
  {
   "cell_type": "code",
   "execution_count": 41,
   "id": "5a41e081",
   "metadata": {},
   "outputs": [],
   "source": [
    "final_df2 = data1.merge(df,how='inner',left_on=['fyear','cik'],right_on=['year','cik_2'])"
   ]
  },
  {
   "cell_type": "code",
   "execution_count": 46,
   "id": "c9f7d3e5",
   "metadata": {
    "scrolled": true
   },
   "outputs": [
    {
     "data": {
      "text/html": [
       "<div>\n",
       "<style scoped>\n",
       "    .dataframe tbody tr th:only-of-type {\n",
       "        vertical-align: middle;\n",
       "    }\n",
       "\n",
       "    .dataframe tbody tr th {\n",
       "        vertical-align: top;\n",
       "    }\n",
       "\n",
       "    .dataframe thead th {\n",
       "        text-align: right;\n",
       "    }\n",
       "</style>\n",
       "<table border=\"1\" class=\"dataframe\">\n",
       "  <thead>\n",
       "    <tr style=\"text-align: right;\">\n",
       "      <th></th>\n",
       "      <th>gvkey</th>\n",
       "      <th>datadate</th>\n",
       "      <th>fyear</th>\n",
       "      <th>indfmt</th>\n",
       "      <th>consol</th>\n",
       "      <th>popsrc</th>\n",
       "      <th>datafmt</th>\n",
       "      <th>tic</th>\n",
       "      <th>cusip</th>\n",
       "      <th>conm</th>\n",
       "      <th>...</th>\n",
       "      <th>condemnation</th>\n",
       "      <th>responsible</th>\n",
       "      <th>motive</th>\n",
       "      <th>conviction</th>\n",
       "      <th>applicant</th>\n",
       "      <th>guilty</th>\n",
       "      <th>reprehensible</th>\n",
       "      <th>threat</th>\n",
       "      <th>restricting</th>\n",
       "      <th>selfishness</th>\n",
       "    </tr>\n",
       "  </thead>\n",
       "  <tbody>\n",
       "    <tr>\n",
       "      <th>0</th>\n",
       "      <td>1161</td>\n",
       "      <td>2016-12-31</td>\n",
       "      <td>2016</td>\n",
       "      <td>INDL</td>\n",
       "      <td>C</td>\n",
       "      <td>D</td>\n",
       "      <td>STD</td>\n",
       "      <td>AMD</td>\n",
       "      <td>007903107</td>\n",
       "      <td>ADVANCED MICRO DEVICES</td>\n",
       "      <td>...</td>\n",
       "      <td>0</td>\n",
       "      <td>0</td>\n",
       "      <td>0</td>\n",
       "      <td>0</td>\n",
       "      <td>0</td>\n",
       "      <td>0</td>\n",
       "      <td>0</td>\n",
       "      <td>0</td>\n",
       "      <td>2</td>\n",
       "      <td>0</td>\n",
       "    </tr>\n",
       "    <tr>\n",
       "      <th>1</th>\n",
       "      <td>1266</td>\n",
       "      <td>2015-09-30</td>\n",
       "      <td>2015</td>\n",
       "      <td>INDL</td>\n",
       "      <td>C</td>\n",
       "      <td>D</td>\n",
       "      <td>STD</td>\n",
       "      <td>ALCO</td>\n",
       "      <td>016230104</td>\n",
       "      <td>ALICO INC</td>\n",
       "      <td>...</td>\n",
       "      <td>0</td>\n",
       "      <td>0</td>\n",
       "      <td>0</td>\n",
       "      <td>0</td>\n",
       "      <td>0</td>\n",
       "      <td>0</td>\n",
       "      <td>0</td>\n",
       "      <td>0</td>\n",
       "      <td>0</td>\n",
       "      <td>0</td>\n",
       "    </tr>\n",
       "    <tr>\n",
       "      <th>2</th>\n",
       "      <td>1266</td>\n",
       "      <td>2017-09-30</td>\n",
       "      <td>2017</td>\n",
       "      <td>INDL</td>\n",
       "      <td>C</td>\n",
       "      <td>D</td>\n",
       "      <td>STD</td>\n",
       "      <td>ALCO</td>\n",
       "      <td>016230104</td>\n",
       "      <td>ALICO INC</td>\n",
       "      <td>...</td>\n",
       "      <td>0</td>\n",
       "      <td>0</td>\n",
       "      <td>0</td>\n",
       "      <td>0</td>\n",
       "      <td>0</td>\n",
       "      <td>0</td>\n",
       "      <td>0</td>\n",
       "      <td>0</td>\n",
       "      <td>0</td>\n",
       "      <td>0</td>\n",
       "    </tr>\n",
       "    <tr>\n",
       "      <th>3</th>\n",
       "      <td>1266</td>\n",
       "      <td>2019-09-30</td>\n",
       "      <td>2019</td>\n",
       "      <td>INDL</td>\n",
       "      <td>C</td>\n",
       "      <td>D</td>\n",
       "      <td>STD</td>\n",
       "      <td>ALCO</td>\n",
       "      <td>016230104</td>\n",
       "      <td>ALICO INC</td>\n",
       "      <td>...</td>\n",
       "      <td>0</td>\n",
       "      <td>0</td>\n",
       "      <td>0</td>\n",
       "      <td>0</td>\n",
       "      <td>0</td>\n",
       "      <td>0</td>\n",
       "      <td>0</td>\n",
       "      <td>0</td>\n",
       "      <td>0</td>\n",
       "      <td>0</td>\n",
       "    </tr>\n",
       "    <tr>\n",
       "      <th>4</th>\n",
       "      <td>1449</td>\n",
       "      <td>2016-12-31</td>\n",
       "      <td>2016</td>\n",
       "      <td>INDL</td>\n",
       "      <td>C</td>\n",
       "      <td>D</td>\n",
       "      <td>STD</td>\n",
       "      <td>AFL</td>\n",
       "      <td>001055102</td>\n",
       "      <td>AFLAC INC</td>\n",
       "      <td>...</td>\n",
       "      <td>0</td>\n",
       "      <td>1</td>\n",
       "      <td>0</td>\n",
       "      <td>0</td>\n",
       "      <td>0</td>\n",
       "      <td>0</td>\n",
       "      <td>0</td>\n",
       "      <td>2</td>\n",
       "      <td>0</td>\n",
       "      <td>0</td>\n",
       "    </tr>\n",
       "    <tr>\n",
       "      <th>...</th>\n",
       "      <td>...</td>\n",
       "      <td>...</td>\n",
       "      <td>...</td>\n",
       "      <td>...</td>\n",
       "      <td>...</td>\n",
       "      <td>...</td>\n",
       "      <td>...</td>\n",
       "      <td>...</td>\n",
       "      <td>...</td>\n",
       "      <td>...</td>\n",
       "      <td>...</td>\n",
       "      <td>...</td>\n",
       "      <td>...</td>\n",
       "      <td>...</td>\n",
       "      <td>...</td>\n",
       "      <td>...</td>\n",
       "      <td>...</td>\n",
       "      <td>...</td>\n",
       "      <td>...</td>\n",
       "      <td>...</td>\n",
       "      <td>...</td>\n",
       "    </tr>\n",
       "    <tr>\n",
       "      <th>1350</th>\n",
       "      <td>266214</td>\n",
       "      <td>2016-12-31</td>\n",
       "      <td>2016</td>\n",
       "      <td>INDL</td>\n",
       "      <td>C</td>\n",
       "      <td>D</td>\n",
       "      <td>STD</td>\n",
       "      <td>CNS</td>\n",
       "      <td>19247A100</td>\n",
       "      <td>COHEN &amp; STEERS INC</td>\n",
       "      <td>...</td>\n",
       "      <td>0</td>\n",
       "      <td>0</td>\n",
       "      <td>0</td>\n",
       "      <td>0</td>\n",
       "      <td>0</td>\n",
       "      <td>0</td>\n",
       "      <td>0</td>\n",
       "      <td>0</td>\n",
       "      <td>0</td>\n",
       "      <td>0</td>\n",
       "    </tr>\n",
       "    <tr>\n",
       "      <th>1351</th>\n",
       "      <td>266214</td>\n",
       "      <td>2017-12-31</td>\n",
       "      <td>2017</td>\n",
       "      <td>INDL</td>\n",
       "      <td>C</td>\n",
       "      <td>D</td>\n",
       "      <td>STD</td>\n",
       "      <td>CNS</td>\n",
       "      <td>19247A100</td>\n",
       "      <td>COHEN &amp; STEERS INC</td>\n",
       "      <td>...</td>\n",
       "      <td>0</td>\n",
       "      <td>1</td>\n",
       "      <td>0</td>\n",
       "      <td>0</td>\n",
       "      <td>0</td>\n",
       "      <td>0</td>\n",
       "      <td>0</td>\n",
       "      <td>0</td>\n",
       "      <td>0</td>\n",
       "      <td>0</td>\n",
       "    </tr>\n",
       "    <tr>\n",
       "      <th>1352</th>\n",
       "      <td>266214</td>\n",
       "      <td>2018-12-31</td>\n",
       "      <td>2018</td>\n",
       "      <td>INDL</td>\n",
       "      <td>C</td>\n",
       "      <td>D</td>\n",
       "      <td>STD</td>\n",
       "      <td>CNS</td>\n",
       "      <td>19247A100</td>\n",
       "      <td>COHEN &amp; STEERS INC</td>\n",
       "      <td>...</td>\n",
       "      <td>0</td>\n",
       "      <td>1</td>\n",
       "      <td>0</td>\n",
       "      <td>0</td>\n",
       "      <td>0</td>\n",
       "      <td>0</td>\n",
       "      <td>0</td>\n",
       "      <td>0</td>\n",
       "      <td>0</td>\n",
       "      <td>0</td>\n",
       "    </tr>\n",
       "    <tr>\n",
       "      <th>1353</th>\n",
       "      <td>266214</td>\n",
       "      <td>2021-12-31</td>\n",
       "      <td>2021</td>\n",
       "      <td>INDL</td>\n",
       "      <td>C</td>\n",
       "      <td>D</td>\n",
       "      <td>STD</td>\n",
       "      <td>CNS</td>\n",
       "      <td>19247A100</td>\n",
       "      <td>COHEN &amp; STEERS INC</td>\n",
       "      <td>...</td>\n",
       "      <td>0</td>\n",
       "      <td>1</td>\n",
       "      <td>0</td>\n",
       "      <td>0</td>\n",
       "      <td>0</td>\n",
       "      <td>0</td>\n",
       "      <td>0</td>\n",
       "      <td>0</td>\n",
       "      <td>0</td>\n",
       "      <td>0</td>\n",
       "    </tr>\n",
       "    <tr>\n",
       "      <th>1354</th>\n",
       "      <td>266315</td>\n",
       "      <td>2016-12-31</td>\n",
       "      <td>2016</td>\n",
       "      <td>INDL</td>\n",
       "      <td>C</td>\n",
       "      <td>D</td>\n",
       "      <td>STD</td>\n",
       "      <td>KRG</td>\n",
       "      <td>49803T300</td>\n",
       "      <td>KITE REALTY GROUP TRUST</td>\n",
       "      <td>...</td>\n",
       "      <td>0</td>\n",
       "      <td>0</td>\n",
       "      <td>0</td>\n",
       "      <td>0</td>\n",
       "      <td>0</td>\n",
       "      <td>0</td>\n",
       "      <td>0</td>\n",
       "      <td>0</td>\n",
       "      <td>0</td>\n",
       "      <td>0</td>\n",
       "    </tr>\n",
       "  </tbody>\n",
       "</table>\n",
       "<p>1355 rows × 507 columns</p>\n",
       "</div>"
      ],
      "text/plain": [
       "       gvkey    datadate  fyear indfmt consol popsrc datafmt   tic      cusip  \\\n",
       "0       1161  2016-12-31   2016   INDL      C      D     STD   AMD  007903107   \n",
       "1       1266  2015-09-30   2015   INDL      C      D     STD  ALCO  016230104   \n",
       "2       1266  2017-09-30   2017   INDL      C      D     STD  ALCO  016230104   \n",
       "3       1266  2019-09-30   2019   INDL      C      D     STD  ALCO  016230104   \n",
       "4       1449  2016-12-31   2016   INDL      C      D     STD   AFL  001055102   \n",
       "...      ...         ...    ...    ...    ...    ...     ...   ...        ...   \n",
       "1350  266214  2016-12-31   2016   INDL      C      D     STD   CNS  19247A100   \n",
       "1351  266214  2017-12-31   2017   INDL      C      D     STD   CNS  19247A100   \n",
       "1352  266214  2018-12-31   2018   INDL      C      D     STD   CNS  19247A100   \n",
       "1353  266214  2021-12-31   2021   INDL      C      D     STD   CNS  19247A100   \n",
       "1354  266315  2016-12-31   2016   INDL      C      D     STD   KRG  49803T300   \n",
       "\n",
       "                         conm  ... condemnation  responsible  motive  \\\n",
       "0      ADVANCED MICRO DEVICES  ...            0            0       0   \n",
       "1                   ALICO INC  ...            0            0       0   \n",
       "2                   ALICO INC  ...            0            0       0   \n",
       "3                   ALICO INC  ...            0            0       0   \n",
       "4                   AFLAC INC  ...            0            1       0   \n",
       "...                       ...  ...          ...          ...     ...   \n",
       "1350       COHEN & STEERS INC  ...            0            0       0   \n",
       "1351       COHEN & STEERS INC  ...            0            1       0   \n",
       "1352       COHEN & STEERS INC  ...            0            1       0   \n",
       "1353       COHEN & STEERS INC  ...            0            1       0   \n",
       "1354  KITE REALTY GROUP TRUST  ...            0            0       0   \n",
       "\n",
       "      conviction  applicant  guilty  reprehensible  threat  restricting  \\\n",
       "0              0          0       0              0       0            2   \n",
       "1              0          0       0              0       0            0   \n",
       "2              0          0       0              0       0            0   \n",
       "3              0          0       0              0       0            0   \n",
       "4              0          0       0              0       2            0   \n",
       "...          ...        ...     ...            ...     ...          ...   \n",
       "1350           0          0       0              0       0            0   \n",
       "1351           0          0       0              0       0            0   \n",
       "1352           0          0       0              0       0            0   \n",
       "1353           0          0       0              0       0            0   \n",
       "1354           0          0       0              0       0            0   \n",
       "\n",
       "      selfishness  \n",
       "0               0  \n",
       "1               0  \n",
       "2               0  \n",
       "3               0  \n",
       "4               0  \n",
       "...           ...  \n",
       "1350            0  \n",
       "1351            0  \n",
       "1352            0  \n",
       "1353            0  \n",
       "1354            0  \n",
       "\n",
       "[1355 rows x 507 columns]"
      ]
     },
     "execution_count": 46,
     "metadata": {},
     "output_type": "execute_result"
    }
   ],
   "source": [
    "final_df2"
   ]
  },
  {
   "cell_type": "code",
   "execution_count": null,
   "id": "9ed73c36",
   "metadata": {},
   "outputs": [],
   "source": []
  },
  {
   "cell_type": "code",
   "execution_count": null,
   "id": "bd2248aa",
   "metadata": {},
   "outputs": [],
   "source": [
    "final_df.to_csv('data/nlp_data_after_merge.csv')\n",
    "\n",
    "final_df = pd.read_csv('data/nlp_data_after_merge.csv')"
   ]
  },
  {
   "cell_type": "code",
   "execution_count": 45,
   "id": "cd4b8a5a",
   "metadata": {},
   "outputs": [
    {
     "data": {
      "text/html": [
       "<div>\n",
       "<style scoped>\n",
       "    .dataframe tbody tr th:only-of-type {\n",
       "        vertical-align: middle;\n",
       "    }\n",
       "\n",
       "    .dataframe tbody tr th {\n",
       "        vertical-align: top;\n",
       "    }\n",
       "\n",
       "    .dataframe thead th {\n",
       "        text-align: right;\n",
       "    }\n",
       "</style>\n",
       "<table border=\"1\" class=\"dataframe\">\n",
       "  <thead>\n",
       "    <tr style=\"text-align: right;\">\n",
       "      <th></th>\n",
       "      <th>gvkey</th>\n",
       "      <th>datadate</th>\n",
       "      <th>fyear</th>\n",
       "      <th>indfmt</th>\n",
       "      <th>consol</th>\n",
       "      <th>popsrc</th>\n",
       "      <th>datafmt</th>\n",
       "      <th>tic</th>\n",
       "      <th>cusip</th>\n",
       "      <th>conm</th>\n",
       "      <th>...</th>\n",
       "      <th>condemnation</th>\n",
       "      <th>responsible</th>\n",
       "      <th>motive</th>\n",
       "      <th>conviction</th>\n",
       "      <th>applicant</th>\n",
       "      <th>guilty</th>\n",
       "      <th>reprehensible</th>\n",
       "      <th>threat</th>\n",
       "      <th>restricting</th>\n",
       "      <th>selfishness</th>\n",
       "    </tr>\n",
       "  </thead>\n",
       "  <tbody>\n",
       "    <tr>\n",
       "      <th>0</th>\n",
       "      <td>1161</td>\n",
       "      <td>2016-12-31</td>\n",
       "      <td>2016</td>\n",
       "      <td>INDL</td>\n",
       "      <td>C</td>\n",
       "      <td>D</td>\n",
       "      <td>STD</td>\n",
       "      <td>AMD</td>\n",
       "      <td>007903107</td>\n",
       "      <td>ADVANCED MICRO DEVICES</td>\n",
       "      <td>...</td>\n",
       "      <td>0</td>\n",
       "      <td>0</td>\n",
       "      <td>0</td>\n",
       "      <td>0</td>\n",
       "      <td>0</td>\n",
       "      <td>0</td>\n",
       "      <td>0</td>\n",
       "      <td>0</td>\n",
       "      <td>2</td>\n",
       "      <td>0</td>\n",
       "    </tr>\n",
       "    <tr>\n",
       "      <th>1</th>\n",
       "      <td>1266</td>\n",
       "      <td>2015-09-30</td>\n",
       "      <td>2015</td>\n",
       "      <td>INDL</td>\n",
       "      <td>C</td>\n",
       "      <td>D</td>\n",
       "      <td>STD</td>\n",
       "      <td>ALCO</td>\n",
       "      <td>016230104</td>\n",
       "      <td>ALICO INC</td>\n",
       "      <td>...</td>\n",
       "      <td>0</td>\n",
       "      <td>0</td>\n",
       "      <td>0</td>\n",
       "      <td>0</td>\n",
       "      <td>0</td>\n",
       "      <td>0</td>\n",
       "      <td>0</td>\n",
       "      <td>0</td>\n",
       "      <td>0</td>\n",
       "      <td>0</td>\n",
       "    </tr>\n",
       "    <tr>\n",
       "      <th>2</th>\n",
       "      <td>1266</td>\n",
       "      <td>2017-09-30</td>\n",
       "      <td>2017</td>\n",
       "      <td>INDL</td>\n",
       "      <td>C</td>\n",
       "      <td>D</td>\n",
       "      <td>STD</td>\n",
       "      <td>ALCO</td>\n",
       "      <td>016230104</td>\n",
       "      <td>ALICO INC</td>\n",
       "      <td>...</td>\n",
       "      <td>0</td>\n",
       "      <td>0</td>\n",
       "      <td>0</td>\n",
       "      <td>0</td>\n",
       "      <td>0</td>\n",
       "      <td>0</td>\n",
       "      <td>0</td>\n",
       "      <td>0</td>\n",
       "      <td>0</td>\n",
       "      <td>0</td>\n",
       "    </tr>\n",
       "    <tr>\n",
       "      <th>3</th>\n",
       "      <td>1266</td>\n",
       "      <td>2019-09-30</td>\n",
       "      <td>2019</td>\n",
       "      <td>INDL</td>\n",
       "      <td>C</td>\n",
       "      <td>D</td>\n",
       "      <td>STD</td>\n",
       "      <td>ALCO</td>\n",
       "      <td>016230104</td>\n",
       "      <td>ALICO INC</td>\n",
       "      <td>...</td>\n",
       "      <td>0</td>\n",
       "      <td>0</td>\n",
       "      <td>0</td>\n",
       "      <td>0</td>\n",
       "      <td>0</td>\n",
       "      <td>0</td>\n",
       "      <td>0</td>\n",
       "      <td>0</td>\n",
       "      <td>0</td>\n",
       "      <td>0</td>\n",
       "    </tr>\n",
       "    <tr>\n",
       "      <th>4</th>\n",
       "      <td>1449</td>\n",
       "      <td>2016-12-31</td>\n",
       "      <td>2016</td>\n",
       "      <td>INDL</td>\n",
       "      <td>C</td>\n",
       "      <td>D</td>\n",
       "      <td>STD</td>\n",
       "      <td>AFL</td>\n",
       "      <td>001055102</td>\n",
       "      <td>AFLAC INC</td>\n",
       "      <td>...</td>\n",
       "      <td>0</td>\n",
       "      <td>1</td>\n",
       "      <td>0</td>\n",
       "      <td>0</td>\n",
       "      <td>0</td>\n",
       "      <td>0</td>\n",
       "      <td>0</td>\n",
       "      <td>2</td>\n",
       "      <td>0</td>\n",
       "      <td>0</td>\n",
       "    </tr>\n",
       "    <tr>\n",
       "      <th>...</th>\n",
       "      <td>...</td>\n",
       "      <td>...</td>\n",
       "      <td>...</td>\n",
       "      <td>...</td>\n",
       "      <td>...</td>\n",
       "      <td>...</td>\n",
       "      <td>...</td>\n",
       "      <td>...</td>\n",
       "      <td>...</td>\n",
       "      <td>...</td>\n",
       "      <td>...</td>\n",
       "      <td>...</td>\n",
       "      <td>...</td>\n",
       "      <td>...</td>\n",
       "      <td>...</td>\n",
       "      <td>...</td>\n",
       "      <td>...</td>\n",
       "      <td>...</td>\n",
       "      <td>...</td>\n",
       "      <td>...</td>\n",
       "      <td>...</td>\n",
       "    </tr>\n",
       "    <tr>\n",
       "      <th>1350</th>\n",
       "      <td>266214</td>\n",
       "      <td>2016-12-31</td>\n",
       "      <td>2016</td>\n",
       "      <td>INDL</td>\n",
       "      <td>C</td>\n",
       "      <td>D</td>\n",
       "      <td>STD</td>\n",
       "      <td>CNS</td>\n",
       "      <td>19247A100</td>\n",
       "      <td>COHEN &amp; STEERS INC</td>\n",
       "      <td>...</td>\n",
       "      <td>0</td>\n",
       "      <td>0</td>\n",
       "      <td>0</td>\n",
       "      <td>0</td>\n",
       "      <td>0</td>\n",
       "      <td>0</td>\n",
       "      <td>0</td>\n",
       "      <td>0</td>\n",
       "      <td>0</td>\n",
       "      <td>0</td>\n",
       "    </tr>\n",
       "    <tr>\n",
       "      <th>1351</th>\n",
       "      <td>266214</td>\n",
       "      <td>2017-12-31</td>\n",
       "      <td>2017</td>\n",
       "      <td>INDL</td>\n",
       "      <td>C</td>\n",
       "      <td>D</td>\n",
       "      <td>STD</td>\n",
       "      <td>CNS</td>\n",
       "      <td>19247A100</td>\n",
       "      <td>COHEN &amp; STEERS INC</td>\n",
       "      <td>...</td>\n",
       "      <td>0</td>\n",
       "      <td>1</td>\n",
       "      <td>0</td>\n",
       "      <td>0</td>\n",
       "      <td>0</td>\n",
       "      <td>0</td>\n",
       "      <td>0</td>\n",
       "      <td>0</td>\n",
       "      <td>0</td>\n",
       "      <td>0</td>\n",
       "    </tr>\n",
       "    <tr>\n",
       "      <th>1352</th>\n",
       "      <td>266214</td>\n",
       "      <td>2018-12-31</td>\n",
       "      <td>2018</td>\n",
       "      <td>INDL</td>\n",
       "      <td>C</td>\n",
       "      <td>D</td>\n",
       "      <td>STD</td>\n",
       "      <td>CNS</td>\n",
       "      <td>19247A100</td>\n",
       "      <td>COHEN &amp; STEERS INC</td>\n",
       "      <td>...</td>\n",
       "      <td>0</td>\n",
       "      <td>1</td>\n",
       "      <td>0</td>\n",
       "      <td>0</td>\n",
       "      <td>0</td>\n",
       "      <td>0</td>\n",
       "      <td>0</td>\n",
       "      <td>0</td>\n",
       "      <td>0</td>\n",
       "      <td>0</td>\n",
       "    </tr>\n",
       "    <tr>\n",
       "      <th>1353</th>\n",
       "      <td>266214</td>\n",
       "      <td>2021-12-31</td>\n",
       "      <td>2021</td>\n",
       "      <td>INDL</td>\n",
       "      <td>C</td>\n",
       "      <td>D</td>\n",
       "      <td>STD</td>\n",
       "      <td>CNS</td>\n",
       "      <td>19247A100</td>\n",
       "      <td>COHEN &amp; STEERS INC</td>\n",
       "      <td>...</td>\n",
       "      <td>0</td>\n",
       "      <td>1</td>\n",
       "      <td>0</td>\n",
       "      <td>0</td>\n",
       "      <td>0</td>\n",
       "      <td>0</td>\n",
       "      <td>0</td>\n",
       "      <td>0</td>\n",
       "      <td>0</td>\n",
       "      <td>0</td>\n",
       "    </tr>\n",
       "    <tr>\n",
       "      <th>1354</th>\n",
       "      <td>266315</td>\n",
       "      <td>2016-12-31</td>\n",
       "      <td>2016</td>\n",
       "      <td>INDL</td>\n",
       "      <td>C</td>\n",
       "      <td>D</td>\n",
       "      <td>STD</td>\n",
       "      <td>KRG</td>\n",
       "      <td>49803T300</td>\n",
       "      <td>KITE REALTY GROUP TRUST</td>\n",
       "      <td>...</td>\n",
       "      <td>0</td>\n",
       "      <td>0</td>\n",
       "      <td>0</td>\n",
       "      <td>0</td>\n",
       "      <td>0</td>\n",
       "      <td>0</td>\n",
       "      <td>0</td>\n",
       "      <td>0</td>\n",
       "      <td>0</td>\n",
       "      <td>0</td>\n",
       "    </tr>\n",
       "  </tbody>\n",
       "</table>\n",
       "<p>1355 rows × 507 columns</p>\n",
       "</div>"
      ],
      "text/plain": [
       "       gvkey    datadate  fyear indfmt consol popsrc datafmt   tic      cusip  \\\n",
       "0       1161  2016-12-31   2016   INDL      C      D     STD   AMD  007903107   \n",
       "1       1266  2015-09-30   2015   INDL      C      D     STD  ALCO  016230104   \n",
       "2       1266  2017-09-30   2017   INDL      C      D     STD  ALCO  016230104   \n",
       "3       1266  2019-09-30   2019   INDL      C      D     STD  ALCO  016230104   \n",
       "4       1449  2016-12-31   2016   INDL      C      D     STD   AFL  001055102   \n",
       "...      ...         ...    ...    ...    ...    ...     ...   ...        ...   \n",
       "1350  266214  2016-12-31   2016   INDL      C      D     STD   CNS  19247A100   \n",
       "1351  266214  2017-12-31   2017   INDL      C      D     STD   CNS  19247A100   \n",
       "1352  266214  2018-12-31   2018   INDL      C      D     STD   CNS  19247A100   \n",
       "1353  266214  2021-12-31   2021   INDL      C      D     STD   CNS  19247A100   \n",
       "1354  266315  2016-12-31   2016   INDL      C      D     STD   KRG  49803T300   \n",
       "\n",
       "                         conm  ... condemnation  responsible  motive  \\\n",
       "0      ADVANCED MICRO DEVICES  ...            0            0       0   \n",
       "1                   ALICO INC  ...            0            0       0   \n",
       "2                   ALICO INC  ...            0            0       0   \n",
       "3                   ALICO INC  ...            0            0       0   \n",
       "4                   AFLAC INC  ...            0            1       0   \n",
       "...                       ...  ...          ...          ...     ...   \n",
       "1350       COHEN & STEERS INC  ...            0            0       0   \n",
       "1351       COHEN & STEERS INC  ...            0            1       0   \n",
       "1352       COHEN & STEERS INC  ...            0            1       0   \n",
       "1353       COHEN & STEERS INC  ...            0            1       0   \n",
       "1354  KITE REALTY GROUP TRUST  ...            0            0       0   \n",
       "\n",
       "      conviction  applicant  guilty  reprehensible  threat  restricting  \\\n",
       "0              0          0       0              0       0            2   \n",
       "1              0          0       0              0       0            0   \n",
       "2              0          0       0              0       0            0   \n",
       "3              0          0       0              0       0            0   \n",
       "4              0          0       0              0       2            0   \n",
       "...          ...        ...     ...            ...     ...          ...   \n",
       "1350           0          0       0              0       0            0   \n",
       "1351           0          0       0              0       0            0   \n",
       "1352           0          0       0              0       0            0   \n",
       "1353           0          0       0              0       0            0   \n",
       "1354           0          0       0              0       0            0   \n",
       "\n",
       "      selfishness  \n",
       "0               0  \n",
       "1               0  \n",
       "2               0  \n",
       "3               0  \n",
       "4               0  \n",
       "...           ...  \n",
       "1350            0  \n",
       "1351            0  \n",
       "1352            0  \n",
       "1353            0  \n",
       "1354            0  \n",
       "\n",
       "[1355 rows x 507 columns]"
      ]
     },
     "execution_count": 45,
     "metadata": {},
     "output_type": "execute_result"
    }
   ],
   "source": [
    "final_df2"
   ]
  },
  {
   "cell_type": "code",
   "execution_count": null,
   "id": "af290698",
   "metadata": {},
   "outputs": [],
   "source": []
  },
  {
   "cell_type": "markdown",
   "id": "1757926c",
   "metadata": {},
   "source": [
    "------------\n",
    "--------------"
   ]
  },
  {
   "cell_type": "markdown",
   "id": "706647a5",
   "metadata": {},
   "source": [
    "### NLP Features + Compustat "
   ]
  },
  {
   "cell_type": "code",
   "execution_count": 2,
   "id": "ff921f20",
   "metadata": {},
   "outputs": [],
   "source": [
    "import pandas as pd\n",
    "import numpy as np\n",
    "from MLP.utils import datasets,plot_table,train_model\n",
    "from sklearn import metrics\n",
    "from imblearn.under_sampling import RandomUnderSampler\n",
    "from tabulate import tabulate\n",
    "import matplotlib.pyplot as plt\n",
    "from results.data_processing import DataProcessor\n",
    "from results.utils import evaluate,null_check,results\n",
    "from results.models import rus_boost, svm_model, xgb_model, logistic_regression_model,probit_regression_model,MLP,mlp_grid_search, random_forests\n",
    "import json\n",
    "from collections import defaultdict"
   ]
  },
  {
   "cell_type": "code",
   "execution_count": 3,
   "id": "d5065d2d",
   "metadata": {},
   "outputs": [],
   "source": [
    "nlp_data = pd.read_csv('data/nlp_data_after_merge.csv')"
   ]
  },
  {
   "cell_type": "code",
   "execution_count": 4,
   "id": "74178583",
   "metadata": {},
   "outputs": [],
   "source": [
    "nlp_data = nlp_data.drop(columns = ['Unnamed: 0.2', 'Unnamed: 0.1'])"
   ]
  },
  {
   "cell_type": "code",
   "execution_count": 5,
   "id": "3e918c57",
   "metadata": {},
   "outputs": [
    {
     "data": {
      "text/plain": [
       "Index(['gvkey', 'datadate', 'fyear', 'indfmt', 'consol', 'popsrc', 'datafmt',\n",
       "       'tic', 'cusip', 'conm', 'curcd', 'fyr', 'act', 'ap', 'at', 'ceq', 'che',\n",
       "       'cogs', 'csho', 'dlc', 'dltis', 'dltt', 'dp', 'ib', 'invt', 'ivao',\n",
       "       'ivst', 'lct', 'lt', 'ni'],\n",
       "      dtype='object')"
      ]
     },
     "execution_count": 5,
     "metadata": {},
     "output_type": "execute_result"
    }
   ],
   "source": [
    "nlp_data.columns[:30]"
   ]
  },
  {
   "cell_type": "code",
   "execution_count": 5,
   "id": "6f9408a8",
   "metadata": {},
   "outputs": [],
   "source": [
    "import ast\n",
    "nlp_feat = ast.literal_eval(nlp_data['target_word_frequency'][0]).keys()"
   ]
  },
  {
   "cell_type": "code",
   "execution_count": 6,
   "id": "a886d691",
   "metadata": {},
   "outputs": [],
   "source": [
    "with open('results/features.json') as json_file:\n",
    "    features_comp = json.load(json_file)"
   ]
  },
  {
   "cell_type": "code",
   "execution_count": 7,
   "id": "76d2b3a4",
   "metadata": {
    "scrolled": false
   },
   "outputs": [],
   "source": [
    "nlp_data[features_comp['28 Raw Financial Items']] = nlp_data[features_comp['28 Raw Financial Items']].fillna(0)"
   ]
  },
  {
   "cell_type": "code",
   "execution_count": 8,
   "id": "bac5d9bc",
   "metadata": {},
   "outputs": [],
   "source": [
    "models = {\"RUS BOOST\": rus_boost,\n",
    "          \"Logit\":logistic_regression_model}"
   ]
  },
  {
   "cell_type": "code",
   "execution_count": 7,
   "id": "a47f0417",
   "metadata": {},
   "outputs": [],
   "source": [
    "nlp_data = nlp_data.rename(columns={'Mistate' : 'misstate'})"
   ]
  },
  {
   "cell_type": "markdown",
   "id": "88fdb181",
   "metadata": {},
   "source": [
    "* Change Data preriods\n",
    "* Bao - train and test [-2014,2015-]\n",
    "* train,test metrics\n",
    "* Excel - Total - unique records\n",
    "* Logit and Probit on the NLP features"
   ]
  },
  {
   "cell_type": "code",
   "execution_count": 9,
   "id": "467622b2",
   "metadata": {
    "scrolled": false
   },
   "outputs": [
    {
     "data": {
      "text/plain": [
       "(16847, 508)"
      ]
     },
     "execution_count": 9,
     "metadata": {},
     "output_type": "execute_result"
    }
   ],
   "source": [
    "nlp_data[nlp_data['year']<=2014].shape"
   ]
  },
  {
   "cell_type": "code",
   "execution_count": 10,
   "id": "7778158d",
   "metadata": {
    "scrolled": true
   },
   "outputs": [
    {
     "data": {
      "text/plain": [
       "0    16800\n",
       "1       47\n",
       "Name: misstate, dtype: int64"
      ]
     },
     "execution_count": 10,
     "metadata": {},
     "output_type": "execute_result"
    }
   ],
   "source": [
    "nlp_data[nlp_data['year']<=2014]['misstate'].value_counts()"
   ]
  },
  {
   "cell_type": "code",
   "execution_count": 18,
   "id": "a400b23b",
   "metadata": {},
   "outputs": [
    {
     "data": {
      "text/plain": [
       "(15275, 508)"
      ]
     },
     "execution_count": 18,
     "metadata": {},
     "output_type": "execute_result"
    }
   ],
   "source": [
    "nlp_data[(nlp_data['year']>2014) & (nlp_data['year']<2023)].shape"
   ]
  },
  {
   "cell_type": "code",
   "execution_count": 19,
   "id": "077b6807",
   "metadata": {},
   "outputs": [
    {
     "data": {
      "text/plain": [
       "0    15227\n",
       "1       48\n",
       "Name: misstate, dtype: int64"
      ]
     },
     "execution_count": 19,
     "metadata": {},
     "output_type": "execute_result"
    }
   ],
   "source": [
    "nlp_data[(nlp_data['year']>2014) & (nlp_data['year']<2023)]['misstate'].value_counts()"
   ]
  },
  {
   "cell_type": "markdown",
   "id": "e0833545",
   "metadata": {},
   "source": [
    "-----"
   ]
  },
  {
   "cell_type": "code",
   "execution_count": 10,
   "id": "f07f220f",
   "metadata": {},
   "outputs": [],
   "source": [
    "data_item = features_comp['28 Raw Financial Items']+features_comp['nlp_feat_fraud_constarint']\n",
    "train_period,test_period = (2000,2014),(2015,2023)"
   ]
  },
  {
   "cell_type": "code",
   "execution_count": 11,
   "id": "208958e6",
   "metadata": {},
   "outputs": [
    {
     "name": "stdout",
     "output_type": "stream",
     "text": [
      "RUS BOOST\n",
      "Train AUC: 1.0\n",
      "Logit\n",
      "Train AUC: 0.9492983250339521\n"
     ]
    }
   ],
   "source": [
    "res = defaultdict(lambda: defaultdict(dict))\n",
    "data_obj = DataProcessor(nlp_data,(2000,2014),(2015,2023), (2015,2023), 5)\n",
    "for model in models.keys():\n",
    "    print(model)\n",
    "    auc = results(data_obj,train_period,test_period,data_item,models[model])\n",
    "    res[test_period][\"NLP+28\"][model] = auc"
   ]
  },
  {
   "cell_type": "code",
   "execution_count": 12,
   "id": "effd1b2f",
   "metadata": {},
   "outputs": [
    {
     "data": {
      "text/plain": [
       "defaultdict(<function __main__.<lambda>()>,\n",
       "            {(2015,\n",
       "              2023): defaultdict(dict,\n",
       "                         {'NLP+28': {'RUS BOOST': 0.6354105547949671,\n",
       "                           'Logit': 0.4564203174913619}})})"
      ]
     },
     "execution_count": 12,
     "metadata": {},
     "output_type": "execute_result"
    }
   ],
   "source": [
    "res"
   ]
  },
  {
   "cell_type": "code",
   "execution_count": 13,
   "id": "f0657ac3",
   "metadata": {},
   "outputs": [
    {
     "name": "stdout",
     "output_type": "stream",
     "text": [
      "Best Hyperparameters: {'activation': 'relu', 'hidden_layer_sizes': (482, 30, 40), 'learning_rate_init': 0.01}\n",
      "Best AUC Score: 0.69\n",
      "Test AUC Score: 0.595813096247039\n"
     ]
    }
   ],
   "source": [
    "res = defaultdict(lambda: defaultdict(dict))\n",
    "\n",
    "param_grid = {\n",
    "    'activation': ['logistic', 'tanh', 'relu'],\n",
    "    'hidden_layer_sizes': [\n",
    "        (len(data_item), 40),\n",
    "        (len(data_item), 50),\n",
    "        (len(data_item), 40, 50),\n",
    "        (len(data_item), 30, 40),\n",
    "        (len(data_item), 40, 30, 50),\n",
    "        (len(data_item), 30, 40, 30),\n",
    "        (len(data_item), 40, 50, 60, 40),\n",
    "        (len(data_item), 50, 50, 50, 50),\n",
    "        (len(data_item), 30, 30, 30, 30)\n",
    "        ],\n",
    "    'learning_rate_init': [0.001, 0.01, 0.1]\n",
    "    }\n",
    "auc = results(data_obj,train_period,test_period,data_item,mlp_grid_search,param_grid)\n",
    "res[test_period][\"NLP+28\"] = auc"
   ]
  },
  {
   "cell_type": "code",
   "execution_count": 14,
   "id": "5fa37505",
   "metadata": {
    "scrolled": true
   },
   "outputs": [
    {
     "data": {
      "text/plain": [
       "defaultdict(<function __main__.<lambda>()>,\n",
       "            {(2015, 2023): defaultdict(dict, {'NLP+28': 0.595813096247039})})"
      ]
     },
     "execution_count": 14,
     "metadata": {},
     "output_type": "execute_result"
    }
   ],
   "source": [
    "res"
   ]
  },
  {
   "cell_type": "code",
   "execution_count": null,
   "id": "8ff0e579",
   "metadata": {},
   "outputs": [],
   "source": []
  },
  {
   "cell_type": "code",
   "execution_count": null,
   "id": "4d6545fe",
   "metadata": {},
   "outputs": [],
   "source": []
  },
  {
   "cell_type": "markdown",
   "id": "400d0c0d",
   "metadata": {},
   "source": [
    "--------"
   ]
  },
  {
   "cell_type": "code",
   "execution_count": 15,
   "id": "a8c0bbee",
   "metadata": {},
   "outputs": [],
   "source": [
    "data_item = features_comp['nlp_feat_fraud_constarint']\n",
    "train_period,test_period = (2000,2014),(2015,2023)"
   ]
  },
  {
   "cell_type": "code",
   "execution_count": 16,
   "id": "82032ce4",
   "metadata": {},
   "outputs": [
    {
     "name": "stdout",
     "output_type": "stream",
     "text": [
      "RUS BOOST\n",
      "Train AUC: 0.9701222272521502\n",
      "Logit\n",
      "Train AUC: 0.9592575826165686\n"
     ]
    }
   ],
   "source": [
    "res = defaultdict(lambda: defaultdict(dict))\n",
    "data_obj = DataProcessor(nlp_data,(2000,2014),(2015,2023), (2015,2023), 5)\n",
    "for model in models.keys():\n",
    "    print(model)\n",
    "    auc = results(data_obj,train_period,test_period,data_item,models[model])\n",
    "    res[test_period][\"NLP\"][model] = auc"
   ]
  },
  {
   "cell_type": "code",
   "execution_count": 17,
   "id": "335cd786",
   "metadata": {},
   "outputs": [
    {
     "data": {
      "text/plain": [
       "defaultdict(<function __main__.<lambda>()>,\n",
       "            {(2015,\n",
       "              2023): defaultdict(dict,\n",
       "                         {'NLP': {'RUS BOOST': 0.5966429526044723,\n",
       "                           'Logit': 0.6337311482712911}})})"
      ]
     },
     "execution_count": 17,
     "metadata": {},
     "output_type": "execute_result"
    }
   ],
   "source": [
    "res"
   ]
  },
  {
   "cell_type": "code",
   "execution_count": 18,
   "id": "363bacd1",
   "metadata": {
    "scrolled": true
   },
   "outputs": [
    {
     "name": "stdout",
     "output_type": "stream",
     "text": [
      "Best Hyperparameters: {'activation': 'logistic', 'hidden_layer_sizes': (454, 40, 50), 'learning_rate_init': 0.1}\n",
      "Best AUC Score: 0.662469135802469\n",
      "Test AUC Score: 0.5469812786578874\n"
     ]
    }
   ],
   "source": [
    "res = defaultdict(lambda: defaultdict(dict))\n",
    "\n",
    "param_grid = {\n",
    "    'activation': ['logistic', 'tanh', 'relu'],\n",
    "    'hidden_layer_sizes': [\n",
    "        (len(data_item), 40),\n",
    "        (len(data_item), 50),\n",
    "        (len(data_item), 40, 50),\n",
    "        (len(data_item), 30, 40),\n",
    "        (len(data_item), 40, 30, 50),\n",
    "        (len(data_item), 30, 40, 30),\n",
    "        (len(data_item), 40, 50, 60, 40),\n",
    "        (len(data_item), 50, 50, 50, 50),\n",
    "        (len(data_item), 30, 30, 30, 30)\n",
    "        ],\n",
    "    'learning_rate_init': [0.001, 0.01, 0.1]\n",
    "    }\n",
    "auc = results(data_obj,train_period,test_period,data_item,mlp_grid_search,param_grid)\n",
    "res[test_period][\"NLP\"] = auc"
   ]
  },
  {
   "cell_type": "markdown",
   "id": "41070c56",
   "metadata": {},
   "source": [
    "---------"
   ]
  },
  {
   "cell_type": "code",
   "execution_count": 8,
   "id": "7e8e76d6",
   "metadata": {},
   "outputs": [
    {
     "data": {
      "text/plain": [
       "0    16843\n",
       "1       52\n",
       "Name: misstate, dtype: int64"
      ]
     },
     "execution_count": 8,
     "metadata": {},
     "output_type": "execute_result"
    }
   ],
   "source": [
    "nlp_data[nlp_data['year']>=2014]['misstate'].value_counts()"
   ]
  },
  {
   "cell_type": "code",
   "execution_count": 26,
   "id": "503f589a",
   "metadata": {},
   "outputs": [
    {
     "data": {
      "text/plain": [
       "454"
      ]
     },
     "execution_count": 26,
     "metadata": {},
     "output_type": "execute_result"
    }
   ],
   "source": [
    "len(nlp_data.columns[53:])-1"
   ]
  },
  {
   "cell_type": "code",
   "execution_count": null,
   "id": "bdc94757",
   "metadata": {},
   "outputs": [],
   "source": []
  }
 ],
 "metadata": {
  "kernelspec": {
   "display_name": "Python 3 (ipykernel)",
   "language": "python",
   "name": "python3"
  },
  "language_info": {
   "codemirror_mode": {
    "name": "ipython",
    "version": 3
   },
   "file_extension": ".py",
   "mimetype": "text/x-python",
   "name": "python",
   "nbconvert_exporter": "python",
   "pygments_lexer": "ipython3",
   "version": "3.10.6"
  }
 },
 "nbformat": 4,
 "nbformat_minor": 5
}

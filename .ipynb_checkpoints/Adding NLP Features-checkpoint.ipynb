{
 "cells": [
  {
   "cell_type": "code",
   "execution_count": 1,
   "id": "8e91d787",
   "metadata": {},
   "outputs": [],
   "source": [
    "import pandas as pd\n",
    "import ast"
   ]
  },
  {
   "cell_type": "code",
   "execution_count": 17,
   "id": "597fdffc",
   "metadata": {},
   "outputs": [],
   "source": [
    "fc_data = pd.read_csv(\"data/data_fraud_constraint.csv\")"
   ]
  },
  {
   "cell_type": "code",
   "execution_count": 18,
   "id": "fb4a08da",
   "metadata": {},
   "outputs": [
    {
     "data": {
      "text/plain": [
       "array([2017, 2018, 2019, 2020, 2021, 2022, 2002, 2003, 2004, 2007, 2005,\n",
       "       2006, 2008, 2009, 2010, 2011, 2012, 2013, 2014, 2015, 2016, 2023,\n",
       "       2001, 2000], dtype=int64)"
      ]
     },
     "execution_count": 18,
     "metadata": {},
     "output_type": "execute_result"
    }
   ],
   "source": [
    "fc_data['year'].unique()"
   ]
  },
  {
   "cell_type": "code",
   "execution_count": 19,
   "id": "f5bcd90b",
   "metadata": {
    "scrolled": false
   },
   "outputs": [
    {
     "data": {
      "text/html": [
       "<div>\n",
       "<style scoped>\n",
       "    .dataframe tbody tr th:only-of-type {\n",
       "        vertical-align: middle;\n",
       "    }\n",
       "\n",
       "    .dataframe tbody tr th {\n",
       "        vertical-align: top;\n",
       "    }\n",
       "\n",
       "    .dataframe thead th {\n",
       "        text-align: right;\n",
       "    }\n",
       "</style>\n",
       "<table border=\"1\" class=\"dataframe\">\n",
       "  <thead>\n",
       "    <tr style=\"text-align: right;\">\n",
       "      <th></th>\n",
       "      <th>id</th>\n",
       "      <th>ticker</th>\n",
       "      <th>cik</th>\n",
       "      <th>year</th>\n",
       "      <th>accession_number</th>\n",
       "      <th>mda_section</th>\n",
       "      <th>target_word_frequency</th>\n",
       "      <th>created_at</th>\n",
       "    </tr>\n",
       "  </thead>\n",
       "  <tbody>\n",
       "    <tr>\n",
       "      <th>0</th>\n",
       "      <td>1</td>\n",
       "      <td>AAPL</td>\n",
       "      <td>320193</td>\n",
       "      <td>2017</td>\n",
       "      <td>70</td>\n",
       "      <td>0</td>\n",
       "      <td>{\"recklessness\": 0, \"guarantor\": 0, \"hazard\": ...</td>\n",
       "      <td>2023-10-16 20:10:30.994056+00</td>\n",
       "    </tr>\n",
       "    <tr>\n",
       "      <th>1</th>\n",
       "      <td>2</td>\n",
       "      <td>AAPL</td>\n",
       "      <td>320193</td>\n",
       "      <td>2018</td>\n",
       "      <td>145</td>\n",
       "      <td>0</td>\n",
       "      <td>{\"recklessness\": 0, \"guarantor\": 0, \"hazard\": ...</td>\n",
       "      <td>2023-10-16 20:10:30.994056+00</td>\n",
       "    </tr>\n",
       "    <tr>\n",
       "      <th>2</th>\n",
       "      <td>3</td>\n",
       "      <td>AAPL</td>\n",
       "      <td>320193</td>\n",
       "      <td>2019</td>\n",
       "      <td>119</td>\n",
       "      <td>0</td>\n",
       "      <td>{\"recklessness\": 0, \"guarantor\": 0, \"hazard\": ...</td>\n",
       "      <td>2023-10-16 20:10:30.994056+00</td>\n",
       "    </tr>\n",
       "  </tbody>\n",
       "</table>\n",
       "</div>"
      ],
      "text/plain": [
       "   id ticker     cik  year  accession_number  mda_section  \\\n",
       "0   1   AAPL  320193  2017                70            0   \n",
       "1   2   AAPL  320193  2018               145            0   \n",
       "2   3   AAPL  320193  2019               119            0   \n",
       "\n",
       "                               target_word_frequency  \\\n",
       "0  {\"recklessness\": 0, \"guarantor\": 0, \"hazard\": ...   \n",
       "1  {\"recklessness\": 0, \"guarantor\": 0, \"hazard\": ...   \n",
       "2  {\"recklessness\": 0, \"guarantor\": 0, \"hazard\": ...   \n",
       "\n",
       "                      created_at  \n",
       "0  2023-10-16 20:10:30.994056+00  \n",
       "1  2023-10-16 20:10:30.994056+00  \n",
       "2  2023-10-16 20:10:30.994056+00  "
      ]
     },
     "execution_count": 19,
     "metadata": {},
     "output_type": "execute_result"
    }
   ],
   "source": [
    "fc_data.head(3)"
   ]
  },
  {
   "cell_type": "code",
   "execution_count": 20,
   "id": "337d6355",
   "metadata": {},
   "outputs": [
    {
     "name": "stdout",
     "output_type": "stream",
     "text": [
      "<class 'pandas.core.frame.DataFrame'>\n",
      "RangeIndex: 48833 entries, 0 to 48832\n",
      "Data columns (total 8 columns):\n",
      " #   Column                 Non-Null Count  Dtype \n",
      "---  ------                 --------------  ----- \n",
      " 0   id                     48833 non-null  int64 \n",
      " 1   ticker                 48833 non-null  object\n",
      " 2   cik                    48833 non-null  int64 \n",
      " 3   year                   48833 non-null  int64 \n",
      " 4   accession_number       48833 non-null  int64 \n",
      " 5   mda_section            48833 non-null  int64 \n",
      " 6   target_word_frequency  48833 non-null  object\n",
      " 7   created_at             48833 non-null  object\n",
      "dtypes: int64(5), object(3)\n",
      "memory usage: 3.0+ MB\n"
     ]
    }
   ],
   "source": [
    "fc_data.info()"
   ]
  },
  {
   "cell_type": "code",
   "execution_count": 21,
   "id": "45a4420d",
   "metadata": {},
   "outputs": [
    {
     "data": {
      "text/plain": [
       "recklessness     0\n",
       "guarantor        0\n",
       "hazard           0\n",
       "constrains       0\n",
       "despicable       0\n",
       "                ..\n",
       "guilty           0\n",
       "reprehensible    0\n",
       "threat           0\n",
       "restricting      0\n",
       "selfishness      0\n",
       "Length: 454, dtype: int64"
      ]
     },
     "execution_count": 21,
     "metadata": {},
     "output_type": "execute_result"
    }
   ],
   "source": [
    "pd.Series(ast.literal_eval(fc_data['target_word_frequency'][0]))"
   ]
  },
  {
   "cell_type": "code",
   "execution_count": 22,
   "id": "cfc16bc7",
   "metadata": {},
   "outputs": [],
   "source": [
    "data_col = fc_data['target_word_frequency'].apply(ast.literal_eval)\n",
    "data_col = data_col.apply(pd.Series)"
   ]
  },
  {
   "cell_type": "code",
   "execution_count": 24,
   "id": "8921dae1",
   "metadata": {},
   "outputs": [
    {
     "data": {
      "text/html": [
       "<div>\n",
       "<style scoped>\n",
       "    .dataframe tbody tr th:only-of-type {\n",
       "        vertical-align: middle;\n",
       "    }\n",
       "\n",
       "    .dataframe tbody tr th {\n",
       "        vertical-align: top;\n",
       "    }\n",
       "\n",
       "    .dataframe thead th {\n",
       "        text-align: right;\n",
       "    }\n",
       "</style>\n",
       "<table border=\"1\" class=\"dataframe\">\n",
       "  <thead>\n",
       "    <tr style=\"text-align: right;\">\n",
       "      <th></th>\n",
       "      <th>recklessness</th>\n",
       "      <th>guarantor</th>\n",
       "      <th>hazard</th>\n",
       "      <th>constrains</th>\n",
       "      <th>despicable</th>\n",
       "      <th>refusal</th>\n",
       "      <th>restitution</th>\n",
       "      <th>dependance</th>\n",
       "      <th>constrain</th>\n",
       "      <th>prevented</th>\n",
       "      <th>...</th>\n",
       "      <th>condemnation</th>\n",
       "      <th>responsible</th>\n",
       "      <th>motive</th>\n",
       "      <th>conviction</th>\n",
       "      <th>applicant</th>\n",
       "      <th>guilty</th>\n",
       "      <th>reprehensible</th>\n",
       "      <th>threat</th>\n",
       "      <th>restricting</th>\n",
       "      <th>selfishness</th>\n",
       "    </tr>\n",
       "  </thead>\n",
       "  <tbody>\n",
       "    <tr>\n",
       "      <th>0</th>\n",
       "      <td>0</td>\n",
       "      <td>0</td>\n",
       "      <td>0</td>\n",
       "      <td>0</td>\n",
       "      <td>0</td>\n",
       "      <td>0</td>\n",
       "      <td>0</td>\n",
       "      <td>0</td>\n",
       "      <td>0</td>\n",
       "      <td>0</td>\n",
       "      <td>...</td>\n",
       "      <td>0</td>\n",
       "      <td>0</td>\n",
       "      <td>0</td>\n",
       "      <td>0</td>\n",
       "      <td>0</td>\n",
       "      <td>0</td>\n",
       "      <td>0</td>\n",
       "      <td>0</td>\n",
       "      <td>0</td>\n",
       "      <td>0</td>\n",
       "    </tr>\n",
       "    <tr>\n",
       "      <th>1</th>\n",
       "      <td>0</td>\n",
       "      <td>0</td>\n",
       "      <td>0</td>\n",
       "      <td>0</td>\n",
       "      <td>0</td>\n",
       "      <td>0</td>\n",
       "      <td>0</td>\n",
       "      <td>0</td>\n",
       "      <td>0</td>\n",
       "      <td>0</td>\n",
       "      <td>...</td>\n",
       "      <td>0</td>\n",
       "      <td>0</td>\n",
       "      <td>0</td>\n",
       "      <td>0</td>\n",
       "      <td>0</td>\n",
       "      <td>0</td>\n",
       "      <td>0</td>\n",
       "      <td>0</td>\n",
       "      <td>0</td>\n",
       "      <td>0</td>\n",
       "    </tr>\n",
       "    <tr>\n",
       "      <th>2</th>\n",
       "      <td>0</td>\n",
       "      <td>0</td>\n",
       "      <td>0</td>\n",
       "      <td>0</td>\n",
       "      <td>0</td>\n",
       "      <td>0</td>\n",
       "      <td>0</td>\n",
       "      <td>0</td>\n",
       "      <td>0</td>\n",
       "      <td>0</td>\n",
       "      <td>...</td>\n",
       "      <td>0</td>\n",
       "      <td>0</td>\n",
       "      <td>0</td>\n",
       "      <td>0</td>\n",
       "      <td>0</td>\n",
       "      <td>0</td>\n",
       "      <td>0</td>\n",
       "      <td>0</td>\n",
       "      <td>0</td>\n",
       "      <td>0</td>\n",
       "    </tr>\n",
       "    <tr>\n",
       "      <th>3</th>\n",
       "      <td>0</td>\n",
       "      <td>0</td>\n",
       "      <td>0</td>\n",
       "      <td>0</td>\n",
       "      <td>0</td>\n",
       "      <td>0</td>\n",
       "      <td>0</td>\n",
       "      <td>0</td>\n",
       "      <td>0</td>\n",
       "      <td>0</td>\n",
       "      <td>...</td>\n",
       "      <td>0</td>\n",
       "      <td>0</td>\n",
       "      <td>0</td>\n",
       "      <td>0</td>\n",
       "      <td>0</td>\n",
       "      <td>0</td>\n",
       "      <td>0</td>\n",
       "      <td>0</td>\n",
       "      <td>0</td>\n",
       "      <td>0</td>\n",
       "    </tr>\n",
       "    <tr>\n",
       "      <th>4</th>\n",
       "      <td>0</td>\n",
       "      <td>0</td>\n",
       "      <td>0</td>\n",
       "      <td>0</td>\n",
       "      <td>0</td>\n",
       "      <td>0</td>\n",
       "      <td>0</td>\n",
       "      <td>0</td>\n",
       "      <td>0</td>\n",
       "      <td>0</td>\n",
       "      <td>...</td>\n",
       "      <td>0</td>\n",
       "      <td>0</td>\n",
       "      <td>0</td>\n",
       "      <td>0</td>\n",
       "      <td>0</td>\n",
       "      <td>0</td>\n",
       "      <td>0</td>\n",
       "      <td>0</td>\n",
       "      <td>0</td>\n",
       "      <td>0</td>\n",
       "    </tr>\n",
       "    <tr>\n",
       "      <th>...</th>\n",
       "      <td>...</td>\n",
       "      <td>...</td>\n",
       "      <td>...</td>\n",
       "      <td>...</td>\n",
       "      <td>...</td>\n",
       "      <td>...</td>\n",
       "      <td>...</td>\n",
       "      <td>...</td>\n",
       "      <td>...</td>\n",
       "      <td>...</td>\n",
       "      <td>...</td>\n",
       "      <td>...</td>\n",
       "      <td>...</td>\n",
       "      <td>...</td>\n",
       "      <td>...</td>\n",
       "      <td>...</td>\n",
       "      <td>...</td>\n",
       "      <td>...</td>\n",
       "      <td>...</td>\n",
       "      <td>...</td>\n",
       "      <td>...</td>\n",
       "    </tr>\n",
       "    <tr>\n",
       "      <th>48828</th>\n",
       "      <td>0</td>\n",
       "      <td>0</td>\n",
       "      <td>0</td>\n",
       "      <td>0</td>\n",
       "      <td>0</td>\n",
       "      <td>0</td>\n",
       "      <td>0</td>\n",
       "      <td>0</td>\n",
       "      <td>0</td>\n",
       "      <td>1</td>\n",
       "      <td>...</td>\n",
       "      <td>0</td>\n",
       "      <td>3</td>\n",
       "      <td>0</td>\n",
       "      <td>0</td>\n",
       "      <td>0</td>\n",
       "      <td>0</td>\n",
       "      <td>0</td>\n",
       "      <td>0</td>\n",
       "      <td>1</td>\n",
       "      <td>0</td>\n",
       "    </tr>\n",
       "    <tr>\n",
       "      <th>48829</th>\n",
       "      <td>0</td>\n",
       "      <td>0</td>\n",
       "      <td>0</td>\n",
       "      <td>0</td>\n",
       "      <td>0</td>\n",
       "      <td>0</td>\n",
       "      <td>0</td>\n",
       "      <td>0</td>\n",
       "      <td>0</td>\n",
       "      <td>0</td>\n",
       "      <td>...</td>\n",
       "      <td>0</td>\n",
       "      <td>0</td>\n",
       "      <td>0</td>\n",
       "      <td>0</td>\n",
       "      <td>0</td>\n",
       "      <td>0</td>\n",
       "      <td>0</td>\n",
       "      <td>0</td>\n",
       "      <td>1</td>\n",
       "      <td>0</td>\n",
       "    </tr>\n",
       "    <tr>\n",
       "      <th>48830</th>\n",
       "      <td>0</td>\n",
       "      <td>0</td>\n",
       "      <td>0</td>\n",
       "      <td>0</td>\n",
       "      <td>0</td>\n",
       "      <td>0</td>\n",
       "      <td>0</td>\n",
       "      <td>0</td>\n",
       "      <td>0</td>\n",
       "      <td>0</td>\n",
       "      <td>...</td>\n",
       "      <td>0</td>\n",
       "      <td>1</td>\n",
       "      <td>0</td>\n",
       "      <td>0</td>\n",
       "      <td>0</td>\n",
       "      <td>0</td>\n",
       "      <td>0</td>\n",
       "      <td>0</td>\n",
       "      <td>0</td>\n",
       "      <td>0</td>\n",
       "    </tr>\n",
       "    <tr>\n",
       "      <th>48831</th>\n",
       "      <td>0</td>\n",
       "      <td>0</td>\n",
       "      <td>0</td>\n",
       "      <td>0</td>\n",
       "      <td>0</td>\n",
       "      <td>0</td>\n",
       "      <td>0</td>\n",
       "      <td>0</td>\n",
       "      <td>0</td>\n",
       "      <td>0</td>\n",
       "      <td>...</td>\n",
       "      <td>0</td>\n",
       "      <td>0</td>\n",
       "      <td>0</td>\n",
       "      <td>0</td>\n",
       "      <td>0</td>\n",
       "      <td>0</td>\n",
       "      <td>0</td>\n",
       "      <td>0</td>\n",
       "      <td>0</td>\n",
       "      <td>0</td>\n",
       "    </tr>\n",
       "    <tr>\n",
       "      <th>48832</th>\n",
       "      <td>0</td>\n",
       "      <td>0</td>\n",
       "      <td>0</td>\n",
       "      <td>0</td>\n",
       "      <td>0</td>\n",
       "      <td>0</td>\n",
       "      <td>0</td>\n",
       "      <td>0</td>\n",
       "      <td>0</td>\n",
       "      <td>0</td>\n",
       "      <td>...</td>\n",
       "      <td>0</td>\n",
       "      <td>0</td>\n",
       "      <td>0</td>\n",
       "      <td>0</td>\n",
       "      <td>0</td>\n",
       "      <td>0</td>\n",
       "      <td>0</td>\n",
       "      <td>0</td>\n",
       "      <td>0</td>\n",
       "      <td>0</td>\n",
       "    </tr>\n",
       "  </tbody>\n",
       "</table>\n",
       "<p>48833 rows × 454 columns</p>\n",
       "</div>"
      ],
      "text/plain": [
       "       recklessness  guarantor  hazard  constrains  despicable  refusal  \\\n",
       "0                 0          0       0           0           0        0   \n",
       "1                 0          0       0           0           0        0   \n",
       "2                 0          0       0           0           0        0   \n",
       "3                 0          0       0           0           0        0   \n",
       "4                 0          0       0           0           0        0   \n",
       "...             ...        ...     ...         ...         ...      ...   \n",
       "48828             0          0       0           0           0        0   \n",
       "48829             0          0       0           0           0        0   \n",
       "48830             0          0       0           0           0        0   \n",
       "48831             0          0       0           0           0        0   \n",
       "48832             0          0       0           0           0        0   \n",
       "\n",
       "       restitution  dependance  constrain  prevented  ...  condemnation  \\\n",
       "0                0           0          0          0  ...             0   \n",
       "1                0           0          0          0  ...             0   \n",
       "2                0           0          0          0  ...             0   \n",
       "3                0           0          0          0  ...             0   \n",
       "4                0           0          0          0  ...             0   \n",
       "...            ...         ...        ...        ...  ...           ...   \n",
       "48828            0           0          0          1  ...             0   \n",
       "48829            0           0          0          0  ...             0   \n",
       "48830            0           0          0          0  ...             0   \n",
       "48831            0           0          0          0  ...             0   \n",
       "48832            0           0          0          0  ...             0   \n",
       "\n",
       "       responsible  motive  conviction  applicant  guilty  reprehensible  \\\n",
       "0                0       0           0          0       0              0   \n",
       "1                0       0           0          0       0              0   \n",
       "2                0       0           0          0       0              0   \n",
       "3                0       0           0          0       0              0   \n",
       "4                0       0           0          0       0              0   \n",
       "...            ...     ...         ...        ...     ...            ...   \n",
       "48828            3       0           0          0       0              0   \n",
       "48829            0       0           0          0       0              0   \n",
       "48830            1       0           0          0       0              0   \n",
       "48831            0       0           0          0       0              0   \n",
       "48832            0       0           0          0       0              0   \n",
       "\n",
       "       threat  restricting  selfishness  \n",
       "0           0            0            0  \n",
       "1           0            0            0  \n",
       "2           0            0            0  \n",
       "3           0            0            0  \n",
       "4           0            0            0  \n",
       "...       ...          ...          ...  \n",
       "48828       0            1            0  \n",
       "48829       0            1            0  \n",
       "48830       0            0            0  \n",
       "48831       0            0            0  \n",
       "48832       0            0            0  \n",
       "\n",
       "[48833 rows x 454 columns]"
      ]
     },
     "execution_count": 24,
     "metadata": {},
     "output_type": "execute_result"
    }
   ],
   "source": [
    "data_col"
   ]
  },
  {
   "cell_type": "code",
   "execution_count": 25,
   "id": "145e5672",
   "metadata": {},
   "outputs": [],
   "source": [
    "df = pd.concat([fc_data, data_col], axis=1)"
   ]
  },
  {
   "cell_type": "code",
   "execution_count": 26,
   "id": "1f3da32c",
   "metadata": {
    "scrolled": true
   },
   "outputs": [
    {
     "data": {
      "text/html": [
       "<div>\n",
       "<style scoped>\n",
       "    .dataframe tbody tr th:only-of-type {\n",
       "        vertical-align: middle;\n",
       "    }\n",
       "\n",
       "    .dataframe tbody tr th {\n",
       "        vertical-align: top;\n",
       "    }\n",
       "\n",
       "    .dataframe thead th {\n",
       "        text-align: right;\n",
       "    }\n",
       "</style>\n",
       "<table border=\"1\" class=\"dataframe\">\n",
       "  <thead>\n",
       "    <tr style=\"text-align: right;\">\n",
       "      <th></th>\n",
       "      <th>id</th>\n",
       "      <th>ticker</th>\n",
       "      <th>cik</th>\n",
       "      <th>year</th>\n",
       "      <th>accession_number</th>\n",
       "      <th>mda_section</th>\n",
       "      <th>target_word_frequency</th>\n",
       "      <th>created_at</th>\n",
       "      <th>recklessness</th>\n",
       "      <th>guarantor</th>\n",
       "      <th>...</th>\n",
       "      <th>condemnation</th>\n",
       "      <th>responsible</th>\n",
       "      <th>motive</th>\n",
       "      <th>conviction</th>\n",
       "      <th>applicant</th>\n",
       "      <th>guilty</th>\n",
       "      <th>reprehensible</th>\n",
       "      <th>threat</th>\n",
       "      <th>restricting</th>\n",
       "      <th>selfishness</th>\n",
       "    </tr>\n",
       "  </thead>\n",
       "  <tbody>\n",
       "    <tr>\n",
       "      <th>0</th>\n",
       "      <td>1</td>\n",
       "      <td>AAPL</td>\n",
       "      <td>320193</td>\n",
       "      <td>2017</td>\n",
       "      <td>70</td>\n",
       "      <td>0</td>\n",
       "      <td>{\"recklessness\": 0, \"guarantor\": 0, \"hazard\": ...</td>\n",
       "      <td>2023-10-16 20:10:30.994056+00</td>\n",
       "      <td>0</td>\n",
       "      <td>0</td>\n",
       "      <td>...</td>\n",
       "      <td>0</td>\n",
       "      <td>0</td>\n",
       "      <td>0</td>\n",
       "      <td>0</td>\n",
       "      <td>0</td>\n",
       "      <td>0</td>\n",
       "      <td>0</td>\n",
       "      <td>0</td>\n",
       "      <td>0</td>\n",
       "      <td>0</td>\n",
       "    </tr>\n",
       "    <tr>\n",
       "      <th>1</th>\n",
       "      <td>2</td>\n",
       "      <td>AAPL</td>\n",
       "      <td>320193</td>\n",
       "      <td>2018</td>\n",
       "      <td>145</td>\n",
       "      <td>0</td>\n",
       "      <td>{\"recklessness\": 0, \"guarantor\": 0, \"hazard\": ...</td>\n",
       "      <td>2023-10-16 20:10:30.994056+00</td>\n",
       "      <td>0</td>\n",
       "      <td>0</td>\n",
       "      <td>...</td>\n",
       "      <td>0</td>\n",
       "      <td>0</td>\n",
       "      <td>0</td>\n",
       "      <td>0</td>\n",
       "      <td>0</td>\n",
       "      <td>0</td>\n",
       "      <td>0</td>\n",
       "      <td>0</td>\n",
       "      <td>0</td>\n",
       "      <td>0</td>\n",
       "    </tr>\n",
       "    <tr>\n",
       "      <th>2</th>\n",
       "      <td>3</td>\n",
       "      <td>AAPL</td>\n",
       "      <td>320193</td>\n",
       "      <td>2019</td>\n",
       "      <td>119</td>\n",
       "      <td>0</td>\n",
       "      <td>{\"recklessness\": 0, \"guarantor\": 0, \"hazard\": ...</td>\n",
       "      <td>2023-10-16 20:10:30.994056+00</td>\n",
       "      <td>0</td>\n",
       "      <td>0</td>\n",
       "      <td>...</td>\n",
       "      <td>0</td>\n",
       "      <td>0</td>\n",
       "      <td>0</td>\n",
       "      <td>0</td>\n",
       "      <td>0</td>\n",
       "      <td>0</td>\n",
       "      <td>0</td>\n",
       "      <td>0</td>\n",
       "      <td>0</td>\n",
       "      <td>0</td>\n",
       "    </tr>\n",
       "  </tbody>\n",
       "</table>\n",
       "<p>3 rows × 462 columns</p>\n",
       "</div>"
      ],
      "text/plain": [
       "   id ticker     cik  year  accession_number  mda_section  \\\n",
       "0   1   AAPL  320193  2017                70            0   \n",
       "1   2   AAPL  320193  2018               145            0   \n",
       "2   3   AAPL  320193  2019               119            0   \n",
       "\n",
       "                               target_word_frequency  \\\n",
       "0  {\"recklessness\": 0, \"guarantor\": 0, \"hazard\": ...   \n",
       "1  {\"recklessness\": 0, \"guarantor\": 0, \"hazard\": ...   \n",
       "2  {\"recklessness\": 0, \"guarantor\": 0, \"hazard\": ...   \n",
       "\n",
       "                      created_at  recklessness  guarantor  ...  condemnation  \\\n",
       "0  2023-10-16 20:10:30.994056+00             0          0  ...             0   \n",
       "1  2023-10-16 20:10:30.994056+00             0          0  ...             0   \n",
       "2  2023-10-16 20:10:30.994056+00             0          0  ...             0   \n",
       "\n",
       "   responsible  motive  conviction  applicant  guilty  reprehensible  threat  \\\n",
       "0            0       0           0          0       0              0       0   \n",
       "1            0       0           0          0       0              0       0   \n",
       "2            0       0           0          0       0              0       0   \n",
       "\n",
       "   restricting  selfishness  \n",
       "0            0            0  \n",
       "1            0            0  \n",
       "2            0            0  \n",
       "\n",
       "[3 rows x 462 columns]"
      ]
     },
     "execution_count": 26,
     "metadata": {},
     "output_type": "execute_result"
    }
   ],
   "source": [
    "df.head(3)"
   ]
  },
  {
   "cell_type": "code",
   "execution_count": 27,
   "id": "b3ca95ff",
   "metadata": {},
   "outputs": [
    {
     "data": {
      "text/plain": [
       "462"
      ]
     },
     "execution_count": 27,
     "metadata": {},
     "output_type": "execute_result"
    }
   ],
   "source": [
    "len(df.columns)"
   ]
  },
  {
   "cell_type": "code",
   "execution_count": 28,
   "id": "acf0c5a4",
   "metadata": {},
   "outputs": [],
   "source": [
    "df.to_csv('data/fraud_constr_dist.csv')"
   ]
  },
  {
   "cell_type": "code",
   "execution_count": null,
   "id": "1e5e49ba",
   "metadata": {},
   "outputs": [],
   "source": []
  },
  {
   "cell_type": "code",
   "execution_count": 74,
   "id": "216ba890",
   "metadata": {},
   "outputs": [],
   "source": [
    "df = pd.read_csv('data/fraud_constr_dist.csv')"
   ]
  },
  {
   "cell_type": "code",
   "execution_count": 75,
   "id": "a5845355",
   "metadata": {},
   "outputs": [],
   "source": [
    "df = df.rename(columns = {'cik':'cik_2'})"
   ]
  },
  {
   "cell_type": "code",
   "execution_count": 76,
   "id": "703e896b",
   "metadata": {},
   "outputs": [
    {
     "data": {
      "text/plain": [
       "Index(['Unnamed: 0', 'id', 'ticker', 'cik_2', 'year', 'accession_number',\n",
       "       'mda_section', 'target_word_frequency', 'created_at', 'recklessness',\n",
       "       ...\n",
       "       'condemnation', 'responsible', 'motive', 'conviction', 'applicant',\n",
       "       'guilty', 'reprehensible', 'threat', 'restricting', 'selfishness'],\n",
       "      dtype='object', length=463)"
      ]
     },
     "execution_count": 76,
     "metadata": {},
     "output_type": "execute_result"
    }
   ],
   "source": [
    "df.columns"
   ]
  },
  {
   "cell_type": "code",
   "execution_count": 77,
   "id": "40acd852",
   "metadata": {},
   "outputs": [
    {
     "data": {
      "text/plain": [
       "327790"
      ]
     },
     "execution_count": 77,
     "metadata": {},
     "output_type": "execute_result"
    }
   ],
   "source": [
    "data1 = pd.read_csv('data/bao_all_data2.csv')\n",
    "len(data1)"
   ]
  },
  {
   "cell_type": "code",
   "execution_count": 78,
   "id": "397b84cd",
   "metadata": {
    "scrolled": true
   },
   "outputs": [
    {
     "data": {
      "text/plain": [
       "Index(['gvkey', 'datadate', 'fyear', 'indfmt', 'consol', 'popsrc', 'datafmt',\n",
       "       'tic', 'cusip', 'conm', 'curcd', 'fyr', 'act', 'ap', 'at', 'ceq', 'che',\n",
       "       'cogs', 'csho', 'dlc', 'dltis', 'dltt', 'dp', 'ib', 'invt', 'ivao',\n",
       "       'ivst', 'lct', 'lt', 'ni', 'ppegt', 'pstk', 're', 'rect', 'sale',\n",
       "       'sstk', 'txp', 'txt', 'xint', 'cik', 'costat', 'prcc_f', 'conml',\n",
       "       'sic'],\n",
       "      dtype='object')"
      ]
     },
     "execution_count": 78,
     "metadata": {},
     "output_type": "execute_result"
    }
   ],
   "source": [
    "data1.columns"
   ]
  },
  {
   "cell_type": "code",
   "execution_count": 79,
   "id": "dc898ef7",
   "metadata": {},
   "outputs": [
    {
     "data": {
      "text/plain": [
       "96"
      ]
     },
     "execution_count": 79,
     "metadata": {},
     "output_type": "execute_result"
    }
   ],
   "source": [
    "data1['tic'].isna().sum()"
   ]
  },
  {
   "cell_type": "code",
   "execution_count": 80,
   "id": "6ea732b7",
   "metadata": {},
   "outputs": [],
   "source": [
    "# data1[data1['fyear']>=2000]['Mistate'].value_counts()"
   ]
  },
  {
   "cell_type": "code",
   "execution_count": 81,
   "id": "1286235b",
   "metadata": {},
   "outputs": [],
   "source": [
    "final_df = data1.merge(df,how='inner',left_on=['fyear','tic'],right_on=['year','ticker'])"
   ]
  },
  {
   "cell_type": "code",
   "execution_count": 82,
   "id": "9ffe527f",
   "metadata": {},
   "outputs": [
    {
     "name": "stdout",
     "output_type": "stream",
     "text": [
      "<class 'pandas.core.frame.DataFrame'>\n",
      "Int64Index: 32234 entries, 0 to 32233\n",
      "Columns: 507 entries, gvkey to selfishness\n",
      "dtypes: float64(29), int64(464), object(14)\n",
      "memory usage: 124.9+ MB\n"
     ]
    }
   ],
   "source": [
    "final_df.info()"
   ]
  },
  {
   "cell_type": "code",
   "execution_count": 83,
   "id": "491b27c4",
   "metadata": {},
   "outputs": [
    {
     "data": {
      "text/plain": [
       "Index(['gvkey', 'datadate', 'fyear', 'indfmt', 'consol', 'popsrc', 'datafmt',\n",
       "       'tic', 'cusip', 'conm', 'curcd', 'fyr', 'act', 'ap', 'at', 'ceq', 'che',\n",
       "       'cogs', 'csho', 'dlc', 'dltis', 'dltt', 'dp', 'ib', 'invt', 'ivao',\n",
       "       'ivst', 'lct', 'lt', 'ni', 'ppegt', 'pstk', 're', 'rect', 'sale',\n",
       "       'sstk', 'txp', 'txt', 'xint', 'cik', 'costat', 'prcc_f', 'conml', 'sic',\n",
       "       'Unnamed: 0', 'id', 'ticker', 'cik_2', 'year', 'accession_number'],\n",
       "      dtype='object')"
      ]
     },
     "execution_count": 83,
     "metadata": {},
     "output_type": "execute_result"
    }
   ],
   "source": [
    "final_df.columns[:50]"
   ]
  },
  {
   "cell_type": "code",
   "execution_count": 84,
   "id": "9b5fb6d9",
   "metadata": {},
   "outputs": [],
   "source": [
    "final_df.to_csv('data/nlp_data_after_merge.csv')"
   ]
  },
  {
   "cell_type": "code",
   "execution_count": 85,
   "id": "86127e32",
   "metadata": {},
   "outputs": [],
   "source": [
    "data = pd.read_csv('data/bao_all_data.csv')"
   ]
  },
  {
   "cell_type": "code",
   "execution_count": 86,
   "id": "be7aa98f",
   "metadata": {},
   "outputs": [],
   "source": [
    "final_df['Mistate'] = final_df.merge(data,right_on=['fyear','gvkey'],left_on=['fyear','gvkey'])['Mistate']"
   ]
  },
  {
   "cell_type": "code",
   "execution_count": 104,
   "id": "ea93269d",
   "metadata": {},
   "outputs": [
    {
     "data": {
      "text/plain": [
       "0    21917\n",
       "1       65\n",
       "Name: Mistate, dtype: int64"
      ]
     },
     "execution_count": 104,
     "metadata": {},
     "output_type": "execute_result"
    }
   ],
   "source": [
    "final_df[final_df['year']<=2017]['Mistate'].value_counts()"
   ]
  },
  {
   "cell_type": "code",
   "execution_count": 94,
   "id": "dc581227",
   "metadata": {},
   "outputs": [
    {
     "data": {
      "text/plain": [
       "[2000,\n",
       " 2001,\n",
       " 2002,\n",
       " 2003,\n",
       " 2004,\n",
       " 2005,\n",
       " 2006,\n",
       " 2007,\n",
       " 2008,\n",
       " 2009,\n",
       " 2010,\n",
       " 2011,\n",
       " 2012,\n",
       " 2013,\n",
       " 2014,\n",
       " 2015,\n",
       " 2016,\n",
       " 2017,\n",
       " 2018,\n",
       " 2019,\n",
       " 2020,\n",
       " 2021,\n",
       " 2022,\n",
       " 2023]"
      ]
     },
     "execution_count": 94,
     "metadata": {},
     "output_type": "execute_result"
    }
   ],
   "source": [
    "sorted(final_df['year'].unique())"
   ]
  },
  {
   "cell_type": "code",
   "execution_count": null,
   "id": "3ef43b87",
   "metadata": {},
   "outputs": [],
   "source": []
  },
  {
   "cell_type": "code",
   "execution_count": null,
   "id": "ff921f20",
   "metadata": {},
   "outputs": [],
   "source": []
  }
 ],
 "metadata": {
  "kernelspec": {
   "display_name": "Python 3 (ipykernel)",
   "language": "python",
   "name": "python3"
  },
  "language_info": {
   "codemirror_mode": {
    "name": "ipython",
    "version": 3
   },
   "file_extension": ".py",
   "mimetype": "text/x-python",
   "name": "python",
   "nbconvert_exporter": "python",
   "pygments_lexer": "ipython3",
   "version": "3.10.6"
  }
 },
 "nbformat": 4,
 "nbformat_minor": 5
}

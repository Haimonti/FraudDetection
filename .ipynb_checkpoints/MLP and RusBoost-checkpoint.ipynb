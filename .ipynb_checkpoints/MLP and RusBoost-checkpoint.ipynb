{
 "cells": [
  {
   "cell_type": "code",
   "execution_count": 5,
   "id": "6b290bd6",
   "metadata": {},
   "outputs": [],
   "source": [
    "import pandas as pd\n",
    "import numpy as np\n",
    "from MLP.utils import datasets,plot_table,train_model"
   ]
  },
  {
   "cell_type": "code",
   "execution_count": 6,
   "id": "2ab614fc",
   "metadata": {},
   "outputs": [],
   "source": [
    "data = pd.read_csv('bao_all_data.csv')"
   ]
  },
  {
   "cell_type": "code",
   "execution_count": 7,
   "id": "211c10f1",
   "metadata": {},
   "outputs": [],
   "source": [
    "data = data.drop(columns=['Unnamed: 0'],axis = 1)"
   ]
  },
  {
   "cell_type": "code",
   "execution_count": 8,
   "id": "585ac147",
   "metadata": {},
   "outputs": [
    {
     "data": {
      "text/html": [
       "<div>\n",
       "<style scoped>\n",
       "    .dataframe tbody tr th:only-of-type {\n",
       "        vertical-align: middle;\n",
       "    }\n",
       "\n",
       "    .dataframe tbody tr th {\n",
       "        vertical-align: top;\n",
       "    }\n",
       "\n",
       "    .dataframe thead th {\n",
       "        text-align: right;\n",
       "    }\n",
       "</style>\n",
       "<table border=\"1\" class=\"dataframe\">\n",
       "  <thead>\n",
       "    <tr style=\"text-align: right;\">\n",
       "      <th></th>\n",
       "      <th>Mistate</th>\n",
       "      <th>gvkey</th>\n",
       "      <th>datadate</th>\n",
       "      <th>fyear</th>\n",
       "      <th>indfmt</th>\n",
       "      <th>consol</th>\n",
       "      <th>popsrc</th>\n",
       "      <th>datafmt</th>\n",
       "      <th>cusip</th>\n",
       "      <th>conm</th>\n",
       "      <th>...</th>\n",
       "      <th>soft_assets</th>\n",
       "      <th>ch_cs</th>\n",
       "      <th>ch_cm</th>\n",
       "      <th>ch_roa</th>\n",
       "      <th>issue</th>\n",
       "      <th>bm</th>\n",
       "      <th>dpi</th>\n",
       "      <th>reoa</th>\n",
       "      <th>EBIT</th>\n",
       "      <th>ch_fcf</th>\n",
       "    </tr>\n",
       "  </thead>\n",
       "  <tbody>\n",
       "    <tr>\n",
       "      <th>0</th>\n",
       "      <td>0</td>\n",
       "      <td>1003.0</td>\n",
       "      <td>1990-01-31</td>\n",
       "      <td>1989.0</td>\n",
       "      <td>INDL</td>\n",
       "      <td>C</td>\n",
       "      <td>D</td>\n",
       "      <td>STD</td>\n",
       "      <td>354100</td>\n",
       "      <td>A.A. IMPORTING CO INC</td>\n",
       "      <td>...</td>\n",
       "      <td>NaN</td>\n",
       "      <td>NaN</td>\n",
       "      <td>NaN</td>\n",
       "      <td>NaN</td>\n",
       "      <td>NaN</td>\n",
       "      <td>NaN</td>\n",
       "      <td>NaN</td>\n",
       "      <td>NaN</td>\n",
       "      <td>NaN</td>\n",
       "      <td>NaN</td>\n",
       "    </tr>\n",
       "    <tr>\n",
       "      <th>1</th>\n",
       "      <td>0</td>\n",
       "      <td>1004.0</td>\n",
       "      <td>1990-05-31</td>\n",
       "      <td>1989.0</td>\n",
       "      <td>INDL</td>\n",
       "      <td>C</td>\n",
       "      <td>D</td>\n",
       "      <td>STD</td>\n",
       "      <td>361105</td>\n",
       "      <td>AAR CORP</td>\n",
       "      <td>...</td>\n",
       "      <td>NaN</td>\n",
       "      <td>NaN</td>\n",
       "      <td>NaN</td>\n",
       "      <td>NaN</td>\n",
       "      <td>NaN</td>\n",
       "      <td>NaN</td>\n",
       "      <td>NaN</td>\n",
       "      <td>NaN</td>\n",
       "      <td>NaN</td>\n",
       "      <td>NaN</td>\n",
       "    </tr>\n",
       "    <tr>\n",
       "      <th>2</th>\n",
       "      <td>0</td>\n",
       "      <td>1017.0</td>\n",
       "      <td>1990-02-28</td>\n",
       "      <td>1989.0</td>\n",
       "      <td>INDL</td>\n",
       "      <td>C</td>\n",
       "      <td>D</td>\n",
       "      <td>STD</td>\n",
       "      <td>1030105</td>\n",
       "      <td>AEL INDUSTRIES  -CL A</td>\n",
       "      <td>...</td>\n",
       "      <td>NaN</td>\n",
       "      <td>NaN</td>\n",
       "      <td>NaN</td>\n",
       "      <td>NaN</td>\n",
       "      <td>NaN</td>\n",
       "      <td>NaN</td>\n",
       "      <td>NaN</td>\n",
       "      <td>NaN</td>\n",
       "      <td>NaN</td>\n",
       "      <td>NaN</td>\n",
       "    </tr>\n",
       "  </tbody>\n",
       "</table>\n",
       "<p>3 rows × 58 columns</p>\n",
       "</div>"
      ],
      "text/plain": [
       "   Mistate   gvkey    datadate   fyear indfmt consol popsrc datafmt    cusip  \\\n",
       "0        0  1003.0  1990-01-31  1989.0   INDL      C      D     STD   354100   \n",
       "1        0  1004.0  1990-05-31  1989.0   INDL      C      D     STD   361105   \n",
       "2        0  1017.0  1990-02-28  1989.0   INDL      C      D     STD  1030105   \n",
       "\n",
       "                    conm  ... soft_assets  ch_cs  ch_cm  ch_roa  issue  bm  \\\n",
       "0  A.A. IMPORTING CO INC  ...         NaN    NaN    NaN     NaN    NaN NaN   \n",
       "1               AAR CORP  ...         NaN    NaN    NaN     NaN    NaN NaN   \n",
       "2  AEL INDUSTRIES  -CL A  ...         NaN    NaN    NaN     NaN    NaN NaN   \n",
       "\n",
       "   dpi  reoa  EBIT  ch_fcf  \n",
       "0  NaN   NaN   NaN     NaN  \n",
       "1  NaN   NaN   NaN     NaN  \n",
       "2  NaN   NaN   NaN     NaN  \n",
       "\n",
       "[3 rows x 58 columns]"
      ]
     },
     "execution_count": 8,
     "metadata": {},
     "output_type": "execute_result"
    }
   ],
   "source": [
    "data.head(3)"
   ]
  },
  {
   "cell_type": "code",
   "execution_count": 9,
   "id": "dc372831",
   "metadata": {},
   "outputs": [],
   "source": [
    "# select the columns to use as features\n",
    "features = ['act', 'ap', 'at', 'ceq', 'che', 'cogs', 'csho', 'dlc', 'dltis', 'dltt', 'dp', 'ib', 'invt', 'ivao', 'ivst', 'lct', 'lt', 'ni', 'ppegt', 'pstk', 're', 'rect',\n",
    "            'sale', 'sstk', 'txp', 'txt', 'xint', 'prcc_f', 'dch_wc', 'ch_rsst', 'dch_rec', 'dch_inv', 'soft_assets', 'ch_cs', 'ch_cm', 'ch_roa', 'bm', 'dpi', 'reoa', 'EBIT', 'ch_fcf']\n",
    "\n",
    "raw_financial_items_28 = ['act', 'ap', 'at', 'ceq', 'che', 'cogs', 'csho', 'dlc', 'dltis', 'dltt', 'dp', 'ib', 'invt', 'ivao', 'ivst', 'lct', 'lt', 'ni', 'ppegt', 'pstk', 're', 'rect',\n",
    "            'sale', 'sstk', 'txp', 'txt', 'xint', 'prcc_f']\n",
    "\n",
    "financial_ratios_14 = ['dch_wc', 'ch_rsst', 'dch_rec', 'dch_inv', 'soft_assets', 'ch_cs', 'ch_cm', 'ch_roa', 'bm', 'dpi', 'reoa', 'EBIT', 'ch_fcf','issue']"
   ]
  },
  {
   "cell_type": "code",
   "execution_count": 10,
   "id": "4fdae261",
   "metadata": {},
   "outputs": [
    {
     "data": {
      "text/plain": [
       "act       142000\n",
       "ap         86257\n",
       "at         59960\n",
       "ceq        60666\n",
       "che        94542\n",
       "cogs       95713\n",
       "csho       55704\n",
       "dlc        62526\n",
       "dltis     114785\n",
       "dltt       61103\n",
       "dp         74624\n",
       "ib         61174\n",
       "invt       91413\n",
       "ivao      104856\n",
       "ivst       66026\n",
       "lct       140360\n",
       "lt         60491\n",
       "ni         95402\n",
       "ppegt     117976\n",
       "pstk       60986\n",
       "re         68591\n",
       "rect       96567\n",
       "sale       95674\n",
       "sstk      111051\n",
       "txp       111990\n",
       "txt        61643\n",
       "xint       99447\n",
       "prcc_f     50072\n",
       "dtype: int64"
      ]
     },
     "execution_count": 10,
     "metadata": {},
     "output_type": "execute_result"
    }
   ],
   "source": [
    "data[raw_financial_items_28].isna().sum()"
   ]
  },
  {
   "cell_type": "code",
   "execution_count": 11,
   "id": "1c3c2053",
   "metadata": {
    "scrolled": true
   },
   "outputs": [
    {
     "data": {
      "text/plain": [
       "dch_wc         362384\n",
       "ch_rsst        362384\n",
       "dch_rec        362384\n",
       "dch_inv        362384\n",
       "soft_assets    362384\n",
       "ch_cs          362384\n",
       "ch_cm          362384\n",
       "ch_roa         362384\n",
       "bm             362384\n",
       "dpi            362384\n",
       "reoa           362384\n",
       "EBIT           362384\n",
       "ch_fcf         362384\n",
       "issue          362384\n",
       "dtype: int64"
      ]
     },
     "execution_count": 11,
     "metadata": {},
     "output_type": "execute_result"
    }
   ],
   "source": [
    "data[financial_ratios_14].isna().sum()"
   ]
  },
  {
   "cell_type": "code",
   "execution_count": 12,
   "id": "bfb92d75",
   "metadata": {},
   "outputs": [
    {
     "data": {
      "text/plain": [
       "(362384, 58)"
      ]
     },
     "execution_count": 12,
     "metadata": {},
     "output_type": "execute_result"
    }
   ],
   "source": [
    "data.shape"
   ]
  },
  {
   "cell_type": "code",
   "execution_count": 13,
   "id": "932e9e36",
   "metadata": {},
   "outputs": [
    {
     "data": {
      "text/plain": [
       "Index(['Mistate', 'gvkey', 'datadate', 'fyear', 'indfmt', 'consol', 'popsrc',\n",
       "       'datafmt', 'cusip', 'conm', 'curcd', 'fyr', 'act', 'ap', 'at', 'ceq',\n",
       "       'che', 'cogs', 'csho', 'dlc', 'dltis', 'dltt', 'dp', 'ib', 'invt',\n",
       "       'ivao', 'ivst', 'lct', 'lt', 'ni', 'ppegt', 'pstk', 're', 'rect',\n",
       "       'sale', 'sstk', 'txp', 'txt', 'xint', 'cik', 'costat', 'prcc_f',\n",
       "       'conml', 'sic', 'dch_wc', 'ch_rsst', 'dch_rec', 'dch_inv',\n",
       "       'soft_assets', 'ch_cs', 'ch_cm', 'ch_roa', 'issue', 'bm', 'dpi', 'reoa',\n",
       "       'EBIT', 'ch_fcf'],\n",
       "      dtype='object')"
      ]
     },
     "execution_count": 13,
     "metadata": {},
     "output_type": "execute_result"
    }
   ],
   "source": [
    "data.columns"
   ]
  },
  {
   "cell_type": "code",
   "execution_count": 14,
   "id": "ea8a502f",
   "metadata": {},
   "outputs": [],
   "source": [
    "df = data[raw_financial_items_28]"
   ]
  },
  {
   "cell_type": "code",
   "execution_count": 15,
   "id": "22091d92",
   "metadata": {},
   "outputs": [],
   "source": [
    "import warnings\n",
    "warnings.filterwarnings(\"ignore\")"
   ]
  },
  {
   "cell_type": "code",
   "execution_count": 16,
   "id": "fe9f9b84",
   "metadata": {},
   "outputs": [],
   "source": [
    "for col in ['Mistate', 'gvkey', 'datadate', 'fyear', 'indfmt', 'consol', 'popsrc',\n",
    "       'datafmt', 'cusip', 'conm', 'curcd', 'fyr']:\n",
    "    df[col] = data[col]"
   ]
  },
  {
   "cell_type": "code",
   "execution_count": 17,
   "id": "8a001197",
   "metadata": {
    "scrolled": true
   },
   "outputs": [
    {
     "data": {
      "text/html": [
       "<div>\n",
       "<style scoped>\n",
       "    .dataframe tbody tr th:only-of-type {\n",
       "        vertical-align: middle;\n",
       "    }\n",
       "\n",
       "    .dataframe tbody tr th {\n",
       "        vertical-align: top;\n",
       "    }\n",
       "\n",
       "    .dataframe thead th {\n",
       "        text-align: right;\n",
       "    }\n",
       "</style>\n",
       "<table border=\"1\" class=\"dataframe\">\n",
       "  <thead>\n",
       "    <tr style=\"text-align: right;\">\n",
       "      <th></th>\n",
       "      <th>act</th>\n",
       "      <th>ap</th>\n",
       "      <th>at</th>\n",
       "      <th>ceq</th>\n",
       "      <th>che</th>\n",
       "      <th>cogs</th>\n",
       "      <th>csho</th>\n",
       "      <th>dlc</th>\n",
       "      <th>dltis</th>\n",
       "      <th>dltt</th>\n",
       "      <th>...</th>\n",
       "      <th>datadate</th>\n",
       "      <th>fyear</th>\n",
       "      <th>indfmt</th>\n",
       "      <th>consol</th>\n",
       "      <th>popsrc</th>\n",
       "      <th>datafmt</th>\n",
       "      <th>cusip</th>\n",
       "      <th>conm</th>\n",
       "      <th>curcd</th>\n",
       "      <th>fyr</th>\n",
       "    </tr>\n",
       "  </thead>\n",
       "  <tbody>\n",
       "    <tr>\n",
       "      <th>0</th>\n",
       "      <td>9.190</td>\n",
       "      <td>2.391</td>\n",
       "      <td>10.109</td>\n",
       "      <td>-0.416</td>\n",
       "      <td>0.691</td>\n",
       "      <td>11.883</td>\n",
       "      <td>2.683</td>\n",
       "      <td>4.449</td>\n",
       "      <td>2.421</td>\n",
       "      <td>0.076</td>\n",
       "      <td>...</td>\n",
       "      <td>1990-01-31</td>\n",
       "      <td>1989.0</td>\n",
       "      <td>INDL</td>\n",
       "      <td>C</td>\n",
       "      <td>D</td>\n",
       "      <td>STD</td>\n",
       "      <td>354100</td>\n",
       "      <td>A.A. IMPORTING CO INC</td>\n",
       "      <td>USD</td>\n",
       "      <td>1.0</td>\n",
       "    </tr>\n",
       "    <tr>\n",
       "      <th>1</th>\n",
       "      <td>275.576</td>\n",
       "      <td>35.861</td>\n",
       "      <td>388.521</td>\n",
       "      <td>189.548</td>\n",
       "      <td>4.044</td>\n",
       "      <td>336.931</td>\n",
       "      <td>16.082</td>\n",
       "      <td>33.821</td>\n",
       "      <td>72.243</td>\n",
       "      <td>72.329</td>\n",
       "      <td>...</td>\n",
       "      <td>1990-05-31</td>\n",
       "      <td>1989.0</td>\n",
       "      <td>INDL</td>\n",
       "      <td>C</td>\n",
       "      <td>D</td>\n",
       "      <td>STD</td>\n",
       "      <td>361105</td>\n",
       "      <td>AAR CORP</td>\n",
       "      <td>USD</td>\n",
       "      <td>5.0</td>\n",
       "    </tr>\n",
       "    <tr>\n",
       "      <th>2</th>\n",
       "      <td>69.041</td>\n",
       "      <td>2.648</td>\n",
       "      <td>129.514</td>\n",
       "      <td>41.861</td>\n",
       "      <td>17.498</td>\n",
       "      <td>96.455</td>\n",
       "      <td>3.892</td>\n",
       "      <td>13.137</td>\n",
       "      <td>5.367</td>\n",
       "      <td>35.456</td>\n",
       "      <td>...</td>\n",
       "      <td>1990-02-28</td>\n",
       "      <td>1989.0</td>\n",
       "      <td>INDL</td>\n",
       "      <td>C</td>\n",
       "      <td>D</td>\n",
       "      <td>STD</td>\n",
       "      <td>1030105</td>\n",
       "      <td>AEL INDUSTRIES  -CL A</td>\n",
       "      <td>USD</td>\n",
       "      <td>2.0</td>\n",
       "    </tr>\n",
       "  </tbody>\n",
       "</table>\n",
       "<p>3 rows × 40 columns</p>\n",
       "</div>"
      ],
      "text/plain": [
       "       act      ap       at      ceq     che     cogs    csho     dlc   dltis  \\\n",
       "0    9.190   2.391   10.109   -0.416   0.691   11.883   2.683   4.449   2.421   \n",
       "1  275.576  35.861  388.521  189.548   4.044  336.931  16.082  33.821  72.243   \n",
       "2   69.041   2.648  129.514   41.861  17.498   96.455   3.892  13.137   5.367   \n",
       "\n",
       "     dltt  ...    datadate   fyear  indfmt  consol  popsrc  datafmt    cusip  \\\n",
       "0   0.076  ...  1990-01-31  1989.0    INDL       C       D      STD   354100   \n",
       "1  72.329  ...  1990-05-31  1989.0    INDL       C       D      STD   361105   \n",
       "2  35.456  ...  1990-02-28  1989.0    INDL       C       D      STD  1030105   \n",
       "\n",
       "                    conm  curcd  fyr  \n",
       "0  A.A. IMPORTING CO INC    USD  1.0  \n",
       "1               AAR CORP    USD  5.0  \n",
       "2  AEL INDUSTRIES  -CL A    USD  2.0  \n",
       "\n",
       "[3 rows x 40 columns]"
      ]
     },
     "execution_count": 17,
     "metadata": {},
     "output_type": "execute_result"
    }
   ],
   "source": [
    "df.head(3)"
   ]
  },
  {
   "cell_type": "code",
   "execution_count": 18,
   "id": "bf296bb9",
   "metadata": {
    "scrolled": false
   },
   "outputs": [
    {
     "data": {
      "text/plain": [
       "act         142000\n",
       "ap           86257\n",
       "at           59960\n",
       "ceq          60666\n",
       "che          94542\n",
       "cogs         95713\n",
       "csho         55704\n",
       "dlc          62526\n",
       "dltis       114785\n",
       "dltt         61103\n",
       "dp           74624\n",
       "ib           61174\n",
       "invt         91413\n",
       "ivao        104856\n",
       "ivst         66026\n",
       "lct         140360\n",
       "lt           60491\n",
       "ni           95402\n",
       "ppegt       117976\n",
       "pstk         60986\n",
       "re           68591\n",
       "rect         96567\n",
       "sale         95674\n",
       "sstk        111051\n",
       "txp         111990\n",
       "txt          61643\n",
       "xint         99447\n",
       "prcc_f       50072\n",
       "Mistate          0\n",
       "gvkey            1\n",
       "datadate         1\n",
       "fyear            1\n",
       "indfmt           1\n",
       "consol           1\n",
       "popsrc           1\n",
       "datafmt          1\n",
       "cusip           98\n",
       "conm             1\n",
       "curcd            1\n",
       "fyr              1\n",
       "dtype: int64"
      ]
     },
     "execution_count": 18,
     "metadata": {},
     "output_type": "execute_result"
    }
   ],
   "source": [
    "df.isna().sum()"
   ]
  },
  {
   "cell_type": "code",
   "execution_count": 19,
   "id": "0a998471",
   "metadata": {},
   "outputs": [],
   "source": [
    "df = df.drop(['cusip'],axis=1)"
   ]
  },
  {
   "cell_type": "code",
   "execution_count": 20,
   "id": "a0212574",
   "metadata": {},
   "outputs": [
    {
     "data": {
      "text/plain": [
       "30863"
      ]
     },
     "execution_count": 20,
     "metadata": {},
     "output_type": "execute_result"
    }
   ],
   "source": [
    "df['conm'].nunique()"
   ]
  },
  {
   "cell_type": "code",
   "execution_count": 21,
   "id": "33db1144",
   "metadata": {},
   "outputs": [
    {
     "data": {
      "text/plain": [
       "362384"
      ]
     },
     "execution_count": 21,
     "metadata": {},
     "output_type": "execute_result"
    }
   ],
   "source": [
    "len(df)"
   ]
  },
  {
   "cell_type": "code",
   "execution_count": 22,
   "id": "1e7fbd6d",
   "metadata": {},
   "outputs": [
    {
     "data": {
      "text/plain": [
       "1"
      ]
     },
     "execution_count": 22,
     "metadata": {},
     "output_type": "execute_result"
    }
   ],
   "source": [
    "df['conm'].isna().sum()"
   ]
  },
  {
   "cell_type": "code",
   "execution_count": 23,
   "id": "92fa2ff7",
   "metadata": {
    "scrolled": true
   },
   "outputs": [
    {
     "data": {
      "text/html": [
       "<div>\n",
       "<style scoped>\n",
       "    .dataframe tbody tr th:only-of-type {\n",
       "        vertical-align: middle;\n",
       "    }\n",
       "\n",
       "    .dataframe tbody tr th {\n",
       "        vertical-align: top;\n",
       "    }\n",
       "\n",
       "    .dataframe thead th {\n",
       "        text-align: right;\n",
       "    }\n",
       "</style>\n",
       "<table border=\"1\" class=\"dataframe\">\n",
       "  <thead>\n",
       "    <tr style=\"text-align: right;\">\n",
       "      <th></th>\n",
       "      <th>act</th>\n",
       "      <th>ap</th>\n",
       "      <th>at</th>\n",
       "      <th>ceq</th>\n",
       "      <th>che</th>\n",
       "      <th>cogs</th>\n",
       "      <th>csho</th>\n",
       "      <th>dlc</th>\n",
       "      <th>dltis</th>\n",
       "      <th>dltt</th>\n",
       "      <th>...</th>\n",
       "      <th>gvkey</th>\n",
       "      <th>datadate</th>\n",
       "      <th>fyear</th>\n",
       "      <th>indfmt</th>\n",
       "      <th>consol</th>\n",
       "      <th>popsrc</th>\n",
       "      <th>datafmt</th>\n",
       "      <th>conm</th>\n",
       "      <th>curcd</th>\n",
       "      <th>fyr</th>\n",
       "    </tr>\n",
       "  </thead>\n",
       "  <tbody>\n",
       "    <tr>\n",
       "      <th>362383</th>\n",
       "      <td>NaN</td>\n",
       "      <td>NaN</td>\n",
       "      <td>NaN</td>\n",
       "      <td>NaN</td>\n",
       "      <td>NaN</td>\n",
       "      <td>NaN</td>\n",
       "      <td>NaN</td>\n",
       "      <td>NaN</td>\n",
       "      <td>NaN</td>\n",
       "      <td>NaN</td>\n",
       "      <td>...</td>\n",
       "      <td>NaN</td>\n",
       "      <td>NaN</td>\n",
       "      <td>NaN</td>\n",
       "      <td>NaN</td>\n",
       "      <td>NaN</td>\n",
       "      <td>NaN</td>\n",
       "      <td>NaN</td>\n",
       "      <td>NaN</td>\n",
       "      <td>NaN</td>\n",
       "      <td>NaN</td>\n",
       "    </tr>\n",
       "  </tbody>\n",
       "</table>\n",
       "<p>1 rows × 39 columns</p>\n",
       "</div>"
      ],
      "text/plain": [
       "        act  ap  at  ceq  che  cogs  csho  dlc  dltis  dltt  ...  gvkey  \\\n",
       "362383  NaN NaN NaN  NaN  NaN   NaN   NaN  NaN    NaN   NaN  ...    NaN   \n",
       "\n",
       "        datadate  fyear  indfmt  consol  popsrc  datafmt  conm  curcd  fyr  \n",
       "362383       NaN    NaN     NaN     NaN     NaN      NaN   NaN    NaN  NaN  \n",
       "\n",
       "[1 rows x 39 columns]"
      ]
     },
     "execution_count": 23,
     "metadata": {},
     "output_type": "execute_result"
    }
   ],
   "source": [
    "df[df['conm'].isna()]"
   ]
  },
  {
   "cell_type": "markdown",
   "id": "dbc274df",
   "metadata": {},
   "source": [
    "* Dropping off the row with null value in conm column"
   ]
  },
  {
   "cell_type": "code",
   "execution_count": 24,
   "id": "08d35bb1",
   "metadata": {},
   "outputs": [],
   "source": [
    "df = df.dropna(subset=['conm'])"
   ]
  },
  {
   "cell_type": "markdown",
   "id": "d59af118",
   "metadata": {},
   "source": [
    "* As there are many null values in the data (from 28 raw financial items), lets try ipmuting mean based on the companies"
   ]
  },
  {
   "cell_type": "code",
   "execution_count": 30,
   "id": "200c7558",
   "metadata": {},
   "outputs": [],
   "source": [
    "def data_impute():\n",
    "    grouped_data = df.groupby('conm')\n",
    "    group_means = grouped_data.mean()\n",
    "    imputed_data = grouped_data.apply(lambda x: x.fillna(group_means.loc[x.name]))\n",
    "    imputed_df = imputed_data.reset_index(drop=True)\n",
    "    return imputed_df"
   ]
  },
  {
   "cell_type": "code",
   "execution_count": 31,
   "id": "70f0e480",
   "metadata": {},
   "outputs": [],
   "source": [
    "df1 = data_impute()"
   ]
  },
  {
   "cell_type": "code",
   "execution_count": null,
   "id": "c61fb4f1",
   "metadata": {},
   "outputs": [],
   "source": []
  },
  {
   "cell_type": "code",
   "execution_count": 32,
   "id": "17c54ae2",
   "metadata": {},
   "outputs": [
    {
     "data": {
      "text/plain": [
       "act         125000\n",
       "ap           44590\n",
       "at           44017\n",
       "ceq          44155\n",
       "che          44115\n",
       "cogs         44219\n",
       "csho          2373\n",
       "dlc          43742\n",
       "dltis        55919\n",
       "dltt         44080\n",
       "dp           46605\n",
       "ib           44121\n",
       "invt         44877\n",
       "ivao         45026\n",
       "ivst         44773\n",
       "lct         120947\n",
       "lt           44077\n",
       "ni           44183\n",
       "ppegt        95371\n",
       "pstk         44169\n",
       "re           48580\n",
       "rect         44518\n",
       "sale         44219\n",
       "sstk         55760\n",
       "txp          94064\n",
       "txt          44123\n",
       "xint         45900\n",
       "prcc_f       14739\n",
       "Mistate          0\n",
       "gvkey            0\n",
       "datadate         0\n",
       "fyear            0\n",
       "indfmt           0\n",
       "consol           0\n",
       "popsrc           0\n",
       "datafmt          0\n",
       "conm             0\n",
       "curcd            0\n",
       "fyr              0\n",
       "dtype: int64"
      ]
     },
     "execution_count": 32,
     "metadata": {},
     "output_type": "execute_result"
    }
   ],
   "source": [
    "df1.isna().sum()"
   ]
  },
  {
   "cell_type": "code",
   "execution_count": 25,
   "id": "595f5bc1",
   "metadata": {},
   "outputs": [],
   "source": [
    "grouped_data = df.groupby('conm')"
   ]
  },
  {
   "cell_type": "code",
   "execution_count": 26,
   "id": "c1165885",
   "metadata": {},
   "outputs": [],
   "source": [
    "group_means = grouped_data.mean()"
   ]
  },
  {
   "cell_type": "code",
   "execution_count": 27,
   "id": "b7d88da5",
   "metadata": {},
   "outputs": [
    {
     "data": {
      "text/html": [
       "<div>\n",
       "<style scoped>\n",
       "    .dataframe tbody tr th:only-of-type {\n",
       "        vertical-align: middle;\n",
       "    }\n",
       "\n",
       "    .dataframe tbody tr th {\n",
       "        vertical-align: top;\n",
       "    }\n",
       "\n",
       "    .dataframe thead th {\n",
       "        text-align: right;\n",
       "    }\n",
       "</style>\n",
       "<table border=\"1\" class=\"dataframe\">\n",
       "  <thead>\n",
       "    <tr style=\"text-align: right;\">\n",
       "      <th></th>\n",
       "      <th>act</th>\n",
       "      <th>ap</th>\n",
       "      <th>at</th>\n",
       "      <th>ceq</th>\n",
       "      <th>che</th>\n",
       "      <th>cogs</th>\n",
       "      <th>csho</th>\n",
       "      <th>dlc</th>\n",
       "      <th>dltis</th>\n",
       "      <th>dltt</th>\n",
       "      <th>...</th>\n",
       "      <th>sale</th>\n",
       "      <th>sstk</th>\n",
       "      <th>txp</th>\n",
       "      <th>txt</th>\n",
       "      <th>xint</th>\n",
       "      <th>prcc_f</th>\n",
       "      <th>Mistate</th>\n",
       "      <th>gvkey</th>\n",
       "      <th>fyear</th>\n",
       "      <th>fyr</th>\n",
       "    </tr>\n",
       "    <tr>\n",
       "      <th>conm</th>\n",
       "      <th></th>\n",
       "      <th></th>\n",
       "      <th></th>\n",
       "      <th></th>\n",
       "      <th></th>\n",
       "      <th></th>\n",
       "      <th></th>\n",
       "      <th></th>\n",
       "      <th></th>\n",
       "      <th></th>\n",
       "      <th></th>\n",
       "      <th></th>\n",
       "      <th></th>\n",
       "      <th></th>\n",
       "      <th></th>\n",
       "      <th></th>\n",
       "      <th></th>\n",
       "      <th></th>\n",
       "      <th></th>\n",
       "      <th></th>\n",
       "      <th></th>\n",
       "    </tr>\n",
       "  </thead>\n",
       "  <tbody>\n",
       "    <tr>\n",
       "      <th>1-800 CONTACTS INC</th>\n",
       "      <td>25.749364</td>\n",
       "      <td>6.668000</td>\n",
       "      <td>54.719182</td>\n",
       "      <td>27.132273</td>\n",
       "      <td>1.529636</td>\n",
       "      <td>86.495273</td>\n",
       "      <td>9.972909</td>\n",
       "      <td>3.368455</td>\n",
       "      <td>4.213500</td>\n",
       "      <td>10.943182</td>\n",
       "      <td>...</td>\n",
       "      <td>141.030727</td>\n",
       "      <td>2.600818</td>\n",
       "      <td>0.422091</td>\n",
       "      <td>3.387182</td>\n",
       "      <td>0.722727</td>\n",
       "      <td>20.523056</td>\n",
       "      <td>0.0</td>\n",
       "      <td>66425.0</td>\n",
       "      <td>2001.0</td>\n",
       "      <td>12.00</td>\n",
       "    </tr>\n",
       "    <tr>\n",
       "      <th>1-800-ATTORNEY INC</th>\n",
       "      <td>3.076286</td>\n",
       "      <td>0.332429</td>\n",
       "      <td>4.942857</td>\n",
       "      <td>3.037286</td>\n",
       "      <td>2.301429</td>\n",
       "      <td>1.963286</td>\n",
       "      <td>4.172286</td>\n",
       "      <td>0.114286</td>\n",
       "      <td>0.157143</td>\n",
       "      <td>0.502143</td>\n",
       "      <td>...</td>\n",
       "      <td>5.525571</td>\n",
       "      <td>1.127714</td>\n",
       "      <td>0.017143</td>\n",
       "      <td>0.017143</td>\n",
       "      <td>0.046000</td>\n",
       "      <td>1.504767</td>\n",
       "      <td>0.0</td>\n",
       "      <td>62884.0</td>\n",
       "      <td>1998.0</td>\n",
       "      <td>12.00</td>\n",
       "    </tr>\n",
       "    <tr>\n",
       "      <th>1-800-FLOWERS.COM</th>\n",
       "      <td>162.568560</td>\n",
       "      <td>45.633760</td>\n",
       "      <td>398.234120</td>\n",
       "      <td>210.394600</td>\n",
       "      <td>68.011280</td>\n",
       "      <td>521.557680</td>\n",
       "      <td>62.929000</td>\n",
       "      <td>10.487560</td>\n",
       "      <td>77.555160</td>\n",
       "      <td>64.826520</td>\n",
       "      <td>...</td>\n",
       "      <td>891.327080</td>\n",
       "      <td>9.926000</td>\n",
       "      <td>0.033800</td>\n",
       "      <td>4.802520</td>\n",
       "      <td>3.391667</td>\n",
       "      <td>9.607174</td>\n",
       "      <td>0.0</td>\n",
       "      <td>122519.0</td>\n",
       "      <td>2010.0</td>\n",
       "      <td>6.00</td>\n",
       "    </tr>\n",
       "    <tr>\n",
       "      <th>10X GENOMICS INC</th>\n",
       "      <td>468.695833</td>\n",
       "      <td>11.820333</td>\n",
       "      <td>630.498167</td>\n",
       "      <td>408.328333</td>\n",
       "      <td>373.060833</td>\n",
       "      <td>49.442500</td>\n",
       "      <td>76.645333</td>\n",
       "      <td>6.399500</td>\n",
       "      <td>5.085333</td>\n",
       "      <td>45.281500</td>\n",
       "      <td>...</td>\n",
       "      <td>294.839167</td>\n",
       "      <td>181.639167</td>\n",
       "      <td>3.223000</td>\n",
       "      <td>2.853000</td>\n",
       "      <td>1.553833</td>\n",
       "      <td>100.812500</td>\n",
       "      <td>0.0</td>\n",
       "      <td>35640.0</td>\n",
       "      <td>2019.5</td>\n",
       "      <td>12.00</td>\n",
       "    </tr>\n",
       "    <tr>\n",
       "      <th>111 INC -ADR</th>\n",
       "      <td>288.746714</td>\n",
       "      <td>108.541571</td>\n",
       "      <td>309.779714</td>\n",
       "      <td>1.672286</td>\n",
       "      <td>136.109429</td>\n",
       "      <td>871.767286</td>\n",
       "      <td>69.267429</td>\n",
       "      <td>25.462571</td>\n",
       "      <td>0.000000</td>\n",
       "      <td>8.331143</td>\n",
       "      <td>...</td>\n",
       "      <td>894.950429</td>\n",
       "      <td>25.762857</td>\n",
       "      <td>1.413143</td>\n",
       "      <td>0.000143</td>\n",
       "      <td>0.684429</td>\n",
       "      <td>5.268000</td>\n",
       "      <td>0.0</td>\n",
       "      <td>34066.0</td>\n",
       "      <td>2019.0</td>\n",
       "      <td>12.00</td>\n",
       "    </tr>\n",
       "    <tr>\n",
       "      <th>...</th>\n",
       "      <td>...</td>\n",
       "      <td>...</td>\n",
       "      <td>...</td>\n",
       "      <td>...</td>\n",
       "      <td>...</td>\n",
       "      <td>...</td>\n",
       "      <td>...</td>\n",
       "      <td>...</td>\n",
       "      <td>...</td>\n",
       "      <td>...</td>\n",
       "      <td>...</td>\n",
       "      <td>...</td>\n",
       "      <td>...</td>\n",
       "      <td>...</td>\n",
       "      <td>...</td>\n",
       "      <td>...</td>\n",
       "      <td>...</td>\n",
       "      <td>...</td>\n",
       "      <td>...</td>\n",
       "      <td>...</td>\n",
       "      <td>...</td>\n",
       "    </tr>\n",
       "    <tr>\n",
       "      <th>ZYNEX INC</th>\n",
       "      <td>15.236625</td>\n",
       "      <td>1.712625</td>\n",
       "      <td>21.061250</td>\n",
       "      <td>11.342583</td>\n",
       "      <td>5.652792</td>\n",
       "      <td>5.494333</td>\n",
       "      <td>27.227083</td>\n",
       "      <td>2.269667</td>\n",
       "      <td>0.897739</td>\n",
       "      <td>2.370167</td>\n",
       "      <td>...</td>\n",
       "      <td>27.950083</td>\n",
       "      <td>1.241583</td>\n",
       "      <td>0.509542</td>\n",
       "      <td>0.790375</td>\n",
       "      <td>0.258833</td>\n",
       "      <td>2.647209</td>\n",
       "      <td>0.0</td>\n",
       "      <td>129441.0</td>\n",
       "      <td>2010.5</td>\n",
       "      <td>11.75</td>\n",
       "    </tr>\n",
       "    <tr>\n",
       "      <th>ZYNGA INC</th>\n",
       "      <td>1207.771846</td>\n",
       "      <td>33.708692</td>\n",
       "      <td>2728.830231</td>\n",
       "      <td>1692.406846</td>\n",
       "      <td>1045.707385</td>\n",
       "      <td>279.119462</td>\n",
       "      <td>807.124000</td>\n",
       "      <td>11.642538</td>\n",
       "      <td>125.279385</td>\n",
       "      <td>283.835154</td>\n",
       "      <td>...</td>\n",
       "      <td>1082.743308</td>\n",
       "      <td>148.950231</td>\n",
       "      <td>8.146923</td>\n",
       "      <td>14.726077</td>\n",
       "      <td>11.858444</td>\n",
       "      <td>4.890909</td>\n",
       "      <td>0.0</td>\n",
       "      <td>187576.0</td>\n",
       "      <td>2015.0</td>\n",
       "      <td>12.00</td>\n",
       "    </tr>\n",
       "    <tr>\n",
       "      <th>ZYQC GROUP HOLDING LTD</th>\n",
       "      <td>0.170000</td>\n",
       "      <td>0.004000</td>\n",
       "      <td>0.180000</td>\n",
       "      <td>0.176000</td>\n",
       "      <td>0.166000</td>\n",
       "      <td>0.025000</td>\n",
       "      <td>47.820000</td>\n",
       "      <td>0.000000</td>\n",
       "      <td>0.000000</td>\n",
       "      <td>0.000000</td>\n",
       "      <td>...</td>\n",
       "      <td>0.000000</td>\n",
       "      <td>0.000000</td>\n",
       "      <td>0.000000</td>\n",
       "      <td>0.000000</td>\n",
       "      <td>0.000000</td>\n",
       "      <td>1.010000</td>\n",
       "      <td>0.0</td>\n",
       "      <td>186677.0</td>\n",
       "      <td>2010.5</td>\n",
       "      <td>4.00</td>\n",
       "    </tr>\n",
       "    <tr>\n",
       "      <th>ZYTEC CORP</th>\n",
       "      <td>38.143800</td>\n",
       "      <td>9.569000</td>\n",
       "      <td>50.595800</td>\n",
       "      <td>17.189200</td>\n",
       "      <td>2.562400</td>\n",
       "      <td>119.667400</td>\n",
       "      <td>4.932400</td>\n",
       "      <td>9.378000</td>\n",
       "      <td>34.812200</td>\n",
       "      <td>7.767800</td>\n",
       "      <td>...</td>\n",
       "      <td>143.385400</td>\n",
       "      <td>2.361600</td>\n",
       "      <td>0.000000</td>\n",
       "      <td>1.586000</td>\n",
       "      <td>1.191400</td>\n",
       "      <td>9.281250</td>\n",
       "      <td>0.0</td>\n",
       "      <td>29163.0</td>\n",
       "      <td>1993.0</td>\n",
       "      <td>12.00</td>\n",
       "    </tr>\n",
       "    <tr>\n",
       "      <th>ZYTEC SYSTEMS INC</th>\n",
       "      <td>0.307000</td>\n",
       "      <td>0.308667</td>\n",
       "      <td>0.782000</td>\n",
       "      <td>-0.198333</td>\n",
       "      <td>0.077000</td>\n",
       "      <td>0.103667</td>\n",
       "      <td>6.413333</td>\n",
       "      <td>0.400000</td>\n",
       "      <td>0.017333</td>\n",
       "      <td>0.117000</td>\n",
       "      <td>...</td>\n",
       "      <td>0.665000</td>\n",
       "      <td>0.000000</td>\n",
       "      <td>0.036000</td>\n",
       "      <td>-0.003667</td>\n",
       "      <td>0.049000</td>\n",
       "      <td>0.203000</td>\n",
       "      <td>0.0</td>\n",
       "      <td>11951.0</td>\n",
       "      <td>1991.0</td>\n",
       "      <td>9.00</td>\n",
       "    </tr>\n",
       "  </tbody>\n",
       "</table>\n",
       "<p>30863 rows × 32 columns</p>\n",
       "</div>"
      ],
      "text/plain": [
       "                                act          ap           at          ceq  \\\n",
       "conm                                                                        \n",
       "1-800 CONTACTS INC        25.749364    6.668000    54.719182    27.132273   \n",
       "1-800-ATTORNEY INC         3.076286    0.332429     4.942857     3.037286   \n",
       "1-800-FLOWERS.COM        162.568560   45.633760   398.234120   210.394600   \n",
       "10X GENOMICS INC         468.695833   11.820333   630.498167   408.328333   \n",
       "111 INC -ADR             288.746714  108.541571   309.779714     1.672286   \n",
       "...                             ...         ...          ...          ...   \n",
       "ZYNEX INC                 15.236625    1.712625    21.061250    11.342583   \n",
       "ZYNGA INC               1207.771846   33.708692  2728.830231  1692.406846   \n",
       "ZYQC GROUP HOLDING LTD     0.170000    0.004000     0.180000     0.176000   \n",
       "ZYTEC CORP                38.143800    9.569000    50.595800    17.189200   \n",
       "ZYTEC SYSTEMS INC          0.307000    0.308667     0.782000    -0.198333   \n",
       "\n",
       "                                che        cogs        csho        dlc  \\\n",
       "conm                                                                     \n",
       "1-800 CONTACTS INC         1.529636   86.495273    9.972909   3.368455   \n",
       "1-800-ATTORNEY INC         2.301429    1.963286    4.172286   0.114286   \n",
       "1-800-FLOWERS.COM         68.011280  521.557680   62.929000  10.487560   \n",
       "10X GENOMICS INC         373.060833   49.442500   76.645333   6.399500   \n",
       "111 INC -ADR             136.109429  871.767286   69.267429  25.462571   \n",
       "...                             ...         ...         ...        ...   \n",
       "ZYNEX INC                  5.652792    5.494333   27.227083   2.269667   \n",
       "ZYNGA INC               1045.707385  279.119462  807.124000  11.642538   \n",
       "ZYQC GROUP HOLDING LTD     0.166000    0.025000   47.820000   0.000000   \n",
       "ZYTEC CORP                 2.562400  119.667400    4.932400   9.378000   \n",
       "ZYTEC SYSTEMS INC          0.077000    0.103667    6.413333   0.400000   \n",
       "\n",
       "                             dltis        dltt  ...         sale        sstk  \\\n",
       "conm                                            ...                            \n",
       "1-800 CONTACTS INC        4.213500   10.943182  ...   141.030727    2.600818   \n",
       "1-800-ATTORNEY INC        0.157143    0.502143  ...     5.525571    1.127714   \n",
       "1-800-FLOWERS.COM        77.555160   64.826520  ...   891.327080    9.926000   \n",
       "10X GENOMICS INC          5.085333   45.281500  ...   294.839167  181.639167   \n",
       "111 INC -ADR              0.000000    8.331143  ...   894.950429   25.762857   \n",
       "...                            ...         ...  ...          ...         ...   \n",
       "ZYNEX INC                 0.897739    2.370167  ...    27.950083    1.241583   \n",
       "ZYNGA INC               125.279385  283.835154  ...  1082.743308  148.950231   \n",
       "ZYQC GROUP HOLDING LTD    0.000000    0.000000  ...     0.000000    0.000000   \n",
       "ZYTEC CORP               34.812200    7.767800  ...   143.385400    2.361600   \n",
       "ZYTEC SYSTEMS INC         0.017333    0.117000  ...     0.665000    0.000000   \n",
       "\n",
       "                             txp        txt       xint      prcc_f  Mistate  \\\n",
       "conm                                                                          \n",
       "1-800 CONTACTS INC      0.422091   3.387182   0.722727   20.523056      0.0   \n",
       "1-800-ATTORNEY INC      0.017143   0.017143   0.046000    1.504767      0.0   \n",
       "1-800-FLOWERS.COM       0.033800   4.802520   3.391667    9.607174      0.0   \n",
       "10X GENOMICS INC        3.223000   2.853000   1.553833  100.812500      0.0   \n",
       "111 INC -ADR            1.413143   0.000143   0.684429    5.268000      0.0   \n",
       "...                          ...        ...        ...         ...      ...   \n",
       "ZYNEX INC               0.509542   0.790375   0.258833    2.647209      0.0   \n",
       "ZYNGA INC               8.146923  14.726077  11.858444    4.890909      0.0   \n",
       "ZYQC GROUP HOLDING LTD  0.000000   0.000000   0.000000    1.010000      0.0   \n",
       "ZYTEC CORP              0.000000   1.586000   1.191400    9.281250      0.0   \n",
       "ZYTEC SYSTEMS INC       0.036000  -0.003667   0.049000    0.203000      0.0   \n",
       "\n",
       "                           gvkey   fyear    fyr  \n",
       "conm                                             \n",
       "1-800 CONTACTS INC       66425.0  2001.0  12.00  \n",
       "1-800-ATTORNEY INC       62884.0  1998.0  12.00  \n",
       "1-800-FLOWERS.COM       122519.0  2010.0   6.00  \n",
       "10X GENOMICS INC         35640.0  2019.5  12.00  \n",
       "111 INC -ADR             34066.0  2019.0  12.00  \n",
       "...                          ...     ...    ...  \n",
       "ZYNEX INC               129441.0  2010.5  11.75  \n",
       "ZYNGA INC               187576.0  2015.0  12.00  \n",
       "ZYQC GROUP HOLDING LTD  186677.0  2010.5   4.00  \n",
       "ZYTEC CORP               29163.0  1993.0  12.00  \n",
       "ZYTEC SYSTEMS INC        11951.0  1991.0   9.00  \n",
       "\n",
       "[30863 rows x 32 columns]"
      ]
     },
     "execution_count": 27,
     "metadata": {},
     "output_type": "execute_result"
    }
   ],
   "source": [
    "group_means"
   ]
  },
  {
   "cell_type": "code",
   "execution_count": 28,
   "id": "8a3f51e1",
   "metadata": {},
   "outputs": [],
   "source": [
    "group_means.to_csv('mean_values_comp.csv',index=True)"
   ]
  },
  {
   "cell_type": "code",
   "execution_count": 29,
   "id": "ca39bd7a",
   "metadata": {},
   "outputs": [
    {
     "data": {
      "text/plain": [
       "act        9424\n",
       "ap         5418\n",
       "at         5333\n",
       "ceq        5348\n",
       "che        5349\n",
       "cogs       5447\n",
       "csho        423\n",
       "dlc        5311\n",
       "dltis      6461\n",
       "dltt       5351\n",
       "dp         5732\n",
       "ib         5431\n",
       "invt       5462\n",
       "ivao       5496\n",
       "ivst       5529\n",
       "lct        9183\n",
       "lt         5351\n",
       "ni         5435\n",
       "ppegt      7835\n",
       "pstk       5349\n",
       "re         5883\n",
       "rect       5411\n",
       "sale       5447\n",
       "sstk       6436\n",
       "txp        7609\n",
       "txt        5432\n",
       "xint       5782\n",
       "prcc_f     2604\n",
       "Mistate       0\n",
       "gvkey         0\n",
       "fyear         0\n",
       "fyr           0\n",
       "dtype: int64"
      ]
     },
     "execution_count": 29,
     "metadata": {},
     "output_type": "execute_result"
    }
   ],
   "source": [
    "group_means.isna().sum()"
   ]
  },
  {
   "cell_type": "code",
   "execution_count": 30,
   "id": "8f48ba2e",
   "metadata": {},
   "outputs": [],
   "source": [
    "imputed_data = grouped_data.apply(lambda x: x.fillna(group_means.loc[x.name]))"
   ]
  },
  {
   "cell_type": "code",
   "execution_count": 31,
   "id": "80d83ebe",
   "metadata": {},
   "outputs": [],
   "source": [
    "data_new = imputed_data.dropna()"
   ]
  },
  {
   "cell_type": "code",
   "execution_count": 32,
   "id": "4c2166ed",
   "metadata": {},
   "outputs": [
    {
     "data": {
      "text/plain": [
       "18090"
      ]
     },
     "execution_count": 32,
     "metadata": {},
     "output_type": "execute_result"
    }
   ],
   "source": [
    "data_new['conm'].nunique()"
   ]
  },
  {
   "cell_type": "code",
   "execution_count": 33,
   "id": "0e73eb01",
   "metadata": {
    "scrolled": true
   },
   "outputs": [
    {
     "data": {
      "text/plain": [
       "0    216616\n",
       "1      1044\n",
       "Name: Mistate, dtype: int64"
      ]
     },
     "execution_count": 33,
     "metadata": {},
     "output_type": "execute_result"
    }
   ],
   "source": [
    "data_new['Mistate'].value_counts()"
   ]
  },
  {
   "cell_type": "code",
   "execution_count": 34,
   "id": "009582a5",
   "metadata": {},
   "outputs": [],
   "source": [
    "import json"
   ]
  },
  {
   "cell_type": "code",
   "execution_count": 35,
   "id": "984ec676",
   "metadata": {
    "scrolled": true
   },
   "outputs": [
    {
     "name": "stdout",
     "output_type": "stream",
     "text": [
      "Training data Shape: (173763, 28)\n",
      "Testing data Shape: (25880, 28)\n"
     ]
    }
   ],
   "source": [
    "train_period, validation_period, test_period = (1991,2015), (2014,2015), (2018,2023)\n",
    "\n",
    "train_data, val_data, test_data = datasets(data_new, train_period,validation_period,test_period)\n",
    "\n",
    "with open('MLP/features.json') as json_file:\n",
    "    data_feat = json.load(json_file)\n",
    "\n",
    "raw_financial_items_28 = data_feat['raw_financial_items_28']\n",
    "\n",
    "X_train, y_train = train_data[raw_financial_items_28], train_data['Mistate']\n",
    "X_test, y_test = test_data[raw_financial_items_28], test_data['Mistate'] \n",
    "\n",
    "print(\"Training data Shape:\", X_train.shape)\n",
    "print(\"Testing data Shape:\", X_test.shape)"
   ]
  },
  {
   "cell_type": "code",
   "execution_count": 36,
   "id": "13c216a5",
   "metadata": {},
   "outputs": [],
   "source": [
    "from sklearn import metrics\n",
    "from imblearn.under_sampling import RandomUnderSampler\n",
    "from tabulate import tabulate\n",
    "import matplotlib.pyplot as plt"
   ]
  },
  {
   "cell_type": "code",
   "execution_count": 37,
   "id": "42bc771b",
   "metadata": {},
   "outputs": [
    {
     "name": "stdout",
     "output_type": "stream",
     "text": [
      "Training data Shape after sampling: (1908, 28)\n"
     ]
    }
   ],
   "source": [
    "rus = RandomUnderSampler(random_state=42)\n",
    "X_train_resampled, y_train_resampled = rus.fit_resample(X_train, y_train)\n",
    "\n",
    "print(\"Training data Shape after sampling:\", X_train_resampled.shape)"
   ]
  },
  {
   "cell_type": "code",
   "execution_count": 123,
   "id": "cee9b798",
   "metadata": {},
   "outputs": [],
   "source": [
    "learning_rates = [0.001,0.003,0.005,0.009,0.01]\n",
    "actv_funs = ['relu','logistic','tanh']"
   ]
  },
  {
   "cell_type": "code",
   "execution_count": 128,
   "id": "9c56a9ca",
   "metadata": {},
   "outputs": [
    {
     "name": "stdout",
     "output_type": "stream",
     "text": [
      "╒═════════════════╤═════════════════╤═══════════════════╤═══════╤═══════╤══════╤══════╤═══════════╕\n",
      "│   Neurons in HL │   Learning Rate │ Activation Func   │    TN │    FP │   FN │   TP │   AUC-ROC │\n",
      "╞═════════════════╪═════════════════╪═══════════════════╪═══════╪═══════╪══════╪══════╪═══════════╡\n",
      "│              40 │           0.001 │ relu              │ 15811 │ 10010 │   33 │   26 │  0.526505 │\n",
      "├─────────────────┼─────────────────┼───────────────────┼───────┼───────┼──────┼──────┼───────────┤\n",
      "│              40 │           0.001 │ logistic          │ 14814 │ 11007 │   25 │   34 │  0.574995 │\n",
      "├─────────────────┼─────────────────┼───────────────────┼───────┼───────┼──────┼──────┼───────────┤\n",
      "│              40 │           0.001 │ tanh              │ 16292 │  9529 │   31 │   28 │  0.552768 │\n",
      "├─────────────────┼─────────────────┼───────────────────┼───────┼───────┼──────┼──────┼───────────┤\n",
      "│              40 │           0.003 │ relu              │ 17678 │  8143 │   31 │   28 │  0.579606 │\n",
      "├─────────────────┼─────────────────┼───────────────────┼───────┼───────┼──────┼──────┼───────────┤\n",
      "│              40 │           0.003 │ logistic          │ 14128 │ 11693 │   22 │   37 │  0.587135 │\n",
      "├─────────────────┼─────────────────┼───────────────────┼───────┼───────┼──────┼──────┼───────────┤\n",
      "│              40 │           0.003 │ tanh              │ 13315 │ 12506 │   22 │   37 │  0.571392 │\n",
      "├─────────────────┼─────────────────┼───────────────────┼───────┼───────┼──────┼──────┼───────────┤\n",
      "│              40 │           0.005 │ relu              │ 18620 │  7201 │   40 │   19 │  0.521576 │\n",
      "├─────────────────┼─────────────────┼───────────────────┼───────┼───────┼──────┼──────┼───────────┤\n",
      "│              40 │           0.005 │ logistic          │ 17808 │  8013 │   32 │   27 │  0.573649 │\n",
      "├─────────────────┼─────────────────┼───────────────────┼───────┼───────┼──────┼──────┼───────────┤\n",
      "│              40 │           0.005 │ tanh              │ 14406 │ 11415 │   23 │   36 │  0.584044 │\n",
      "├─────────────────┼─────────────────┼───────────────────┼───────┼───────┼──────┼──────┼───────────┤\n",
      "│              40 │           0.009 │ relu              │ 11919 │ 13902 │   15 │   44 │  0.603682 │\n",
      "├─────────────────┼─────────────────┼───────────────────┼───────┼───────┼──────┼──────┼───────────┤\n",
      "│              40 │           0.009 │ logistic          │ 16115 │  9706 │   26 │   33 │  0.591713 │\n",
      "├─────────────────┼─────────────────┼───────────────────┼───────┼───────┼──────┼──────┼───────────┤\n",
      "│              40 │           0.009 │ tanh              │ 11834 │ 13987 │   12 │   47 │  0.62746  │\n",
      "├─────────────────┼─────────────────┼───────────────────┼───────┼───────┼──────┼──────┼───────────┤\n",
      "│              40 │           0.01  │ relu              │ 14165 │ 11656 │   25 │   34 │  0.562428 │\n",
      "├─────────────────┼─────────────────┼───────────────────┼───────┼───────┼──────┼──────┼───────────┤\n",
      "│              40 │           0.01  │ logistic          │ 16883 │  8938 │   29 │   30 │  0.581161 │\n",
      "├─────────────────┼─────────────────┼───────────────────┼───────┼───────┼──────┼──────┼───────────┤\n",
      "│              40 │           0.01  │ tanh              │ 12625 │ 13196 │   18 │   41 │  0.591929 │\n",
      "╘═════════════════╧═════════════════╧═══════════════════╧═══════╧═══════╧══════╧══════╧═══════════╛\n"
     ]
    }
   ],
   "source": [
    "plot_table(40,learning_rates,actv_funs,X_train_resampled,y_train_resampled,X_test,y_test)"
   ]
  },
  {
   "cell_type": "markdown",
   "id": "110873a0",
   "metadata": {},
   "source": []
  },
  {
   "cell_type": "code",
   "execution_count": 147,
   "id": "ed53cf23",
   "metadata": {},
   "outputs": [
    {
     "name": "stdout",
     "output_type": "stream",
     "text": [
      "Training data Shape: (43648, 28)\n",
      "Testing data Shape: (42104, 28)\n",
      "Training data Shape after sampling: (272, 28)\n",
      "Performance over Train period 1990 - 1995 and Test Period 1996 - 2000 0.5531676406021413\n",
      "\n",
      "\n",
      "Training data Shape: (41776, 28)\n",
      "Testing data Shape: (29389, 28)\n",
      "Training data Shape after sampling: (740, 28)\n",
      "Performance over Train period 2001 - 2006 and Test Period 2007 - 2011 0.585590239476489\n",
      "\n",
      "\n",
      "Training data Shape: (33674, 28)\n",
      "Testing data Shape: (25880, 28)\n",
      "Training data Shape after sampling: (114, 28)\n",
      "Performance over Train period 2012 - 2017 and Test Period 2018 - 2022 0.5746035778262208\n",
      "\n",
      "\n",
      "Average performance: 0.5711204859682838\n"
     ]
    }
   ],
   "source": [
    "train_start = 1990\n",
    "train_end = 1995\n",
    "test_start = 1996\n",
    "test_end = 2000\n",
    "window_size = test_end - train_start + 1\n",
    "\n",
    "performance_results = []\n",
    "\n",
    "with open('MLP/features.json') as json_file:\n",
    "        data_feat = json.load(json_file)\n",
    "\n",
    "# Sliding window loop\n",
    "while test_start <= 2023:\n",
    "    train_data, val_data, test_data = datasets(data_new, (train_start,train_end),(train_start,train_end),(test_start,test_end))\n",
    "\n",
    "    raw_financial_items_28 = data_feat['raw_financial_items_28']\n",
    "\n",
    "    X_train, y_train = train_data[raw_financial_items_28], train_data['Mistate']\n",
    "    X_test, y_test = test_data[raw_financial_items_28], test_data['Mistate'] \n",
    "\n",
    "    print(\"Training data Shape:\", X_train.shape)\n",
    "    print(\"Testing data Shape:\", X_test.shape)\n",
    "    \n",
    "    rus = RandomUnderSampler(random_state=42)\n",
    "    X_train_resampled, y_train_resampled = rus.fit_resample(X_train, y_train)\n",
    "\n",
    "    print(\"Training data Shape after sampling:\", X_train_resampled.shape)\n",
    "    \n",
    "    performance,(_,_,_,_) = train_model(X_train_resampled, y_train_resampled, X_test, y_test,inputs = 28,actv_func='logistic', hidden_lay_neu=50,learning_rate=0.005)\n",
    "    print(\"Performance over Train period {} - {} and Test Period {} - {}\".format(train_start,train_end,test_start,test_end),performance)\n",
    "    print('\\n')\n",
    "    performance_results.append(performance)\n",
    "\n",
    "    train_start += window_size\n",
    "    train_end += window_size\n",
    "    test_start += window_size\n",
    "    test_end += window_size\n",
    "    if test_end > 2023:\n",
    "        test_end==2023\n",
    "        \n",
    "\n",
    "# Calculate the average performance over all sliding windows\n",
    "average_performance = sum(performance_results) / len(performance_results)\n",
    "\n",
    "# Print the average performance\n",
    "print(\"Average performance:\", average_performance)"
   ]
  },
  {
   "cell_type": "code",
   "execution_count": null,
   "id": "b31df2db",
   "metadata": {},
   "outputs": [],
   "source": []
  },
  {
   "cell_type": "markdown",
   "id": "ad3abcf6",
   "metadata": {},
   "source": []
  },
  {
   "cell_type": "code",
   "execution_count": 149,
   "id": "85320009",
   "metadata": {},
   "outputs": [],
   "source": [
    "def test_results(window_size):\n",
    "    train_start = 1990\n",
    "    train_end = 1995\n",
    "    test_start = 1996\n",
    "    test_end = 2000\n",
    "#     window_size = test_end - test_start + 1\n",
    "\n",
    "    performance_results = []\n",
    "\n",
    "    with open('MLP/features.json') as json_file:\n",
    "            data_feat = json.load(json_file)\n",
    "\n",
    "    # Sliding window loop\n",
    "    while test_start <= 2023:\n",
    "        train_data, val_data, test_data = datasets(data_new, (train_start,train_end),(train_start,train_end),(test_start,test_end))\n",
    "\n",
    "        raw_financial_items_28 = data_feat['raw_financial_items_28']\n",
    "\n",
    "        X_train, y_train = train_data[raw_financial_items_28], train_data['Mistate']\n",
    "        X_test, y_test = test_data[raw_financial_items_28], test_data['Mistate'] \n",
    "\n",
    "        print(\"Training data Shape:\", X_train.shape)\n",
    "        print(\"Testing data Shape:\", X_test.shape)\n",
    "\n",
    "        rus = RandomUnderSampler(random_state=42)\n",
    "        X_train_resampled, y_train_resampled = rus.fit_resample(X_train, y_train)\n",
    "\n",
    "        print(\"Training data Shape after sampling:\", X_train_resampled.shape)\n",
    "\n",
    "        performance,(_,_,_,_) = train_model(X_train_resampled, y_train_resampled, X_test, y_test,inputs = 28,actv_func='logistic', hidden_lay_neu=50,learning_rate=0.005)\n",
    "        print(\"Performance over Train period {} - {} and Test Period {} - {}\".format(train_start,train_end,test_start,test_end),performance)\n",
    "        print('\\n')\n",
    "        performance_results.append(performance)\n",
    "\n",
    "        train_start += window_size\n",
    "        train_end += window_size\n",
    "        test_start += window_size\n",
    "        test_end += window_size\n",
    "        if test_end > 2023:\n",
    "            test_end==2023\n",
    "\n",
    "\n",
    "    # Calculate the average performance over all sliding windows\n",
    "    average_performance = sum(performance_results) / len(performance_results)\n",
    "\n",
    "    # Print the average performance\n",
    "    print(\"Average performance:\", average_performance)"
   ]
  },
  {
   "cell_type": "code",
   "execution_count": 150,
   "id": "836665ea",
   "metadata": {},
   "outputs": [
    {
     "name": "stdout",
     "output_type": "stream",
     "text": [
      "Training data Shape: (43648, 28)\n",
      "Testing data Shape: (42104, 28)\n",
      "Training data Shape after sampling: (272, 28)\n",
      "Performance over Train period 1990 - 1995 and Test Period 1996 - 2000 0.5531676406021413\n",
      "\n",
      "\n",
      "Training data Shape: (50549, 28)\n",
      "Testing data Shape: (35355, 28)\n",
      "Training data Shape after sampling: (622, 28)\n",
      "Performance over Train period 1995 - 2000 and Test Period 2001 - 2005 0.6850016113701541\n",
      "\n",
      "\n",
      "Training data Shape: (43391, 28)\n",
      "Testing data Shape: (30064, 28)\n",
      "Training data Shape after sampling: (846, 28)\n",
      "Performance over Train period 2000 - 2005 and Test Period 2006 - 2010 0.6135091182975644\n",
      "\n",
      "\n",
      "Training data Shape: (36696, 28)\n",
      "Testing data Shape: (28732, 28)\n",
      "Training data Shape after sampling: (384, 28)\n",
      "Performance over Train period 2005 - 2010 and Test Period 2011 - 2015 0.6210616920013051\n",
      "\n",
      "\n",
      "Training data Shape: (34454, 28)\n",
      "Testing data Shape: (26790, 28)\n",
      "Training data Shape after sampling: (172, 28)\n",
      "Performance over Train period 2010 - 2015 and Test Period 2016 - 2020 0.6642144278014859\n",
      "\n",
      "\n",
      "Training data Shape: (32344, 28)\n",
      "Testing data Shape: (9778, 28)\n",
      "Training data Shape after sampling: (120, 28)\n",
      "Performance over Train period 2015 - 2020 and Test Period 2021 - 2025 0.5208085673293708\n",
      "\n",
      "\n",
      "Average performance: 0.6096271762336704\n"
     ]
    }
   ],
   "source": [
    "test_results(5)"
   ]
  },
  {
   "cell_type": "code",
   "execution_count": 151,
   "id": "793bbcb0",
   "metadata": {},
   "outputs": [
    {
     "name": "stdout",
     "output_type": "stream",
     "text": [
      "Training data Shape: (43648, 28)\n",
      "Testing data Shape: (42104, 28)\n",
      "Training data Shape after sampling: (272, 28)\n",
      "Performance over Train period 1990 - 1995 and Test Period 1996 - 2000 0.5531676406021413\n",
      "\n",
      "\n",
      "Training data Shape: (49700, 28)\n",
      "Testing data Shape: (34180, 28)\n",
      "Training data Shape after sampling: (742, 28)\n",
      "Performance over Train period 1996 - 2001 and Test Period 2002 - 2006 0.6376932092187665\n",
      "\n",
      "\n",
      "Training data Shape: (40380, 28)\n",
      "Testing data Shape: (29019, 28)\n",
      "Training data Shape after sampling: (638, 28)\n",
      "Performance over Train period 2002 - 2007 and Test Period 2008 - 2012 0.6168914717996441\n",
      "\n",
      "\n",
      "Training data Shape: (34901, 28)\n",
      "Testing data Shape: (27241, 28)\n",
      "Training data Shape after sampling: (262, 28)\n",
      "Performance over Train period 2008 - 2013 and Test Period 2014 - 2018 0.6070611002831611\n",
      "\n",
      "\n",
      "Training data Shape: (32661, 28)\n",
      "Testing data Shape: (15181, 28)\n",
      "Training data Shape after sampling: (130, 28)\n",
      "Performance over Train period 2014 - 2019 and Test Period 2020 - 2024 0.6083394802967333\n",
      "\n",
      "\n",
      "Average performance: 0.6046305804400893\n"
     ]
    }
   ],
   "source": [
    "test_results(6)"
   ]
  },
  {
   "cell_type": "code",
   "execution_count": 152,
   "id": "2e42e7ba",
   "metadata": {},
   "outputs": [
    {
     "name": "stdout",
     "output_type": "stream",
     "text": [
      "Training data Shape: (43648, 28)\n",
      "Testing data Shape: (42104, 28)\n",
      "Training data Shape after sampling: (272, 28)\n",
      "Performance over Train period 1990 - 1995 and Test Period 1996 - 2000 0.5531676406021413\n",
      "\n",
      "\n",
      "Training data Shape: (49700, 28)\n",
      "Testing data Shape: (34180, 28)\n",
      "Training data Shape after sampling: (742, 28)\n",
      "Performance over Train period 1996 - 2001 and Test Period 2002 - 2006 0.6376932092187665\n",
      "\n",
      "\n",
      "Training data Shape: (40380, 28)\n",
      "Testing data Shape: (29019, 28)\n",
      "Training data Shape after sampling: (638, 28)\n",
      "Performance over Train period 2002 - 2007 and Test Period 2008 - 2012 0.6168914717996441\n",
      "\n",
      "\n",
      "Training data Shape: (34901, 28)\n",
      "Testing data Shape: (27241, 28)\n",
      "Training data Shape after sampling: (262, 28)\n",
      "Performance over Train period 2008 - 2013 and Test Period 2014 - 2018 0.6070611002831611\n",
      "\n",
      "\n",
      "Training data Shape: (32661, 28)\n",
      "Testing data Shape: (15181, 28)\n",
      "Training data Shape after sampling: (130, 28)\n",
      "Performance over Train period 2014 - 2019 and Test Period 2020 - 2024 0.6083394802967333\n",
      "\n",
      "\n",
      "Average performance: 0.6046305804400893\n"
     ]
    }
   ],
   "source": [
    "test_results(6)"
   ]
  },
  {
   "cell_type": "code",
   "execution_count": 153,
   "id": "0e4b953d",
   "metadata": {},
   "outputs": [
    {
     "name": "stdout",
     "output_type": "stream",
     "text": [
      "Training data Shape: (43648, 28)\n",
      "Testing data Shape: (42104, 28)\n",
      "Training data Shape after sampling: (272, 28)\n",
      "Performance over Train period 1990 - 1995 and Test Period 1996 - 2000 0.5531676406021413\n",
      "\n",
      "\n",
      "Training data Shape: (46829, 28)\n",
      "Testing data Shape: (32023, 28)\n",
      "Training data Shape after sampling: (890, 28)\n",
      "Performance over Train period 1998 - 2003 and Test Period 2004 - 2008 0.6146973502174419\n",
      "\n",
      "\n",
      "Training data Shape: (35810, 28)\n",
      "Testing data Shape: (28391, 28)\n",
      "Training data Shape after sampling: (332, 28)\n",
      "Performance over Train period 2006 - 2011 and Test Period 2012 - 2016 0.642545713508041\n",
      "\n",
      "\n",
      "Training data Shape: (32661, 28)\n",
      "Testing data Shape: (15181, 28)\n",
      "Training data Shape after sampling: (130, 28)\n",
      "Performance over Train period 2014 - 2019 and Test Period 2020 - 2024 0.6083394802967333\n",
      "\n",
      "\n",
      "Average performance: 0.6046875461560893\n"
     ]
    }
   ],
   "source": [
    "test_results(8)"
   ]
  },
  {
   "cell_type": "code",
   "execution_count": 154,
   "id": "d7b40578",
   "metadata": {
    "scrolled": true
   },
   "outputs": [
    {
     "name": "stdout",
     "output_type": "stream",
     "text": [
      "Training data Shape: (43648, 28)\n",
      "Testing data Shape: (42104, 28)\n",
      "Training data Shape after sampling: (272, 28)\n",
      "Performance over Train period 1990 - 1995 and Test Period 1996 - 2000 0.5531676406021413\n",
      "\n",
      "\n",
      "Training data Shape: (43391, 28)\n",
      "Testing data Shape: (30064, 28)\n",
      "Training data Shape after sampling: (846, 28)\n",
      "Performance over Train period 2000 - 2005 and Test Period 2006 - 2010 0.6135091182975644\n",
      "\n",
      "\n",
      "Training data Shape: (34454, 28)\n",
      "Testing data Shape: (26790, 28)\n",
      "Training data Shape after sampling: (172, 28)\n",
      "Performance over Train period 2010 - 2015 and Test Period 2016 - 2020 0.6642144278014859\n",
      "\n",
      "\n",
      "Average performance: 0.6102970622337305\n"
     ]
    }
   ],
   "source": [
    "test_results(10)"
   ]
  },
  {
   "cell_type": "code",
   "execution_count": 168,
   "id": "45f669b5",
   "metadata": {},
   "outputs": [
    {
     "name": "stdout",
     "output_type": "stream",
     "text": [
      "Training data Shape: (85752, 28)\n",
      "Testing data Shape: (115848, 28)\n",
      "Training data Shape after sampling: (852, 28)\n",
      "AUC: 0.5988168070528352\n",
      "\n",
      "\n"
     ]
    }
   ],
   "source": [
    "train_data, val_data, test_data = datasets(data_new, (1990,2000),(2001,2002),(2003,2023))\n",
    "\n",
    "raw_financial_items_28 = data_feat['raw_financial_items_28']\n",
    "\n",
    "X_train, y_train = train_data[raw_financial_items_28], train_data['Mistate']\n",
    "X_test, y_test = test_data[raw_financial_items_28], test_data['Mistate'] \n",
    "\n",
    "print(\"Training data Shape:\", X_train.shape)\n",
    "print(\"Testing data Shape:\", X_test.shape)\n",
    "\n",
    "rus = RandomUnderSampler(random_state=42)\n",
    "X_train_resampled, y_train_resampled = rus.fit_resample(X_train, y_train)\n",
    "\n",
    "print(\"Training data Shape after sampling:\", X_train_resampled.shape)\n",
    "\n",
    "performance,(_,_,_,_) = train_model(X_train_resampled, y_train_resampled, X_test, y_test,inputs = 28,actv_func='logistic', hidden_lay_neu=50,learning_rate=0.005)\n",
    "# print(\"Performance over Train period {} - {} and Test Period {} - {}\".format(2000,2014,2015,2023),performance)\n",
    "print(\"AUC:\", performance)\n",
    "print('\\n')"
   ]
  },
  {
   "cell_type": "code",
   "execution_count": null,
   "id": "c80d754f",
   "metadata": {},
   "outputs": [],
   "source": []
  },
  {
   "cell_type": "code",
   "execution_count": null,
   "id": "2ceb8022",
   "metadata": {},
   "outputs": [],
   "source": []
  },
  {
   "cell_type": "code",
   "execution_count": null,
   "id": "3cf40782",
   "metadata": {},
   "outputs": [],
   "source": []
  },
  {
   "cell_type": "markdown",
   "id": "5ac230f3",
   "metadata": {},
   "source": [
    "### RusBoost"
   ]
  },
  {
   "cell_type": "code",
   "execution_count": 38,
   "id": "b1eba1e5",
   "metadata": {},
   "outputs": [],
   "source": [
    "import numpy as np\n",
    "from sklearn.ensemble import AdaBoostClassifier\n",
    "from sklearn.tree import DecisionTreeClassifier\n",
    "from sklearn.metrics import roc_auc_score, ndcg_score, precision_score, recall_score\n",
    "import time"
   ]
  },
  {
   "cell_type": "code",
   "execution_count": 91,
   "id": "ed872732",
   "metadata": {},
   "outputs": [],
   "source": [
    "def evaluate(y_true, y_pred, y_scores, topN):\n",
    "    metrics = {}\n",
    "    metrics['auc'] = roc_auc_score(y_true, y_scores)\n",
    "    k = int(topN * len(y_true))\n",
    "    if k > 0:\n",
    "        metrics['ndcg_at_k'] = ndcg_score([y_true], [y_scores], k=k)\n",
    "        y_pred_topk = np.argsort(y_scores)[-k:]\n",
    "        metrics['sensitivity_topk'] = recall_score(y_true, y_pred, average='binary', pos_label=1)\n",
    "        metrics['precision_topk'] = precision_score(y_true, y_pred, average='binary', pos_label=1)\n",
    "    else:\n",
    "        metrics['ndcg_at_k'] = 0.0\n",
    "        metrics['sensitivity_topk'] = 0.0\n",
    "        metrics['precision_topk'] = 0.0\n",
    "    return metrics"
   ]
  },
  {
   "cell_type": "code",
   "execution_count": 80,
   "id": "c53460ad",
   "metadata": {},
   "outputs": [],
   "source": [
    "np.random.seed(0)"
   ]
  },
  {
   "cell_type": "code",
   "execution_count": 81,
   "id": "ebbd8e35",
   "metadata": {},
   "outputs": [],
   "source": [
    "train_data, val_data, test_data = datasets(data_new, (1990,2005),(2001,2002),(2006,2014))\n",
    "\n",
    "raw_financial_items_28 = data_feat['raw_financial_items_28']\n",
    "\n",
    "X_train, y_train = train_data[raw_financial_items_28], train_data['Mistate']\n",
    "X_test, y_test = test_data[raw_financial_items_28], test_data['Mistate'] "
   ]
  },
  {
   "cell_type": "code",
   "execution_count": 82,
   "id": "e91e2169",
   "metadata": {},
   "outputs": [
    {
     "name": "stdout",
     "output_type": "stream",
     "text": [
      "Training data Shape after sampling: (1524, 28)\n"
     ]
    }
   ],
   "source": [
    "rus = RandomUnderSampler(random_state=42)\n",
    "X_train_resampled, y_train_resampled = rus.fit_resample(X_train, y_train)\n",
    "\n",
    "print(\"Training data Shape after sampling:\", X_train_resampled.shape)"
   ]
  },
  {
   "cell_type": "code",
   "execution_count": 83,
   "id": "929f270c",
   "metadata": {},
   "outputs": [
    {
     "name": "stdout",
     "output_type": "stream",
     "text": [
      "Training model...\n"
     ]
    },
    {
     "data": {
      "text/html": [
       "<style>#sk-container-id-5 {color: black;background-color: white;}#sk-container-id-5 pre{padding: 0;}#sk-container-id-5 div.sk-toggleable {background-color: white;}#sk-container-id-5 label.sk-toggleable__label {cursor: pointer;display: block;width: 100%;margin-bottom: 0;padding: 0.3em;box-sizing: border-box;text-align: center;}#sk-container-id-5 label.sk-toggleable__label-arrow:before {content: \"▸\";float: left;margin-right: 0.25em;color: #696969;}#sk-container-id-5 label.sk-toggleable__label-arrow:hover:before {color: black;}#sk-container-id-5 div.sk-estimator:hover label.sk-toggleable__label-arrow:before {color: black;}#sk-container-id-5 div.sk-toggleable__content {max-height: 0;max-width: 0;overflow: hidden;text-align: left;background-color: #f0f8ff;}#sk-container-id-5 div.sk-toggleable__content pre {margin: 0.2em;color: black;border-radius: 0.25em;background-color: #f0f8ff;}#sk-container-id-5 input.sk-toggleable__control:checked~div.sk-toggleable__content {max-height: 200px;max-width: 100%;overflow: auto;}#sk-container-id-5 input.sk-toggleable__control:checked~label.sk-toggleable__label-arrow:before {content: \"▾\";}#sk-container-id-5 div.sk-estimator input.sk-toggleable__control:checked~label.sk-toggleable__label {background-color: #d4ebff;}#sk-container-id-5 div.sk-label input.sk-toggleable__control:checked~label.sk-toggleable__label {background-color: #d4ebff;}#sk-container-id-5 input.sk-hidden--visually {border: 0;clip: rect(1px 1px 1px 1px);clip: rect(1px, 1px, 1px, 1px);height: 1px;margin: -1px;overflow: hidden;padding: 0;position: absolute;width: 1px;}#sk-container-id-5 div.sk-estimator {font-family: monospace;background-color: #f0f8ff;border: 1px dotted black;border-radius: 0.25em;box-sizing: border-box;margin-bottom: 0.5em;}#sk-container-id-5 div.sk-estimator:hover {background-color: #d4ebff;}#sk-container-id-5 div.sk-parallel-item::after {content: \"\";width: 100%;border-bottom: 1px solid gray;flex-grow: 1;}#sk-container-id-5 div.sk-label:hover label.sk-toggleable__label {background-color: #d4ebff;}#sk-container-id-5 div.sk-serial::before {content: \"\";position: absolute;border-left: 1px solid gray;box-sizing: border-box;top: 0;bottom: 0;left: 50%;z-index: 0;}#sk-container-id-5 div.sk-serial {display: flex;flex-direction: column;align-items: center;background-color: white;padding-right: 0.2em;padding-left: 0.2em;position: relative;}#sk-container-id-5 div.sk-item {position: relative;z-index: 1;}#sk-container-id-5 div.sk-parallel {display: flex;align-items: stretch;justify-content: center;background-color: white;position: relative;}#sk-container-id-5 div.sk-item::before, #sk-container-id-5 div.sk-parallel-item::before {content: \"\";position: absolute;border-left: 1px solid gray;box-sizing: border-box;top: 0;bottom: 0;left: 50%;z-index: -1;}#sk-container-id-5 div.sk-parallel-item {display: flex;flex-direction: column;z-index: 1;position: relative;background-color: white;}#sk-container-id-5 div.sk-parallel-item:first-child::after {align-self: flex-end;width: 50%;}#sk-container-id-5 div.sk-parallel-item:last-child::after {align-self: flex-start;width: 50%;}#sk-container-id-5 div.sk-parallel-item:only-child::after {width: 0;}#sk-container-id-5 div.sk-dashed-wrapped {border: 1px dashed gray;margin: 0 0.4em 0.5em 0.4em;box-sizing: border-box;padding-bottom: 0.4em;background-color: white;}#sk-container-id-5 div.sk-label label {font-family: monospace;font-weight: bold;display: inline-block;line-height: 1.2em;}#sk-container-id-5 div.sk-label-container {text-align: center;}#sk-container-id-5 div.sk-container {/* jupyter's `normalize.less` sets `[hidden] { display: none; }` but bootstrap.min.css set `[hidden] { display: none !important; }` so we also need the `!important` here to be able to override the default hidden behavior on the sphinx rendered scikit-learn.org. See: https://github.com/scikit-learn/scikit-learn/issues/21755 */display: inline-block !important;position: relative;}#sk-container-id-5 div.sk-text-repr-fallback {display: none;}</style><div id=\"sk-container-id-5\" class=\"sk-top-container\"><div class=\"sk-text-repr-fallback\"><pre>AdaBoostClassifier(estimator=DecisionTreeClassifier(min_samples_leaf=5),\n",
       "                   learning_rate=0.1, n_estimators=300)</pre><b>In a Jupyter environment, please rerun this cell to show the HTML representation or trust the notebook. <br />On GitHub, the HTML representation is unable to render, please try loading this page with nbviewer.org.</b></div><div class=\"sk-container\" hidden><div class=\"sk-item sk-dashed-wrapped\"><div class=\"sk-label-container\"><div class=\"sk-label sk-toggleable\"><input class=\"sk-toggleable__control sk-hidden--visually\" id=\"sk-estimator-id-13\" type=\"checkbox\" ><label for=\"sk-estimator-id-13\" class=\"sk-toggleable__label sk-toggleable__label-arrow\">AdaBoostClassifier</label><div class=\"sk-toggleable__content\"><pre>AdaBoostClassifier(estimator=DecisionTreeClassifier(min_samples_leaf=5),\n",
       "                   learning_rate=0.1, n_estimators=300)</pre></div></div></div><div class=\"sk-parallel\"><div class=\"sk-parallel-item\"><div class=\"sk-item\"><div class=\"sk-label-container\"><div class=\"sk-label sk-toggleable\"><input class=\"sk-toggleable__control sk-hidden--visually\" id=\"sk-estimator-id-14\" type=\"checkbox\" ><label for=\"sk-estimator-id-14\" class=\"sk-toggleable__label sk-toggleable__label-arrow\">estimator: DecisionTreeClassifier</label><div class=\"sk-toggleable__content\"><pre>DecisionTreeClassifier(min_samples_leaf=5)</pre></div></div></div><div class=\"sk-serial\"><div class=\"sk-item\"><div class=\"sk-estimator sk-toggleable\"><input class=\"sk-toggleable__control sk-hidden--visually\" id=\"sk-estimator-id-15\" type=\"checkbox\" ><label for=\"sk-estimator-id-15\" class=\"sk-toggleable__label sk-toggleable__label-arrow\">DecisionTreeClassifier</label><div class=\"sk-toggleable__content\"><pre>DecisionTreeClassifier(min_samples_leaf=5)</pre></div></div></div></div></div></div></div></div></div></div>"
      ],
      "text/plain": [
       "AdaBoostClassifier(estimator=DecisionTreeClassifier(min_samples_leaf=5),\n",
       "                   learning_rate=0.1, n_estimators=300)"
      ]
     },
     "execution_count": 83,
     "metadata": {},
     "output_type": "execute_result"
    }
   ],
   "source": [
    "print('Training model...')\n",
    "base_model = DecisionTreeClassifier(min_samples_leaf=5)\n",
    "rusboost = AdaBoostClassifier(base_model, n_estimators=300, learning_rate=0.1)\n",
    "rusboost.fit(X_train_resampled, y_train_resampled)"
   ]
  },
  {
   "cell_type": "code",
   "execution_count": 84,
   "id": "7750b4e1",
   "metadata": {},
   "outputs": [
    {
     "name": "stdout",
     "output_type": "stream",
     "text": [
      "Testing model...\n"
     ]
    }
   ],
   "source": [
    "# test model\n",
    "print('Testing model...')\n",
    "t2 = time.time()\n",
    "y_pred = rusboost.predict(X_test)\n",
    "y_scores = rusboost.decision_function(X_test)\n",
    "t_test = time.time() - t2"
   ]
  },
  {
   "cell_type": "code",
   "execution_count": 85,
   "id": "50ce61ab",
   "metadata": {},
   "outputs": [],
   "source": [
    "metrics = evaluate(y_test, y_pred, y_scores, 5)"
   ]
  },
  {
   "cell_type": "code",
   "execution_count": 86,
   "id": "5ae28a0e",
   "metadata": {},
   "outputs": [
    {
     "data": {
      "text/plain": [
       "{'auc': 0.6619230955901021,\n",
       " 'ndcg_at_k': 0.4363932886969452,\n",
       " 'sensitivity_topk': 0.6534653465346535,\n",
       " 'precision_topk': 0.007493613397672438}"
      ]
     },
     "execution_count": 86,
     "metadata": {},
     "output_type": "execute_result"
    }
   ],
   "source": [
    "metrics"
   ]
  },
  {
   "cell_type": "code",
   "execution_count": 55,
   "id": "0ad3f9d8",
   "metadata": {},
   "outputs": [],
   "source": [
    "def rus_boost(X_train, y_train, X_test, y_test):\n",
    "    metrics = {}\n",
    "    base_model = DecisionTreeClassifier(min_samples_leaf=5)\n",
    "    rusboost = AdaBoostClassifier(base_model, n_estimators=300, learning_rate=0.1)\n",
    "    rusboost.fit(X_train, y_train)\n",
    "\n",
    "    y_pred = rusboost.predict(X_test)\n",
    "    y_scores = rusboost.decision_function(X_test)\n",
    "\n",
    "    \n",
    "    metrics['auc'] = roc_auc_score(y_test, y_scores)\n",
    "    print(y_scores, roc_auc_score(y_test, y_pred))\n",
    "\n",
    "    return metrics,y_pred"
   ]
  },
  {
   "cell_type": "code",
   "execution_count": 56,
   "id": "a7336fa8",
   "metadata": {},
   "outputs": [
    {
     "name": "stdout",
     "output_type": "stream",
     "text": [
      "[ -0.1261203    5.63131347 -14.94172094 ...  17.88176373  -5.4723131\n",
      "  -5.28589978] 0.6637217914199723\n"
     ]
    },
    {
     "data": {
      "text/plain": [
       "({'auc': 0.7227700344780255}, array([0, 1, 0, ..., 1, 0, 0], dtype=int64))"
      ]
     },
     "execution_count": 56,
     "metadata": {},
     "output_type": "execute_result"
    }
   ],
   "source": [
    "rus_boost(X_train_resampled, y_train_resampled, X_test, y_test)"
   ]
  },
  {
   "cell_type": "code",
   "execution_count": null,
   "id": "33381c43",
   "metadata": {},
   "outputs": [],
   "source": []
  },
  {
   "cell_type": "code",
   "execution_count": null,
   "id": "5926b500",
   "metadata": {},
   "outputs": [],
   "source": []
  },
  {
   "cell_type": "code",
   "execution_count": null,
   "id": "69455742",
   "metadata": {},
   "outputs": [],
   "source": []
  },
  {
   "cell_type": "code",
   "execution_count": null,
   "id": "c22a2e7f",
   "metadata": {},
   "outputs": [],
   "source": []
  },
  {
   "cell_type": "code",
   "execution_count": 87,
   "id": "1227d216",
   "metadata": {},
   "outputs": [
    {
     "data": {
      "text/plain": [
       "0.994714867078907"
      ]
     },
     "execution_count": 87,
     "metadata": {},
     "output_type": "execute_result"
    }
   ],
   "source": [
    "from sklearn.datasets import load_breast_cancer\n",
    "from sklearn.linear_model import LogisticRegression\n",
    "from sklearn.metrics import roc_auc_score\n",
    "X, y = load_breast_cancer(return_X_y=True)\n",
    "clf = LogisticRegression(solver=\"liblinear\", random_state=0).fit(X, y)\n",
    "roc_auc_score(y, clf.predict_proba(X)[:, 1])\n",
    "roc_auc_score(y, clf.decision_function(X))"
   ]
  },
  {
   "cell_type": "code",
   "execution_count": null,
   "id": "3b25182e",
   "metadata": {},
   "outputs": [],
   "source": []
  },
  {
   "cell_type": "code",
   "execution_count": null,
   "id": "8af5d300",
   "metadata": {},
   "outputs": [],
   "source": []
  }
 ],
 "metadata": {
  "kernelspec": {
   "display_name": "Python 3 (ipykernel)",
   "language": "python",
   "name": "python3"
  },
  "language_info": {
   "codemirror_mode": {
    "name": "ipython",
    "version": 3
   },
   "file_extension": ".py",
   "mimetype": "text/x-python",
   "name": "python",
   "nbconvert_exporter": "python",
   "pygments_lexer": "ipython3",
   "version": "3.10.6"
  }
 },
 "nbformat": 4,
 "nbformat_minor": 5
}

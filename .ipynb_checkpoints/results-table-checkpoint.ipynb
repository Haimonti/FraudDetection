{
 "cells": [
  {
   "cell_type": "code",
   "execution_count": 2,
   "id": "b8aa022b",
   "metadata": {},
   "outputs": [],
   "source": [
    "import pandas as pd\n",
    "import numpy as np\n",
    "from MLP.utils import datasets,plot_table,train_model\n",
    "from sklearn import metrics\n",
    "from imblearn.under_sampling import RandomUnderSampler\n",
    "from tabulate import tabulate\n",
    "import matplotlib.pyplot as plt\n",
    "from results.data_processing import DataProcessor\n",
    "from results.utils import evaluate,null_check,results\n",
    "from results.models import rus_boost, svm_model, xgb_model, logistic_regression_model, probit_regression_model,MLP,mlp_grid_search\n",
    "import json\n",
    "from collections import defaultdict"
   ]
  },
  {
   "cell_type": "code",
   "execution_count": 3,
   "id": "3e44f4da",
   "metadata": {},
   "outputs": [],
   "source": [
    "data = pd.read_csv('data/data_FraudDetection_JAR2020.csv')\n",
    "data_obj = DataProcessor(data,(1990,1999), (2000,2001), (2003,2014), 5)\n",
    "with open('results/features.json') as json_file:\n",
    "    features_comp = json.load(json_file)"
   ]
  },
  {
   "cell_type": "code",
   "execution_count": 4,
   "id": "31326469",
   "metadata": {},
   "outputs": [],
   "source": [
    "import numpy as np\n",
    "ben_data = pd.read_csv(\"Data/Beneish_scores_final.csv\")\n",
    "ben_data = ben_data.rename(columns={'Mistate':'misstate'})\n",
    "ben_data = ben_data.replace([np.inf,-np.inf],np.nan)\n",
    "ben_obj = DataProcessor(ben_data,(1990,1999), (2000,2001), (2003,2014), 5)\n",
    "m_col = ['dsri','gmi','aqi','sgi','depi','sgai','lvgi','tata']\n",
    "ben_items = {\"Calculated M score Feat\": m_col}"
   ]
  },
  {
   "cell_type": "code",
   "execution_count": 5,
   "id": "81529029",
   "metadata": {},
   "outputs": [],
   "source": [
    "models = {\"MLP\": MLP,\n",
    "         \"RUS BOOST\": rus_boost,\n",
    "          \"Logit\":logistic_regression_model,\n",
    "         \"Probit\":probit_regression_model}"
   ]
  },
  {
   "cell_type": "markdown",
   "id": "d513850b",
   "metadata": {},
   "source": [
    "---"
   ]
  },
  {
   "cell_type": "markdown",
   "id": "bd5064d7",
   "metadata": {},
   "source": [
    "-----"
   ]
  },
  {
   "cell_type": "markdown",
   "id": "a7622d26",
   "metadata": {},
   "source": [
    "### Batch Processing"
   ]
  },
  {
   "cell_type": "code",
   "execution_count": 23,
   "id": "1fe8ae03",
   "metadata": {},
   "outputs": [],
   "source": [
    "test_periods = [(2003,2005), (2003,2008), (2003,2011), (2003,2014)]"
   ]
  },
  {
   "cell_type": "code",
   "execution_count": 6,
   "id": "c8ccdd86",
   "metadata": {},
   "outputs": [
    {
     "name": "stdout",
     "output_type": "stream",
     "text": [
      "Optimization terminated successfully.\n",
      "         Current function value: 0.539626\n",
      "         Iterations 10\n",
      "Optimization terminated successfully.\n",
      "         Current function value: 0.602770\n",
      "         Iterations 9\n",
      "Optimization terminated successfully.\n",
      "         Current function value: 0.619036\n",
      "         Iterations 6\n",
      "Optimization terminated successfully.\n",
      "         Current function value: 0.682725\n",
      "         Iterations 8\n",
      "Optimization terminated successfully.\n",
      "         Current function value: 0.539626\n",
      "         Iterations 10\n",
      "Optimization terminated successfully.\n",
      "         Current function value: 0.602770\n",
      "         Iterations 9\n",
      "Optimization terminated successfully.\n",
      "         Current function value: 0.619036\n",
      "         Iterations 6\n",
      "Optimization terminated successfully.\n",
      "         Current function value: 0.682725\n",
      "         Iterations 8\n",
      "Optimization terminated successfully.\n",
      "         Current function value: 0.539626\n",
      "         Iterations 10\n",
      "Optimization terminated successfully.\n",
      "         Current function value: 0.602770\n",
      "         Iterations 9\n",
      "Optimization terminated successfully.\n",
      "         Current function value: 0.619036\n",
      "         Iterations 6\n",
      "Optimization terminated successfully.\n",
      "         Current function value: 0.682725\n",
      "         Iterations 8\n",
      "Optimization terminated successfully.\n",
      "         Current function value: 0.539626\n",
      "         Iterations 10\n",
      "Optimization terminated successfully.\n",
      "         Current function value: 0.602770\n",
      "         Iterations 9\n",
      "Optimization terminated successfully.\n",
      "         Current function value: 0.619036\n",
      "         Iterations 6\n",
      "Optimization terminated successfully.\n",
      "         Current function value: 0.682725\n",
      "         Iterations 8\n"
     ]
    }
   ],
   "source": [
    "data_items = features_comp\n",
    "train_period = (1990,1999)\n",
    "res = defaultdict(lambda: defaultdict(dict))\n",
    "for test_period in test_periods:\n",
    "    for model in models.keys():\n",
    "        for data_item in data_items.keys():\n",
    "            auc = results(data_obj,train_period,test_period,data_items[data_item],models[model])\n",
    "            res[test_period][data_item][model] = auc\n",
    "        for ben_item in ben_items.keys():\n",
    "            auc = results(ben_obj,train_period,test_period,ben_items[ben_item],models[model])\n",
    "            res[test_period][ben_item][model] = auc"
   ]
  },
  {
   "cell_type": "code",
   "execution_count": 8,
   "id": "57a3aa61",
   "metadata": {},
   "outputs": [
    {
     "name": "stdout",
     "output_type": "stream",
     "text": [
      "+----------------------------------------------+-------+-----------+-------+--------+\n",
      "|          Test Period : (2003, 2005)          |  MLP  | RUS BOOST | Logit | Probit |\n",
      "+----------------------------------------------+-------+-----------+-------+--------+\n",
      "| 28 Raw Financial Items + 14 Financial Ratios | 0.647 |   0.712   | 0.596 | 0.609  |\n",
      "|            28 Raw Financial Items            | 0.64  |   0.694   | 0.526 | 0.529  |\n",
      "|             14 Financial Ratios              | 0.637 |   0.61    | 0.648 | 0.645  |\n",
      "|           Calculated M score Feat            |  0.5  |   0.579   | 0.537 | 0.562  |\n",
      "+----------------------------------------------+-------+-----------+-------+--------+\n",
      "+----------------------------------------------+-------+-----------+-------+--------+\n",
      "|          Test Period : (2003, 2008)          |  MLP  | RUS BOOST | Logit | Probit |\n",
      "+----------------------------------------------+-------+-----------+-------+--------+\n",
      "| 28 Raw Financial Items + 14 Financial Ratios | 0.634 |   0.702   | 0.599 | 0.611  |\n",
      "|            28 Raw Financial Items            | 0.638 |   0.69    | 0.528 | 0.528  |\n",
      "|             14 Financial Ratios              | 0.625 |   0.618   | 0.652 | 0.652  |\n",
      "|           Calculated M score Feat            |  0.5  |   0.57    | 0.544 |  0.56  |\n",
      "+----------------------------------------------+-------+-----------+-------+--------+\n",
      "+----------------------------------------------+-------+-----------+-------+--------+\n",
      "|          Test Period : (2003, 2011)          |  MLP  | RUS BOOST | Logit | Probit |\n",
      "+----------------------------------------------+-------+-----------+-------+--------+\n",
      "| 28 Raw Financial Items + 14 Financial Ratios | 0.631 |   0.702   | 0.615 | 0.626  |\n",
      "|            28 Raw Financial Items            | 0.631 |   0.685   | 0.55  | 0.552  |\n",
      "|             14 Financial Ratios              | 0.62  |   0.631   | 0.652 | 0.653  |\n",
      "|           Calculated M score Feat            |  0.5  |   0.586   | 0.544 | 0.567  |\n",
      "+----------------------------------------------+-------+-----------+-------+--------+\n",
      "+----------------------------------------------+-------+-----------+-------+--------+\n",
      "|          Test Period : (2003, 2014)          |  MLP  | RUS BOOST | Logit | Probit |\n",
      "+----------------------------------------------+-------+-----------+-------+--------+\n",
      "| 28 Raw Financial Items + 14 Financial Ratios | 0.626 |   0.71    | 0.619 | 0.627  |\n",
      "|            28 Raw Financial Items            | 0.626 |   0.684   | 0.546 | 0.546  |\n",
      "|             14 Financial Ratios              | 0.622 |   0.65    | 0.669 |  0.67  |\n",
      "|           Calculated M score Feat            |  0.5  |   0.577   | 0.547 | 0.566  |\n",
      "+----------------------------------------------+-------+-----------+-------+--------+\n"
     ]
    }
   ],
   "source": [
    "for key in res.keys():\n",
    "    columns = [\"Test Period : \"+str(key), 'MLP', 'RUS BOOST', 'Logit', 'Probit']\n",
    "    df = pd.DataFrame.from_dict(res[key], orient='index').reset_index()\n",
    "    df.columns = columns\n",
    "    for col in ['MLP', 'RUS BOOST', 'Logit', 'Probit']:\n",
    "        df[col] = df[col].round(3)\n",
    "    df.set_index(\"Test Period : \"+str(key), inplace=True)\n",
    "    print(tabulate(df, headers='keys', tablefmt='pretty'))"
   ]
  },
  {
   "cell_type": "code",
   "execution_count": null,
   "id": "08275772",
   "metadata": {},
   "outputs": [],
   "source": []
  },
  {
   "cell_type": "code",
   "execution_count": null,
   "id": "e2e17a59",
   "metadata": {},
   "outputs": [],
   "source": []
  },
  {
   "cell_type": "markdown",
   "id": "8b10ee1b",
   "metadata": {},
   "source": [
    "## Batch - Tuning"
   ]
  },
  {
   "cell_type": "code",
   "execution_count": 13,
   "id": "c719b32a",
   "metadata": {},
   "outputs": [],
   "source": [
    "test_periods = [(2003,2005), (2003,2008), (2003,2011), (2003,2014)]"
   ]
  },
  {
   "cell_type": "code",
   "execution_count": 14,
   "id": "34714046",
   "metadata": {},
   "outputs": [
    {
     "name": "stdout",
     "output_type": "stream",
     "text": [
      "Best Hyperparameters: {'activation': 'logistic', 'hidden_layer_sizes': (42, 50), 'learning_rate_init': 0.001}\n",
      "Best AUC Score: 0.7013556575749392\n",
      "Test AUC Score: 0.653978955377263\n",
      "Best Hyperparameters: {'activation': 'relu', 'hidden_layer_sizes': (28, 40, 50, 60, 40), 'learning_rate_init': 0.001}\n",
      "Best AUC Score: 0.7185012152308939\n",
      "Test AUC Score: 0.6463963130962225\n",
      "Best Hyperparameters: {'activation': 'logistic', 'hidden_layer_sizes': (14, 50), 'learning_rate_init': 0.001}\n",
      "Best AUC Score: 0.6952212920454887\n",
      "Test AUC Score: 0.687706556168748\n",
      "Best Hyperparameters: {'activation': 'logistic', 'hidden_layer_sizes': (42, 50), 'learning_rate_init': 0.001}\n",
      "Best AUC Score: 0.7013556575749392\n",
      "Test AUC Score: 0.6338119723979867\n",
      "Best Hyperparameters: {'activation': 'relu', 'hidden_layer_sizes': (28, 40, 50, 60, 40), 'learning_rate_init': 0.001}\n",
      "Best AUC Score: 0.7185012152308939\n",
      "Test AUC Score: 0.61288467164021\n",
      "Best Hyperparameters: {'activation': 'logistic', 'hidden_layer_sizes': (14, 50), 'learning_rate_init': 0.001}\n",
      "Best AUC Score: 0.6952212920454887\n",
      "Test AUC Score: 0.6960195736539408\n",
      "Best Hyperparameters: {'activation': 'logistic', 'hidden_layer_sizes': (42, 50), 'learning_rate_init': 0.001}\n",
      "Best AUC Score: 0.7013556575749392\n",
      "Test AUC Score: 0.6218777613103184\n",
      "Best Hyperparameters: {'activation': 'relu', 'hidden_layer_sizes': (28, 40, 50, 60, 40), 'learning_rate_init': 0.001}\n",
      "Best AUC Score: 0.7185012152308939\n",
      "Test AUC Score: 0.5998332445548472\n",
      "Best Hyperparameters: {'activation': 'logistic', 'hidden_layer_sizes': (14, 50), 'learning_rate_init': 0.001}\n",
      "Best AUC Score: 0.6952212920454887\n",
      "Test AUC Score: 0.6928441416005573\n",
      "Best Hyperparameters: {'activation': 'logistic', 'hidden_layer_sizes': (42, 50), 'learning_rate_init': 0.001}\n",
      "Best AUC Score: 0.7013556575749392\n",
      "Test AUC Score: 0.6204086293913857\n",
      "Best Hyperparameters: {'activation': 'relu', 'hidden_layer_sizes': (28, 40, 50, 60, 40), 'learning_rate_init': 0.001}\n",
      "Best AUC Score: 0.7185012152308939\n",
      "Test AUC Score: 0.5955511592526168\n",
      "Best Hyperparameters: {'activation': 'logistic', 'hidden_layer_sizes': (14, 50), 'learning_rate_init': 0.001}\n",
      "Best AUC Score: 0.6952212920454887\n",
      "Test AUC Score: 0.7009618595105043\n"
     ]
    }
   ],
   "source": [
    "data_items = features_comp\n",
    "train_period = (1990,1999)\n",
    "res = defaultdict(lambda: defaultdict(dict))\n",
    "for test_period in test_periods:\n",
    "    for data_item in data_items.keys():\n",
    "        param_grid = {\n",
    "            'activation': ['logistic', 'tanh', 'relu'],\n",
    "            'hidden_layer_sizes': [\n",
    "                (len(data_items[data_item]), 40),\n",
    "                (len(data_items[data_item]), 50),\n",
    "                (len(data_items[data_item]), 40, 50),\n",
    "                (len(data_items[data_item]), 30, 40),\n",
    "                (len(data_items[data_item]), 40, 30, 50),\n",
    "                (len(data_items[data_item]), 30, 40, 30),\n",
    "                (len(data_items[data_item]), 40, 50, 60, 40),\n",
    "                (len(data_items[data_item]), 50, 50, 50, 50),\n",
    "                (len(data_items[data_item]), 30, 30, 30, 30)\n",
    "                ],\n",
    "            'learning_rate_init': [0.001, 0.01, 0.1]\n",
    "            }\n",
    "        auc = results(data_obj,train_period,test_period,data_items[data_item],mlp_grid_search,param_grid)\n",
    "        res[test_period][data_item] = auc"
   ]
  },
  {
   "cell_type": "code",
   "execution_count": 16,
   "id": "308c9f5e",
   "metadata": {},
   "outputs": [
    {
     "data": {
      "text/plain": [
       "defaultdict(<function __main__.<lambda>()>,\n",
       "            {(2003,\n",
       "              2005): defaultdict(dict,\n",
       "                         {'28 Raw Financial Items + 14 Financial Ratios': 0.653978955377263,\n",
       "                          '28 Raw Financial Items': 0.6463963130962225,\n",
       "                          '14 Financial Ratios': 0.687706556168748}),\n",
       "             (2003,\n",
       "              2008): defaultdict(dict,\n",
       "                         {'28 Raw Financial Items + 14 Financial Ratios': 0.6338119723979867,\n",
       "                          '28 Raw Financial Items': 0.61288467164021,\n",
       "                          '14 Financial Ratios': 0.6960195736539408}),\n",
       "             (2003,\n",
       "              2011): defaultdict(dict,\n",
       "                         {'28 Raw Financial Items + 14 Financial Ratios': 0.6218777613103184,\n",
       "                          '28 Raw Financial Items': 0.5998332445548472,\n",
       "                          '14 Financial Ratios': 0.6928441416005573}),\n",
       "             (2003,\n",
       "              2014): defaultdict(dict,\n",
       "                         {'28 Raw Financial Items + 14 Financial Ratios': 0.6204086293913857,\n",
       "                          '28 Raw Financial Items': 0.5955511592526168,\n",
       "                          '14 Financial Ratios': 0.7009618595105043})})"
      ]
     },
     "execution_count": 16,
     "metadata": {},
     "output_type": "execute_result"
    }
   ],
   "source": [
    "res"
   ]
  },
  {
   "cell_type": "code",
   "execution_count": 17,
   "id": "e1213343",
   "metadata": {},
   "outputs": [
    {
     "name": "stdout",
     "output_type": "stream",
     "text": [
      "Best Hyperparameters: {'activation': 'relu', 'hidden_layer_sizes': (42, 40, 50, 40, 40, 20), 'learning_rate_init': 0.001}\n",
      "Best AUC Score: 0.694273712005281\n",
      "Test AUC Score: 0.6562173902131673\n",
      "Best Hyperparameters: {'activation': 'relu', 'hidden_layer_sizes': (28, 40, 50, 40, 40, 20), 'learning_rate_init': 0.001}\n",
      "Best AUC Score: 0.7143835328712455\n",
      "Test AUC Score: 0.6166769917232233\n",
      "Best Hyperparameters: {'activation': 'logistic', 'hidden_layer_sizes': (14, 30), 'learning_rate_init': 0.001}\n",
      "Best AUC Score: 0.6937276082455666\n",
      "Test AUC Score: 0.6892830536101593\n",
      "Best Hyperparameters: {'activation': 'relu', 'hidden_layer_sizes': (42, 40, 50, 40, 40, 20), 'learning_rate_init': 0.001}\n",
      "Best AUC Score: 0.694273712005281\n",
      "Test AUC Score: 0.6347803918792168\n",
      "Best Hyperparameters: {'activation': 'relu', 'hidden_layer_sizes': (28, 40, 50, 40, 40, 20), 'learning_rate_init': 0.001}\n",
      "Best AUC Score: 0.7143835328712455\n",
      "Test AUC Score: 0.6085774688934004\n",
      "Best Hyperparameters: {'activation': 'logistic', 'hidden_layer_sizes': (14, 30), 'learning_rate_init': 0.001}\n",
      "Best AUC Score: 0.6937276082455666\n",
      "Test AUC Score: 0.6992850325541522\n",
      "Best Hyperparameters: {'activation': 'relu', 'hidden_layer_sizes': (42, 40, 50, 40, 40, 20), 'learning_rate_init': 0.001}\n",
      "Best AUC Score: 0.694273712005281\n",
      "Test AUC Score: 0.6014966623744048\n",
      "Best Hyperparameters: {'activation': 'relu', 'hidden_layer_sizes': (28, 40, 50, 40, 40, 20), 'learning_rate_init': 0.001}\n",
      "Best AUC Score: 0.7143835328712455\n",
      "Test AUC Score: 0.5949930669469625\n",
      "Best Hyperparameters: {'activation': 'logistic', 'hidden_layer_sizes': (14, 30), 'learning_rate_init': 0.001}\n",
      "Best AUC Score: 0.6937276082455666\n",
      "Test AUC Score: 0.6950892045881555\n",
      "Best Hyperparameters: {'activation': 'relu', 'hidden_layer_sizes': (42, 40, 50, 40, 40, 20), 'learning_rate_init': 0.001}\n",
      "Best AUC Score: 0.694273712005281\n",
      "Test AUC Score: 0.5950088186159974\n",
      "Best Hyperparameters: {'activation': 'relu', 'hidden_layer_sizes': (28, 40, 50, 40, 40, 20), 'learning_rate_init': 0.001}\n",
      "Best AUC Score: 0.7143835328712455\n",
      "Test AUC Score: 0.5952724822160906\n",
      "Best Hyperparameters: {'activation': 'logistic', 'hidden_layer_sizes': (14, 30), 'learning_rate_init': 0.001}\n",
      "Best AUC Score: 0.6937276082455666\n",
      "Test AUC Score: 0.7038468888663161\n"
     ]
    }
   ],
   "source": [
    "data_items = features_comp\n",
    "train_period = (1990,1999)\n",
    "res = defaultdict(lambda: defaultdict(dict))\n",
    "for test_period in test_periods:\n",
    "    for data_item in data_items.keys():\n",
    "        param_grid = {\n",
    "            'activation': ['logistic', 'tanh', 'relu'],\n",
    "            'hidden_layer_sizes': [\n",
    "                (len(data_items[data_item]), 20),\n",
    "                (len(data_items[data_item]), 30),\n",
    "                (len(data_items[data_item]), 40, 50, 10),\n",
    "                (len(data_items[data_item]), 30, 40, 10),\n",
    "                (len(data_items[data_item]), 40, 30, 50, 20),\n",
    "                (len(data_items[data_item]), 30, 40),\n",
    "                (len(data_items[data_item]), 40, 50, 40, 40,20),\n",
    "                (len(data_items[data_item]), 30, 50, 50, 40,45),\n",
    "                (len(data_items[data_item]), 20,30,40,50,20)\n",
    "                ],\n",
    "            'learning_rate_init': [0.001, 0.01, 0.05, 0.09, 0.1, 0.5]\n",
    "            }\n",
    "        auc = results(data_obj,train_period,test_period,data_items[data_item],mlp_grid_search,param_grid)\n",
    "        res[test_period][data_item] = auc"
   ]
  },
  {
   "cell_type": "code",
   "execution_count": 18,
   "id": "daa71aa7",
   "metadata": {},
   "outputs": [
    {
     "data": {
      "text/plain": [
       "defaultdict(<function __main__.<lambda>()>,\n",
       "            {(2003,\n",
       "              2005): defaultdict(dict,\n",
       "                         {'28 Raw Financial Items + 14 Financial Ratios': 0.6562173902131673,\n",
       "                          '28 Raw Financial Items': 0.6166769917232233,\n",
       "                          '14 Financial Ratios': 0.6892830536101593}),\n",
       "             (2003,\n",
       "              2008): defaultdict(dict,\n",
       "                         {'28 Raw Financial Items + 14 Financial Ratios': 0.6347803918792168,\n",
       "                          '28 Raw Financial Items': 0.6085774688934004,\n",
       "                          '14 Financial Ratios': 0.6992850325541522}),\n",
       "             (2003,\n",
       "              2011): defaultdict(dict,\n",
       "                         {'28 Raw Financial Items + 14 Financial Ratios': 0.6014966623744048,\n",
       "                          '28 Raw Financial Items': 0.5949930669469625,\n",
       "                          '14 Financial Ratios': 0.6950892045881555}),\n",
       "             (2003,\n",
       "              2014): defaultdict(dict,\n",
       "                         {'28 Raw Financial Items + 14 Financial Ratios': 0.5950088186159974,\n",
       "                          '28 Raw Financial Items': 0.5952724822160906,\n",
       "                          '14 Financial Ratios': 0.7038468888663161})})"
      ]
     },
     "execution_count": 18,
     "metadata": {},
     "output_type": "execute_result"
    }
   ],
   "source": [
    "res"
   ]
  },
  {
   "cell_type": "code",
   "execution_count": null,
   "id": "aedecf0d",
   "metadata": {},
   "outputs": [],
   "source": [
    "pd.DataFrame.from_dict(res[key], orient='index')"
   ]
  },
  {
   "cell_type": "code",
   "execution_count": null,
   "id": "af250282",
   "metadata": {},
   "outputs": [],
   "source": []
  },
  {
   "cell_type": "markdown",
   "id": "eb4532dd",
   "metadata": {},
   "source": [
    "------------\n",
    "_____________"
   ]
  },
  {
   "cell_type": "markdown",
   "id": "927d76b9",
   "metadata": {},
   "source": [
    "## XgBoost Tuning"
   ]
  },
  {
   "cell_type": "code",
   "execution_count": 5,
   "id": "eb8c2d0f",
   "metadata": {},
   "outputs": [],
   "source": [
    "test_periods = [(2003,2005), (2003,2008), (2003,2011), (2003,2014)]"
   ]
  },
  {
   "cell_type": "code",
   "execution_count": 6,
   "id": "1e75a176",
   "metadata": {},
   "outputs": [
    {
     "name": "stdout",
     "output_type": "stream",
     "text": [
      "XgBoost Results:))\n",
      "Best Hyperparameters: {'learning_rate': 0.01, 'max_depth': 3}\n",
      "Best AUC Score: 0.7680541302847541\n",
      "Test AUC Score: 0.7068586554795009\n",
      "Best Hyperparameters: {'learning_rate': 0.1, 'max_depth': 3}\n",
      "Best AUC Score: 0.7508008521619107\n",
      "Test AUC Score: 0.6918923318953105\n",
      "Best Hyperparameters: {'learning_rate': 0.09, 'max_depth': 5}\n",
      "Best AUC Score: 0.7067278782968763\n",
      "Test AUC Score: 0.6446801301881758\n",
      "Best Hyperparameters: {'learning_rate': 0.01, 'max_depth': 3}\n",
      "Best AUC Score: 0.7670189335973835\n",
      "Test AUC Score: 0.6886457000693178\n",
      "Best Hyperparameters: {'learning_rate': 0.05, 'max_depth': 5}\n",
      "Best AUC Score: 0.7361730728838479\n",
      "Test AUC Score: 0.6650736179921308\n",
      "Best Hyperparameters: {'learning_rate': 0.09, 'max_depth': 5}\n",
      "Best AUC Score: 0.7066864704293817\n",
      "Test AUC Score: 0.6437164696074347\n",
      "Best Hyperparameters: {'learning_rate': 0.01, 'max_depth': 3}\n",
      "Best AUC Score: 0.7670189335973835\n",
      "Test AUC Score: 0.6773202007128545\n",
      "Best Hyperparameters: {'learning_rate': 0.1, 'max_depth': 3}\n",
      "Best AUC Score: 0.7481300447084946\n",
      "Test AUC Score: 0.6654288591001246\n",
      "Best Hyperparameters: {'learning_rate': 0.09, 'max_depth': 5}\n",
      "Best AUC Score: 0.7067278782968763\n",
      "Test AUC Score: 0.6434718769484477\n",
      "Best Hyperparameters: {'learning_rate': 0.01, 'max_depth': 3}\n",
      "Best AUC Score: 0.7670189335973835\n",
      "Test AUC Score: 0.6824636464452667\n",
      "Best Hyperparameters: {'learning_rate': 0.1, 'max_depth': 3}\n",
      "Best AUC Score: 0.7474468148948301\n",
      "Test AUC Score: 0.6676869679539384\n",
      "Best Hyperparameters: {'learning_rate': 0.09, 'max_depth': 5}\n",
      "Best AUC Score: 0.7067278782968763\n",
      "Test AUC Score: 0.650941020465645\n"
     ]
    }
   ],
   "source": [
    "data_items = features_comp\n",
    "train_period = (1990,1999)\n",
    "val_period = (2000,2002)\n",
    "res = defaultdict(lambda: defaultdict(dict))\n",
    "print(\"XgBoost Results:))\")\n",
    "for test_period in test_periods:\n",
    "    for data_item in data_items.keys():\n",
    "        param_grid = {\n",
    "                    'max_depth': [3, 4, 5],\n",
    "                    'learning_rate': [0.001, 0.01, 0.05, 0.09, 0.1, 0.5]\n",
    "                    }\n",
    "        auc = results(data_obj,train_period,test_period,data_items[data_item],xgb_model,param_grid)\n",
    "        res[test_period][data_item] = auc\n"
   ]
  },
  {
   "cell_type": "code",
   "execution_count": 7,
   "id": "c101a6a1",
   "metadata": {
    "scrolled": false
   },
   "outputs": [
    {
     "data": {
      "text/plain": [
       "defaultdict(<function __main__.<lambda>()>,\n",
       "            {(2003,\n",
       "              2005): defaultdict(dict,\n",
       "                         {'28 Raw Financial Items + 14 Financial Ratios': 0.7068586554795009,\n",
       "                          '28 Raw Financial Items': 0.6918923318953105,\n",
       "                          '14 Financial Ratios': 0.6446801301881758}),\n",
       "             (2003,\n",
       "              2008): defaultdict(dict,\n",
       "                         {'28 Raw Financial Items + 14 Financial Ratios': 0.6886457000693178,\n",
       "                          '28 Raw Financial Items': 0.6650736179921308,\n",
       "                          '14 Financial Ratios': 0.6437164696074347}),\n",
       "             (2003,\n",
       "              2011): defaultdict(dict,\n",
       "                         {'28 Raw Financial Items + 14 Financial Ratios': 0.6773202007128545,\n",
       "                          '28 Raw Financial Items': 0.6654288591001246,\n",
       "                          '14 Financial Ratios': 0.6434718769484477}),\n",
       "             (2003,\n",
       "              2014): defaultdict(dict,\n",
       "                         {'28 Raw Financial Items + 14 Financial Ratios': 0.6824636464452667,\n",
       "                          '28 Raw Financial Items': 0.6676869679539384,\n",
       "                          '14 Financial Ratios': 0.650941020465645})})"
      ]
     },
     "execution_count": 7,
     "metadata": {},
     "output_type": "execute_result"
    }
   ],
   "source": [
    "res"
   ]
  },
  {
   "cell_type": "markdown",
   "id": "8a131c78",
   "metadata": {},
   "source": [
    "-----------\n",
    "----"
   ]
  },
  {
   "cell_type": "code",
   "execution_count": null,
   "id": "4346718d",
   "metadata": {},
   "outputs": [],
   "source": [
    "# from sklearn.ensemble import RandomForestClassifier\n",
    "# from sklearn.model_selection import GridSearchCV\n",
    "# def random_forests(data_obj,train_period,test_period,item):\n",
    "#     # Define the Random Forest classifier\n",
    "#     rf_model = RandomForestClassifier(random_state=42)\n",
    "\n",
    "#     # Define the parameter grid to search\n",
    "#     param_grid = {\n",
    "#         'n_estimators': [100, 200, 300],  # Number of trees in the forest\n",
    "#         'max_depth': [None, 10, 20, 30],  # Maximum depth of the tree\n",
    "#         'min_samples_split': [2, 5, 10],  # Minimum number of samples required to split an internal node\n",
    "#         'min_samples_leaf': [1, 2, 4]  # Minimum number of samples required to be at a leaf node\n",
    "#     }\n",
    "\n",
    "#     # Perform grid search using cross-validation\n",
    "#     grid_search = GridSearchCV(estimator=rf_model, param_grid=param_grid, scoring='roc_auc', cv=5)\n",
    "#     grid_search.fit(X_train, y_train)\n",
    "\n",
    "#     # Get the best hyperparameters and the corresponding AUC score\n",
    "#     best_params = grid_search.best_params_\n",
    "#     best_auc = grid_search.best_score_\n",
    "#     test_auc = grid_search.score(X_test, y_test)\n",
    "\n",
    "#     # Print the best hyperparameters, the corresponding AUC score, and test AUC Score\n",
    "#     print(\"Best Hyperparameters:\", best_params)\n",
    "#     print(\"Best AUC Score:\", best_auc)\n",
    "#     print(\"Test AUC Score:\", test_auc)\n",
    "\n",
    "#     # Return the test AUC score\n",
    "#     return test_auc\n",
    "\n",
    "    "
   ]
  },
  {
   "cell_type": "code",
   "execution_count": null,
   "id": "04f9a4cf",
   "metadata": {},
   "outputs": [],
   "source": [
    "# random_forests"
   ]
  },
  {
   "cell_type": "code",
   "execution_count": null,
   "id": "61e7f5e3",
   "metadata": {},
   "outputs": [],
   "source": [
    "test_periods = [(2003,2005), (2003,2008), (2003,2011), (2003,2014)]\n",
    "\n",
    "data_items = features_comp\n",
    "train_period = (1990,1999)\n",
    "val_period = (2000,2002)\n",
    "\n",
    "res = defaultdict(lambda: defaultdict(dict))\n",
    "print(\"Random Forest Results:))\")\n",
    "for test_period in test_periods:\n",
    "    for data_item in data_items.keys():\n",
    "        param_grid = {\n",
    "                    'n_estimators': [100, 200, 300,400, 500],  # Number of trees in the forest\n",
    "                    'max_depth': [ 10, 20],  # Maximum depth of the tree\n",
    "                    'min_samples_split': [5, 10],  # Minimum number of samples required to split an internal node\n",
    "                    'min_samples_leaf': [5,6]  # Minimum number of samples required to be at a leaf node\n",
    "                    }\n",
    "        auc = results(data_obj,train_period,test_period,data_items[data_item],random_forests,param_grid)\n",
    "        res[test_period][data_item] = auc\n"
   ]
  },
  {
   "cell_type": "markdown",
   "id": "64146819",
   "metadata": {},
   "source": [
    "----"
   ]
  },
  {
   "cell_type": "markdown",
   "id": "a4044b61",
   "metadata": {},
   "source": [
    "------"
   ]
  },
  {
   "cell_type": "markdown",
   "id": "50d6327d",
   "metadata": {},
   "source": [
    "## Window Processing"
   ]
  },
  {
   "cell_type": "code",
   "execution_count": 9,
   "id": "13742414",
   "metadata": {},
   "outputs": [],
   "source": [
    "train_batches,test_batches = data_obj.create_batches()"
   ]
  },
  {
   "cell_type": "code",
   "execution_count": 10,
   "id": "42731dee",
   "metadata": {
    "scrolled": true
   },
   "outputs": [
    {
     "name": "stdout",
     "output_type": "stream",
     "text": [
      "(1990, 1995) (1996, 2001)\n",
      "(1996, 2001) (2002, 2006)\n",
      "(2002, 2006) (2007, 2011)\n",
      "(2007, 2011) (2012, 2016)\n",
      "(2012, 2016) (2017, 2021)\n"
     ]
    }
   ],
   "source": [
    "for train_period,test_period in zip(train_batches[:-1],test_batches[:-1]):\n",
    "    print(train_period,test_period)"
   ]
  },
  {
   "cell_type": "code",
   "execution_count": 11,
   "id": "49ca178b",
   "metadata": {},
   "outputs": [
    {
     "name": "stdout",
     "output_type": "stream",
     "text": [
      "Optimization terminated successfully.\n",
      "         Current function value: 0.498506\n",
      "         Iterations 10\n",
      "Optimization terminated successfully.\n",
      "         Current function value: 0.580061\n",
      "         Iterations 9\n",
      "Optimization terminated successfully.\n",
      "         Current function value: 0.608704\n",
      "         Iterations 6\n",
      "Optimization terminated successfully.\n",
      "         Current function value: 0.669697\n",
      "         Iterations 10\n",
      "Optimization terminated successfully.\n",
      "         Current function value: 0.536646\n",
      "         Iterations 10\n",
      "Optimization terminated successfully.\n",
      "         Current function value: 0.585333\n",
      "         Iterations 9\n",
      "Optimization terminated successfully.\n",
      "         Current function value: 0.603220\n",
      "         Iterations 9\n",
      "Optimization terminated successfully.\n",
      "         Current function value: 0.678238\n",
      "         Iterations 13\n",
      "Optimization terminated successfully.\n",
      "         Current function value: 0.511275\n",
      "         Iterations 12\n",
      "Optimization terminated successfully.\n",
      "         Current function value: 0.570099\n",
      "         Iterations 12\n",
      "Optimization terminated successfully.\n",
      "         Current function value: 0.608295\n",
      "         Iterations 9\n",
      "Optimization terminated successfully.\n",
      "         Current function value: 0.673887\n",
      "         Iterations 13\n",
      "Optimization terminated successfully.\n",
      "         Current function value: 0.431732\n",
      "         Iterations 11\n",
      "Optimization terminated successfully.\n",
      "         Current function value: 0.526644\n",
      "         Iterations 10\n",
      "Optimization terminated successfully.\n",
      "         Current function value: 0.604956\n",
      "         Iterations 6\n",
      "Optimization terminated successfully.\n",
      "         Current function value: 0.665317\n",
      "         Iterations 13\n",
      "Optimization terminated successfully.\n",
      "         Current function value: 0.619069\n",
      "         Iterations 11\n"
     ]
    }
   ],
   "source": [
    "data_items = features_comp\n",
    "res = defaultdict(lambda: defaultdict(dict))\n",
    "for train_period,test_period in zip(train_batches[:-1],test_batches[:-1]):\n",
    "    for model in models.keys():\n",
    "        for data_item in data_items.keys():\n",
    "            auc = results(data_obj,train_period,test_period,data_items[data_item],models[model])\n",
    "            res[str(train_period) + '-' +str(test_period)][data_item][model] = auc\n",
    "        for ben_item in ben_items.keys():\n",
    "            auc = results(ben_obj,train_period,test_period,ben_items[ben_item],models[model])\n",
    "            res[str(train_period) + '-' +str(test_period)][ben_item][model] = auc"
   ]
  },
  {
   "cell_type": "code",
   "execution_count": 12,
   "id": "1e9e53cc",
   "metadata": {
    "scrolled": false
   },
   "outputs": [
    {
     "name": "stdout",
     "output_type": "stream",
     "text": [
      "╒══════════════════════════════════════════════╤═══════╤═════════════╤═════════╤══════════╕\n",
      "│ Train - Test : (1990, 1995)-(1996, 2001)     │   MLP │   RUS BOOST │   Logit │   Probit │\n",
      "╞══════════════════════════════════════════════╪═══════╪═════════════╪═════════╪══════════╡\n",
      "│ 28 Raw Financial Items + 14 Financial Ratios │   0.5 │       0.698 │   0.561 │    0.577 │\n",
      "├──────────────────────────────────────────────┼───────┼─────────────┼─────────┼──────────┤\n",
      "│ 28 Raw Financial Items                       │   0.5 │       0.697 │   0.548 │    0.55  │\n",
      "├──────────────────────────────────────────────┼───────┼─────────────┼─────────┼──────────┤\n",
      "│ 14 Financial Ratios                          │   0.5 │       0.651 │   0.635 │    0.641 │\n",
      "├──────────────────────────────────────────────┼───────┼─────────────┼─────────┼──────────┤\n",
      "│ Calculated M score Feat                      │   0.5 │       0.516 │   0.537 │    0.539 │\n",
      "╘══════════════════════════════════════════════╧═══════╧═════════════╧═════════╧══════════╛\n",
      "╒══════════════════════════════════════════════╤═══════╤═════════════╤═════════╤══════════╕\n",
      "│ Train - Test : (1996, 2001)-(2002, 2006)     │   MLP │   RUS BOOST │   Logit │   Probit │\n",
      "╞══════════════════════════════════════════════╪═══════╪═════════════╪═════════╪══════════╡\n",
      "│ 28 Raw Financial Items + 14 Financial Ratios │ 0.656 │       0.762 │   0.658 │    0.685 │\n",
      "├──────────────────────────────────────────────┼───────┼─────────────┼─────────┼──────────┤\n",
      "│ 28 Raw Financial Items                       │ 0.656 │       0.772 │   0.676 │    0.681 │\n",
      "├──────────────────────────────────────────────┼───────┼─────────────┼─────────┼──────────┤\n",
      "│ 14 Financial Ratios                          │ 0.5   │       0.659 │   0.66  │    0.665 │\n",
      "├──────────────────────────────────────────────┼───────┼─────────────┼─────────┼──────────┤\n",
      "│ Calculated M score Feat                      │ 0.5   │       0.569 │   0.575 │    0.579 │\n",
      "╘══════════════════════════════════════════════╧═══════╧═════════════╧═════════╧══════════╛\n",
      "╒══════════════════════════════════════════════╤═══════╤═════════════╤═════════╤══════════╕\n",
      "│ Train - Test : (2002, 2006)-(2007, 2011)     │   MLP │   RUS BOOST │   Logit │   Probit │\n",
      "╞══════════════════════════════════════════════╪═══════╪═════════════╪═════════╪══════════╡\n",
      "│ 28 Raw Financial Items + 14 Financial Ratios │ 0.638 │       0.684 │   0.618 │    0.629 │\n",
      "├──────────────────────────────────────────────┼───────┼─────────────┼─────────┼──────────┤\n",
      "│ 28 Raw Financial Items                       │ 0.652 │       0.694 │   0.582 │    0.58  │\n",
      "├──────────────────────────────────────────────┼───────┼─────────────┼─────────┼──────────┤\n",
      "│ 14 Financial Ratios                          │ 0.624 │       0.66  │   0.684 │    0.678 │\n",
      "├──────────────────────────────────────────────┼───────┼─────────────┼─────────┼──────────┤\n",
      "│ Calculated M score Feat                      │ 0.5   │       0.63  │   0.506 │    0.506 │\n",
      "╘══════════════════════════════════════════════╧═══════╧═════════════╧═════════╧══════════╛\n",
      "╒══════════════════════════════════════════════╤═══════╤═════════════╤═════════╤══════════╕\n",
      "│ Train - Test : (2007, 2011)-(2012, 2016)     │   MLP │   RUS BOOST │   Logit │   Probit │\n",
      "╞══════════════════════════════════════════════╪═══════╪═════════════╪═════════╪══════════╡\n",
      "│ 28 Raw Financial Items + 14 Financial Ratios │ 0.603 │       0.729 │   0.559 │    0.617 │\n",
      "├──────────────────────────────────────────────┼───────┼─────────────┼─────────┼──────────┤\n",
      "│ 28 Raw Financial Items                       │ 0.5   │       0.77  │   0.455 │    0.463 │\n",
      "├──────────────────────────────────────────────┼───────┼─────────────┼─────────┼──────────┤\n",
      "│ 14 Financial Ratios                          │ 0.5   │       0.68  │   0.707 │    0.676 │\n",
      "├──────────────────────────────────────────────┼───────┼─────────────┼─────────┼──────────┤\n",
      "│ Calculated M score Feat                      │ 0.5   │       0.63  │   0.599 │    0.609 │\n",
      "╘══════════════════════════════════════════════╧═══════╧═════════════╧═════════╧══════════╛\n",
      "╒══════════════════════════════════════════════╤═══════╤═════════════════════╤═══════════════════╤════════════════════╕\n",
      "│ Train - Test : (2012, 2016)-(2017, 2021)     │ MLP   │ RUS BOOST           │ Logit             │ Probit             │\n",
      "╞══════════════════════════════════════════════╪═══════╪═════════════════════╪═══════════════════╪════════════════════╡\n",
      "│ 28 Raw Financial Items + 14 Financial Ratios │ Done  │ Done                │ Done              │ Done               │\n",
      "├──────────────────────────────────────────────┼───────┼─────────────────────┼───────────────────┼────────────────────┤\n",
      "│ 28 Raw Financial Items                       │ Done  │ Done                │ Done              │ Done               │\n",
      "├──────────────────────────────────────────────┼───────┼─────────────────────┼───────────────────┼────────────────────┤\n",
      "│ 14 Financial Ratios                          │ Done  │ Done                │ Done              │ Done               │\n",
      "├──────────────────────────────────────────────┼───────┼─────────────────────┼───────────────────┼────────────────────┤\n",
      "│ Calculated M score Feat                      │ 0.5   │ 0.48708103097280797 │ 0.428051839464883 │ 0.4310973171441035 │\n",
      "╘══════════════════════════════════════════════╧═══════╧═════════════════════╧═══════════════════╧════════════════════╛\n"
     ]
    }
   ],
   "source": [
    "for key in res.keys():\n",
    "    columns = [\"Train - Test : \"+str(key), 'MLP', 'RUS BOOST', 'Logit', 'Probit']\n",
    "    df = pd.DataFrame.from_dict(res[key], orient='index').reset_index()\n",
    "    df.columns = columns\n",
    "    for col in ['MLP', 'RUS BOOST', 'Logit', 'Probit']:\n",
    "         \n",
    "        try:\n",
    "            df[col] = df[col].round(3)\n",
    "        except:\n",
    "            pass\n",
    "    df.set_index(\"Train - Test : \"+str(key), inplace=True)\n",
    "    print(tabulate(df, headers='keys', tablefmt='fancy_grid'))"
   ]
  },
  {
   "cell_type": "code",
   "execution_count": null,
   "id": "d408ac8b",
   "metadata": {},
   "outputs": [],
   "source": []
  },
  {
   "cell_type": "markdown",
   "id": "0e7d0863",
   "metadata": {},
   "source": [
    "## MLP Param Tuning"
   ]
  },
  {
   "cell_type": "code",
   "execution_count": 5,
   "id": "7c031e7c",
   "metadata": {},
   "outputs": [
    {
     "name": "stdout",
     "output_type": "stream",
     "text": [
      "(1990, 1995) (1996, 2001)\n",
      "(1996, 2001) (2002, 2006)\n",
      "(2002, 2006) (2007, 2011)\n",
      "(2007, 2011) (2012, 2016)\n",
      "(2012, 2016) (2017, 2021)\n"
     ]
    }
   ],
   "source": [
    "train_batches,test_batches = data_obj.create_batches()\n",
    "\n",
    "for train_period,test_period in zip(train_batches[:-1],test_batches[:-1]):\n",
    "    print(train_period,test_period)"
   ]
  },
  {
   "cell_type": "code",
   "execution_count": 6,
   "id": "94247d66",
   "metadata": {},
   "outputs": [],
   "source": [
    "data_items = features_comp"
   ]
  },
  {
   "cell_type": "code",
   "execution_count": 7,
   "id": "8c8b9b07",
   "metadata": {},
   "outputs": [
    {
     "name": "stdout",
     "output_type": "stream",
     "text": [
      "Best Hyperparameters: {'activation': 'tanh', 'hidden_layer_sizes': (42, 40, 50, 60, 40), 'learning_rate_init': 0.001}\n",
      "Best AUC Score: 0.6932138610497707\n",
      "Test AUC Score: 0.6094481700488392\n",
      "Best Hyperparameters: {'activation': 'tanh', 'hidden_layer_sizes': (28, 30, 30, 30, 30), 'learning_rate_init': 0.001}\n",
      "Best AUC Score: 0.6785586886359776\n",
      "Test AUC Score: 0.6249807849696124\n",
      "Best Hyperparameters: {'activation': 'logistic', 'hidden_layer_sizes': (14, 40), 'learning_rate_init': 0.01}\n",
      "Best AUC Score: 0.6883302191268899\n",
      "Test AUC Score: 0.5937202403938217\n",
      "Best Hyperparameters: {'activation': 'tanh', 'hidden_layer_sizes': (14, 40), 'learning_rate_init': 0.001}\n",
      "Best AUC Score: 0.6509248327430145\n",
      "Test AUC Score: 0.4641166715014932\n",
      "Best Hyperparameters: {'activation': 'logistic', 'hidden_layer_sizes': (42, 30, 40), 'learning_rate_init': 0.001}\n",
      "Best AUC Score: 0.7779707815924033\n",
      "Test AUC Score: 0.7358577767638388\n",
      "Best Hyperparameters: {'activation': 'logistic', 'hidden_layer_sizes': (28, 40), 'learning_rate_init': 0.001}\n",
      "Best AUC Score: 0.7635639152666179\n",
      "Test AUC Score: 0.7378827268830929\n"
     ]
    },
    {
     "name": "stderr",
     "output_type": "stream",
     "text": [
      "C:\\Users\\saite\\AppData\\Local\\Programs\\Python\\Python310\\lib\\site-packages\\sklearn\\neural_network\\_multilayer_perceptron.py:679: ConvergenceWarning: Stochastic Optimizer: Maximum iterations (2000) reached and the optimization hasn't converged yet.\n",
      "  warnings.warn(\n",
      "C:\\Users\\saite\\AppData\\Local\\Programs\\Python\\Python310\\lib\\site-packages\\sklearn\\neural_network\\_multilayer_perceptron.py:679: ConvergenceWarning: Stochastic Optimizer: Maximum iterations (2000) reached and the optimization hasn't converged yet.\n",
      "  warnings.warn(\n",
      "C:\\Users\\saite\\AppData\\Local\\Programs\\Python\\Python310\\lib\\site-packages\\sklearn\\neural_network\\_multilayer_perceptron.py:679: ConvergenceWarning: Stochastic Optimizer: Maximum iterations (2000) reached and the optimization hasn't converged yet.\n",
      "  warnings.warn(\n",
      "C:\\Users\\saite\\AppData\\Local\\Programs\\Python\\Python310\\lib\\site-packages\\sklearn\\neural_network\\_multilayer_perceptron.py:679: ConvergenceWarning: Stochastic Optimizer: Maximum iterations (2000) reached and the optimization hasn't converged yet.\n",
      "  warnings.warn(\n",
      "C:\\Users\\saite\\AppData\\Local\\Programs\\Python\\Python310\\lib\\site-packages\\sklearn\\neural_network\\_multilayer_perceptron.py:679: ConvergenceWarning: Stochastic Optimizer: Maximum iterations (2000) reached and the optimization hasn't converged yet.\n",
      "  warnings.warn(\n"
     ]
    },
    {
     "name": "stdout",
     "output_type": "stream",
     "text": [
      "Best Hyperparameters: {'activation': 'logistic', 'hidden_layer_sizes': (14, 40, 50), 'learning_rate_init': 0.001}\n",
      "Best AUC Score: 0.7115028000973946\n",
      "Test AUC Score: 0.6765969719962719\n",
      "Best Hyperparameters: {'activation': 'tanh', 'hidden_layer_sizes': (14, 40), 'learning_rate_init': 0.01}\n",
      "Best AUC Score: 0.6072459952611434\n",
      "Test AUC Score: 0.6031902992528666\n",
      "Best Hyperparameters: {'activation': 'logistic', 'hidden_layer_sizes': (42, 30, 40), 'learning_rate_init': 0.001}\n",
      "Best AUC Score: 0.7450904045828857\n",
      "Test AUC Score: 0.6893268063087458\n",
      "Best Hyperparameters: {'activation': 'relu', 'hidden_layer_sizes': (28, 40, 50), 'learning_rate_init': 0.01}\n",
      "Best AUC Score: 0.7618863005728608\n",
      "Test AUC Score: 0.648777987109461\n",
      "Best Hyperparameters: {'activation': 'relu', 'hidden_layer_sizes': (14, 40, 50), 'learning_rate_init': 0.001}\n",
      "Best AUC Score: 0.6519949427139278\n",
      "Test AUC Score: 0.6287276805820385\n",
      "Best Hyperparameters: {'activation': 'tanh', 'hidden_layer_sizes': (14, 30, 40), 'learning_rate_init': 0.01}\n",
      "Best AUC Score: 0.6339506172839506\n",
      "Test AUC Score: 0.6059681929139656\n",
      "Best Hyperparameters: {'activation': 'logistic', 'hidden_layer_sizes': (42, 50), 'learning_rate_init': 0.001}\n",
      "Best AUC Score: 0.7342091379128416\n",
      "Test AUC Score: 0.7526055650475958\n",
      "Best Hyperparameters: {'activation': 'tanh', 'hidden_layer_sizes': (28, 40, 50, 60, 40), 'learning_rate_init': 0.001}\n",
      "Best AUC Score: 0.7463912630579298\n",
      "Test AUC Score: 0.6988842009832978\n",
      "Best Hyperparameters: {'activation': 'tanh', 'hidden_layer_sizes': (14, 30, 30, 30, 30), 'learning_rate_init': 0.001}\n",
      "Best AUC Score: 0.7019309908198798\n",
      "Test AUC Score: 0.6376965724048956\n"
     ]
    },
    {
     "name": "stderr",
     "output_type": "stream",
     "text": [
      "C:\\Users\\saite\\AppData\\Local\\Programs\\Python\\Python310\\lib\\site-packages\\sklearn\\neural_network\\_multilayer_perceptron.py:679: ConvergenceWarning: Stochastic Optimizer: Maximum iterations (2000) reached and the optimization hasn't converged yet.\n",
      "  warnings.warn(\n",
      "C:\\Users\\saite\\AppData\\Local\\Programs\\Python\\Python310\\lib\\site-packages\\sklearn\\neural_network\\_multilayer_perceptron.py:679: ConvergenceWarning: Stochastic Optimizer: Maximum iterations (2000) reached and the optimization hasn't converged yet.\n",
      "  warnings.warn(\n"
     ]
    },
    {
     "name": "stdout",
     "output_type": "stream",
     "text": [
      "Best Hyperparameters: {'activation': 'relu', 'hidden_layer_sizes': (14, 40, 30, 50), 'learning_rate_init': 0.001}\n",
      "Best AUC Score: 0.6264799999999999\n",
      "Test AUC Score: 0.5940969885203554\n"
     ]
    },
    {
     "name": "stderr",
     "output_type": "stream",
     "text": [
      "C:\\Users\\saite\\AppData\\Local\\Programs\\Python\\Python310\\lib\\site-packages\\sklearn\\neural_network\\_multilayer_perceptron.py:679: ConvergenceWarning: Stochastic Optimizer: Maximum iterations (2000) reached and the optimization hasn't converged yet.\n",
      "  warnings.warn(\n",
      "C:\\Users\\saite\\AppData\\Local\\Programs\\Python\\Python310\\lib\\site-packages\\sklearn\\neural_network\\_multilayer_perceptron.py:679: ConvergenceWarning: Stochastic Optimizer: Maximum iterations (2000) reached and the optimization hasn't converged yet.\n",
      "  warnings.warn(\n"
     ]
    },
    {
     "name": "stdout",
     "output_type": "stream",
     "text": [
      "Best Hyperparameters: {'activation': 'tanh', 'hidden_layer_sizes': (14, 40, 30, 50), 'learning_rate_init': 0.1}\n",
      "Best AUC Score: 0.6059259259259259\n",
      "Test AUC Score: 0.39256489021375596\n"
     ]
    }
   ],
   "source": [
    "from results.models import mlp_grid_search\n",
    "model = mlp_grid_search\n",
    "res = defaultdict(lambda: defaultdict(dict))\n",
    "\n",
    "\n",
    "for train_period,test_period in zip(train_batches[:-1],test_batches[:-1]):\n",
    "\n",
    "    for data_item in data_items.keys():\n",
    "        \n",
    "        param_grid = {\n",
    "            'activation': ['logistic', 'tanh', 'relu'],\n",
    "            'hidden_layer_sizes': [\n",
    "                (len(data_items[data_item]), 40),\n",
    "                (len(data_items[data_item]), 50),\n",
    "                (len(data_items[data_item]), 40, 50),\n",
    "                (len(data_items[data_item]), 30, 40),\n",
    "                (len(data_items[data_item]), 40, 30, 50),\n",
    "                (len(data_items[data_item]), 30, 40, 30),\n",
    "                (len(data_items[data_item]), 40, 50, 60, 40),\n",
    "                (len(data_items[data_item]), 50, 50, 50, 50),\n",
    "                (len(data_items[data_item]), 30, 30, 30, 30)\n",
    "                ],\n",
    "            'learning_rate_init': [0.001, 0.01, 0.1]\n",
    "            }\n",
    "        auc = results(data_obj,train_period,test_period,data_items[data_item],model,param_grid)\n",
    "        res[str(train_period) + '-' +str(test_period)][data_item] = auc\n",
    "    for ben_item in ben_items.keys():\n",
    "        auc = results(ben_obj,train_period,test_period,ben_items[ben_item],model,param_grid)\n",
    "        res[str(train_period) + '-' +str(test_period)][ben_item] = auc\n",
    "        \n",
    "        "
   ]
  },
  {
   "cell_type": "code",
   "execution_count": 9,
   "id": "f416b4bd",
   "metadata": {},
   "outputs": [
    {
     "data": {
      "text/plain": [
       "defaultdict(<function __main__.<lambda>()>,\n",
       "            {'(1990, 1995)-(1996, 2001)': defaultdict(dict,\n",
       "                         {'28 Raw Financial Items + 14 Financial Ratios': 0.6094481700488392,\n",
       "                          '28 Raw Financial Items': 0.6249807849696124,\n",
       "                          '14 Financial Ratios': 0.5937202403938217,\n",
       "                          'Calculated M score Feat': 0.4641166715014932}),\n",
       "             '(1996, 2001)-(2002, 2006)': defaultdict(dict,\n",
       "                         {'28 Raw Financial Items + 14 Financial Ratios': 0.7358577767638388,\n",
       "                          '28 Raw Financial Items': 0.7378827268830929,\n",
       "                          '14 Financial Ratios': 0.6765969719962719,\n",
       "                          'Calculated M score Feat': 0.6031902992528666}),\n",
       "             '(2002, 2006)-(2007, 2011)': defaultdict(dict,\n",
       "                         {'28 Raw Financial Items + 14 Financial Ratios': 0.6893268063087458,\n",
       "                          '28 Raw Financial Items': 0.648777987109461,\n",
       "                          '14 Financial Ratios': 0.6287276805820385,\n",
       "                          'Calculated M score Feat': 0.6059681929139656}),\n",
       "             '(2007, 2011)-(2012, 2016)': defaultdict(dict,\n",
       "                         {'28 Raw Financial Items + 14 Financial Ratios': 0.7526055650475958,\n",
       "                          '28 Raw Financial Items': 0.6988842009832978,\n",
       "                          '14 Financial Ratios': 0.6376965724048956,\n",
       "                          'Calculated M score Feat': 0.5940969885203554}),\n",
       "             '(2012, 2016)-(2017, 2021)': defaultdict(dict,\n",
       "                         {'28 Raw Financial Items + 14 Financial Ratios': 'Done',\n",
       "                          '28 Raw Financial Items': 'Done',\n",
       "                          '14 Financial Ratios': 'Done',\n",
       "                          'Calculated M score Feat': 0.39256489021375596})})"
      ]
     },
     "execution_count": 9,
     "metadata": {},
     "output_type": "execute_result"
    }
   ],
   "source": [
    "res"
   ]
  },
  {
   "cell_type": "code",
   "execution_count": null,
   "id": "d4843ce1",
   "metadata": {},
   "outputs": [],
   "source": []
  },
  {
   "cell_type": "code",
   "execution_count": null,
   "id": "bbcc893a",
   "metadata": {},
   "outputs": [],
   "source": []
  },
  {
   "cell_type": "code",
   "execution_count": null,
   "id": "91cc213f",
   "metadata": {},
   "outputs": [],
   "source": [
    "from sklearn.neural_network import MLPClassifier\n",
    "from sklearn.metrics import roc_auc_score\n",
    "from sklearn.model_selection import GridSearchCV, train_test_split\n",
    "\n",
    "\n",
    "\n",
    "for train_period,test_period in zip(train_batches[:-1],test_batches[:-1]):\n",
    "    train_data, validation_data, test_data = data_obj.split_data_periods(train_period, test_period)\n",
    "    for item in data_items.keys():\n",
    "        \n",
    "        param_grid = {\n",
    "                    'activation': ['logistic', 'tanh', 'relu'],\n",
    "                    'hidden_layer_sizes': [\n",
    "                        (len(data_items[item]), 40),\n",
    "                        (len(data_items[item]), 50),\n",
    "                        (len(data_items[item]), 40, 50),\n",
    "                        (len(data_items[item]), 30, 40),\n",
    "                        (len(data_items[item]), 40, 30, 50),\n",
    "                        (len(data_items[item]), 30, 40, 30),\n",
    "                        (len(data_items[item]), 40, 50, 60, 40),\n",
    "                        (len(data_items[item]), 50, 50, 50, 50),\n",
    "                        (len(data_items[item]), 30, 30, 30, 30)\n",
    "                    ],\n",
    "                    'learning_rate_init': [0.001, 0.01, 0.1]\n",
    "                }\n",
    "\n",
    "        \n",
    "        train_data, validation_data, test_data = null_check(data_items[item], train_data, validation_data, test_data)\n",
    "    \n",
    "        X_train, y_train = train_data[data_items[item]], train_data['misstate']\n",
    "        X_test, y_test = test_data[data_items[item]], test_data['misstate']\n",
    "        rus = RandomUnderSampler(random_state=42)\n",
    "        X_train_resampled, y_train_resampled = rus.fit_resample(X_train, y_train)\n",
    "        mlp_model = MLPClassifier(max_iter=10000, random_state=42, verbose=False,early_stopping=True)\n",
    "        grid_search = GridSearchCV(estimator=mlp_model, param_grid=param_grid, scoring='roc_auc', cv=5)\n",
    "        grid_search.fit(X_train_resampled, y_train_resampled)\n",
    "\n",
    "        best_params = grid_search.best_params_\n",
    "        best_auc = grid_search.best_score_\n",
    "        test_auc = grid_search.score(X_test, y_test)\n",
    "        print(\"Best Hyperparameters:\", best_params)\n",
    "        print(\"Best AUC Score:\", best_auc)\n",
    "        print(\"Test AUC Score:\", test_auc)\n"
   ]
  },
  {
   "cell_type": "code",
   "execution_count": null,
   "id": "9205dad7",
   "metadata": {},
   "outputs": [],
   "source": []
  }
 ],
 "metadata": {
  "kernelspec": {
   "display_name": "Python 3 (ipykernel)",
   "language": "python",
   "name": "python3"
  },
  "language_info": {
   "codemirror_mode": {
    "name": "ipython",
    "version": 3
   },
   "file_extension": ".py",
   "mimetype": "text/x-python",
   "name": "python",
   "nbconvert_exporter": "python",
   "pygments_lexer": "ipython3",
   "version": "3.10.6"
  }
 },
 "nbformat": 4,
 "nbformat_minor": 5
}

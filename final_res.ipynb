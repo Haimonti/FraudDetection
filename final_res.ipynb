{
 "cells": [
  {
   "cell_type": "code",
   "execution_count": 1,
   "id": "70de7248",
   "metadata": {},
   "outputs": [],
   "source": [
    "import pandas as pd\n",
    "import numpy as np"
   ]
  },
  {
   "cell_type": "code",
   "execution_count": 2,
   "id": "6792f395",
   "metadata": {},
   "outputs": [],
   "source": [
    "df = pd.read_csv('./data/merged_compustat_and_labels.csv')"
   ]
  },
  {
   "cell_type": "code",
   "execution_count": 3,
   "id": "6c10ad41",
   "metadata": {},
   "outputs": [
    {
     "data": {
      "text/plain": [
       "Index(['gvkey', 'datadate', 'fyear', 'indfmt', 'consol', 'popsrc', 'datafmt',\n",
       "       'tic', 'cusip', 'conm', 'curcd', 'fyr', 'act', 'ap', 'at', 'ceq', 'che',\n",
       "       'cogs', 'csho', 'dlc', 'dltis', 'dltt', 'dp', 'ib', 'invt', 'ivao',\n",
       "       'ivst', 'lct', 'lt', 'ni', 'ppegt', 'ppent', 'pstk', 're', 'rect',\n",
       "       'sale', 'sstk', 'txp', 'txt', 'xint', 'cik', 'costat', 'prcc_f',\n",
       "       'conml', 'sic', 'Bank', 'dch_wc', 'ch_rsst', 'dch_rec', 'dch_inv',\n",
       "       'soft_assets', 'ch_cs', 'ch_cm', 'ch_roa', 'issue', 'bm', 'dpi', 'reoa',\n",
       "       'EBIT', 'ch_fcf', 'misstate'],\n",
       "      dtype='object')"
      ]
     },
     "execution_count": 3,
     "metadata": {},
     "output_type": "execute_result"
    }
   ],
   "source": [
    "df.columns"
   ]
  },
  {
   "cell_type": "code",
   "execution_count": 4,
   "id": "6cfca3dc",
   "metadata": {},
   "outputs": [
    {
     "data": {
      "text/html": [
       "<div>\n",
       "<style scoped>\n",
       "    .dataframe tbody tr th:only-of-type {\n",
       "        vertical-align: middle;\n",
       "    }\n",
       "\n",
       "    .dataframe tbody tr th {\n",
       "        vertical-align: top;\n",
       "    }\n",
       "\n",
       "    .dataframe thead th {\n",
       "        text-align: right;\n",
       "    }\n",
       "</style>\n",
       "<table border=\"1\" class=\"dataframe\">\n",
       "  <thead>\n",
       "    <tr style=\"text-align: right;\">\n",
       "      <th></th>\n",
       "      <th>gvkey</th>\n",
       "      <th>datadate</th>\n",
       "      <th>fyear</th>\n",
       "      <th>indfmt</th>\n",
       "      <th>consol</th>\n",
       "      <th>popsrc</th>\n",
       "      <th>datafmt</th>\n",
       "      <th>tic</th>\n",
       "      <th>cusip</th>\n",
       "      <th>conm</th>\n",
       "      <th>...</th>\n",
       "      <th>ch_cs</th>\n",
       "      <th>ch_cm</th>\n",
       "      <th>ch_roa</th>\n",
       "      <th>issue</th>\n",
       "      <th>bm</th>\n",
       "      <th>dpi</th>\n",
       "      <th>reoa</th>\n",
       "      <th>EBIT</th>\n",
       "      <th>ch_fcf</th>\n",
       "      <th>misstate</th>\n",
       "    </tr>\n",
       "  </thead>\n",
       "  <tbody>\n",
       "    <tr>\n",
       "      <th>0</th>\n",
       "      <td>1003</td>\n",
       "      <td>1990-01-31</td>\n",
       "      <td>1989</td>\n",
       "      <td>INDL</td>\n",
       "      <td>C</td>\n",
       "      <td>D</td>\n",
       "      <td>STD</td>\n",
       "      <td>ANTQ</td>\n",
       "      <td>000354100</td>\n",
       "      <td>A.A. IMPORTING CO INC</td>\n",
       "      <td>...</td>\n",
       "      <td>NaN</td>\n",
       "      <td>NaN</td>\n",
       "      <td>NaN</td>\n",
       "      <td>1</td>\n",
       "      <td>-1.240403</td>\n",
       "      <td>NaN</td>\n",
       "      <td>-0.403403</td>\n",
       "      <td>-0.087941</td>\n",
       "      <td>NaN</td>\n",
       "      <td>0</td>\n",
       "    </tr>\n",
       "    <tr>\n",
       "      <th>1</th>\n",
       "      <td>1004</td>\n",
       "      <td>1990-05-31</td>\n",
       "      <td>1989</td>\n",
       "      <td>INDL</td>\n",
       "      <td>C</td>\n",
       "      <td>D</td>\n",
       "      <td>STD</td>\n",
       "      <td>AIR</td>\n",
       "      <td>000361105</td>\n",
       "      <td>AAR CORP</td>\n",
       "      <td>...</td>\n",
       "      <td>NaN</td>\n",
       "      <td>NaN</td>\n",
       "      <td>NaN</td>\n",
       "      <td>1</td>\n",
       "      <td>0.554652</td>\n",
       "      <td>5.380405</td>\n",
       "      <td>0.240520</td>\n",
       "      <td>0.123916</td>\n",
       "      <td>27.257486</td>\n",
       "      <td>0</td>\n",
       "    </tr>\n",
       "    <tr>\n",
       "      <th>2</th>\n",
       "      <td>1004</td>\n",
       "      <td>1991-05-31</td>\n",
       "      <td>1990</td>\n",
       "      <td>INDL</td>\n",
       "      <td>C</td>\n",
       "      <td>D</td>\n",
       "      <td>STD</td>\n",
       "      <td>AIR</td>\n",
       "      <td>000361105</td>\n",
       "      <td>AAR CORP</td>\n",
       "      <td>...</td>\n",
       "      <td>0.32954</td>\n",
       "      <td>0.297848</td>\n",
       "      <td>-0.090196</td>\n",
       "      <td>0</td>\n",
       "      <td>0.863306</td>\n",
       "      <td>0.882711</td>\n",
       "      <td>0.262695</td>\n",
       "      <td>0.082704</td>\n",
       "      <td>-10.874040</td>\n",
       "      <td>0</td>\n",
       "    </tr>\n",
       "  </tbody>\n",
       "</table>\n",
       "<p>3 rows × 61 columns</p>\n",
       "</div>"
      ],
      "text/plain": [
       "   gvkey    datadate  fyear indfmt consol popsrc datafmt   tic      cusip  \\\n",
       "0   1003  1990-01-31   1989   INDL      C      D     STD  ANTQ  000354100   \n",
       "1   1004  1990-05-31   1989   INDL      C      D     STD   AIR  000361105   \n",
       "2   1004  1991-05-31   1990   INDL      C      D     STD   AIR  000361105   \n",
       "\n",
       "                    conm  ...    ch_cs     ch_cm    ch_roa  issue        bm  \\\n",
       "0  A.A. IMPORTING CO INC  ...      NaN       NaN       NaN      1 -1.240403   \n",
       "1               AAR CORP  ...      NaN       NaN       NaN      1  0.554652   \n",
       "2               AAR CORP  ...  0.32954  0.297848 -0.090196      0  0.863306   \n",
       "\n",
       "        dpi      reoa      EBIT     ch_fcf  misstate  \n",
       "0       NaN -0.403403 -0.087941        NaN         0  \n",
       "1  5.380405  0.240520  0.123916  27.257486         0  \n",
       "2  0.882711  0.262695  0.082704 -10.874040         0  \n",
       "\n",
       "[3 rows x 61 columns]"
      ]
     },
     "execution_count": 4,
     "metadata": {},
     "output_type": "execute_result"
    }
   ],
   "source": [
    "df.head(3)"
   ]
  },
  {
   "cell_type": "code",
   "execution_count": 5,
   "id": "fab4efb3",
   "metadata": {},
   "outputs": [
    {
     "data": {
      "text/plain": [
       "0    266737\n",
       "1      1376\n",
       "Name: misstate, dtype: int64"
      ]
     },
     "execution_count": 5,
     "metadata": {},
     "output_type": "execute_result"
    }
   ],
   "source": [
    "df[['fyear','misstate']]['misstate'].value_counts()"
   ]
  },
  {
   "cell_type": "code",
   "execution_count": 6,
   "id": "c48f501c",
   "metadata": {},
   "outputs": [
    {
     "data": {
      "text/plain": [
       "fyear\n",
       "1989      5\n",
       "1990     22\n",
       "1991     38\n",
       "1992     36\n",
       "1993     40\n",
       "1994     31\n",
       "1995     36\n",
       "1996     42\n",
       "1997     57\n",
       "1998     72\n",
       "1999    103\n",
       "2000    126\n",
       "2001    124\n",
       "2002    104\n",
       "2003     87\n",
       "2004     70\n",
       "2005     55\n",
       "2006     37\n",
       "2007     36\n",
       "2008     29\n",
       "2009     36\n",
       "2010     34\n",
       "2011     27\n",
       "2012     32\n",
       "2013     26\n",
       "2014     20\n",
       "2015     14\n",
       "2016     18\n",
       "2017     11\n",
       "2018      6\n",
       "2019      2\n",
       "2020      0\n",
       "2021      0\n",
       "2022      0\n",
       "2023      0\n",
       "Name: misstate, dtype: int64"
      ]
     },
     "execution_count": 6,
     "metadata": {},
     "output_type": "execute_result"
    }
   ],
   "source": [
    "df.groupby('fyear')['misstate'].sum()"
   ]
  },
  {
   "cell_type": "markdown",
   "id": "232e90b1",
   "metadata": {},
   "source": [
    "#### Retrain all of them"
   ]
  },
  {
   "cell_type": "code",
   "execution_count": 1,
   "id": "0270301a",
   "metadata": {},
   "outputs": [],
   "source": [
    "import pandas as pd\n",
    "import numpy as np\n",
    "from MLP.utils import datasets,plot_table,train_model\n",
    "from sklearn import metrics\n",
    "from imblearn.under_sampling import RandomUnderSampler\n",
    "from tabulate import tabulate\n",
    "import matplotlib.pyplot as plt\n",
    "from results.data_processing import DataProcessor\n",
    "from results.utils import evaluate,null_check,results\n",
    "from results.models import rus_boost, svm_model, xgb_model, logistic_regression_model,probit_regression_model,MLP,mlp_grid_search, random_forests\n",
    "import json\n",
    "from collections import defaultdict"
   ]
  },
  {
   "cell_type": "code",
   "execution_count": 2,
   "id": "91a15e6f",
   "metadata": {},
   "outputs": [],
   "source": [
    "data = pd.read_csv('./data/merged_compustat_and_labels.csv')\n",
    "with open('MLP/features.json') as json_file:\n",
    "    features_comp = json.load(json_file)"
   ]
  },
  {
   "cell_type": "code",
   "execution_count": 3,
   "id": "c82c74fb",
   "metadata": {},
   "outputs": [],
   "source": [
    "import numpy as np\n",
    "models = {\"MLP\": MLP,\n",
    "         \"RUS BOOST\": rus_boost,\n",
    "          \"Logit\":logistic_regression_model,\n",
    "         \"Probit\":probit_regression_model,\n",
    "         \"Xg Boost\":xgb_model}"
   ]
  },
  {
   "cell_type": "code",
   "execution_count": 4,
   "id": "2be75486",
   "metadata": {
    "scrolled": true
   },
   "outputs": [
    {
     "data": {
      "text/plain": [
       "0    266737\n",
       "1      1376\n",
       "Name: misstate, dtype: int64"
      ]
     },
     "execution_count": 4,
     "metadata": {},
     "output_type": "execute_result"
    }
   ],
   "source": [
    "data['misstate'].value_counts()"
   ]
  },
  {
   "cell_type": "code",
   "execution_count": 5,
   "id": "101c4513",
   "metadata": {},
   "outputs": [],
   "source": [
    "data.replace([np.inf, -np.inf], np.nan, inplace=True)"
   ]
  },
  {
   "cell_type": "code",
   "execution_count": 6,
   "id": "775b828b",
   "metadata": {},
   "outputs": [],
   "source": [
    "data = data.fillna(0)"
   ]
  },
  {
   "cell_type": "markdown",
   "id": "3616a3d9",
   "metadata": {},
   "source": [
    "### Batch Processing\n",
    "\n",
    "Batch:\n",
    "\t\tTrain : (1990,2002)\n",
    "\t\tTest :  (2003,2019)\n",
    "\t\t\n",
    "\t\tRun on undersample data : Bao, XgBoost,  probit, logit, MLP\n",
    "\t\t\n",
    "\t\tOversample data and run all models: Bao, XgBoost,  probit, logit, MLP"
   ]
  },
  {
   "cell_type": "code",
   "execution_count": 7,
   "id": "2d0fd1fa",
   "metadata": {},
   "outputs": [],
   "source": [
    "test_periods = [(2003,2019)]\n",
    "data_obj = DataProcessor(data,(1990,2002), (2002,2002), (2003,2014), 5)"
   ]
  },
  {
   "cell_type": "code",
   "execution_count": 8,
   "id": "5fa92c47",
   "metadata": {},
   "outputs": [
    {
     "name": "stdout",
     "output_type": "stream",
     "text": [
      "Optimization terminated successfully.\n",
      "         Current function value: 0.579011\n",
      "         Iterations 10\n",
      "Optimization terminated successfully.\n",
      "         Current function value: 0.598600\n",
      "         Iterations 10\n",
      "Optimization terminated successfully.\n",
      "         Current function value: 0.624152\n",
      "         Iterations 8\n",
      "Test AUC Score: 0.6701160290397631\n",
      "Test AUC Score: 0.6575388747299562\n",
      "Test AUC Score: 0.6679662459356145\n"
     ]
    }
   ],
   "source": [
    "data_items = features_comp\n",
    "train_period = (1990,2002)\n",
    "res = defaultdict(lambda: defaultdict(dict))\n",
    "for test_period in test_periods:\n",
    "    for model in models.keys():\n",
    "        for data_item in data_items.keys():\n",
    "            auc = results(data_obj,train_period,test_period,data_items[data_item],models[model])\n",
    "            res[test_period][data_item][model] = auc"
   ]
  },
  {
   "cell_type": "code",
   "execution_count": 9,
   "id": "d03fe2fd",
   "metadata": {},
   "outputs": [
    {
     "data": {
      "text/plain": [
       "defaultdict(<function __main__.<lambda>()>,\n",
       "            {(2003,\n",
       "              2019): defaultdict(dict,\n",
       "                         {'features': {'MLP': 0.6138772530364529,\n",
       "                           'RUS BOOST': 0.7103304849241503,\n",
       "                           'Logit': 0.6299340912072732,\n",
       "                           'Probit': 0.6401794666980123,\n",
       "                           'Xg Boost': 0.6701160290397631},\n",
       "                          'raw_financial_items_28': {'MLP': 0.6099790495289557,\n",
       "                           'RUS BOOST': 0.6944388268804814,\n",
       "                           'Logit': 0.6217356536172955,\n",
       "                           'Probit': 0.6248934369636598,\n",
       "                           'Xg Boost': 0.6575388747299562},\n",
       "                          'financial_ratios_14': {'MLP': 0.6017435226593385,\n",
       "                           'RUS BOOST': 0.6789267736808892,\n",
       "                           'Logit': 0.6319123493795301,\n",
       "                           'Probit': 0.6327112753191103,\n",
       "                           'Xg Boost': 0.6679662459356145}})})"
      ]
     },
     "execution_count": 9,
     "metadata": {},
     "output_type": "execute_result"
    }
   ],
   "source": [
    "res"
   ]
  },
  {
   "cell_type": "code",
   "execution_count": null,
   "id": "3d920870",
   "metadata": {},
   "outputs": [],
   "source": []
  },
  {
   "cell_type": "code",
   "execution_count": null,
   "id": "f80d6fb9",
   "metadata": {},
   "outputs": [],
   "source": []
  },
  {
   "cell_type": "code",
   "execution_count": null,
   "id": "4cde0d3a",
   "metadata": {},
   "outputs": [],
   "source": []
  },
  {
   "cell_type": "code",
   "execution_count": null,
   "id": "9b01a8ac",
   "metadata": {},
   "outputs": [],
   "source": []
  },
  {
   "cell_type": "code",
   "execution_count": null,
   "id": "6aaa2a76",
   "metadata": {},
   "outputs": [],
   "source": []
  },
  {
   "cell_type": "code",
   "execution_count": null,
   "id": "48e8fb89",
   "metadata": {},
   "outputs": [],
   "source": []
  },
  {
   "cell_type": "code",
   "execution_count": null,
   "id": "17314e58",
   "metadata": {},
   "outputs": [],
   "source": []
  },
  {
   "cell_type": "code",
   "execution_count": null,
   "id": "253ab1fb",
   "metadata": {},
   "outputs": [],
   "source": []
  },
  {
   "cell_type": "code",
   "execution_count": null,
   "id": "b1833a36",
   "metadata": {},
   "outputs": [],
   "source": []
  },
  {
   "cell_type": "code",
   "execution_count": null,
   "id": "d0a440c0",
   "metadata": {},
   "outputs": [],
   "source": []
  },
  {
   "cell_type": "code",
   "execution_count": null,
   "id": "100df4e7",
   "metadata": {},
   "outputs": [],
   "source": []
  },
  {
   "cell_type": "code",
   "execution_count": null,
   "id": "0f562cd0",
   "metadata": {},
   "outputs": [],
   "source": []
  },
  {
   "cell_type": "code",
   "execution_count": null,
   "id": "dae62c25",
   "metadata": {},
   "outputs": [],
   "source": []
  }
 ],
 "metadata": {
  "kernelspec": {
   "display_name": "Python 3 (ipykernel)",
   "language": "python",
   "name": "python3"
  },
  "language_info": {
   "codemirror_mode": {
    "name": "ipython",
    "version": 3
   },
   "file_extension": ".py",
   "mimetype": "text/x-python",
   "name": "python",
   "nbconvert_exporter": "python",
   "pygments_lexer": "ipython3",
   "version": "3.10.6"
  }
 },
 "nbformat": 4,
 "nbformat_minor": 5
}

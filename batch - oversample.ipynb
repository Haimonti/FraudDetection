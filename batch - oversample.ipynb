{
 "cells": [
  {
   "cell_type": "code",
   "execution_count": 1,
   "id": "b8aa022b",
   "metadata": {},
   "outputs": [],
   "source": [
    "import pandas as pd\n",
    "import numpy as np\n",
    "from MLP.utils import datasets,plot_table,train_model\n",
    "from sklearn import metrics\n",
    "from imblearn.under_sampling import RandomUnderSampler\n",
    "from tabulate import tabulate\n",
    "import matplotlib.pyplot as plt\n",
    "from results.data_processing import DataProcessor\n",
    "from results.utils import evaluate,null_check,results\n",
    "from results.models import rus_boost, svm_model, xgb_model, logistic_regression_model,probit_regression_model,MLP,mlp_grid_search, random_forests\n",
    "import json\n",
    "from collections import defaultdict"
   ]
  },
  {
   "cell_type": "code",
   "execution_count": 2,
   "id": "2f3fa7de",
   "metadata": {},
   "outputs": [],
   "source": [
    "data = pd.read_csv('./data/merged_compustat_and_labels.csv')\n",
    "with open('MLP/features.json') as json_file:\n",
    "    data_items = json.load(json_file)\n",
    "\n",
    "data.replace([np.inf, -np.inf], np.nan, inplace=True)\n",
    "\n",
    "data = data.fillna(0)\n",
    "\n",
    "data_obj = DataProcessor(data,(1990,2002), (2002,2002), (2003,2019), 5)"
   ]
  },
  {
   "cell_type": "code",
   "execution_count": 3,
   "id": "81529029",
   "metadata": {},
   "outputs": [],
   "source": [
    "models = {\"MLP\": MLP,\n",
    "         \"RUS BOOST\": rus_boost,\n",
    "          \"Logit\":logistic_regression_model,\n",
    "         \"Probit\":probit_regression_model,\n",
    "         \"Xg Boost\":xgb_model}"
   ]
  },
  {
   "cell_type": "markdown",
   "id": "d513850b",
   "metadata": {},
   "source": [
    "---"
   ]
  },
  {
   "cell_type": "markdown",
   "id": "bd5064d7",
   "metadata": {},
   "source": [
    "-----"
   ]
  },
  {
   "cell_type": "markdown",
   "id": "a7622d26",
   "metadata": {},
   "source": [
    "### Batch Processing"
   ]
  },
  {
   "cell_type": "code",
   "execution_count": 4,
   "id": "1fe8ae03",
   "metadata": {},
   "outputs": [],
   "source": [
    "test_periods = [(2003,2019)]"
   ]
  },
  {
   "cell_type": "code",
   "execution_count": 5,
   "id": "c8ccdd86",
   "metadata": {},
   "outputs": [
    {
     "name": "stdout",
     "output_type": "stream",
     "text": [
      "Optimization terminated successfully.\n",
      "         Current function value: 0.579011\n",
      "         Iterations 10\n",
      "Optimization terminated successfully.\n",
      "         Current function value: 0.598600\n",
      "         Iterations 10\n",
      "Optimization terminated successfully.\n",
      "         Current function value: 0.624152\n",
      "         Iterations 8\n",
      "Test AUC Score: 0.6701160290397631\n",
      "Test AUC Score: 0.6575388747299562\n",
      "Test AUC Score: 0.6679662459356145\n"
     ]
    }
   ],
   "source": [
    "train_period = (1990,2002)\n",
    "res = defaultdict(lambda: defaultdict(dict))\n",
    "for test_period in test_periods:\n",
    "    for model in models.keys():\n",
    "        for data_item in data_items.keys():\n",
    "            auc = results(data_obj,train_period,test_period,data_items[data_item],models[model],'over')\n",
    "            res[test_period][data_item][model] = auc"
   ]
  },
  {
   "cell_type": "code",
   "execution_count": 6,
   "id": "57a3aa61",
   "metadata": {},
   "outputs": [
    {
     "data": {
      "text/plain": [
       "defaultdict(<function __main__.<lambda>()>,\n",
       "            {(2003,\n",
       "              2019): defaultdict(dict,\n",
       "                         {'features': {'MLP': 0.6138772530364529,\n",
       "                           'RUS BOOST': 0.6981484449811184,\n",
       "                           'Logit': 0.6299340912072732,\n",
       "                           'Probit': 0.6401794666980123,\n",
       "                           'Xg Boost': 0.6701160290397631},\n",
       "                          'raw_financial_items_28': {'MLP': 0.6099790495289557,\n",
       "                           'RUS BOOST': 0.6935936098391818,\n",
       "                           'Logit': 0.6217356536172955,\n",
       "                           'Probit': 0.6248934369636598,\n",
       "                           'Xg Boost': 0.6575388747299562},\n",
       "                          'financial_ratios_14': {'MLP': 0.6017435226593385,\n",
       "                           'RUS BOOST': 0.6781667031771219,\n",
       "                           'Logit': 0.6319123493795301,\n",
       "                           'Probit': 0.6327112753191103,\n",
       "                           'Xg Boost': 0.6679662459356145}})})"
      ]
     },
     "execution_count": 6,
     "metadata": {},
     "output_type": "execute_result"
    }
   ],
   "source": [
    "res"
   ]
  },
  {
   "cell_type": "code",
   "execution_count": null,
   "id": "08275772",
   "metadata": {},
   "outputs": [],
   "source": []
  },
  {
   "cell_type": "code",
   "execution_count": null,
   "id": "e2e17a59",
   "metadata": {},
   "outputs": [],
   "source": []
  },
  {
   "cell_type": "markdown",
   "id": "8b10ee1b",
   "metadata": {},
   "source": [
    "## Batch - Tuning"
   ]
  },
  {
   "cell_type": "code",
   "execution_count": 7,
   "id": "34714046",
   "metadata": {},
   "outputs": [
    {
     "name": "stdout",
     "output_type": "stream",
     "text": [
      "Best Hyperparameters: {'activation': 'logistic', 'hidden_layer_sizes': (41, 50), 'learning_rate_init': 0.001}\n",
      "Best AUC Score: 0.6750913762546036\n",
      "Test AUC Score: 0.6493749884977225\n",
      "Best Hyperparameters: {'activation': 'logistic', 'hidden_layer_sizes': (28, 30, 30, 30, 30), 'learning_rate_init': 0.001}\n",
      "Best AUC Score: 0.6916270449375599\n",
      "Test AUC Score: 0.6498537355538816\n",
      "Best Hyperparameters: {'activation': 'logistic', 'hidden_layer_sizes': (14, 30, 40), 'learning_rate_init': 0.001}\n",
      "Best AUC Score: 0.6887016357762049\n",
      "Test AUC Score: 0.6433061938948582\n"
     ]
    }
   ],
   "source": [
    "res = defaultdict(lambda: defaultdict(dict))\n",
    "for test_period in test_periods:\n",
    "    for data_item in data_items.keys():\n",
    "        param_grid = {\n",
    "            'activation': ['logistic', 'tanh', 'relu'],\n",
    "            'hidden_layer_sizes': [\n",
    "                (len(data_items[data_item]), 40),\n",
    "                (len(data_items[data_item]), 50),\n",
    "                (len(data_items[data_item]), 40, 50),\n",
    "                (len(data_items[data_item]), 30, 40),\n",
    "                (len(data_items[data_item]), 40, 30, 50),\n",
    "                (len(data_items[data_item]), 30, 40, 30),\n",
    "                (len(data_items[data_item]), 40, 50, 60, 40),\n",
    "                (len(data_items[data_item]), 50, 50, 50, 50),\n",
    "                (len(data_items[data_item]), 30, 30, 30, 30)\n",
    "                ],\n",
    "            'learning_rate_init': [0.001, 0.01, 0.1]\n",
    "            }\n",
    "        auc = results(data_obj,train_period,test_period,data_items[data_item],mlp_grid_search,param_grid,'over')\n",
    "        res[test_period][data_item] = auc"
   ]
  },
  {
   "cell_type": "code",
   "execution_count": 8,
   "id": "308c9f5e",
   "metadata": {},
   "outputs": [
    {
     "data": {
      "text/plain": [
       "defaultdict(<function __main__.<lambda>()>,\n",
       "            {(2003,\n",
       "              2019): defaultdict(dict,\n",
       "                         {'features': 0.6493749884977225,\n",
       "                          'raw_financial_items_28': 0.6498537355538816,\n",
       "                          'financial_ratios_14': 0.6433061938948582})})"
      ]
     },
     "execution_count": 8,
     "metadata": {},
     "output_type": "execute_result"
    }
   ],
   "source": [
    "res"
   ]
  },
  {
   "cell_type": "code",
   "execution_count": 9,
   "id": "e1213343",
   "metadata": {},
   "outputs": [
    {
     "name": "stdout",
     "output_type": "stream",
     "text": [
      "Best Hyperparameters: {'activation': 'relu', 'hidden_layer_sizes': (41, 40, 30, 50, 20), 'learning_rate_init': 0.001}\n",
      "Best AUC Score: 0.6865363988237778\n",
      "Test AUC Score: 0.5991588050454482\n",
      "Best Hyperparameters: {'activation': 'logistic', 'hidden_layer_sizes': (28, 20), 'learning_rate_init': 0.001}\n",
      "Best AUC Score: 0.7010594212938617\n",
      "Test AUC Score: 0.6536590897082667\n",
      "Best Hyperparameters: {'activation': 'logistic', 'hidden_layer_sizes': (14, 30, 40), 'learning_rate_init': 0.001}\n",
      "Best AUC Score: 0.6887016357762049\n",
      "Test AUC Score: 0.6433061938948582\n"
     ]
    }
   ],
   "source": [
    "res = defaultdict(lambda: defaultdict(dict))\n",
    "for test_period in test_periods:\n",
    "    for data_item in data_items.keys():\n",
    "        param_grid = {\n",
    "            'activation': ['logistic', 'tanh', 'relu'],\n",
    "            'hidden_layer_sizes': [\n",
    "                (len(data_items[data_item]), 20),\n",
    "                (len(data_items[data_item]), 30),\n",
    "                (len(data_items[data_item]), 40, 50, 10),\n",
    "                (len(data_items[data_item]), 30, 40, 10),\n",
    "                (len(data_items[data_item]), 40, 30, 50, 20),\n",
    "                (len(data_items[data_item]), 30, 40),\n",
    "                (len(data_items[data_item]), 40, 50, 40, 40,20),\n",
    "                (len(data_items[data_item]), 30, 50, 50, 40,45),\n",
    "                (len(data_items[data_item]), 20,30,40,50,20)\n",
    "                ],\n",
    "            'learning_rate_init': [0.001, 0.01, 0.05, 0.09, 0.1, 0.5]\n",
    "            }\n",
    "        auc = results(data_obj,train_period,test_period,data_items[data_item],mlp_grid_search,param_grid,'over')\n",
    "        res[test_period][data_item] = auc"
   ]
  },
  {
   "cell_type": "code",
   "execution_count": 10,
   "id": "daa71aa7",
   "metadata": {},
   "outputs": [
    {
     "data": {
      "text/plain": [
       "defaultdict(<function __main__.<lambda>()>,\n",
       "            {(2003,\n",
       "              2019): defaultdict(dict,\n",
       "                         {'features': 0.5991588050454482,\n",
       "                          'raw_financial_items_28': 0.6536590897082667,\n",
       "                          'financial_ratios_14': 0.6433061938948582})})"
      ]
     },
     "execution_count": 10,
     "metadata": {},
     "output_type": "execute_result"
    }
   ],
   "source": [
    "res"
   ]
  },
  {
   "cell_type": "code",
   "execution_count": null,
   "id": "aedecf0d",
   "metadata": {},
   "outputs": [],
   "source": [
    "pd.DataFrame.from_dict(res[key], orient='index')"
   ]
  },
  {
   "cell_type": "code",
   "execution_count": null,
   "id": "af250282",
   "metadata": {},
   "outputs": [],
   "source": []
  },
  {
   "cell_type": "markdown",
   "id": "eb4532dd",
   "metadata": {},
   "source": [
    "------------\n",
    "_____________"
   ]
  },
  {
   "cell_type": "markdown",
   "id": "927d76b9",
   "metadata": {},
   "source": [
    "## XgBoost Tuning"
   ]
  },
  {
   "cell_type": "code",
   "execution_count": 11,
   "id": "1e75a176",
   "metadata": {},
   "outputs": [
    {
     "name": "stdout",
     "output_type": "stream",
     "text": [
      "XgBoost Results:))\n",
      "Best Hyperparameters: {'learning_rate': 0.1, 'max_depth': 4}\n",
      "Best AUC Score: 0.7373946402448406\n",
      "Test AUC Score: 0.655070916364936\n",
      "Best Hyperparameters: {'learning_rate': 0.05, 'max_depth': 4}\n",
      "Best AUC Score: 0.7245860362306307\n",
      "Test AUC Score: 0.6473188042499356\n",
      "Best Hyperparameters: {'learning_rate': 0.1, 'max_depth': 4}\n",
      "Best AUC Score: 0.7334656351399393\n",
      "Test AUC Score: 0.6770338995125409\n"
     ]
    }
   ],
   "source": [
    "res = defaultdict(lambda: defaultdict(dict))\n",
    "print(\"XgBoost Results:))\")\n",
    "for test_period in test_periods:\n",
    "    for data_item in data_items.keys():\n",
    "        param_grid = {\n",
    "                    'max_depth': [3, 4, 5],\n",
    "                    'learning_rate': [0.001, 0.01, 0.05, 0.09, 0.1, 0.5]\n",
    "                    }\n",
    "        auc = results(data_obj,train_period,test_period,data_items[data_item],xgb_model,param_grid,'over')\n",
    "        res[test_period][data_item] = auc\n"
   ]
  },
  {
   "cell_type": "code",
   "execution_count": 12,
   "id": "c101a6a1",
   "metadata": {
    "scrolled": false
   },
   "outputs": [
    {
     "data": {
      "text/plain": [
       "defaultdict(<function __main__.<lambda>()>,\n",
       "            {(2003,\n",
       "              2019): defaultdict(dict,\n",
       "                         {'features': 0.655070916364936,\n",
       "                          'raw_financial_items_28': 0.6473188042499356,\n",
       "                          'financial_ratios_14': 0.6770338995125409})})"
      ]
     },
     "execution_count": 12,
     "metadata": {},
     "output_type": "execute_result"
    }
   ],
   "source": [
    "res"
   ]
  },
  {
   "cell_type": "markdown",
   "id": "1f5105b8",
   "metadata": {},
   "source": [
    "-----------\n",
    "----"
   ]
  },
  {
   "cell_type": "code",
   "execution_count": null,
   "id": "8170add0",
   "metadata": {},
   "outputs": [],
   "source": [
    "# from sklearn.ensemble import RandomForestClassifier\n",
    "# from sklearn.model_selection import GridSearchCV\n",
    "# def random_forests(data_obj,train_period,test_period,item):\n",
    "#     # Define the Random Forest classifier\n",
    "#     rf_model = RandomForestClassifier(random_state=42)\n",
    "\n",
    "#     # Define the parameter grid to search\n",
    "#     param_grid = {\n",
    "#         'n_estimators': [100, 200, 300],  # Number of trees in the forest\n",
    "#         'max_depth': [None, 10, 20, 30],  # Maximum depth of the tree\n",
    "#         'min_samples_split': [2, 5, 10],  # Minimum number of samples required to split an internal node\n",
    "#         'min_samples_leaf': [1, 2, 4]  # Minimum number of samples required to be at a leaf node\n",
    "#     }\n",
    "\n",
    "#     # Perform grid search using cross-validation\n",
    "#     grid_search = GridSearchCV(estimator=rf_model, param_grid=param_grid, scoring='roc_auc', cv=5)\n",
    "#     grid_search.fit(X_train, y_train)\n",
    "\n",
    "#     # Get the best hyperparameters and the corresponding AUC score\n",
    "#     best_params = grid_search.best_params_\n",
    "#     best_auc = grid_search.best_score_\n",
    "#     test_auc = grid_search.score(X_test, y_test)\n",
    "\n",
    "#     # Print the best hyperparameters, the corresponding AUC score, and test AUC Score\n",
    "#     print(\"Best Hyperparameters:\", best_params)\n",
    "#     print(\"Best AUC Score:\", best_auc)\n",
    "#     print(\"Test AUC Score:\", test_auc)\n",
    "\n",
    "#     # Return the test AUC score\n",
    "#     return test_auc"
   ]
  },
  {
   "cell_type": "code",
   "execution_count": null,
   "id": "ac630c49",
   "metadata": {},
   "outputs": [],
   "source": [
    "# random_forests"
   ]
  },
  {
   "cell_type": "markdown",
   "id": "6c0a5e1d",
   "metadata": {},
   "source": [
    "## Random Forest"
   ]
  },
  {
   "cell_type": "code",
   "execution_count": 13,
   "id": "b4a81cef",
   "metadata": {},
   "outputs": [
    {
     "name": "stdout",
     "output_type": "stream",
     "text": [
      "Random Forest Results:))\n",
      "Best Hyperparameters: {'max_depth': 20, 'min_samples_leaf': 4, 'min_samples_split': 10, 'n_estimators': 300}\n",
      "Best AUC Score: 0.7529631548341842\n",
      "Test AUC Score: 0.7125599231558808\n",
      "Best Hyperparameters: {'max_depth': 20, 'min_samples_leaf': 4, 'min_samples_split': 10, 'n_estimators': 200}\n",
      "Best AUC Score: 0.7515501150406402\n",
      "Test AUC Score: 0.700872533095392\n",
      "Best Hyperparameters: {'max_depth': 10, 'min_samples_leaf': 1, 'min_samples_split': 5, 'n_estimators': 300}\n",
      "Best AUC Score: 0.7422057467297949\n",
      "Test AUC Score: 0.6946625573110257\n"
     ]
    }
   ],
   "source": [
    "res = defaultdict(lambda: defaultdict(dict))\n",
    "print(\"Random Forest Results:))\")\n",
    "for test_period in test_periods:\n",
    "    for data_item in data_items.keys():\n",
    "        param_grid = {\n",
    "                    'n_estimators': [100, 200, 300,400, 500],  # Number of trees in the forest\n",
    "                    'max_depth': [ 10, 20],  # Maximum depth of the tree\n",
    "                    'min_samples_split': [5, 10],  # Minimum number of samples required to split an internal node\n",
    "                    'min_samples_leaf': [5,6]  # Minimum number of samples required to be at a leaf node\n",
    "                    }\n",
    "        auc = results(data_obj,train_period,test_period,data_items[data_item],random_forests,param_grid,'over')\n",
    "        res[test_period][data_item] = auc\n"
   ]
  },
  {
   "cell_type": "code",
   "execution_count": 14,
   "id": "85239de2",
   "metadata": {},
   "outputs": [
    {
     "data": {
      "text/plain": [
       "defaultdict(<function __main__.<lambda>()>,\n",
       "            {(2003,\n",
       "              2019): defaultdict(dict,\n",
       "                         {'features': 0.7125599231558808,\n",
       "                          'raw_financial_items_28': 0.700872533095392,\n",
       "                          'financial_ratios_14': 0.6946625573110257})})"
      ]
     },
     "execution_count": 14,
     "metadata": {},
     "output_type": "execute_result"
    }
   ],
   "source": [
    "res"
   ]
  },
  {
   "cell_type": "markdown",
   "id": "64146819",
   "metadata": {},
   "source": [
    "----"
   ]
  },
  {
   "cell_type": "markdown",
   "id": "a4044b61",
   "metadata": {},
   "source": [
    "------"
   ]
  },
  {
   "cell_type": "markdown",
   "id": "50d6327d",
   "metadata": {},
   "source": [
    "## Window Processing"
   ]
  },
  {
   "cell_type": "code",
   "execution_count": 9,
   "id": "13742414",
   "metadata": {},
   "outputs": [],
   "source": [
    "train_batches,test_batches = data_obj.create_batches()"
   ]
  },
  {
   "cell_type": "code",
   "execution_count": 10,
   "id": "42731dee",
   "metadata": {
    "scrolled": true
   },
   "outputs": [
    {
     "name": "stdout",
     "output_type": "stream",
     "text": [
      "(1990, 1995) (1996, 2001)\n",
      "(1996, 2001) (2002, 2006)\n",
      "(2002, 2006) (2007, 2011)\n",
      "(2007, 2011) (2012, 2016)\n",
      "(2012, 2016) (2017, 2021)\n"
     ]
    }
   ],
   "source": [
    "for train_period,test_period in zip(train_batches[:-1],test_batches[:-1]):\n",
    "    print(train_period,test_period)"
   ]
  },
  {
   "cell_type": "code",
   "execution_count": 11,
   "id": "49ca178b",
   "metadata": {},
   "outputs": [
    {
     "name": "stdout",
     "output_type": "stream",
     "text": [
      "Optimization terminated successfully.\n",
      "         Current function value: 0.498506\n",
      "         Iterations 10\n",
      "Optimization terminated successfully.\n",
      "         Current function value: 0.580061\n",
      "         Iterations 9\n",
      "Optimization terminated successfully.\n",
      "         Current function value: 0.608704\n",
      "         Iterations 6\n",
      "Optimization terminated successfully.\n",
      "         Current function value: 0.669697\n",
      "         Iterations 10\n",
      "Optimization terminated successfully.\n",
      "         Current function value: 0.536646\n",
      "         Iterations 10\n",
      "Optimization terminated successfully.\n",
      "         Current function value: 0.585333\n",
      "         Iterations 9\n",
      "Optimization terminated successfully.\n",
      "         Current function value: 0.603220\n",
      "         Iterations 9\n",
      "Optimization terminated successfully.\n",
      "         Current function value: 0.678238\n",
      "         Iterations 13\n",
      "Optimization terminated successfully.\n",
      "         Current function value: 0.511275\n",
      "         Iterations 12\n",
      "Optimization terminated successfully.\n",
      "         Current function value: 0.570099\n",
      "         Iterations 12\n",
      "Optimization terminated successfully.\n",
      "         Current function value: 0.608295\n",
      "         Iterations 9\n",
      "Optimization terminated successfully.\n",
      "         Current function value: 0.673887\n",
      "         Iterations 13\n",
      "Optimization terminated successfully.\n",
      "         Current function value: 0.431732\n",
      "         Iterations 11\n",
      "Optimization terminated successfully.\n",
      "         Current function value: 0.526644\n",
      "         Iterations 10\n",
      "Optimization terminated successfully.\n",
      "         Current function value: 0.604956\n",
      "         Iterations 6\n",
      "Optimization terminated successfully.\n",
      "         Current function value: 0.665317\n",
      "         Iterations 13\n",
      "Optimization terminated successfully.\n",
      "         Current function value: 0.619069\n",
      "         Iterations 11\n"
     ]
    }
   ],
   "source": [
    "data_items = features_comp\n",
    "res = defaultdict(lambda: defaultdict(dict))\n",
    "for train_period,test_period in zip(train_batches[:-1],test_batches[:-1]):\n",
    "    for model in models.keys():\n",
    "        for data_item in data_items.keys():\n",
    "            auc = results(data_obj,train_period,test_period,data_items[data_item],models[model],'over')\n",
    "            res[str(train_period) + '-' +str(test_period)][data_item][model] = auc"
   ]
  },
  {
   "cell_type": "code",
   "execution_count": 12,
   "id": "1e9e53cc",
   "metadata": {
    "scrolled": false
   },
   "outputs": [
    {
     "name": "stdout",
     "output_type": "stream",
     "text": [
      "╒══════════════════════════════════════════════╤═══════╤═════════════╤═════════╤══════════╕\n",
      "│ Train - Test : (1990, 1995)-(1996, 2001)     │   MLP │   RUS BOOST │   Logit │   Probit │\n",
      "╞══════════════════════════════════════════════╪═══════╪═════════════╪═════════╪══════════╡\n",
      "│ 28 Raw Financial Items + 14 Financial Ratios │   0.5 │       0.698 │   0.561 │    0.577 │\n",
      "├──────────────────────────────────────────────┼───────┼─────────────┼─────────┼──────────┤\n",
      "│ 28 Raw Financial Items                       │   0.5 │       0.697 │   0.548 │    0.55  │\n",
      "├──────────────────────────────────────────────┼───────┼─────────────┼─────────┼──────────┤\n",
      "│ 14 Financial Ratios                          │   0.5 │       0.651 │   0.635 │    0.641 │\n",
      "├──────────────────────────────────────────────┼───────┼─────────────┼─────────┼──────────┤\n",
      "│ Calculated M score Feat                      │   0.5 │       0.516 │   0.537 │    0.539 │\n",
      "╘══════════════════════════════════════════════╧═══════╧═════════════╧═════════╧══════════╛\n",
      "╒══════════════════════════════════════════════╤═══════╤═════════════╤═════════╤══════════╕\n",
      "│ Train - Test : (1996, 2001)-(2002, 2006)     │   MLP │   RUS BOOST │   Logit │   Probit │\n",
      "╞══════════════════════════════════════════════╪═══════╪═════════════╪═════════╪══════════╡\n",
      "│ 28 Raw Financial Items + 14 Financial Ratios │ 0.656 │       0.762 │   0.658 │    0.685 │\n",
      "├──────────────────────────────────────────────┼───────┼─────────────┼─────────┼──────────┤\n",
      "│ 28 Raw Financial Items                       │ 0.656 │       0.772 │   0.676 │    0.681 │\n",
      "├──────────────────────────────────────────────┼───────┼─────────────┼─────────┼──────────┤\n",
      "│ 14 Financial Ratios                          │ 0.5   │       0.659 │   0.66  │    0.665 │\n",
      "├──────────────────────────────────────────────┼───────┼─────────────┼─────────┼──────────┤\n",
      "│ Calculated M score Feat                      │ 0.5   │       0.569 │   0.575 │    0.579 │\n",
      "╘══════════════════════════════════════════════╧═══════╧═════════════╧═════════╧══════════╛\n",
      "╒══════════════════════════════════════════════╤═══════╤═════════════╤═════════╤══════════╕\n",
      "│ Train - Test : (2002, 2006)-(2007, 2011)     │   MLP │   RUS BOOST │   Logit │   Probit │\n",
      "╞══════════════════════════════════════════════╪═══════╪═════════════╪═════════╪══════════╡\n",
      "│ 28 Raw Financial Items + 14 Financial Ratios │ 0.638 │       0.684 │   0.618 │    0.629 │\n",
      "├──────────────────────────────────────────────┼───────┼─────────────┼─────────┼──────────┤\n",
      "│ 28 Raw Financial Items                       │ 0.652 │       0.694 │   0.582 │    0.58  │\n",
      "├──────────────────────────────────────────────┼───────┼─────────────┼─────────┼──────────┤\n",
      "│ 14 Financial Ratios                          │ 0.624 │       0.66  │   0.684 │    0.678 │\n",
      "├──────────────────────────────────────────────┼───────┼─────────────┼─────────┼──────────┤\n",
      "│ Calculated M score Feat                      │ 0.5   │       0.63  │   0.506 │    0.506 │\n",
      "╘══════════════════════════════════════════════╧═══════╧═════════════╧═════════╧══════════╛\n",
      "╒══════════════════════════════════════════════╤═══════╤═════════════╤═════════╤══════════╕\n",
      "│ Train - Test : (2007, 2011)-(2012, 2016)     │   MLP │   RUS BOOST │   Logit │   Probit │\n",
      "╞══════════════════════════════════════════════╪═══════╪═════════════╪═════════╪══════════╡\n",
      "│ 28 Raw Financial Items + 14 Financial Ratios │ 0.603 │       0.729 │   0.559 │    0.617 │\n",
      "├──────────────────────────────────────────────┼───────┼─────────────┼─────────┼──────────┤\n",
      "│ 28 Raw Financial Items                       │ 0.5   │       0.77  │   0.455 │    0.463 │\n",
      "├──────────────────────────────────────────────┼───────┼─────────────┼─────────┼──────────┤\n",
      "│ 14 Financial Ratios                          │ 0.5   │       0.68  │   0.707 │    0.676 │\n",
      "├──────────────────────────────────────────────┼───────┼─────────────┼─────────┼──────────┤\n",
      "│ Calculated M score Feat                      │ 0.5   │       0.63  │   0.599 │    0.609 │\n",
      "╘══════════════════════════════════════════════╧═══════╧═════════════╧═════════╧══════════╛\n",
      "╒══════════════════════════════════════════════╤═══════╤═════════════════════╤═══════════════════╤════════════════════╕\n",
      "│ Train - Test : (2012, 2016)-(2017, 2021)     │ MLP   │ RUS BOOST           │ Logit             │ Probit             │\n",
      "╞══════════════════════════════════════════════╪═══════╪═════════════════════╪═══════════════════╪════════════════════╡\n",
      "│ 28 Raw Financial Items + 14 Financial Ratios │ Done  │ Done                │ Done              │ Done               │\n",
      "├──────────────────────────────────────────────┼───────┼─────────────────────┼───────────────────┼────────────────────┤\n",
      "│ 28 Raw Financial Items                       │ Done  │ Done                │ Done              │ Done               │\n",
      "├──────────────────────────────────────────────┼───────┼─────────────────────┼───────────────────┼────────────────────┤\n",
      "│ 14 Financial Ratios                          │ Done  │ Done                │ Done              │ Done               │\n",
      "├──────────────────────────────────────────────┼───────┼─────────────────────┼───────────────────┼────────────────────┤\n",
      "│ Calculated M score Feat                      │ 0.5   │ 0.48708103097280797 │ 0.428051839464883 │ 0.4310973171441035 │\n",
      "╘══════════════════════════════════════════════╧═══════╧═════════════════════╧═══════════════════╧════════════════════╛\n"
     ]
    }
   ],
   "source": [
    "for key in res.keys():\n",
    "    columns = [\"Train - Test : \"+str(key), 'MLP', 'RUS BOOST', 'Logit', 'Probit']\n",
    "    df = pd.DataFrame.from_dict(res[key], orient='index').reset_index()\n",
    "    df.columns = columns\n",
    "    for col in ['MLP', 'RUS BOOST', 'Logit', 'Probit']:\n",
    "         \n",
    "        try:\n",
    "            df[col] = df[col].round(3)\n",
    "        except:\n",
    "            pass\n",
    "    df.set_index(\"Train - Test : \"+str(key), inplace=True)\n",
    "    print(tabulate(df, headers='keys', tablefmt='fancy_grid'))"
   ]
  },
  {
   "cell_type": "code",
   "execution_count": null,
   "id": "d408ac8b",
   "metadata": {},
   "outputs": [],
   "source": []
  },
  {
   "cell_type": "markdown",
   "id": "0e7d0863",
   "metadata": {},
   "source": [
    "## MLP Param Tuning"
   ]
  },
  {
   "cell_type": "code",
   "execution_count": 5,
   "id": "7c031e7c",
   "metadata": {},
   "outputs": [
    {
     "name": "stdout",
     "output_type": "stream",
     "text": [
      "(1990, 1995) (1996, 2001)\n",
      "(1996, 2001) (2002, 2006)\n",
      "(2002, 2006) (2007, 2011)\n",
      "(2007, 2011) (2012, 2016)\n",
      "(2012, 2016) (2017, 2021)\n"
     ]
    }
   ],
   "source": [
    "train_batches,test_batches = data_obj.create_batches()\n",
    "\n",
    "for train_period,test_period in zip(train_batches[:-1],test_batches[:-1]):\n",
    "    print(train_period,test_period)"
   ]
  },
  {
   "cell_type": "code",
   "execution_count": 6,
   "id": "94247d66",
   "metadata": {},
   "outputs": [],
   "source": [
    "data_items = features_comp"
   ]
  },
  {
   "cell_type": "code",
   "execution_count": 7,
   "id": "8c8b9b07",
   "metadata": {},
   "outputs": [
    {
     "name": "stdout",
     "output_type": "stream",
     "text": [
      "Best Hyperparameters: {'activation': 'tanh', 'hidden_layer_sizes': (42, 40, 50, 60, 40), 'learning_rate_init': 0.001}\n",
      "Best AUC Score: 0.6932138610497707\n",
      "Test AUC Score: 0.6094481700488392\n",
      "Best Hyperparameters: {'activation': 'tanh', 'hidden_layer_sizes': (28, 30, 30, 30, 30), 'learning_rate_init': 0.001}\n",
      "Best AUC Score: 0.6785586886359776\n",
      "Test AUC Score: 0.6249807849696124\n",
      "Best Hyperparameters: {'activation': 'logistic', 'hidden_layer_sizes': (14, 40), 'learning_rate_init': 0.01}\n",
      "Best AUC Score: 0.6883302191268899\n",
      "Test AUC Score: 0.5937202403938217\n",
      "Best Hyperparameters: {'activation': 'tanh', 'hidden_layer_sizes': (14, 40), 'learning_rate_init': 0.001}\n",
      "Best AUC Score: 0.6509248327430145\n",
      "Test AUC Score: 0.4641166715014932\n",
      "Best Hyperparameters: {'activation': 'logistic', 'hidden_layer_sizes': (42, 30, 40), 'learning_rate_init': 0.001}\n",
      "Best AUC Score: 0.7779707815924033\n",
      "Test AUC Score: 0.7358577767638388\n",
      "Best Hyperparameters: {'activation': 'logistic', 'hidden_layer_sizes': (28, 40), 'learning_rate_init': 0.001}\n",
      "Best AUC Score: 0.7635639152666179\n",
      "Test AUC Score: 0.7378827268830929\n"
     ]
    },
    {
     "name": "stderr",
     "output_type": "stream",
     "text": [
      "C:\\Users\\saite\\AppData\\Local\\Programs\\Python\\Python310\\lib\\site-packages\\sklearn\\neural_network\\_multilayer_perceptron.py:679: ConvergenceWarning: Stochastic Optimizer: Maximum iterations (2000) reached and the optimization hasn't converged yet.\n",
      "  warnings.warn(\n",
      "C:\\Users\\saite\\AppData\\Local\\Programs\\Python\\Python310\\lib\\site-packages\\sklearn\\neural_network\\_multilayer_perceptron.py:679: ConvergenceWarning: Stochastic Optimizer: Maximum iterations (2000) reached and the optimization hasn't converged yet.\n",
      "  warnings.warn(\n",
      "C:\\Users\\saite\\AppData\\Local\\Programs\\Python\\Python310\\lib\\site-packages\\sklearn\\neural_network\\_multilayer_perceptron.py:679: ConvergenceWarning: Stochastic Optimizer: Maximum iterations (2000) reached and the optimization hasn't converged yet.\n",
      "  warnings.warn(\n",
      "C:\\Users\\saite\\AppData\\Local\\Programs\\Python\\Python310\\lib\\site-packages\\sklearn\\neural_network\\_multilayer_perceptron.py:679: ConvergenceWarning: Stochastic Optimizer: Maximum iterations (2000) reached and the optimization hasn't converged yet.\n",
      "  warnings.warn(\n",
      "C:\\Users\\saite\\AppData\\Local\\Programs\\Python\\Python310\\lib\\site-packages\\sklearn\\neural_network\\_multilayer_perceptron.py:679: ConvergenceWarning: Stochastic Optimizer: Maximum iterations (2000) reached and the optimization hasn't converged yet.\n",
      "  warnings.warn(\n"
     ]
    },
    {
     "name": "stdout",
     "output_type": "stream",
     "text": [
      "Best Hyperparameters: {'activation': 'logistic', 'hidden_layer_sizes': (14, 40, 50), 'learning_rate_init': 0.001}\n",
      "Best AUC Score: 0.7115028000973946\n",
      "Test AUC Score: 0.6765969719962719\n",
      "Best Hyperparameters: {'activation': 'tanh', 'hidden_layer_sizes': (14, 40), 'learning_rate_init': 0.01}\n",
      "Best AUC Score: 0.6072459952611434\n",
      "Test AUC Score: 0.6031902992528666\n",
      "Best Hyperparameters: {'activation': 'logistic', 'hidden_layer_sizes': (42, 30, 40), 'learning_rate_init': 0.001}\n",
      "Best AUC Score: 0.7450904045828857\n",
      "Test AUC Score: 0.6893268063087458\n",
      "Best Hyperparameters: {'activation': 'relu', 'hidden_layer_sizes': (28, 40, 50), 'learning_rate_init': 0.01}\n",
      "Best AUC Score: 0.7618863005728608\n",
      "Test AUC Score: 0.648777987109461\n",
      "Best Hyperparameters: {'activation': 'relu', 'hidden_layer_sizes': (14, 40, 50), 'learning_rate_init': 0.001}\n",
      "Best AUC Score: 0.6519949427139278\n",
      "Test AUC Score: 0.6287276805820385\n",
      "Best Hyperparameters: {'activation': 'tanh', 'hidden_layer_sizes': (14, 30, 40), 'learning_rate_init': 0.01}\n",
      "Best AUC Score: 0.6339506172839506\n",
      "Test AUC Score: 0.6059681929139656\n",
      "Best Hyperparameters: {'activation': 'logistic', 'hidden_layer_sizes': (42, 50), 'learning_rate_init': 0.001}\n",
      "Best AUC Score: 0.7342091379128416\n",
      "Test AUC Score: 0.7526055650475958\n",
      "Best Hyperparameters: {'activation': 'tanh', 'hidden_layer_sizes': (28, 40, 50, 60, 40), 'learning_rate_init': 0.001}\n",
      "Best AUC Score: 0.7463912630579298\n",
      "Test AUC Score: 0.6988842009832978\n",
      "Best Hyperparameters: {'activation': 'tanh', 'hidden_layer_sizes': (14, 30, 30, 30, 30), 'learning_rate_init': 0.001}\n",
      "Best AUC Score: 0.7019309908198798\n",
      "Test AUC Score: 0.6376965724048956\n"
     ]
    },
    {
     "name": "stderr",
     "output_type": "stream",
     "text": [
      "C:\\Users\\saite\\AppData\\Local\\Programs\\Python\\Python310\\lib\\site-packages\\sklearn\\neural_network\\_multilayer_perceptron.py:679: ConvergenceWarning: Stochastic Optimizer: Maximum iterations (2000) reached and the optimization hasn't converged yet.\n",
      "  warnings.warn(\n",
      "C:\\Users\\saite\\AppData\\Local\\Programs\\Python\\Python310\\lib\\site-packages\\sklearn\\neural_network\\_multilayer_perceptron.py:679: ConvergenceWarning: Stochastic Optimizer: Maximum iterations (2000) reached and the optimization hasn't converged yet.\n",
      "  warnings.warn(\n"
     ]
    },
    {
     "name": "stdout",
     "output_type": "stream",
     "text": [
      "Best Hyperparameters: {'activation': 'relu', 'hidden_layer_sizes': (14, 40, 30, 50), 'learning_rate_init': 0.001}\n",
      "Best AUC Score: 0.6264799999999999\n",
      "Test AUC Score: 0.5940969885203554\n"
     ]
    },
    {
     "name": "stderr",
     "output_type": "stream",
     "text": [
      "C:\\Users\\saite\\AppData\\Local\\Programs\\Python\\Python310\\lib\\site-packages\\sklearn\\neural_network\\_multilayer_perceptron.py:679: ConvergenceWarning: Stochastic Optimizer: Maximum iterations (2000) reached and the optimization hasn't converged yet.\n",
      "  warnings.warn(\n",
      "C:\\Users\\saite\\AppData\\Local\\Programs\\Python\\Python310\\lib\\site-packages\\sklearn\\neural_network\\_multilayer_perceptron.py:679: ConvergenceWarning: Stochastic Optimizer: Maximum iterations (2000) reached and the optimization hasn't converged yet.\n",
      "  warnings.warn(\n"
     ]
    },
    {
     "name": "stdout",
     "output_type": "stream",
     "text": [
      "Best Hyperparameters: {'activation': 'tanh', 'hidden_layer_sizes': (14, 40, 30, 50), 'learning_rate_init': 0.1}\n",
      "Best AUC Score: 0.6059259259259259\n",
      "Test AUC Score: 0.39256489021375596\n"
     ]
    }
   ],
   "source": [
    "from results.models import mlp_grid_search\n",
    "model = mlp_grid_search\n",
    "res = defaultdict(lambda: defaultdict(dict))\n",
    "\n",
    "\n",
    "for train_period,test_period in zip(train_batches[:-1],test_batches[:-1]):\n",
    "\n",
    "    for data_item in data_items.keys():\n",
    "        \n",
    "        param_grid = {\n",
    "            'activation': ['logistic', 'tanh', 'relu'],\n",
    "            'hidden_layer_sizes': [\n",
    "                (len(data_items[data_item]), 40),\n",
    "                (len(data_items[data_item]), 50),\n",
    "                (len(data_items[data_item]), 40, 50),\n",
    "                (len(data_items[data_item]), 30, 40),\n",
    "                (len(data_items[data_item]), 40, 30, 50),\n",
    "                (len(data_items[data_item]), 30, 40, 30),\n",
    "                (len(data_items[data_item]), 40, 50, 60, 40),\n",
    "                (len(data_items[data_item]), 50, 50, 50, 50),\n",
    "                (len(data_items[data_item]), 30, 30, 30, 30)\n",
    "                ],\n",
    "            'learning_rate_init': [0.001, 0.01, 0.1]\n",
    "            }\n",
    "        auc = results(data_obj,train_period,test_period,data_items[data_item],model,param_grid,'over')\n",
    "        res[str(train_period) + '-' +str(test_period)][data_item] = auc"
   ]
  },
  {
   "cell_type": "code",
   "execution_count": 9,
   "id": "f416b4bd",
   "metadata": {},
   "outputs": [
    {
     "data": {
      "text/plain": [
       "defaultdict(<function __main__.<lambda>()>,\n",
       "            {'(1990, 1995)-(1996, 2001)': defaultdict(dict,\n",
       "                         {'28 Raw Financial Items + 14 Financial Ratios': 0.6094481700488392,\n",
       "                          '28 Raw Financial Items': 0.6249807849696124,\n",
       "                          '14 Financial Ratios': 0.5937202403938217,\n",
       "                          'Calculated M score Feat': 0.4641166715014932}),\n",
       "             '(1996, 2001)-(2002, 2006)': defaultdict(dict,\n",
       "                         {'28 Raw Financial Items + 14 Financial Ratios': 0.7358577767638388,\n",
       "                          '28 Raw Financial Items': 0.7378827268830929,\n",
       "                          '14 Financial Ratios': 0.6765969719962719,\n",
       "                          'Calculated M score Feat': 0.6031902992528666}),\n",
       "             '(2002, 2006)-(2007, 2011)': defaultdict(dict,\n",
       "                         {'28 Raw Financial Items + 14 Financial Ratios': 0.6893268063087458,\n",
       "                          '28 Raw Financial Items': 0.648777987109461,\n",
       "                          '14 Financial Ratios': 0.6287276805820385,\n",
       "                          'Calculated M score Feat': 0.6059681929139656}),\n",
       "             '(2007, 2011)-(2012, 2016)': defaultdict(dict,\n",
       "                         {'28 Raw Financial Items + 14 Financial Ratios': 0.7526055650475958,\n",
       "                          '28 Raw Financial Items': 0.6988842009832978,\n",
       "                          '14 Financial Ratios': 0.6376965724048956,\n",
       "                          'Calculated M score Feat': 0.5940969885203554}),\n",
       "             '(2012, 2016)-(2017, 2021)': defaultdict(dict,\n",
       "                         {'28 Raw Financial Items + 14 Financial Ratios': 'Done',\n",
       "                          '28 Raw Financial Items': 'Done',\n",
       "                          '14 Financial Ratios': 'Done',\n",
       "                          'Calculated M score Feat': 0.39256489021375596})})"
      ]
     },
     "execution_count": 9,
     "metadata": {},
     "output_type": "execute_result"
    }
   ],
   "source": [
    "res"
   ]
  },
  {
   "cell_type": "code",
   "execution_count": null,
   "id": "d4843ce1",
   "metadata": {},
   "outputs": [],
   "source": []
  },
  {
   "cell_type": "code",
   "execution_count": null,
   "id": "bbcc893a",
   "metadata": {},
   "outputs": [],
   "source": []
  },
  {
   "cell_type": "code",
   "execution_count": 9,
   "id": "247f21b1",
   "metadata": {},
   "outputs": [],
   "source": [
    "from sklearn.neural_network import MLPClassifier\n",
    "from sklearn.metrics import roc_auc_score\n",
    "from sklearn.model_selection import GridSearchCV, train_test_split\n",
    "from imblearn.over_sampling import BorderlineSMOTE\n",
    "from collections import defaultdict"
   ]
  },
  {
   "cell_type": "code",
   "execution_count": 6,
   "id": "69cdfdf9",
   "metadata": {},
   "outputs": [
    {
     "name": "stdout",
     "output_type": "stream",
     "text": [
      "{'features': ['act', 'ap', 'at', 'ceq', 'che', 'cogs', 'csho', 'dlc', 'dltis', 'dltt', 'dp', 'ib', 'invt', 'ivao', 'ivst', 'lct', 'lt', 'ni', 'ppegt', 'pstk', 're', 'rect', 'sale', 'sstk', 'txp', 'txt', 'xint', 'prcc_f', 'dch_wc', 'ch_rsst', 'dch_rec', 'dch_inv', 'soft_assets', 'ch_cs', 'ch_cm', 'ch_roa', 'bm', 'dpi', 'reoa', 'EBIT', 'ch_fcf'], 'raw_financial_items_28': ['act', 'ap', 'at', 'ceq', 'che', 'cogs', 'csho', 'dlc', 'dltis', 'dltt', 'dp', 'ib', 'invt', 'ivao', 'ivst', 'lct', 'lt', 'ni', 'ppegt', 'pstk', 're', 'rect', 'sale', 'sstk', 'txp', 'txt', 'xint', 'prcc_f'], 'financial_ratios_14': ['dch_wc', 'ch_rsst', 'dch_rec', 'dch_inv', 'soft_assets', 'ch_cs', 'ch_cm', 'ch_roa', 'bm', 'dpi', 'reoa', 'EBIT', 'ch_fcf', 'issue']}\n"
     ]
    }
   ],
   "source": [
    "print(data_items)"
   ]
  },
  {
   "cell_type": "code",
   "execution_count": null,
   "id": "a55340be",
   "metadata": {},
   "outputs": [
    {
     "name": "stdout",
     "output_type": "stream",
     "text": [
      "(239976, 41) (239976,)\n"
     ]
    }
   ],
   "source": [
    "test_periods = [(2003,2019)]\n",
    "\n",
    "train_period = (1990,2002)\n",
    "res = defaultdict(lambda: defaultdict(dict))\n",
    "for test_period in test_periods:\n",
    "    for item in data_items.keys():\n",
    "        param_grid = {\n",
    "                'activation': ['logistic', 'tanh', 'relu'],\n",
    "                'hidden_layer_sizes': [\n",
    "                    (len(data_items[item]), 40),\n",
    "#                     (len(data_items[item]), 50),\n",
    "                    (len(data_items[item]), 40, 50),\n",
    "#                     (len(data_items[item]), 30, 40),\n",
    "#                     (len(data_items[item]), 40, 30, 50),\n",
    "                    (len(data_items[item]), 30, 40, 30),\n",
    "#                     (len(data_items[item]), 40, 50, 60, 40),\n",
    "#                     (len(data_items[item]), 50, 50, 50, 50),\n",
    "                    (len(data_items[item]), 30, 30, 30, 30)\n",
    "                ],\n",
    "                'learning_rate_init': [0.001, 0.01, 0.1]\n",
    "            }\n",
    "\n",
    "        train_data, validation_data, test_data = data_obj.split_data_periods(train_period, test_period)\n",
    "        train_data, validation_data, test_data = null_check(data_items[item], train_data, validation_data, test_data)\n",
    "        X_train, y_train = train_data[data_items[item]], train_data['misstate']\n",
    "        X_test, y_test = test_data[data_items[item]], test_data['misstate']\n",
    "\n",
    " \n",
    "        X_train_resampled, y_train_resampled = BorderlineSMOTE().fit_resample(X_train, y_train)\n",
    "        print(X_train_resampled.shape,y_train_resampled.shape)\n",
    "#             rus = RandomUnderSampler(random_state=42)\n",
    "#             X_train_resampled, y_train_resampled = rus.fit_resample(X_train, y_train)\n",
    "        mlp_model = MLPClassifier(max_iter=4000, random_state=42, verbose=False)\n",
    "\n",
    "        # Perform grid search using cross-validation\n",
    "        grid_search = GridSearchCV(estimator=mlp_model, param_grid=param_grid, scoring='roc_auc', cv=5)\n",
    "        grid_search.fit(X_train, y_train)\n",
    "\n",
    "        best_params = grid_search.best_params_\n",
    "        best_auc = grid_search.best_score_\n",
    "        test_auc = grid_search.score(X_test, y_test)\n",
    "        print(\"Best Hyperparameters:\", best_params)\n",
    "        print(\"Best AUC Score:\", best_auc)\n",
    "        print(\"Test AUC Score:\", test_auc)\n"
   ]
  },
  {
   "cell_type": "code",
   "execution_count": null,
   "id": "91cc213f",
   "metadata": {},
   "outputs": [],
   "source": [
    "for train_period,test_period in zip(train_batches[:-1],test_batches[:-1]):\n",
    "    train_data, validation_data, test_data = data_obj.split_data_periods(train_period, test_period)\n",
    "    for item in data_items.keys():\n",
    "        \n",
    "        param_grid = {\n",
    "                    'activation': ['logistic', 'tanh', 'relu'],\n",
    "                    'hidden_layer_sizes': [\n",
    "                        (len(data_items[item]), 40),\n",
    "                        (len(data_items[item]), 50),\n",
    "                        (len(data_items[item]), 40, 50),\n",
    "                        (len(data_items[item]), 30, 40),\n",
    "                        (len(data_items[item]), 40, 30, 50),\n",
    "                        (len(data_items[item]), 30, 40, 30),\n",
    "                        (len(data_items[item]), 40, 50, 60, 40),\n",
    "                        (len(data_items[item]), 50, 50, 50, 50),\n",
    "                        (len(data_items[item]), 30, 30, 30, 30)\n",
    "                    ],\n",
    "                    'learning_rate_init': [0.001, 0.01, 0.1]\n",
    "                }\n",
    "\n",
    "        \n",
    "        train_data, validation_data, test_data = null_check(data_items[item], train_data, validation_data, test_data)\n",
    "    \n",
    "        X_train, y_train = train_data[data_items[item]], train_data['misstate']\n",
    "        X_test, y_test = test_data[data_items[item]], test_data['misstate']\n",
    "        rus = RandomUnderSampler(random_state=42)\n",
    "        X_train_resampled, y_train_resampled = rus.fit_resample(X_train, y_train)\n",
    "        mlp_model = MLPClassifier(max_iter=10000, random_state=42, verbose=False,early_stopping=True)\n",
    "        grid_search = GridSearchCV(estimator=mlp_model, param_grid=param_grid, scoring='roc_auc', cv=5)\n",
    "        grid_search.fit(X_train_resampled, y_train_resampled)\n",
    "\n",
    "        best_params = grid_search.best_params_\n",
    "        best_auc = grid_search.best_score_\n",
    "        test_auc = grid_search.score(X_test, y_test)\n",
    "        print(\"Best Hyperparameters:\", best_params)\n",
    "        print(\"Best AUC Score:\", best_auc)\n",
    "        print(\"Test AUC Score:\", test_auc)"
   ]
  },
  {
   "cell_type": "code",
   "execution_count": null,
   "id": "9205dad7",
   "metadata": {},
   "outputs": [],
   "source": [
    "X_train_resampled"
   ]
  },
  {
   "cell_type": "code",
   "execution_count": null,
   "id": "14784049",
   "metadata": {},
   "outputs": [],
   "source": []
  }
 ],
 "metadata": {
  "kernelspec": {
   "display_name": "Python 3 (ipykernel)",
   "language": "python",
   "name": "python3"
  },
  "language_info": {
   "codemirror_mode": {
    "name": "ipython",
    "version": 3
   },
   "file_extension": ".py",
   "mimetype": "text/x-python",
   "name": "python",
   "nbconvert_exporter": "python",
   "pygments_lexer": "ipython3",
   "version": "3.10.6"
  }
 },
 "nbformat": 4,
 "nbformat_minor": 5
}

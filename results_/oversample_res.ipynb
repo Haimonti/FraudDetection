{
 "cells": [
  {
   "cell_type": "code",
   "execution_count": 1,
   "id": "b8aa022b",
   "metadata": {},
   "outputs": [],
   "source": [
    "import pandas as pd\n",
    "import numpy as np\n",
    "from MLP.utils import datasets,plot_table,train_model\n",
    "from sklearn import metrics\n",
    "from imblearn.under_sampling import RandomUnderSampler\n",
    "from tabulate import tabulate\n",
    "import matplotlib.pyplot as plt\n",
    "from fraudDetec.data_processing import DataProcessor\n",
    "from fraudDetec.utils import evaluate,null_check,results\n",
    "from fraudDetec.models import rus_boost, svm_model, xgb_model, logistic_regression_model,probit_regression_model,MLP,mlp_grid_search, random_forests\n",
    "import json\n",
    "from collections import defaultdict"
   ]
  },
  {
   "cell_type": "code",
   "execution_count": 2,
   "id": "2f3fa7de",
   "metadata": {},
   "outputs": [],
   "source": [
    "data = pd.read_csv('./data/merged_compustat_and_labels.csv')\n",
    "with open('MLP/features.json') as json_file:\n",
    "    data_items = json.load(json_file)\n",
    "\n",
    "data.replace([np.inf, -np.inf], np.nan, inplace=True)\n",
    "\n",
    "data = data.fillna(0)\n",
    "\n",
    "data_obj = DataProcessor(data,(1990,2002), (2002,2002), (2003,2019), 5)"
   ]
  },
  {
   "cell_type": "code",
   "execution_count": 3,
   "id": "81529029",
   "metadata": {},
   "outputs": [],
   "source": [
    "models = {\"MLP\": MLP,\n",
    "         \"RUS BOOST\": rus_boost,\n",
    "          \"Logit\":logistic_regression_model,\n",
    "         \"Probit\":probit_regression_model,\n",
    "         \"Xg Boost\":xgb_model}"
   ]
  },
  {
   "cell_type": "markdown",
   "id": "d513850b",
   "metadata": {},
   "source": [
    "---"
   ]
  },
  {
   "cell_type": "markdown",
   "id": "bd5064d7",
   "metadata": {},
   "source": [
    "-----"
   ]
  },
  {
   "cell_type": "markdown",
   "id": "a7622d26",
   "metadata": {},
   "source": [
    "### Batch Processing"
   ]
  },
  {
   "cell_type": "code",
   "execution_count": 9,
   "id": "bd259d35",
   "metadata": {},
   "outputs": [
    {
     "name": "stdout",
     "output_type": "stream",
     "text": [
      "(120819, 42) 0    119988\n",
      "1       831\n",
      "Name: misstate, dtype: int64\n",
      "Train Shape:  (23996, 42) (23996,)\n",
      "Test Shape:  (125314, 42) (125314,)\n"
     ]
    }
   ],
   "source": [
    "## TEST\n",
    "\n",
    "# from imblearn.under_sampling import RandomUnderSampler\n",
    "# from imblearn.over_sampling import BorderlineSMOTE\n",
    "\n",
    "# train_data, validation_data, test_data = data_obj.split_data_periods(train_period, test_period)\n",
    "# train_data, validation_data, test_data = null_check(data_items['features'], train_data, validation_data, test_data)\n",
    "\n",
    "# X_train, y_train = train_data[data_items['features']], train_data['misstate']\n",
    "# X_test, y_test = test_data[data_items['features']], test_data['misstate']\n",
    "\n",
    "# print(X_train.shape,y_train.value_counts())\n",
    "\n",
    "# X_train_resampled, y_train_resampled = BorderlineSMOTE(sampling_strategy=0.1, random_state=42).fit_resample(X_train, y_train)\n",
    "# X_train_resampled, y_train_resampled = RandomUnderSampler(random_state=42).fit_resample(X_train_resampled, y_train_resampled)\n",
    "\n",
    "# print(\"Train Shape: \",X_train_resampled.shape, y_train_resampled.shape)\n",
    "# print(\"Test Shape: \",X_test.shape, y_test.shape)"
   ]
  },
  {
   "cell_type": "code",
   "execution_count": 6,
   "id": "6c2ca4da",
   "metadata": {},
   "outputs": [],
   "source": [
    "train_period = (1990,2002)\n",
    "\n",
    "test_periods = [(2003,2019)]"
   ]
  },
  {
   "cell_type": "code",
   "execution_count": 6,
   "id": "c8ccdd86",
   "metadata": {
    "scrolled": true
   },
   "outputs": [
    {
     "name": "stdout",
     "output_type": "stream",
     "text": [
      "Train Shape:  (23996, 42) (23996,)\n",
      "Test Shape:  (125314, 42) (125314,)\n",
      "Train Shape:  (23996, 28) (23996,)\n",
      "Test Shape:  (125314, 28) (125314,)\n",
      "Train Shape:  (23996, 14) (23996,)\n",
      "Test Shape:  (125314, 14) (125314,)\n",
      "Train Shape:  (23996, 42) (23996,)\n",
      "Test Shape:  (125314, 42) (125314,)\n",
      "Train Shape:  (23996, 28) (23996,)\n",
      "Test Shape:  (125314, 28) (125314,)\n",
      "Train Shape:  (23996, 14) (23996,)\n",
      "Test Shape:  (125314, 14) (125314,)\n",
      "Train Shape:  (23996, 42) (23996,)\n",
      "Test Shape:  (125314, 42) (125314,)\n",
      "Train Shape:  (23996, 28) (23996,)\n",
      "Test Shape:  (125314, 28) (125314,)\n",
      "Train Shape:  (23996, 14) (23996,)\n",
      "Test Shape:  (125314, 14) (125314,)\n",
      "Train Shape:  (23996, 42) (23996,)\n",
      "Test Shape:  (125314, 42) (125314,)\n",
      "Warning: Maximum number of iterations has been exceeded.\n",
      "         Current function value: 0.537376\n",
      "         Iterations: 35\n"
     ]
    },
    {
     "name": "stderr",
     "output_type": "stream",
     "text": [
      "C:\\Users\\saite\\AppData\\Local\\Programs\\Python\\Python310\\lib\\site-packages\\statsmodels\\base\\model.py:607: ConvergenceWarning: Maximum Likelihood optimization failed to converge. Check mle_retvals\n",
      "  warnings.warn(\"Maximum Likelihood optimization failed to \"\n"
     ]
    },
    {
     "name": "stdout",
     "output_type": "stream",
     "text": [
      "Train Shape:  (23996, 28) (23996,)\n",
      "Test Shape:  (125314, 28) (125314,)\n",
      "Warning: Maximum number of iterations has been exceeded.\n",
      "         Current function value: 0.586711\n",
      "         Iterations: 35\n"
     ]
    },
    {
     "name": "stderr",
     "output_type": "stream",
     "text": [
      "C:\\Users\\saite\\AppData\\Local\\Programs\\Python\\Python310\\lib\\site-packages\\statsmodels\\base\\model.py:607: ConvergenceWarning: Maximum Likelihood optimization failed to converge. Check mle_retvals\n",
      "  warnings.warn(\"Maximum Likelihood optimization failed to \"\n"
     ]
    },
    {
     "name": "stdout",
     "output_type": "stream",
     "text": [
      "Train Shape:  (23996, 14) (23996,)\n",
      "Test Shape:  (125314, 14) (125314,)\n",
      "Warning: Maximum number of iterations has been exceeded.\n",
      "         Current function value: 0.580127\n",
      "         Iterations: 35\n"
     ]
    },
    {
     "name": "stderr",
     "output_type": "stream",
     "text": [
      "C:\\Users\\saite\\AppData\\Local\\Programs\\Python\\Python310\\lib\\site-packages\\statsmodels\\discrete\\discrete_model.py:2873: RuntimeWarning: divide by zero encountered in divide\n",
      "  L = q*self.pdf(q*XB)/self.cdf(q*XB)\n",
      "C:\\Users\\saite\\AppData\\Local\\Programs\\Python\\Python310\\lib\\site-packages\\statsmodels\\discrete\\discrete_model.py:2874: RuntimeWarning: invalid value encountered in multiply\n",
      "  return np.dot(-L*(L+XB)*X.T,X)\n",
      "C:\\Users\\saite\\AppData\\Local\\Programs\\Python\\Python310\\lib\\site-packages\\statsmodels\\base\\model.py:607: ConvergenceWarning: Maximum Likelihood optimization failed to converge. Check mle_retvals\n",
      "  warnings.warn(\"Maximum Likelihood optimization failed to \"\n"
     ]
    },
    {
     "name": "stdout",
     "output_type": "stream",
     "text": [
      "Train Shape:  (23996, 42) (23996,)\n",
      "Test Shape:  (125314, 42) (125314,)\n",
      "Test AUC Score: 0.7002878463521306\n",
      "Train Shape:  (23996, 28) (23996,)\n",
      "Test Shape:  (125314, 28) (125314,)\n",
      "Test AUC Score: 0.7060311413405809\n",
      "Train Shape:  (23996, 14) (23996,)\n",
      "Test Shape:  (125314, 14) (125314,)\n",
      "Test AUC Score: 0.6773307399036717\n"
     ]
    }
   ],
   "source": [
    "train_period = (1990,2002)\n",
    "res = defaultdict(lambda: defaultdict(dict))\n",
    "for test_period in test_periods:\n",
    "    for model in models.keys():\n",
    "        for data_item in data_items.keys():\n",
    "            auc = results(data_obj,train_period,test_period,data_items[data_item],models[model],param_grid=None,sample='over_under')\n",
    "            res[test_period][data_item][model] = auc"
   ]
  },
  {
   "cell_type": "code",
   "execution_count": 7,
   "id": "57a3aa61",
   "metadata": {},
   "outputs": [
    {
     "data": {
      "text/plain": [
       "defaultdict(<function __main__.<lambda>()>,\n",
       "            {(2003,\n",
       "              2019): defaultdict(dict,\n",
       "                         {'features': {'MLP': 0.6208160057086918,\n",
       "                           'RUS BOOST': 0.7039460381406621,\n",
       "                           'Logit': 0.6256666720096601,\n",
       "                           'Probit': 0.6394080200706581,\n",
       "                           'Xg Boost': 0.7002878463521306},\n",
       "                          'raw_financial_items_28': {'MLP': 0.611555959842061,\n",
       "                           'RUS BOOST': 0.7017081179068051,\n",
       "                           'Logit': 0.6277118140709513,\n",
       "                           'Probit': 0.6220716833813312,\n",
       "                           'Xg Boost': 0.7060311413405809},\n",
       "                          'financial_ratios_14': {'MLP': 0.5273529652723234,\n",
       "                           'RUS BOOST': 0.6558439881528025,\n",
       "                           'Logit': 0.637033178208423,\n",
       "                           'Probit': 0.6338894647448513,\n",
       "                           'Xg Boost': 0.6773307399036717}})})"
      ]
     },
     "execution_count": 7,
     "metadata": {},
     "output_type": "execute_result"
    }
   ],
   "source": [
    "res"
   ]
  },
  {
   "cell_type": "code",
   "execution_count": null,
   "id": "08275772",
   "metadata": {},
   "outputs": [],
   "source": []
  },
  {
   "cell_type": "code",
   "execution_count": null,
   "id": "e2e17a59",
   "metadata": {},
   "outputs": [],
   "source": []
  },
  {
   "cell_type": "markdown",
   "id": "8b10ee1b",
   "metadata": {},
   "source": [
    "## Batch - Tuning"
   ]
  },
  {
   "cell_type": "code",
   "execution_count": 7,
   "id": "34714046",
   "metadata": {},
   "outputs": [
    {
     "name": "stdout",
     "output_type": "stream",
     "text": [
      "Train Shape:  (23996, 42) (23996,)\n",
      "Test Shape:  (125314, 42) (125314,)\n",
      "Best Hyperparameters: {'activation': 'relu', 'hidden_layer_sizes': (42, 40, 50, 60, 40), 'learning_rate_init': 0.001}\n",
      "Best AUC Score: 0.940478565135647\n",
      "Test AUC Score: 0.6501184289343281\n",
      "Train Shape:  (23996, 28) (23996,)\n",
      "Test Shape:  (125314, 28) (125314,)\n",
      "Best Hyperparameters: {'activation': 'relu', 'hidden_layer_sizes': (28, 30, 30, 30, 30), 'learning_rate_init': 0.001}\n",
      "Best AUC Score: 0.9360213749507895\n",
      "Test AUC Score: 0.6432269246501379\n",
      "Train Shape:  (23996, 14) (23996,)\n",
      "Test Shape:  (125314, 14) (125314,)\n",
      "Best Hyperparameters: {'activation': 'tanh', 'hidden_layer_sizes': (14, 30, 40, 30), 'learning_rate_init': 0.001}\n",
      "Best AUC Score: 0.9662352677837408\n",
      "Test AUC Score: 0.5890477687362455\n"
     ]
    }
   ],
   "source": [
    "res = defaultdict(lambda: defaultdict(dict))\n",
    "for test_period in test_periods:\n",
    "    for data_item in data_items.keys():\n",
    "        param_grid = {\n",
    "            'activation': ['logistic', 'tanh', 'relu'],\n",
    "            'hidden_layer_sizes': [\n",
    "                (len(data_items[data_item]), 40),\n",
    "                (len(data_items[data_item]), 40, 50),\n",
    "                (len(data_items[data_item]), 30, 40, 30),\n",
    "                (len(data_items[data_item]), 40, 50, 60, 40),\n",
    "                (len(data_items[data_item]), 30, 30, 30, 30)\n",
    "                ],\n",
    "            'learning_rate_init': [0.001, 0.01, 0.1]\n",
    "            }\n",
    "        auc = results(data_obj,train_period,test_period,data_items[data_item],mlp_grid_search,param_grid,'over_under')\n",
    "        res[test_period][data_item] = auc"
   ]
  },
  {
   "cell_type": "code",
   "execution_count": 8,
   "id": "308c9f5e",
   "metadata": {},
   "outputs": [
    {
     "data": {
      "text/plain": [
       "defaultdict(<function __main__.<lambda>()>,\n",
       "            {(2003,\n",
       "              2019): defaultdict(dict,\n",
       "                         {'features': 0.6501184289343281,\n",
       "                          'raw_financial_items_28': 0.6432269246501379,\n",
       "                          'financial_ratios_14': 0.5890477687362455})})"
      ]
     },
     "execution_count": 8,
     "metadata": {},
     "output_type": "execute_result"
    }
   ],
   "source": [
    "res"
   ]
  },
  {
   "cell_type": "code",
   "execution_count": 9,
   "id": "e1213343",
   "metadata": {},
   "outputs": [
    {
     "name": "stdout",
     "output_type": "stream",
     "text": [
      "Train Shape:  (23996, 42) (23996,)\n",
      "Test Shape:  (125314, 42) (125314,)\n",
      "Best Hyperparameters: {'activation': 'relu', 'hidden_layer_sizes': (42, 40, 30, 50, 20), 'learning_rate_init': 0.001}\n",
      "Best AUC Score: 0.9354832251574731\n",
      "Test AUC Score: 0.6525207204254923\n",
      "Train Shape:  (23996, 28) (23996,)\n",
      "Test Shape:  (125314, 28) (125314,)\n",
      "Best Hyperparameters: {'activation': 'relu', 'hidden_layer_sizes': (28, 40, 30, 50, 20), 'learning_rate_init': 0.001}\n",
      "Best AUC Score: 0.9175614069664443\n",
      "Test AUC Score: 0.6402278059472267\n",
      "Train Shape:  (23996, 14) (23996,)\n",
      "Test Shape:  (125314, 14) (125314,)\n",
      "Best Hyperparameters: {'activation': 'tanh', 'hidden_layer_sizes': (14, 40, 30, 50, 20), 'learning_rate_init': 0.001}\n",
      "Best AUC Score: 0.9639525122302116\n",
      "Test AUC Score: 0.5770155403933275\n"
     ]
    }
   ],
   "source": [
    "res = defaultdict(lambda: defaultdict(dict))\n",
    "for test_period in test_periods:\n",
    "    for data_item in data_items.keys():\n",
    "        param_grid = {\n",
    "            'activation': ['logistic', 'tanh', 'relu'],\n",
    "            'hidden_layer_sizes': [\n",
    "                (len(data_items[data_item]), 20),\n",
    "                (len(data_items[data_item]), 40, 50, 10),\n",
    "                (len(data_items[data_item]), 40, 30, 50, 20)\n",
    "                ],\n",
    "            'learning_rate_init': [0.001, 0.01,0.09]\n",
    "            }\n",
    "        auc = results(data_obj,train_period,test_period,data_items[data_item],mlp_grid_search,param_grid,'over_under')\n",
    "        res[test_period][data_item] = auc"
   ]
  },
  {
   "cell_type": "code",
   "execution_count": 10,
   "id": "daa71aa7",
   "metadata": {},
   "outputs": [
    {
     "data": {
      "text/plain": [
       "defaultdict(<function __main__.<lambda>()>,\n",
       "            {(2003,\n",
       "              2019): defaultdict(dict,\n",
       "                         {'features': 0.6525207204254923,\n",
       "                          'raw_financial_items_28': 0.6402278059472267,\n",
       "                          'financial_ratios_14': 0.5770155403933275})})"
      ]
     },
     "execution_count": 10,
     "metadata": {},
     "output_type": "execute_result"
    }
   ],
   "source": [
    "res"
   ]
  },
  {
   "cell_type": "code",
   "execution_count": null,
   "id": "af250282",
   "metadata": {},
   "outputs": [],
   "source": []
  },
  {
   "cell_type": "markdown",
   "id": "eb4532dd",
   "metadata": {},
   "source": [
    "------------\n",
    "_____________"
   ]
  },
  {
   "cell_type": "markdown",
   "id": "927d76b9",
   "metadata": {},
   "source": [
    "## XgBoost Tuning"
   ]
  },
  {
   "cell_type": "code",
   "execution_count": 12,
   "id": "1e75a176",
   "metadata": {},
   "outputs": [
    {
     "name": "stdout",
     "output_type": "stream",
     "text": [
      "XgBoost Results:))\n",
      "Train Shape:  (23996, 42) (23996,)\n",
      "Test Shape:  (125314, 42) (125314,)\n",
      "Best Hyperparameters: {'learning_rate': 0.09, 'max_depth': 5}\n",
      "Best AUC Score: 0.9912572152821199\n",
      "Test AUC Score: 0.7083533027714106\n",
      "Train Shape:  (23996, 28) (23996,)\n",
      "Test Shape:  (125314, 28) (125314,)\n",
      "Best Hyperparameters: {'learning_rate': 0.09, 'max_depth': 5}\n",
      "Best AUC Score: 0.991427594541707\n",
      "Test AUC Score: 0.7152315089385313\n",
      "Train Shape:  (23996, 14) (23996,)\n",
      "Test Shape:  (125314, 14) (125314,)\n",
      "Best Hyperparameters: {'learning_rate': 0.09, 'max_depth': 5}\n",
      "Best AUC Score: 0.9820219265839933\n",
      "Test AUC Score: 0.6577597333015128\n"
     ]
    }
   ],
   "source": [
    "res = defaultdict(lambda: defaultdict(dict))\n",
    "print(\"XgBoost Results:))\")\n",
    "for test_period in test_periods:\n",
    "    for data_item in data_items.keys():\n",
    "        param_grid = {\n",
    "                    'max_depth': [3, 4, 5],\n",
    "                    'learning_rate': [0.001, 0.01,0.09]\n",
    "                    }\n",
    "        auc = results(data_obj,train_period,test_period,data_items[data_item],xgb_model,param_grid,'over_under')\n",
    "        res[test_period][data_item] = auc\n"
   ]
  },
  {
   "cell_type": "code",
   "execution_count": 13,
   "id": "c101a6a1",
   "metadata": {
    "scrolled": false
   },
   "outputs": [
    {
     "data": {
      "text/plain": [
       "defaultdict(<function __main__.<lambda>()>,\n",
       "            {(2003,\n",
       "              2019): defaultdict(dict,\n",
       "                         {'features': 0.7083533027714106,\n",
       "                          'raw_financial_items_28': 0.7152315089385313,\n",
       "                          'financial_ratios_14': 0.6577597333015128})})"
      ]
     },
     "execution_count": 13,
     "metadata": {},
     "output_type": "execute_result"
    }
   ],
   "source": [
    "res"
   ]
  },
  {
   "cell_type": "markdown",
   "id": "1f5105b8",
   "metadata": {},
   "source": [
    "-----------\n",
    "----"
   ]
  },
  {
   "cell_type": "code",
   "execution_count": null,
   "id": "8170add0",
   "metadata": {},
   "outputs": [],
   "source": [
    "# from sklearn.ensemble import RandomForestClassifier\n",
    "# from sklearn.model_selection import GridSearchCV\n",
    "# def random_forests(data_obj,train_period,test_period,item):\n",
    "#     # Define the Random Forest classifier\n",
    "#     rf_model = RandomForestClassifier(random_state=42)\n",
    "\n",
    "#     # Define the parameter grid to search\n",
    "#     param_grid = {\n",
    "#         'n_estimators': [100, 200, 300],  # Number of trees in the forest\n",
    "#         'max_depth': [None, 10, 20, 30],  # Maximum depth of the tree\n",
    "#         'min_samples_split': [2, 5, 10],  # Minimum number of samples required to split an internal node\n",
    "#         'min_samples_leaf': [1, 2, 4]  # Minimum number of samples required to be at a leaf node\n",
    "#     }\n",
    "\n",
    "#     # Perform grid search using cross-validation\n",
    "#     grid_search = GridSearchCV(estimator=rf_model, param_grid=param_grid, scoring='roc_auc', cv=5)\n",
    "#     grid_search.fit(X_train, y_train)\n",
    "\n",
    "#     # Get the best hyperparameters and the corresponding AUC score\n",
    "#     best_params = grid_search.best_params_\n",
    "#     best_auc = grid_search.best_score_\n",
    "#     test_auc = grid_search.score(X_test, y_test)\n",
    "\n",
    "#     # Print the best hyperparameters, the corresponding AUC score, and test AUC Score\n",
    "#     print(\"Best Hyperparameters:\", best_params)\n",
    "#     print(\"Best AUC Score:\", best_auc)\n",
    "#     print(\"Test AUC Score:\", test_auc)\n",
    "\n",
    "#     # Return the test AUC score\n",
    "#     return test_auc"
   ]
  },
  {
   "cell_type": "code",
   "execution_count": null,
   "id": "ac630c49",
   "metadata": {},
   "outputs": [],
   "source": [
    "# random_forests"
   ]
  },
  {
   "cell_type": "markdown",
   "id": "6c0a5e1d",
   "metadata": {},
   "source": [
    "## Random Forest"
   ]
  },
  {
   "cell_type": "code",
   "execution_count": 14,
   "id": "b4a81cef",
   "metadata": {},
   "outputs": [
    {
     "name": "stdout",
     "output_type": "stream",
     "text": [
      "Random Forest Results:))\n",
      "Train Shape:  (23996, 42) (23996,)\n",
      "Test Shape:  (125314, 42) (125314,)\n",
      "Best Hyperparameters: {'max_depth': 30, 'min_samples_leaf': 1, 'min_samples_split': 2, 'n_estimators': 300}\n",
      "Best AUC Score: 0.993149231385473\n",
      "Test AUC Score: 0.7136662790028074\n",
      "Train Shape:  (23996, 28) (23996,)\n",
      "Test Shape:  (125314, 28) (125314,)\n",
      "Best Hyperparameters: {'max_depth': None, 'min_samples_leaf': 1, 'min_samples_split': 2, 'n_estimators': 300}\n",
      "Best AUC Score: 0.9933354636118636\n",
      "Test AUC Score: 0.7049460609968008\n",
      "Train Shape:  (23996, 14) (23996,)\n",
      "Test Shape:  (125314, 14) (125314,)\n",
      "Best Hyperparameters: {'max_depth': None, 'min_samples_leaf': 1, 'min_samples_split': 2, 'n_estimators': 300}\n",
      "Best AUC Score: 0.9858569702870987\n",
      "Test AUC Score: 0.6853893097980408\n"
     ]
    }
   ],
   "source": [
    "res = defaultdict(lambda: defaultdict(dict))\n",
    "print(\"Random Forest Results:))\")\n",
    "for test_period in test_periods:\n",
    "    for data_item in data_items.keys():\n",
    "        param_grid = {\n",
    "                        'n_estimators': [100, 200, 300],  # Number of trees in the forest\n",
    "                        'max_depth': [None, 10, 20, 30],  # Maximum depth of the tree\n",
    "                        'min_samples_split': [2, 5, 10],  # Minimum number of samples required to split an internal node\n",
    "                        'min_samples_leaf': [1, 2, 4]  # Minimum number of samples required to be at a leaf node\n",
    "                    }\n",
    "        auc = results(data_obj,train_period,test_period,data_items[data_item],random_forests,param_grid,'over_under')\n",
    "        res[test_period][data_item] = auc"
   ]
  },
  {
   "cell_type": "code",
   "execution_count": 15,
   "id": "85239de2",
   "metadata": {
    "scrolled": true
   },
   "outputs": [
    {
     "data": {
      "text/plain": [
       "defaultdict(<function __main__.<lambda>()>,\n",
       "            {(2003,\n",
       "              2019): defaultdict(dict,\n",
       "                         {'features': 0.7136662790028074,\n",
       "                          'raw_financial_items_28': 0.7049460609968008,\n",
       "                          'financial_ratios_14': 0.6853893097980408})})"
      ]
     },
     "execution_count": 15,
     "metadata": {},
     "output_type": "execute_result"
    }
   ],
   "source": [
    "res"
   ]
  },
  {
   "cell_type": "markdown",
   "id": "8e6d52e2",
   "metadata": {},
   "source": [
    "### Oversample-Batch"
   ]
  },
  {
   "cell_type": "markdown",
   "id": "65fbf5e6",
   "metadata": {},
   "source": [
    "|                  | MLP      | RUS BOOST | Logit    | Probit   | Xg Boost | MLP2     | MLP3     | XgBoost  | RandomForest |\n",
    "|------------------|----------|-----------|----------|----------|----------|----------|----------|----------|--------------|\n",
    "| features         | 0.6208   | 0.7039    | 0.6257   | 0.6394   | 0.7003   | 0.6501   | 0.6525   | 0.7084   | 0.7137       |\n",
    "| raw_financial_items_28 | 0.6116   | 0.7017    | 0.6277   | 0.6221   | 0.7060   | 0.6432   | 0.6402   | 0.7152   | 0.7049       |\n",
    "| financial_ratios_14   | 0.5274   | 0.6558    | 0.6370   | 0.6339   | 0.6773   | 0.5890   | 0.5770   | 0.6578   | 0.6854       |\n"
   ]
  },
  {
   "cell_type": "markdown",
   "id": "64146819",
   "metadata": {},
   "source": [
    "----"
   ]
  },
  {
   "cell_type": "markdown",
   "id": "a4044b61",
   "metadata": {},
   "source": [
    "------"
   ]
  },
  {
   "cell_type": "markdown",
   "id": "50d6327d",
   "metadata": {},
   "source": [
    "## Window Processing"
   ]
  },
  {
   "cell_type": "code",
   "execution_count": 3,
   "id": "13742414",
   "metadata": {},
   "outputs": [],
   "source": [
    "train_batches,test_batches = data_obj.create_batches()"
   ]
  },
  {
   "cell_type": "code",
   "execution_count": 4,
   "id": "42731dee",
   "metadata": {
    "scrolled": false
   },
   "outputs": [
    {
     "name": "stdout",
     "output_type": "stream",
     "text": [
      "(1990, 1994) (1995, 1999)\n",
      "(1995, 1999) (2000, 2004)\n",
      "(2000, 2004) (2005, 2009)\n",
      "(2005, 2009) (2010, 2014)\n",
      "(2010, 2014) (2015, 2019)\n"
     ]
    }
   ],
   "source": [
    "for train_period,test_period in zip(train_batches[:-1],test_batches[:-1]):\n",
    "    print(train_period,test_period)"
   ]
  },
  {
   "cell_type": "code",
   "execution_count": 5,
   "id": "cd6eee5f",
   "metadata": {},
   "outputs": [],
   "source": [
    "models = {\"MLP\": MLP,\n",
    "         \"RUS BOOST\": rus_boost,\n",
    "          \"Logit\":logistic_regression_model,\n",
    "         \"Probit\":probit_regression_model,\n",
    "         \"Xg Boost\":xgb_model,\n",
    "         \"RF\":random_forests}"
   ]
  },
  {
   "cell_type": "code",
   "execution_count": 6,
   "id": "49ca178b",
   "metadata": {},
   "outputs": [
    {
     "name": "stdout",
     "output_type": "stream",
     "text": [
      "Train Shape:  (8132, 42) (8132,)\n",
      "Test Shape:  (51517, 42) (51517,)\n",
      "Train Shape:  (8132, 28) (8132,)\n",
      "Test Shape:  (51517, 28) (51517,)\n",
      "Train Shape:  (8132, 14) (8132,)\n",
      "Test Shape:  (51517, 14) (51517,)\n",
      "Train Shape:  (8132, 42) (8132,)\n",
      "Test Shape:  (51517, 42) (51517,)\n",
      "Train Shape:  (8132, 28) (8132,)\n",
      "Test Shape:  (51517, 28) (51517,)\n",
      "Train Shape:  (8132, 14) (8132,)\n",
      "Test Shape:  (51517, 14) (51517,)\n",
      "Train Shape:  (8132, 42) (8132,)\n",
      "Test Shape:  (51517, 42) (51517,)\n",
      "Train Shape:  (8132, 28) (8132,)\n",
      "Test Shape:  (51517, 28) (51517,)\n",
      "Train Shape:  (8132, 14) (8132,)\n",
      "Test Shape:  (51517, 14) (51517,)\n",
      "Train Shape:  (8132, 42) (8132,)\n",
      "Test Shape:  (51517, 42) (51517,)\n",
      "Optimization terminated successfully.\n",
      "         Current function value: 0.611003\n",
      "         Iterations 12\n",
      "Train Shape:  (8132, 28) (8132,)\n",
      "Test Shape:  (51517, 28) (51517,)\n",
      "Optimization terminated successfully.\n",
      "         Current function value: 0.630004\n",
      "         Iterations 11\n",
      "Train Shape:  (8132, 14) (8132,)\n",
      "Test Shape:  (51517, 14) (51517,)\n",
      "Warning: Maximum number of iterations has been exceeded.\n",
      "         Current function value: 0.449377\n",
      "         Iterations: 35\n"
     ]
    },
    {
     "name": "stderr",
     "output_type": "stream",
     "text": [
      "C:\\Users\\saite\\AppData\\Local\\Programs\\Python\\Python310\\lib\\site-packages\\statsmodels\\base\\model.py:607: ConvergenceWarning: Maximum Likelihood optimization failed to converge. Check mle_retvals\n",
      "  warnings.warn(\"Maximum Likelihood optimization failed to \"\n"
     ]
    },
    {
     "name": "stdout",
     "output_type": "stream",
     "text": [
      "Train Shape:  (8132, 42) (8132,)\n",
      "Test Shape:  (51517, 42) (51517,)\n",
      "Test AUC Score: 0.7314284148399571\n",
      "Train Shape:  (8132, 28) (8132,)\n",
      "Test Shape:  (51517, 28) (51517,)\n",
      "Test AUC Score: 0.7135930571488147\n",
      "Train Shape:  (8132, 14) (8132,)\n",
      "Test Shape:  (51517, 14) (51517,)\n",
      "Test AUC Score: 0.6465615210118072\n",
      "Train Shape:  (8132, 42) (8132,)\n",
      "Test Shape:  (51517, 42) (51517,)\n",
      "Random Forest Test AUC Score: 0.736251123680797\n",
      "Train Shape:  (8132, 28) (8132,)\n",
      "Test Shape:  (51517, 28) (51517,)\n",
      "Random Forest Test AUC Score: 0.6945142643678378\n",
      "Train Shape:  (8132, 14) (8132,)\n",
      "Test Shape:  (51517, 14) (51517,)\n",
      "Random Forest Test AUC Score: 0.6172431377514541\n",
      "Train Shape:  (10240, 42) (10240,)\n",
      "Test Shape:  (45675, 42) (45675,)\n",
      "Train Shape:  (10240, 28) (10240,)\n",
      "Test Shape:  (45675, 28) (45675,)\n",
      "Train Shape:  (10240, 14) (10240,)\n",
      "Test Shape:  (45675, 14) (45675,)\n",
      "Train Shape:  (10240, 42) (10240,)\n",
      "Test Shape:  (45675, 42) (45675,)\n",
      "Train Shape:  (10240, 28) (10240,)\n",
      "Test Shape:  (45675, 28) (45675,)\n",
      "Train Shape:  (10240, 14) (10240,)\n",
      "Test Shape:  (45675, 14) (45675,)\n",
      "Train Shape:  (10240, 42) (10240,)\n",
      "Test Shape:  (45675, 42) (45675,)\n",
      "Train Shape:  (10240, 28) (10240,)\n",
      "Test Shape:  (45675, 28) (45675,)\n",
      "Train Shape:  (10240, 14) (10240,)\n",
      "Test Shape:  (45675, 14) (45675,)\n",
      "Train Shape:  (10240, 42) (10240,)\n",
      "Test Shape:  (45675, 42) (45675,)\n",
      "Optimization terminated successfully.\n",
      "         Current function value: nan\n",
      "         Iterations 8\n"
     ]
    },
    {
     "name": "stderr",
     "output_type": "stream",
     "text": [
      "C:\\Users\\saite\\AppData\\Local\\Programs\\Python\\Python310\\lib\\site-packages\\statsmodels\\discrete\\discrete_model.py:2873: RuntimeWarning: divide by zero encountered in divide\n",
      "  L = q*self.pdf(q*XB)/self.cdf(q*XB)\n",
      "C:\\Users\\saite\\AppData\\Local\\Programs\\Python\\Python310\\lib\\site-packages\\statsmodels\\discrete\\discrete_model.py:2874: RuntimeWarning: invalid value encountered in multiply\n",
      "  return np.dot(-L*(L+XB)*X.T,X)\n"
     ]
    },
    {
     "name": "stdout",
     "output_type": "stream",
     "text": [
      "Train Shape:  (10240, 28) (10240,)\n",
      "Test Shape:  (45675, 28) (45675,)\n",
      "Optimization terminated successfully.\n",
      "         Current function value: nan\n",
      "         Iterations 9\n"
     ]
    },
    {
     "name": "stderr",
     "output_type": "stream",
     "text": [
      "C:\\Users\\saite\\AppData\\Local\\Programs\\Python\\Python310\\lib\\site-packages\\statsmodels\\discrete\\discrete_model.py:2873: RuntimeWarning: invalid value encountered in divide\n",
      "  L = q*self.pdf(q*XB)/self.cdf(q*XB)\n"
     ]
    },
    {
     "name": "stdout",
     "output_type": "stream",
     "text": [
      "Train Shape:  (10240, 14) (10240,)\n",
      "Test Shape:  (45675, 14) (45675,)\n",
      "Optimization terminated successfully.\n",
      "         Current function value: 0.518702\n",
      "         Iterations 16\n",
      "Train Shape:  (10240, 42) (10240,)\n",
      "Test Shape:  (45675, 42) (45675,)\n",
      "Test AUC Score: 0.7681785633258986\n",
      "Train Shape:  (10240, 28) (10240,)\n",
      "Test Shape:  (45675, 28) (45675,)\n",
      "Test AUC Score: 0.7612001471133426\n",
      "Train Shape:  (10240, 14) (10240,)\n",
      "Test Shape:  (45675, 14) (45675,)\n",
      "Test AUC Score: 0.7447195053955136\n",
      "Train Shape:  (10240, 42) (10240,)\n",
      "Test Shape:  (45675, 42) (45675,)\n",
      "Random Forest Test AUC Score: 0.7900588349378936\n",
      "Train Shape:  (10240, 28) (10240,)\n",
      "Test Shape:  (45675, 28) (45675,)\n",
      "Random Forest Test AUC Score: 0.7754834912589059\n",
      "Train Shape:  (10240, 14) (10240,)\n",
      "Test Shape:  (45675, 14) (45675,)\n",
      "Random Forest Test AUC Score: 0.7310400270308635\n",
      "Train Shape:  (9032, 42) (9032,)\n",
      "Test Shape:  (38240, 42) (38240,)\n",
      "Train Shape:  (9032, 28) (9032,)\n",
      "Test Shape:  (38240, 28) (38240,)\n",
      "Train Shape:  (9032, 14) (9032,)\n",
      "Test Shape:  (38240, 14) (38240,)\n",
      "Train Shape:  (9032, 42) (9032,)\n",
      "Test Shape:  (38240, 42) (38240,)\n",
      "Train Shape:  (9032, 28) (9032,)\n",
      "Test Shape:  (38240, 28) (38240,)\n",
      "Train Shape:  (9032, 14) (9032,)\n",
      "Test Shape:  (38240, 14) (38240,)\n",
      "Train Shape:  (9032, 42) (9032,)\n",
      "Test Shape:  (38240, 42) (38240,)\n",
      "Train Shape:  (9032, 28) (9032,)\n",
      "Test Shape:  (38240, 28) (38240,)\n",
      "Train Shape:  (9032, 14) (9032,)\n",
      "Test Shape:  (38240, 14) (38240,)\n",
      "Train Shape:  (9032, 42) (9032,)\n",
      "Test Shape:  (38240, 42) (38240,)\n",
      "Optimization terminated successfully.\n",
      "         Current function value: 0.546314\n",
      "         Iterations 27\n",
      "Train Shape:  (9032, 28) (9032,)\n",
      "Test Shape:  (38240, 28) (38240,)\n",
      "Warning: Maximum number of iterations has been exceeded.\n",
      "         Current function value: 0.589306\n",
      "         Iterations: 35\n"
     ]
    },
    {
     "name": "stderr",
     "output_type": "stream",
     "text": [
      "C:\\Users\\saite\\AppData\\Local\\Programs\\Python\\Python310\\lib\\site-packages\\statsmodels\\base\\model.py:607: ConvergenceWarning: Maximum Likelihood optimization failed to converge. Check mle_retvals\n",
      "  warnings.warn(\"Maximum Likelihood optimization failed to \"\n"
     ]
    },
    {
     "name": "stdout",
     "output_type": "stream",
     "text": [
      "Train Shape:  (9032, 14) (9032,)\n",
      "Test Shape:  (38240, 14) (38240,)\n",
      "Optimization terminated successfully.\n",
      "         Current function value: 0.588084\n",
      "         Iterations 13\n",
      "Train Shape:  (9032, 42) (9032,)\n",
      "Test Shape:  (38240, 42) (38240,)\n",
      "Test AUC Score: 0.7046788734577126\n",
      "Train Shape:  (9032, 28) (9032,)\n",
      "Test Shape:  (38240, 28) (38240,)\n",
      "Test AUC Score: 0.7042452674092351\n",
      "Train Shape:  (9032, 14) (9032,)\n",
      "Test Shape:  (38240, 14) (38240,)\n",
      "Test AUC Score: 0.6588543812255119\n",
      "Train Shape:  (9032, 42) (9032,)\n",
      "Test Shape:  (38240, 42) (38240,)\n",
      "Random Forest Test AUC Score: 0.7374325401456693\n",
      "Train Shape:  (9032, 28) (9032,)\n",
      "Test Shape:  (38240, 28) (38240,)\n",
      "Random Forest Test AUC Score: 0.7270168026429269\n",
      "Train Shape:  (9032, 14) (9032,)\n",
      "Test Shape:  (38240, 14) (38240,)\n",
      "Random Forest Test AUC Score: 0.6792918112871303\n",
      "Train Shape:  (7608, 42) (7608,)\n",
      "Test Shape:  (36109, 42) (36109,)\n",
      "Train Shape:  (7608, 28) (7608,)\n",
      "Test Shape:  (36109, 28) (36109,)\n",
      "Train Shape:  (7608, 14) (7608,)\n",
      "Test Shape:  (36109, 14) (36109,)\n",
      "Train Shape:  (7608, 42) (7608,)\n",
      "Test Shape:  (36109, 42) (36109,)\n",
      "Train Shape:  (7608, 28) (7608,)\n",
      "Test Shape:  (36109, 28) (36109,)\n",
      "Train Shape:  (7608, 14) (7608,)\n",
      "Test Shape:  (36109, 14) (36109,)\n",
      "Train Shape:  (7608, 42) (7608,)\n",
      "Test Shape:  (36109, 42) (36109,)\n",
      "Train Shape:  (7608, 28) (7608,)\n",
      "Test Shape:  (36109, 28) (36109,)\n",
      "Train Shape:  (7608, 14) (7608,)\n",
      "Test Shape:  (36109, 14) (36109,)\n",
      "Train Shape:  (7608, 42) (7608,)\n",
      "Test Shape:  (36109, 42) (36109,)\n",
      "Optimization terminated successfully.\n",
      "         Current function value: 0.585488\n",
      "         Iterations 13\n",
      "Train Shape:  (7608, 28) (7608,)\n",
      "Test Shape:  (36109, 28) (36109,)\n",
      "Optimization terminated successfully.\n",
      "         Current function value: 0.623410\n",
      "         Iterations 14\n",
      "Train Shape:  (7608, 14) (7608,)\n",
      "Test Shape:  (36109, 14) (36109,)\n",
      "Warning: Maximum number of iterations has been exceeded.\n",
      "         Current function value: 0.589735\n",
      "         Iterations: 35\n"
     ]
    },
    {
     "name": "stderr",
     "output_type": "stream",
     "text": [
      "C:\\Users\\saite\\AppData\\Local\\Programs\\Python\\Python310\\lib\\site-packages\\statsmodels\\base\\model.py:607: ConvergenceWarning: Maximum Likelihood optimization failed to converge. Check mle_retvals\n",
      "  warnings.warn(\"Maximum Likelihood optimization failed to \"\n"
     ]
    },
    {
     "name": "stdout",
     "output_type": "stream",
     "text": [
      "Train Shape:  (7608, 42) (7608,)\n",
      "Test Shape:  (36109, 42) (36109,)\n",
      "Test AUC Score: 0.7345239738151097\n",
      "Train Shape:  (7608, 28) (7608,)\n",
      "Test Shape:  (36109, 28) (36109,)\n",
      "Test AUC Score: 0.731414268085115\n",
      "Train Shape:  (7608, 14) (7608,)\n",
      "Test Shape:  (36109, 14) (36109,)\n",
      "Test AUC Score: 0.6632931519671669\n",
      "Train Shape:  (7608, 42) (7608,)\n",
      "Test Shape:  (36109, 42) (36109,)\n",
      "Random Forest Test AUC Score: 0.7385179096089268\n",
      "Train Shape:  (7608, 28) (7608,)\n",
      "Test Shape:  (36109, 28) (36109,)\n",
      "Random Forest Test AUC Score: 0.700557918969245\n",
      "Train Shape:  (7608, 14) (7608,)\n",
      "Test Shape:  (36109, 14) (36109,)\n",
      "Random Forest Test AUC Score: 0.6686103327513135\n",
      "Train Shape:  (7194, 42) (7194,)\n",
      "Test Shape:  (33759, 42) (33759,)\n",
      "Train Shape:  (7194, 28) (7194,)\n",
      "Test Shape:  (33759, 28) (33759,)\n",
      "Train Shape:  (7194, 14) (7194,)\n",
      "Test Shape:  (33759, 14) (33759,)\n",
      "Train Shape:  (7194, 42) (7194,)\n",
      "Test Shape:  (33759, 42) (33759,)\n",
      "Train Shape:  (7194, 28) (7194,)\n",
      "Test Shape:  (33759, 28) (33759,)\n",
      "Train Shape:  (7194, 14) (7194,)\n",
      "Test Shape:  (33759, 14) (33759,)\n",
      "Train Shape:  (7194, 42) (7194,)\n",
      "Test Shape:  (33759, 42) (33759,)\n",
      "Train Shape:  (7194, 28) (7194,)\n",
      "Test Shape:  (33759, 28) (33759,)\n",
      "Train Shape:  (7194, 14) (7194,)\n",
      "Test Shape:  (33759, 14) (33759,)\n",
      "Train Shape:  (7194, 42) (7194,)\n",
      "Test Shape:  (33759, 42) (33759,)\n",
      "Optimization terminated successfully.\n",
      "         Current function value: 0.532671\n",
      "         Iterations 16\n",
      "Train Shape:  (7194, 28) (7194,)\n",
      "Test Shape:  (33759, 28) (33759,)\n",
      "Optimization terminated successfully.\n",
      "         Current function value: 0.589888\n",
      "         Iterations 15\n",
      "Train Shape:  (7194, 14) (7194,)\n",
      "Test Shape:  (33759, 14) (33759,)\n",
      "Optimization terminated successfully.\n",
      "         Current function value: 0.559331\n",
      "         Iterations 14\n",
      "Train Shape:  (7194, 42) (7194,)\n",
      "Test Shape:  (33759, 42) (33759,)\n",
      "Test AUC Score: 0.7149696237816355\n",
      "Train Shape:  (7194, 28) (7194,)\n",
      "Test Shape:  (33759, 28) (33759,)\n",
      "Test AUC Score: 0.7123426800410445\n",
      "Train Shape:  (7194, 14) (7194,)\n",
      "Test Shape:  (33759, 14) (33759,)\n",
      "Test AUC Score: 0.6730839481870831\n",
      "Train Shape:  (7194, 42) (7194,)\n",
      "Test Shape:  (33759, 42) (33759,)\n",
      "Random Forest Test AUC Score: 0.7121675892381398\n",
      "Train Shape:  (7194, 28) (7194,)\n",
      "Test Shape:  (33759, 28) (33759,)\n",
      "Random Forest Test AUC Score: 0.6997931485398242\n",
      "Train Shape:  (7194, 14) (7194,)\n",
      "Test Shape:  (33759, 14) (33759,)\n",
      "Random Forest Test AUC Score: 0.6799677507172324\n"
     ]
    }
   ],
   "source": [
    "res = defaultdict(lambda: defaultdict(dict))\n",
    "for train_period,test_period in zip(train_batches[:-1],test_batches[:-1]):\n",
    "    for model in models.keys():\n",
    "        for data_item in data_items.keys():\n",
    "            auc = results(data_obj,train_period,test_period,data_items[data_item],models[model],sample = 'over_under')\n",
    "            res[str(train_period) + '-' +str(test_period)][data_item][model] = auc"
   ]
  },
  {
   "cell_type": "code",
   "execution_count": 7,
   "id": "ea26ced3",
   "metadata": {},
   "outputs": [
    {
     "data": {
      "text/plain": [
       "defaultdict(<function __main__.<lambda>()>,\n",
       "            {'(1990, 1994)-(1995, 1999)': defaultdict(dict,\n",
       "                         {'features': {'MLP': 0.5973735004727807,\n",
       "                           'RUS BOOST': 0.7409942693066788,\n",
       "                           'Logit': 0.5876159824419167,\n",
       "                           'Probit': 0.6351715081796403,\n",
       "                           'Xg Boost': 0.7314284148399571,\n",
       "                           'RF': 0.736251123680797},\n",
       "                          'raw_financial_items_28': {'MLP': 0.5746119324663903,\n",
       "                           'RUS BOOST': 0.7123182503400178,\n",
       "                           'Logit': 0.5489464961002686,\n",
       "                           'Probit': 0.5668716852597647,\n",
       "                           'Xg Boost': 0.7135930571488147,\n",
       "                           'RF': 0.6945142643678378},\n",
       "                          'financial_ratios_14': {'MLP': 0.4983338971423387,\n",
       "                           'RUS BOOST': 0.6374681636898182,\n",
       "                           'Logit': 0.6918977181169157,\n",
       "                           'Probit': 0.6915313052587947,\n",
       "                           'Xg Boost': 0.6465615210118072,\n",
       "                           'RF': 0.6172431377514541}}),\n",
       "             '(1995, 1999)-(2000, 2004)': defaultdict(dict,\n",
       "                         {'features': {'MLP': 0.6210735183677629,\n",
       "                           'RUS BOOST': 0.7810006532400898,\n",
       "                           'Logit': 0.6429540932883697,\n",
       "                           'Probit': None,\n",
       "                           'Xg Boost': 0.7681785633258986,\n",
       "                           'RF': 0.7900588349378936},\n",
       "                          'raw_financial_items_28': {'MLP': 0.6231931906003448,\n",
       "                           'RUS BOOST': 0.7784606819313513,\n",
       "                           'Logit': 0.5925455885842265,\n",
       "                           'Probit': None,\n",
       "                           'Xg Boost': 0.7612001471133426,\n",
       "                           'RF': 0.7754834912589059},\n",
       "                          'financial_ratios_14': {'MLP': 0.5953173093371735,\n",
       "                           'RUS BOOST': 0.7286719017155308,\n",
       "                           'Logit': 0.7044696076971753,\n",
       "                           'Probit': 0.705990722049548,\n",
       "                           'Xg Boost': 0.7447195053955136,\n",
       "                           'RF': 0.7310400270308635}}),\n",
       "             '(2000, 2004)-(2005, 2009)': defaultdict(dict,\n",
       "                         {'features': {'MLP': 0.5487184449122172,\n",
       "                           'RUS BOOST': 0.7054842585615746,\n",
       "                           'Logit': 0.6157979406708718,\n",
       "                           'Probit': 0.6170316206938486,\n",
       "                           'Xg Boost': 0.7046788734577126,\n",
       "                           'RF': 0.7374325401456693},\n",
       "                          'raw_financial_items_28': {'MLP': 0.5998864780144438,\n",
       "                           'RUS BOOST': 0.6816322489595974,\n",
       "                           'Logit': 0.6223627689286949,\n",
       "                           'Probit': 0.6047121156802105,\n",
       "                           'Xg Boost': 0.7042452674092351,\n",
       "                           'RF': 0.7270168026429269},\n",
       "                          'financial_ratios_14': {'MLP': 0.5510864596025288,\n",
       "                           'RUS BOOST': 0.658909058621386,\n",
       "                           'Logit': 0.6116314277772883,\n",
       "                           'Probit': 0.6093856371537195,\n",
       "                           'Xg Boost': 0.6588543812255119,\n",
       "                           'RF': 0.6792918112871303}}),\n",
       "             '(2005, 2009)-(2010, 2014)': defaultdict(dict,\n",
       "                         {'features': {'MLP': 0.540111663796569,\n",
       "                           'RUS BOOST': 0.7250832528305963,\n",
       "                           'Logit': 0.6066369256554723,\n",
       "                           'Probit': 0.6128171357826167,\n",
       "                           'Xg Boost': 0.7345239738151097,\n",
       "                           'RF': 0.7385179096089268},\n",
       "                          'raw_financial_items_28': {'MLP': 0.528342563647164,\n",
       "                           'RUS BOOST': 0.7401033635143595,\n",
       "                           'Logit': 0.5827467133882551,\n",
       "                           'Probit': 0.5709042107431652,\n",
       "                           'Xg Boost': 0.731414268085115,\n",
       "                           'RF': 0.700557918969245},\n",
       "                          'financial_ratios_14': {'MLP': 0.5193122566167249,\n",
       "                           'RUS BOOST': 0.6284894686419338,\n",
       "                           'Logit': 0.6226111687797385,\n",
       "                           'Probit': 0.6467807905468786,\n",
       "                           'Xg Boost': 0.6632931519671669,\n",
       "                           'RF': 0.6686103327513135}}),\n",
       "             '(2010, 2014)-(2015, 2019)': defaultdict(dict,\n",
       "                         {'features': {'MLP': 0.5818395353869565,\n",
       "                           'RUS BOOST': 0.6777177466453533,\n",
       "                           'Logit': 0.4903388850496885,\n",
       "                           'Probit': 0.6331359053648753,\n",
       "                           'Xg Boost': 0.7149696237816355,\n",
       "                           'RF': 0.7121675892381398},\n",
       "                          'raw_financial_items_28': {'MLP': 0.6353632232529893,\n",
       "                           'RUS BOOST': 0.6894116018307168,\n",
       "                           'Logit': 0.5458272545994785,\n",
       "                           'Probit': 0.543630766653404,\n",
       "                           'Xg Boost': 0.7123426800410445,\n",
       "                           'RF': 0.6997931485398242},\n",
       "                          'financial_ratios_14': {'MLP': 0.5322990178627521,\n",
       "                           'RUS BOOST': 0.5635061904196829,\n",
       "                           'Logit': 0.46888415387514926,\n",
       "                           'Probit': 0.6340043790151636,\n",
       "                           'Xg Boost': 0.6730839481870831,\n",
       "                           'RF': 0.6799677507172324}})})"
      ]
     },
     "execution_count": 7,
     "metadata": {},
     "output_type": "execute_result"
    }
   ],
   "source": [
    "res"
   ]
  },
  {
   "cell_type": "markdown",
   "id": "397d29b2",
   "metadata": {},
   "source": [
    "### Window-Oversample"
   ]
  },
  {
   "cell_type": "markdown",
   "id": "6278ad9b",
   "metadata": {},
   "source": [
    "| Year Range                | MLP       | RUS BOOST | Logit     | Probit    | Xg Boost  | RF        |\n",
    "|---------------------------|-----------|-----------|-----------|-----------|-----------|-----------|\n",
    "| (1990, 1994)-(1995, 1999) |           |           |           |           |           |           |\n",
    "| features                  | 0.5974    | 0.7410    | 0.5876    | 0.6352    | 0.7314    | 0.7363    |\n",
    "| raw_financial_items_28    | 0.5746    | 0.7123    | 0.5489    | 0.5669    | 0.7136    | 0.6945    |\n",
    "| financial_ratios_14       | 0.4983    | 0.6375    | 0.6919    | 0.6915    | 0.6466    | 0.6172    |\n",
    "|---------------------------|-----------|-----------|-----------|-----------|-----------|-----------|\n",
    "| (1995, 1999)-(2000, 2004) |           |           |           |           |           |           |\n",
    "| features                  | 0.6211    | 0.7810    | 0.6430    | None      | 0.7682    | 0.7901    |\n",
    "| raw_financial_items_28    | 0.6232    | 0.7785    | 0.5925    | None      | 0.7612    | 0.7755    |\n",
    "| financial_ratios_14       | 0.5953    | 0.7287    | 0.7045    | 0.7060    | 0.7447    | 0.7310    |\n",
    "|---------------------------|-----------|-----------|-----------|-----------|-----------|-----------|\n",
    "| (2000, 2004)-(2005, 2009) |           |           |           |           |           |           |\n",
    "| features                  | 0.5487    | 0.7055    | 0.6158    | 0.6170    | 0.7047    | 0.7374    |\n",
    "| raw_financial_items_28    | 0.5999    | 0.6816    | 0.6224    | 0.6047    | 0.7042    | 0.7270    |\n",
    "| financial_ratios_14       | 0.5511    | 0.6589    | 0.6116    | 0.6094    | 0.6589    | 0.6793    |\n",
    "|---------------------------|-----------|-----------|-----------|-----------|-----------|-----------|\n",
    "| (2005, 2009)-(2010, 2014) |           |           |           |           |           |           |\n",
    "| features                  | 0.5401    | 0.7251    | 0.6066    | 0.6128    | 0.7345    | 0.7385    |\n",
    "| raw_financial_items_28    | 0.5283    | 0.7401    | 0.5827    | 0.5709    | 0.7314    | 0.7006    |\n",
    "| financial_ratios_14       | 0.5193    | 0.6285    | 0.6226    | 0.6468    | 0.6633    | 0.6686    |\n",
    "|---------------------------|-----------|-----------|-----------|-----------|-----------|-----------|\n",
    "| (2010, 2014)-(2015, 2019) |           |           |           |           |           |           |\n",
    "| features                  | 0.5818    | 0.6777    | 0.4903    | 0.6331    | 0.7150    | 0.7122    |\n",
    "| raw_financial_items_28    | 0.6354    | 0.6894    | 0.5458    | 0.5436    | 0.7123    | 0.6998    |\n",
    "| financial_ratios_14       | 0.5323    | 0.5635    | 0.4689    | 0.6340    | 0.6731    | 0.6800    |\n"
   ]
  },
  {
   "cell_type": "code",
   "execution_count": null,
   "id": "d5a0967b",
   "metadata": {},
   "outputs": [],
   "source": []
  }
 ],
 "metadata": {
  "kernelspec": {
   "display_name": "Python 3 (ipykernel)",
   "language": "python",
   "name": "python3"
  },
  "language_info": {
   "codemirror_mode": {
    "name": "ipython",
    "version": 3
   },
   "file_extension": ".py",
   "mimetype": "text/x-python",
   "name": "python",
   "nbconvert_exporter": "python",
   "pygments_lexer": "ipython3",
   "version": "3.10.6"
  }
 },
 "nbformat": 4,
 "nbformat_minor": 5
}

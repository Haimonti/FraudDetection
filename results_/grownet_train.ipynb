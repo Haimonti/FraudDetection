{
  "nbformat": 4,
  "nbformat_minor": 0,
  "metadata": {
    "colab": {
      "provenance": [],
      "gpuType": "T4"
    },
    "kernelspec": {
      "name": "python3",
      "display_name": "Python 3"
    },
    "language_info": {
      "name": "python"
    },
    "accelerator": "GPU"
  },
  "cells": [
    {
      "cell_type": "code",
      "execution_count": null,
      "metadata": {
        "colab": {
          "base_uri": "https://localhost:8080/"
        },
        "id": "3n2jE3dCp1wN",
        "outputId": "20c1c476-70fc-4a74-80fe-f3baf32d97d1"
      },
      "outputs": [
        {
          "output_type": "stream",
          "name": "stdout",
          "text": [
            "/content/drive/MyDrive/Research-UB/Grownet\n"
          ]
        }
      ],
      "source": [
        "cd drive/MyDrive/Research-UB/Grownet"
      ]
    },
    {
      "cell_type": "code",
      "source": [
        "cd Classification/\n"
      ],
      "metadata": {
        "colab": {
          "base_uri": "https://localhost:8080/"
        },
        "id": "GuX1oW3yu_Kq",
        "outputId": "560f1600-5ef0-493c-c8c3-a56e633f81d6"
      },
      "execution_count": null,
      "outputs": [
        {
          "output_type": "stream",
          "name": "stdout",
          "text": [
            "/content/drive/MyDrive/Research-UB/Grownet/Classification\n"
          ]
        }
      ]
    },
    {
      "cell_type": "code",
      "source": [
        "!nvidia-smi"
      ],
      "metadata": {
        "colab": {
          "base_uri": "https://localhost:8080/"
        },
        "id": "vK5ilqvsvBBS",
        "outputId": "64364d21-ce68-410d-fbb6-a7ccea72f8cc"
      },
      "execution_count": null,
      "outputs": [
        {
          "output_type": "stream",
          "name": "stdout",
          "text": [
            "Sun Jan 14 03:23:48 2024       \n",
            "+---------------------------------------------------------------------------------------+\n",
            "| NVIDIA-SMI 535.104.05             Driver Version: 535.104.05   CUDA Version: 12.2     |\n",
            "|-----------------------------------------+----------------------+----------------------+\n",
            "| GPU  Name                 Persistence-M | Bus-Id        Disp.A | Volatile Uncorr. ECC |\n",
            "| Fan  Temp   Perf          Pwr:Usage/Cap |         Memory-Usage | GPU-Util  Compute M. |\n",
            "|                                         |                      |               MIG M. |\n",
            "|=========================================+======================+======================|\n",
            "|   0  Tesla T4                       Off | 00000000:00:04.0 Off |                    0 |\n",
            "| N/A   56C    P8              10W /  70W |      0MiB / 15360MiB |      0%      Default |\n",
            "|                                         |                      |                  N/A |\n",
            "+-----------------------------------------+----------------------+----------------------+\n",
            "                                                                                         \n",
            "+---------------------------------------------------------------------------------------+\n",
            "| Processes:                                                                            |\n",
            "|  GPU   GI   CI        PID   Type   Process name                            GPU Memory |\n",
            "|        ID   ID                                                             Usage      |\n",
            "|=======================================================================================|\n",
            "|  No running processes found                                                           |\n",
            "+---------------------------------------------------------------------------------------+\n"
          ]
        }
      ]
    },
    {
      "cell_type": "code",
      "source": [],
      "metadata": {
        "id": "ge0tI29Lz8H1"
      },
      "execution_count": null,
      "outputs": []
    },
    {
      "cell_type": "markdown",
      "source": [
        "### Raw+Financial"
      ],
      "metadata": {
        "id": "WJIkdqmNEhuN"
      }
    },
    {
      "cell_type": "code",
      "source": [
        "!bash train.sh"
      ],
      "metadata": {
        "colab": {
          "base_uri": "https://localhost:8080/"
        },
        "id": "tPZtjda-vKsu",
        "outputId": "46ba3496-dd32-4487-bbe5-e82d7a0d3e37"
      },
      "execution_count": null,
      "outputs": [
        {
          "output_type": "stream",
          "name": "stdout",
          "text": [
            "#Train: 1662, #Val: 0 #Test: 125314\n",
            "aaer training and test datasets are loaded!\n",
            "<data.data.AAERComp object at 0x7ac391d20880>\n",
            "Blind accuracy: 0.5\n",
            "Stage - 0, training time:  21.8 sec, boost rate:  1.0000, Training Loss:  0.0000, Test Loss:  0.6923\n",
            "Acc results from stage := 0\n",
            "\n",
            "Stage: 0, AUC@Val: 0.0000, AUC@Test: 0.5006\n",
            "Stage - 1, training time:  24.1 sec, boost rate:  1.0026, Training Loss:  0.6015, Test Loss:  0.8227\n",
            "Acc results from stage := 1\n",
            "\n",
            "Stage: 1, AUC@Val: 0.0000, AUC@Test: 0.6377\n",
            "Stage - 2, training time:  26.5 sec, boost rate:  0.9937, Training Loss:  0.5993, Test Loss:  0.8682\n",
            "Acc results from stage := 2\n",
            "\n",
            "Stage: 2, AUC@Val: 0.0000, AUC@Test: 0.6392\n",
            "Stage - 3, training time:  31.5 sec, boost rate:  0.9863, Training Loss:  0.5822, Test Loss:  0.7601\n",
            "Acc results from stage := 3\n",
            "\n",
            "Stage: 3, AUC@Val: 0.0000, AUC@Test: 0.6467\n",
            "Stage - 4, training time:  35.1 sec, boost rate:  0.9654, Training Loss:  0.5823, Test Loss:  0.7219\n",
            "Acc results from stage := 4\n",
            "\n",
            "Stage: 4, AUC@Val: 0.0000, AUC@Test: 0.6391\n",
            "Stage - 5, training time:  35.4 sec, boost rate:  0.9400, Training Loss:  0.5753, Test Loss:  0.8730\n",
            "Acc results from stage := 5\n",
            "\n",
            "Stage: 5, AUC@Val: 0.0000, AUC@Test: 0.6398\n",
            "Stage - 6, training time:  39.2 sec, boost rate:  0.9238, Training Loss:  0.5768, Test Loss:  0.9465\n",
            "Acc results from stage := 6\n",
            "\n",
            "Stage: 6, AUC@Val: 0.0000, AUC@Test: 0.6373\n",
            "Stage - 7, training time:  42.2 sec, boost rate:  0.9201, Training Loss:  0.5698, Test Loss:  0.9296\n",
            "Acc results from stage := 7\n",
            "\n",
            "Stage: 7, AUC@Val: 0.0000, AUC@Test: 0.6363\n",
            "Stage - 8, training time:  46.0 sec, boost rate:  0.9005, Training Loss:  0.5698, Test Loss:  0.8279\n",
            "Acc results from stage := 8\n",
            "\n",
            "Stage: 8, AUC@Val: 0.0000, AUC@Test: 0.6475\n",
            "Stage - 9, training time:  50.0 sec, boost rate:  0.8822, Training Loss:  0.5696, Test Loss:  0.8583\n",
            "Acc results from stage := 9\n",
            "\n",
            "Stage: 9, AUC@Val: 0.0000, AUC@Test: 0.6341\n",
            "Stage - 10, training time:  52.0 sec, boost rate:  0.8680, Training Loss:  0.5631, Test Loss:  1.0220\n",
            "Acc results from stage := 10\n",
            "\n",
            "Stage: 10, AUC@Val: 0.0000, AUC@Test: 0.6429\n",
            "Stage - 11, training time:  55.6 sec, boost rate:  0.8338, Training Loss:  0.5653, Test Loss:  0.6930\n",
            "Acc results from stage := 11\n",
            "\n",
            "Stage: 11, AUC@Val: 0.0000, AUC@Test: 0.6473\n",
            "Stage - 12, training time:  59.9 sec, boost rate:  0.8193, Training Loss:  0.5471, Test Loss:  0.8109\n",
            "Acc results from stage := 12\n",
            "\n",
            "Stage: 12, AUC@Val: 0.0000, AUC@Test: 0.6470\n",
            "Stage - 13, training time:  60.9 sec, boost rate:  0.7895, Training Loss:  0.5600, Test Loss:  0.8675\n",
            "Acc results from stage := 13\n",
            "\n",
            "Stage: 13, AUC@Val: 0.0000, AUC@Test: 0.6471\n",
            "Stage - 14, training time:  63.7 sec, boost rate:  0.7709, Training Loss:  0.5572, Test Loss:  0.9559\n",
            "Acc results from stage := 14\n",
            "\n",
            "Stage: 14, AUC@Val: 0.0000, AUC@Test: 0.6375\n",
            "Stage - 15, training time:  66.4 sec, boost rate:  0.7847, Training Loss:  0.5247, Test Loss:  0.7231\n",
            "Acc results from stage := 15\n",
            "\n",
            "Stage: 15, AUC@Val: 0.0000, AUC@Test: 0.6445\n",
            "Stage - 16, training time:  70.6 sec, boost rate:  0.7861, Training Loss:  0.5327, Test Loss:  0.8040\n",
            "Acc results from stage := 16\n",
            "\n",
            "Stage: 16, AUC@Val: 0.0000, AUC@Test: 0.6443\n",
            "Stage - 17, training time:  73.2 sec, boost rate:  0.7898, Training Loss:  0.5228, Test Loss:  0.7934\n",
            "Acc results from stage := 17\n",
            "\n",
            "Stage: 17, AUC@Val: 0.0000, AUC@Test: 0.6381\n",
            "Stage - 18, training time:  80.6 sec, boost rate:  0.7923, Training Loss:  0.5371, Test Loss:  0.9545\n",
            "Acc results from stage := 18\n",
            "\n",
            "Stage: 18, AUC@Val: 0.0000, AUC@Test: 0.6437\n",
            "Stage - 19, training time:  84.6 sec, boost rate:  0.7859, Training Loss:  0.5302, Test Loss:  1.0202\n",
            "Acc results from stage := 19\n",
            "\n",
            "Stage: 19, AUC@Val: 0.0000, AUC@Test: 0.6392\n",
            "Stage - 20, training time:  83.3 sec, boost rate:  0.7902, Training Loss:  0.5257, Test Loss:  0.9672\n",
            "Acc results from stage := 20\n",
            "\n",
            "Stage: 20, AUC@Val: 0.0000, AUC@Test: 0.6404\n",
            "Stage - 21, training time:  86.6 sec, boost rate:  0.7838, Training Loss:  0.5339, Test Loss:  0.9253\n",
            "Acc results from stage := 21\n",
            "\n",
            "Stage: 21, AUC@Val: 0.0000, AUC@Test: 0.6438\n",
            "Stage - 22, training time:  90.9 sec, boost rate:  0.7910, Training Loss:  0.5193, Test Loss:  0.8658\n",
            "Acc results from stage := 22\n",
            "\n",
            "Stage: 22, AUC@Val: 0.0000, AUC@Test: 0.6340\n",
            "Stage - 23, training time:  91.5 sec, boost rate:  0.7826, Training Loss:  0.5258, Test Loss:  0.8245\n",
            "Acc results from stage := 23\n",
            "\n",
            "Stage: 23, AUC@Val: 0.0000, AUC@Test: 0.6443\n",
            "Stage - 24, training time:  94.9 sec, boost rate:  0.7771, Training Loss:  0.5213, Test Loss:  0.7455\n",
            "Acc results from stage := 24\n",
            "\n",
            "Stage: 24, AUC@Val: 0.0000, AUC@Test: 0.6376\n",
            "Best validation stage: 24,  AUC@Val: 0.0000, final AUC@Test: 0.6376\n",
            "[0, 0.6014588847756386, 0.5993176300365192, 0.5822355254338338, 0.5823490229936746, 0.5752975889123403, 0.5767602456303743, 0.5698031828953669, 0.5697510319833572, 0.5695536506290619, 0.5630874949005934, 0.5653494272667628, 0.547052784034839, 0.5600088863418653, 0.5572156656820041, 0.5247291167481587, 0.5326825239910529, 0.5227806811722425, 0.5370833807839797, 0.5301653748521438, 0.5256805119033043, 0.5338624168473941, 0.5193104400084569, 0.525797888636589, 0.521332446199197] 2 [0.6922550201416016, 0.8227139711380005, 0.8681989908218384, 0.7600845694541931, 0.7218565344810486, 0.8729813694953918, 0.9465484619140625, 0.9295800924301147, 0.8278521299362183, 0.8583098649978638, 1.0220272541046143, 0.6929723620414734, 0.8108968734741211, 0.8675446510314941, 0.9558669328689575, 0.723095178604126, 0.8039841651916504, 0.7934122681617737, 0.954471230506897, 1.020206332206726, 0.9671926498413086, 0.9252699017524719, 0.8657557964324951, 0.8244550228118896, 0.7455376386642456] 3 [0.9711025294203025, 0.9005185262514994, 0.9815341480649434, 0.9927401015391717, 0.9362638718806781, 1.006886485677499, 1.0143158845603466, 1.086778344443211, 0.9752885636228782, 0.9010740128847269, 0.9879153674611678, 1.0963222252634854, 0.944729610131337, 1.029618975921319, 1.0009767653850408, 1.0489940282243948, 0.9485080786622487, 0.9238006148773891, 0.8716502691117617, 0.9201279354210083, 0.9157503241529832, 0.9625223419414117, 0.9804971997554486, 0.9824084928975656, 0.899259109623157] 4 [1.0, 1.0026133060455322, 0.9937139749526978, 0.9863131046295166, 0.9654404520988464, 0.940029501914978, 0.9238107800483704, 0.9201022982597351, 0.9004814028739929, 0.8822154402732849, 0.8680309653282166, 0.8338122367858887, 0.8192901611328125, 0.7895309925079346, 0.770941436290741, 0.7846630215644836, 0.7861059308052063, 0.7897685170173645, 0.7922839522361755, 0.7859410643577576, 0.7902228832244873, 0.7838377356529236, 0.7909863591194153, 0.7825743556022644, 0.7770916223526001]\n"
          ]
        }
      ]
    },
    {
      "cell_type": "markdown",
      "source": [
        "### Raw"
      ],
      "metadata": {
        "id": "TSWdbud-QKkE"
      }
    },
    {
      "cell_type": "code",
      "source": [
        "!bash train.sh"
      ],
      "metadata": {
        "id": "aCEeGP2WviCV",
        "colab": {
          "base_uri": "https://localhost:8080/"
        },
        "outputId": "55a5289c-9a30-4cf3-dd3f-dbf0dbdc037a"
      },
      "execution_count": null,
      "outputs": [
        {
          "output_type": "stream",
          "name": "stdout",
          "text": [
            "#Train: 1662, #Val: 0 #Test: 125314\n",
            "aaer training and test datasets are loaded!\n",
            "<data.data.AAERComp object at 0x7b3bf0aac130>\n",
            "Blind accuracy: 0.5\n",
            "Stage - 0, training time:  20.9 sec, boost rate:  1.0000, Training Loss:  0.0000, Test Loss:  0.7113\n",
            "Acc results from stage := 0\n",
            "\n",
            "Stage: 0, AUC@Val: 0.0000, AUC@Test: 0.5916\n",
            "Stage - 1, training time:  22.7 sec, boost rate:  1.0203, Training Loss:  0.6296, Test Loss:  0.8159\n",
            "Acc results from stage := 1\n",
            "\n",
            "Stage: 1, AUC@Val: 0.0000, AUC@Test: 0.6192\n",
            "Stage - 2, training time:  25.9 sec, boost rate:  1.0248, Training Loss:  0.6100, Test Loss:  0.9111\n",
            "Acc results from stage := 2\n",
            "\n",
            "Stage: 2, AUC@Val: 0.0000, AUC@Test: 0.6257\n",
            "Stage - 3, training time:  29.4 sec, boost rate:  1.0048, Training Loss:  0.6172, Test Loss:  0.8012\n",
            "Acc results from stage := 3\n",
            "\n",
            "Stage: 3, AUC@Val: 0.0000, AUC@Test: 0.6308\n",
            "Stage - 4, training time:  32.2 sec, boost rate:  0.9728, Training Loss:  0.6230, Test Loss:  0.7864\n",
            "Acc results from stage := 4\n",
            "\n",
            "Stage: 4, AUC@Val: 0.0000, AUC@Test: 0.6262\n",
            "Stage - 5, training time:  35.0 sec, boost rate:  0.9571, Training Loss:  0.6109, Test Loss:  0.8114\n",
            "Acc results from stage := 5\n",
            "\n",
            "Stage: 5, AUC@Val: 0.0000, AUC@Test: 0.6258\n",
            "Stage - 6, training time:  39.8 sec, boost rate:  0.9396, Training Loss:  0.6063, Test Loss:  0.8772\n",
            "Acc results from stage := 6\n",
            "\n",
            "Stage: 6, AUC@Val: 0.0000, AUC@Test: 0.6330\n",
            "Stage - 7, training time:  42.6 sec, boost rate:  0.9133, Training Loss:  0.6120, Test Loss:  0.9099\n",
            "Acc results from stage := 7\n",
            "\n",
            "Stage: 7, AUC@Val: 0.0000, AUC@Test: 0.6335\n",
            "Stage - 8, training time:  45.4 sec, boost rate:  0.9004, Training Loss:  0.6070, Test Loss:  0.7571\n",
            "Acc results from stage := 8\n",
            "\n",
            "Stage: 8, AUC@Val: 0.0000, AUC@Test: 0.6359\n",
            "Stage - 9, training time:  49.1 sec, boost rate:  0.8660, Training Loss:  0.6005, Test Loss:  0.7317\n",
            "Acc results from stage := 9\n",
            "\n",
            "Stage: 9, AUC@Val: 0.0000, AUC@Test: 0.6380\n",
            "Stage - 10, training time:  51.6 sec, boost rate:  0.8445, Training Loss:  0.5925, Test Loss:  0.7948\n",
            "Acc results from stage := 10\n",
            "\n",
            "Stage: 10, AUC@Val: 0.0000, AUC@Test: 0.6258\n",
            "Stage - 11, training time:  55.3 sec, boost rate:  0.8144, Training Loss:  0.6030, Test Loss:  0.6785\n",
            "Acc results from stage := 11\n",
            "\n",
            "Stage: 11, AUC@Val: 0.0000, AUC@Test: 0.6343\n",
            "Stage - 12, training time:  59.0 sec, boost rate:  0.7826, Training Loss:  0.5951, Test Loss:  0.7165\n",
            "Acc results from stage := 12\n",
            "\n",
            "Stage: 12, AUC@Val: 0.0000, AUC@Test: 0.6298\n",
            "Stage - 13, training time:  61.7 sec, boost rate:  0.7449, Training Loss:  0.6107, Test Loss:  0.7664\n",
            "Acc results from stage := 13\n",
            "\n",
            "Stage: 13, AUC@Val: 0.0000, AUC@Test: 0.6353\n",
            "Stage - 14, training time:  64.5 sec, boost rate:  0.7205, Training Loss:  0.6060, Test Loss:  0.8858\n",
            "Acc results from stage := 14\n",
            "\n",
            "Stage: 14, AUC@Val: 0.0000, AUC@Test: 0.6248\n",
            "Stage - 15, training time:  66.8 sec, boost rate:  0.7153, Training Loss:  0.5870, Test Loss:  0.8308\n",
            "Acc results from stage := 15\n",
            "\n",
            "Stage: 15, AUC@Val: 0.0000, AUC@Test: 0.6320\n",
            "Stage - 16, training time:  69.8 sec, boost rate:  0.7169, Training Loss:  0.5768, Test Loss:  0.8467\n",
            "Acc results from stage := 16\n",
            "\n",
            "Stage: 16, AUC@Val: 0.0000, AUC@Test: 0.6230\n",
            "Stage - 17, training time:  72.8 sec, boost rate:  0.7081, Training Loss:  0.5711, Test Loss:  0.7532\n",
            "Acc results from stage := 17\n",
            "\n",
            "Stage: 17, AUC@Val: 0.0000, AUC@Test: 0.6301\n",
            "Stage - 18, training time:  75.6 sec, boost rate:  0.6930, Training Loss:  0.5883, Test Loss:  0.9098\n",
            "Acc results from stage := 18\n",
            "\n",
            "Stage: 18, AUC@Val: 0.0000, AUC@Test: 0.6387\n",
            "Stage - 19, training time:  78.0 sec, boost rate:  0.6883, Training Loss:  0.5853, Test Loss:  0.7519\n",
            "Acc results from stage := 19\n",
            "\n",
            "Stage: 19, AUC@Val: 0.0000, AUC@Test: 0.6250\n",
            "Stage - 20, training time:  86.0 sec, boost rate:  0.6773, Training Loss:  0.5831, Test Loss:  0.8925\n",
            "Acc results from stage := 20\n",
            "\n",
            "Stage: 20, AUC@Val: 0.0000, AUC@Test: 0.6340\n",
            "Stage - 21, training time:  86.7 sec, boost rate:  0.6770, Training Loss:  0.5837, Test Loss:  0.8071\n",
            "Acc results from stage := 21\n",
            "\n",
            "Stage: 21, AUC@Val: 0.0000, AUC@Test: 0.6394\n",
            "Stage - 22, training time:  89.3 sec, boost rate:  0.6622, Training Loss:  0.5850, Test Loss:  0.8405\n",
            "Acc results from stage := 22\n",
            "\n",
            "Stage: 22, AUC@Val: 0.0000, AUC@Test: 0.6311\n",
            "Stage - 23, training time:  93.6 sec, boost rate:  0.6520, Training Loss:  0.5821, Test Loss:  0.9175\n",
            "Acc results from stage := 23\n",
            "\n",
            "Stage: 23, AUC@Val: 0.0000, AUC@Test: 0.6323\n",
            "Stage - 24, training time:  95.5 sec, boost rate:  0.6489, Training Loss:  0.5768, Test Loss:  0.8279\n",
            "Acc results from stage := 24\n",
            "\n",
            "Stage: 24, AUC@Val: 0.0000, AUC@Test: 0.6414\n",
            "Best validation stage: 24,  AUC@Val: 0.0000, final AUC@Test: 0.6414\n",
            "[0, 0.6296173110604286, 0.6099949857363334, 0.6172194366271679, 0.6230003051459789, 0.6108695368927258, 0.6063288536209327, 0.6120268361499677, 0.6069898464931891, 0.6005073324418985, 0.5924512193753169, 0.6030498748788466, 0.5950553930149629, 0.610664715560583, 0.606015497388748, 0.587032140734104, 0.5767518857923838, 0.5710789747536182, 0.5882552102781259, 0.5853447002860216, 0.5831306121097162, 0.5837209319265989, 0.5849885934820542, 0.5820808092562052, 0.5767597974492953] 2 [0.7112618088722229, 0.815904438495636, 0.9110863208770752, 0.8012334108352661, 0.7863702178001404, 0.8113994002342224, 0.8771839141845703, 0.9098519086837769, 0.7571420073509216, 0.7316977977752686, 0.794800341129303, 0.6784789562225342, 0.7164793610572815, 0.7664283514022827, 0.8858217000961304, 0.8308382034301758, 0.8466838002204895, 0.7532442808151245, 0.9097980260848999, 0.7519475221633911, 0.8925239443778992, 0.8070642948150635, 0.8404871821403503, 0.9174598455429077, 0.8279210925102234] 3 [0.9690979547225512, 0.9619151227749311, 1.022526291413949, 1.0451354688176742, 1.0078117861770666, 0.9790275251636138, 1.0549335577166998, 1.0127336262510374, 0.985525349011788, 1.008600754233507, 0.9278844342781947, 1.0055609540297434, 0.9825696973846509, 1.049831247673585, 1.0073626829454532, 1.0683037375028317, 0.9477821187331126, 0.9914162669044274, 0.9659340224013879, 1.0291791753127024, 0.9703167837399703, 1.0138743832134283, 0.9712275785322373, 0.9907376479644042, 0.9917691295536665] 4 [1.0, 1.0202655792236328, 1.0247653722763062, 1.0047856569290161, 0.9728370308876038, 0.9571257829666138, 0.9396046996116638, 0.9132990837097168, 0.9004382491111755, 0.865950882434845, 0.844528079032898, 0.8144426941871643, 0.7826199531555176, 0.7448784708976746, 0.7205476760864258, 0.7153178453445435, 0.7168981432914734, 0.7081074714660645, 0.6929547190666199, 0.688293993473053, 0.677284300327301, 0.6770442128181458, 0.6621732115745544, 0.6520362496376038, 0.6489206552505493]\n",
            "Traceback (most recent call last):\n",
            "  File \"/content/drive/MyDrive/Research-UB/Grownet/Classification/main_cls_cv.py\", line 291, in <module>\n",
            "    \n",
            "  File \"<__array_function__ internals>\", line 180, in savez\n",
            "  File \"/usr/local/lib/python3.10/dist-packages/numpy/lib/npyio.py\", line 615, in savez\n",
            "    _savez(file, args, kwds, False)\n",
            "  File \"/usr/local/lib/python3.10/dist-packages/numpy/lib/npyio.py\", line 712, in _savez\n",
            "    zipf = zipfile_factory(file, mode=\"w\", compression=compression)\n",
            "  File \"/usr/local/lib/python3.10/dist-packages/numpy/lib/npyio.py\", line 103, in zipfile_factory\n",
            "    return zipfile.ZipFile(file, *args, **kwargs)\n",
            "  File \"/usr/lib/python3.10/zipfile.py\", line 1251, in __init__\n",
            "    self.fp = io.open(file, filemode)\n",
            "FileNotFoundError: [Errno 2] No such file or directory: './results_raw/aaer_cls.npz'\n"
          ]
        }
      ]
    },
    {
      "cell_type": "code",
      "source": [
        "!bash train.sh"
      ],
      "metadata": {
        "colab": {
          "base_uri": "https://localhost:8080/"
        },
        "id": "XlaBpDgdQJeW",
        "outputId": "22b5faa3-bb1e-4fca-a897-508dc7780c3a"
      },
      "execution_count": null,
      "outputs": [
        {
          "output_type": "stream",
          "name": "stdout",
          "text": [
            "#Train: 1662, #Val: 0 #Test: 125314\n",
            "aaer training and test datasets are loaded!\n",
            "<data.data.AAERComp object at 0x7c962af0c580>\n",
            "Blind accuracy: 0.5\n",
            "Stage - 0, training time:  20.2 sec, boost rate:  1.0000, Training Loss:  0.0000, Test Loss:  0.7130\n",
            "Acc results from stage := 0\n",
            "\n",
            "Stage: 0, AUC@Val: 0.0000, AUC@Test: 0.5000\n",
            "Stage - 1, training time:  25.2 sec, boost rate:  1.0267, Training Loss:  0.6123, Test Loss:  0.7924\n",
            "Acc results from stage := 1\n",
            "\n",
            "Stage: 1, AUC@Val: 0.0000, AUC@Test: 0.6624\n",
            "Stage - 2, training time:  26.8 sec, boost rate:  1.0146, Training Loss:  0.6119, Test Loss:  0.7058\n",
            "Acc results from stage := 2\n",
            "\n",
            "Stage: 2, AUC@Val: 0.0000, AUC@Test: 0.6605\n",
            "Stage - 3, training time:  30.1 sec, boost rate:  1.0032, Training Loss:  0.6063, Test Loss:  0.7365\n",
            "Acc results from stage := 3\n",
            "\n",
            "Stage: 3, AUC@Val: 0.0000, AUC@Test: 0.6611\n",
            "Stage - 4, training time:  33.6 sec, boost rate:  0.9904, Training Loss:  0.6068, Test Loss:  0.8100\n",
            "Acc results from stage := 4\n",
            "\n",
            "Stage: 4, AUC@Val: 0.0000, AUC@Test: 0.6525\n",
            "Stage - 5, training time:  36.4 sec, boost rate:  0.9835, Training Loss:  0.6027, Test Loss:  0.6329\n",
            "Acc results from stage := 5\n",
            "\n",
            "Stage: 5, AUC@Val: 0.0000, AUC@Test: 0.6599\n",
            "Stage - 6, training time:  39.8 sec, boost rate:  0.9621, Training Loss:  0.6061, Test Loss:  0.7220\n",
            "Acc results from stage := 6\n",
            "\n",
            "Stage: 6, AUC@Val: 0.0000, AUC@Test: 0.6661\n",
            "Stage - 7, training time:  42.6 sec, boost rate:  0.9537, Training Loss:  0.5933, Test Loss:  0.7804\n",
            "Acc results from stage := 7\n",
            "\n",
            "Stage: 7, AUC@Val: 0.0000, AUC@Test: 0.6574\n",
            "Stage - 8, training time:  46.0 sec, boost rate:  0.9350, Training Loss:  0.5979, Test Loss:  0.8474\n",
            "Acc results from stage := 8\n",
            "\n",
            "Stage: 8, AUC@Val: 0.0000, AUC@Test: 0.6663\n",
            "Stage - 9, training time:  48.9 sec, boost rate:  0.9009, Training Loss:  0.6053, Test Loss:  0.8255\n",
            "Acc results from stage := 9\n",
            "\n",
            "Stage: 9, AUC@Val: 0.0000, AUC@Test: 0.6639\n",
            "Stage - 10, training time:  52.9 sec, boost rate:  0.8853, Training Loss:  0.5967, Test Loss:  0.6888\n",
            "Acc results from stage := 10\n",
            "\n",
            "Stage: 10, AUC@Val: 0.0000, AUC@Test: 0.6591\n",
            "Stage - 11, training time:  55.1 sec, boost rate:  0.8494, Training Loss:  0.6020, Test Loss:  0.6291\n",
            "Acc results from stage := 11\n",
            "\n",
            "Stage: 11, AUC@Val: 0.0000, AUC@Test: 0.6661\n",
            "Stage - 12, training time:  59.0 sec, boost rate:  0.8325, Training Loss:  0.5841, Test Loss:  0.8987\n",
            "Acc results from stage := 12\n",
            "\n",
            "Stage: 12, AUC@Val: 0.0000, AUC@Test: 0.6624\n",
            "Stage - 13, training time:  61.8 sec, boost rate:  0.8343, Training Loss:  0.5812, Test Loss:  0.6610\n",
            "Acc results from stage := 13\n",
            "\n",
            "Stage: 13, AUC@Val: 0.0000, AUC@Test: 0.6560\n",
            "Stage - 14, training time:  65.3 sec, boost rate:  0.7898, Training Loss:  0.5895, Test Loss:  0.6915\n",
            "Acc results from stage := 14\n",
            "\n",
            "Stage: 14, AUC@Val: 0.0000, AUC@Test: 0.6550\n",
            "Stage - 15, training time:  67.8 sec, boost rate:  0.7917, Training Loss:  0.5879, Test Loss:  0.8210\n",
            "Acc results from stage := 15\n",
            "\n",
            "Stage: 15, AUC@Val: 0.0000, AUC@Test: 0.6493\n",
            "Stage - 16, training time:  71.3 sec, boost rate:  0.7884, Training Loss:  0.5775, Test Loss:  0.7262\n",
            "Acc results from stage := 16\n",
            "\n",
            "Stage: 16, AUC@Val: 0.0000, AUC@Test: 0.6534\n",
            "Stage - 17, training time:  74.2 sec, boost rate:  0.7965, Training Loss:  0.5731, Test Loss:  0.7402\n",
            "Acc results from stage := 17\n",
            "\n",
            "Stage: 17, AUC@Val: 0.0000, AUC@Test: 0.6575\n",
            "Stage - 18, training time:  77.4 sec, boost rate:  0.7829, Training Loss:  0.5824, Test Loss:  0.7339\n",
            "Acc results from stage := 18\n",
            "\n",
            "Stage: 18, AUC@Val: 0.0000, AUC@Test: 0.6536\n",
            "Stage - 19, training time:  80.8 sec, boost rate:  0.7764, Training Loss:  0.5738, Test Loss:  0.7458\n",
            "Acc results from stage := 19\n",
            "\n",
            "Stage: 19, AUC@Val: 0.0000, AUC@Test: 0.6525\n",
            "Stage - 20, training time:  84.2 sec, boost rate:  0.7740, Training Loss:  0.5619, Test Loss:  0.7458\n",
            "Acc results from stage := 20\n",
            "\n",
            "Stage: 20, AUC@Val: 0.0000, AUC@Test: 0.6569\n",
            "Stage - 21, training time:  86.6 sec, boost rate:  0.7608, Training Loss:  0.5749, Test Loss:  0.7837\n",
            "Acc results from stage := 21\n",
            "\n",
            "Stage: 21, AUC@Val: 0.0000, AUC@Test: 0.6548\n",
            "Stage - 22, training time:  90.4 sec, boost rate:  0.7655, Training Loss:  0.5617, Test Loss:  0.9600\n",
            "Acc results from stage := 22\n",
            "\n",
            "Stage: 22, AUC@Val: 0.0000, AUC@Test: 0.6572\n",
            "Stage - 23, training time:  94.0 sec, boost rate:  0.7627, Training Loss:  0.5688, Test Loss:  0.7701\n",
            "Acc results from stage := 23\n",
            "\n",
            "Stage: 23, AUC@Val: 0.0000, AUC@Test: 0.6578\n",
            "Stage - 24, training time:  96.8 sec, boost rate:  0.7497, Training Loss:  0.5719, Test Loss:  0.6654\n",
            "Acc results from stage := 24\n",
            "\n",
            "Stage: 24, AUC@Val: 0.0000, AUC@Test: 0.6593\n",
            "Best validation stage: 24,  AUC@Val: 0.0000, final AUC@Test: 0.6593\n",
            "[0, 0.6123342706033816, 0.611853541376499, 0.6062559522688389, 0.6067805427771348, 0.6026983212393063, 0.6061386104959708, 0.5933024616768727, 0.5978928830188054, 0.6052897323209506, 0.5967464146132653, 0.6019878977766404, 0.5841188774659083, 0.5812400825894796, 0.5895149759375132, 0.5878519751131535, 0.5775182161193627, 0.5731339767002143, 0.5824263244867325, 0.5737524820634952, 0.5618520081043243, 0.5748584284805335, 0.5617023583215016, 0.568778300514588, 0.5719069895836023] 2 [0.7129641175270081, 0.7924445867538452, 0.7058239579200745, 0.736501157283783, 0.8100467324256897, 0.6329257488250732, 0.7220252156257629, 0.7803530097007751, 0.8474286794662476, 0.8254668712615967, 0.6887912154197693, 0.6291360855102539, 0.8986798524856567, 0.6609663367271423, 0.6915262341499329, 0.8209616541862488, 0.7262384295463562, 0.740246057510376, 0.7339382171630859, 0.7458320260047913, 0.7457811832427979, 0.7837357521057129, 0.9600486159324646, 0.7701161503791809, 0.665439248085022] 3 [0.9934103517578199, 0.9286129818512843, 1.004948113973324, 0.9673499012222657, 0.9724478073991262, 0.9456274624054248, 0.9537385662014668, 0.9961104017610733, 0.9670002085085099, 1.0226152900319834, 0.9672407378944067, 0.9804666575330955, 0.9626920698927, 0.9483396439598157, 1.0697187254062066, 0.9421267136931419, 0.9566106022550509, 0.9779241537818542, 0.9663700587474383, 0.9472383323770303, 0.9779146560109578, 0.9826045325742319, 1.0268494698863764, 1.0128783302811475, 0.9759588066775066] 4 [1.0, 1.0267109870910645, 1.0146424770355225, 1.003169298171997, 0.9904220104217529, 0.9835425615310669, 0.962058961391449, 0.9536706209182739, 0.9349856972694397, 0.9009171724319458, 0.8853343725204468, 0.8493711948394775, 0.832487940788269, 0.8342957496643066, 0.7897983193397522, 0.7917132377624512, 0.7883825302124023, 0.7965209484100342, 0.7828924059867859, 0.7764480113983154, 0.7739753127098083, 0.7608145475387573, 0.7655344009399414, 0.7626912593841553, 0.7497413754463196]\n"
          ]
        }
      ]
    },
    {
      "cell_type": "code",
      "source": [],
      "metadata": {
        "id": "s0GgNMThiG61"
      },
      "execution_count": null,
      "outputs": []
    }
  ]
}
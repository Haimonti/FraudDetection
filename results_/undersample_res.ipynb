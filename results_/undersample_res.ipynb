{
 "cells": [
  {
   "cell_type": "code",
   "execution_count": 1,
   "id": "70de7248",
   "metadata": {},
   "outputs": [],
   "source": [
    "import pandas as pd\n",
    "import numpy as np"
   ]
  },
  {
   "cell_type": "code",
   "execution_count": 2,
   "id": "6792f395",
   "metadata": {},
   "outputs": [],
   "source": [
    "df = pd.read_csv('./data/merged_compustat_and_labels.csv')"
   ]
  },
  {
   "cell_type": "code",
   "execution_count": 3,
   "id": "6c10ad41",
   "metadata": {},
   "outputs": [
    {
     "data": {
      "text/plain": [
       "Index(['gvkey', 'datadate', 'fyear', 'indfmt', 'consol', 'popsrc', 'datafmt',\n",
       "       'tic', 'cusip', 'conm', 'curcd', 'fyr', 'act', 'ap', 'at', 'ceq', 'che',\n",
       "       'cogs', 'csho', 'dlc', 'dltis', 'dltt', 'dp', 'ib', 'invt', 'ivao',\n",
       "       'ivst', 'lct', 'lt', 'ni', 'ppegt', 'ppent', 'pstk', 're', 'rect',\n",
       "       'sale', 'sstk', 'txp', 'txt', 'xint', 'cik', 'costat', 'prcc_f',\n",
       "       'conml', 'sic', 'Bank', 'dch_wc', 'ch_rsst', 'dch_rec', 'dch_inv',\n",
       "       'soft_assets', 'ch_cs', 'ch_cm', 'ch_roa', 'issue', 'bm', 'dpi', 'reoa',\n",
       "       'EBIT', 'ch_fcf', 'misstate'],\n",
       "      dtype='object')"
      ]
     },
     "execution_count": 3,
     "metadata": {},
     "output_type": "execute_result"
    }
   ],
   "source": [
    "df.columns"
   ]
  },
  {
   "cell_type": "code",
   "execution_count": 4,
   "id": "6cfca3dc",
   "metadata": {},
   "outputs": [
    {
     "data": {
      "text/html": [
       "<div>\n",
       "<style scoped>\n",
       "    .dataframe tbody tr th:only-of-type {\n",
       "        vertical-align: middle;\n",
       "    }\n",
       "\n",
       "    .dataframe tbody tr th {\n",
       "        vertical-align: top;\n",
       "    }\n",
       "\n",
       "    .dataframe thead th {\n",
       "        text-align: right;\n",
       "    }\n",
       "</style>\n",
       "<table border=\"1\" class=\"dataframe\">\n",
       "  <thead>\n",
       "    <tr style=\"text-align: right;\">\n",
       "      <th></th>\n",
       "      <th>gvkey</th>\n",
       "      <th>datadate</th>\n",
       "      <th>fyear</th>\n",
       "      <th>indfmt</th>\n",
       "      <th>consol</th>\n",
       "      <th>popsrc</th>\n",
       "      <th>datafmt</th>\n",
       "      <th>tic</th>\n",
       "      <th>cusip</th>\n",
       "      <th>conm</th>\n",
       "      <th>...</th>\n",
       "      <th>ch_cs</th>\n",
       "      <th>ch_cm</th>\n",
       "      <th>ch_roa</th>\n",
       "      <th>issue</th>\n",
       "      <th>bm</th>\n",
       "      <th>dpi</th>\n",
       "      <th>reoa</th>\n",
       "      <th>EBIT</th>\n",
       "      <th>ch_fcf</th>\n",
       "      <th>misstate</th>\n",
       "    </tr>\n",
       "  </thead>\n",
       "  <tbody>\n",
       "    <tr>\n",
       "      <th>0</th>\n",
       "      <td>1003</td>\n",
       "      <td>1990-01-31</td>\n",
       "      <td>1989</td>\n",
       "      <td>INDL</td>\n",
       "      <td>C</td>\n",
       "      <td>D</td>\n",
       "      <td>STD</td>\n",
       "      <td>ANTQ</td>\n",
       "      <td>000354100</td>\n",
       "      <td>A.A. IMPORTING CO INC</td>\n",
       "      <td>...</td>\n",
       "      <td>NaN</td>\n",
       "      <td>NaN</td>\n",
       "      <td>NaN</td>\n",
       "      <td>1</td>\n",
       "      <td>-1.240403</td>\n",
       "      <td>NaN</td>\n",
       "      <td>-0.403403</td>\n",
       "      <td>-0.087941</td>\n",
       "      <td>NaN</td>\n",
       "      <td>0</td>\n",
       "    </tr>\n",
       "    <tr>\n",
       "      <th>1</th>\n",
       "      <td>1004</td>\n",
       "      <td>1990-05-31</td>\n",
       "      <td>1989</td>\n",
       "      <td>INDL</td>\n",
       "      <td>C</td>\n",
       "      <td>D</td>\n",
       "      <td>STD</td>\n",
       "      <td>AIR</td>\n",
       "      <td>000361105</td>\n",
       "      <td>AAR CORP</td>\n",
       "      <td>...</td>\n",
       "      <td>NaN</td>\n",
       "      <td>NaN</td>\n",
       "      <td>NaN</td>\n",
       "      <td>1</td>\n",
       "      <td>0.554652</td>\n",
       "      <td>5.380405</td>\n",
       "      <td>0.240520</td>\n",
       "      <td>0.123916</td>\n",
       "      <td>27.257486</td>\n",
       "      <td>0</td>\n",
       "    </tr>\n",
       "    <tr>\n",
       "      <th>2</th>\n",
       "      <td>1004</td>\n",
       "      <td>1991-05-31</td>\n",
       "      <td>1990</td>\n",
       "      <td>INDL</td>\n",
       "      <td>C</td>\n",
       "      <td>D</td>\n",
       "      <td>STD</td>\n",
       "      <td>AIR</td>\n",
       "      <td>000361105</td>\n",
       "      <td>AAR CORP</td>\n",
       "      <td>...</td>\n",
       "      <td>0.32954</td>\n",
       "      <td>0.297848</td>\n",
       "      <td>-0.090196</td>\n",
       "      <td>0</td>\n",
       "      <td>0.863306</td>\n",
       "      <td>0.882711</td>\n",
       "      <td>0.262695</td>\n",
       "      <td>0.082704</td>\n",
       "      <td>-10.874040</td>\n",
       "      <td>0</td>\n",
       "    </tr>\n",
       "  </tbody>\n",
       "</table>\n",
       "<p>3 rows × 61 columns</p>\n",
       "</div>"
      ],
      "text/plain": [
       "   gvkey    datadate  fyear indfmt consol popsrc datafmt   tic      cusip  \\\n",
       "0   1003  1990-01-31   1989   INDL      C      D     STD  ANTQ  000354100   \n",
       "1   1004  1990-05-31   1989   INDL      C      D     STD   AIR  000361105   \n",
       "2   1004  1991-05-31   1990   INDL      C      D     STD   AIR  000361105   \n",
       "\n",
       "                    conm  ...    ch_cs     ch_cm    ch_roa  issue        bm  \\\n",
       "0  A.A. IMPORTING CO INC  ...      NaN       NaN       NaN      1 -1.240403   \n",
       "1               AAR CORP  ...      NaN       NaN       NaN      1  0.554652   \n",
       "2               AAR CORP  ...  0.32954  0.297848 -0.090196      0  0.863306   \n",
       "\n",
       "        dpi      reoa      EBIT     ch_fcf  misstate  \n",
       "0       NaN -0.403403 -0.087941        NaN         0  \n",
       "1  5.380405  0.240520  0.123916  27.257486         0  \n",
       "2  0.882711  0.262695  0.082704 -10.874040         0  \n",
       "\n",
       "[3 rows x 61 columns]"
      ]
     },
     "execution_count": 4,
     "metadata": {},
     "output_type": "execute_result"
    }
   ],
   "source": [
    "df.head(3)"
   ]
  },
  {
   "cell_type": "code",
   "execution_count": 5,
   "id": "fab4efb3",
   "metadata": {},
   "outputs": [
    {
     "data": {
      "text/plain": [
       "0    266737\n",
       "1      1376\n",
       "Name: misstate, dtype: int64"
      ]
     },
     "execution_count": 5,
     "metadata": {},
     "output_type": "execute_result"
    }
   ],
   "source": [
    "df[['fyear','misstate']]['misstate'].value_counts()"
   ]
  },
  {
   "cell_type": "code",
   "execution_count": 6,
   "id": "c48f501c",
   "metadata": {
    "scrolled": false
   },
   "outputs": [
    {
     "data": {
      "text/plain": [
       "fyear\n",
       "1989      5\n",
       "1990     22\n",
       "1991     38\n",
       "1992     36\n",
       "1993     40\n",
       "1994     31\n",
       "1995     36\n",
       "1996     42\n",
       "1997     57\n",
       "1998     72\n",
       "1999    103\n",
       "2000    126\n",
       "2001    124\n",
       "2002    104\n",
       "2003     87\n",
       "2004     70\n",
       "2005     55\n",
       "2006     37\n",
       "2007     36\n",
       "2008     29\n",
       "2009     36\n",
       "2010     34\n",
       "2011     27\n",
       "2012     32\n",
       "2013     26\n",
       "2014     20\n",
       "2015     14\n",
       "2016     18\n",
       "2017     11\n",
       "2018      6\n",
       "2019      2\n",
       "2020      0\n",
       "2021      0\n",
       "2022      0\n",
       "2023      0\n",
       "Name: misstate, dtype: int64"
      ]
     },
     "execution_count": 6,
     "metadata": {},
     "output_type": "execute_result"
    }
   ],
   "source": [
    "df.groupby('fyear')['misstate'].sum()"
   ]
  },
  {
   "cell_type": "markdown",
   "id": "232e90b1",
   "metadata": {},
   "source": [
    "#### Retrain all of them"
   ]
  },
  {
   "cell_type": "code",
   "execution_count": 5,
   "id": "0270301a",
   "metadata": {},
   "outputs": [],
   "source": [
    "import pandas as pd\n",
    "import numpy as np\n",
    "from MLP.utils import datasets,plot_table,train_model\n",
    "from sklearn import metrics\n",
    "from imblearn.under_sampling import RandomUnderSampler\n",
    "from tabulate import tabulate\n",
    "import matplotlib.pyplot as plt\n",
    "from fraudDetec.data_processing import DataProcessor\n",
    "from fraudDetec.utils import evaluate,null_check,results\n",
    "from fraudDetec.models import rus_boost, svm_model, xgb_model, logistic_regression_model,probit_regression_model,MLP,mlp_grid_search, random_forests\n",
    "import json\n",
    "from collections import defaultdict"
   ]
  },
  {
   "cell_type": "code",
   "execution_count": 6,
   "id": "3ef7fc0d",
   "metadata": {},
   "outputs": [],
   "source": [
    "data = pd.read_csv('./data/merged_compustat_and_labels.csv')"
   ]
  },
  {
   "cell_type": "code",
   "execution_count": 7,
   "id": "91a15e6f",
   "metadata": {},
   "outputs": [],
   "source": [
    "with open('MLP/features.json') as json_file:\n",
    "    features_comp = json.load(json_file)"
   ]
  },
  {
   "cell_type": "code",
   "execution_count": 17,
   "id": "2027a754",
   "metadata": {},
   "outputs": [],
   "source": [
    "data_items = features_comp"
   ]
  },
  {
   "cell_type": "code",
   "execution_count": 5,
   "id": "c82c74fb",
   "metadata": {},
   "outputs": [],
   "source": [
    "import numpy as np\n",
    "models = {\"MLP\": MLP,\n",
    "         \"RUS BOOST\": rus_boost,\n",
    "          \"Logit\":logistic_regression_model,\n",
    "         \"Probit\":probit_regression_model,\n",
    "         \"Xg Boost\":xgb_model}"
   ]
  },
  {
   "cell_type": "code",
   "execution_count": 6,
   "id": "2be75486",
   "metadata": {
    "scrolled": true
   },
   "outputs": [
    {
     "data": {
      "text/plain": [
       "0    266737\n",
       "1      1376\n",
       "Name: misstate, dtype: int64"
      ]
     },
     "execution_count": 6,
     "metadata": {},
     "output_type": "execute_result"
    }
   ],
   "source": [
    "data['misstate'].value_counts()"
   ]
  },
  {
   "cell_type": "code",
   "execution_count": 9,
   "id": "101c4513",
   "metadata": {},
   "outputs": [],
   "source": [
    "data.replace([np.inf, -np.inf], np.nan, inplace=True)"
   ]
  },
  {
   "cell_type": "code",
   "execution_count": 10,
   "id": "775b828b",
   "metadata": {},
   "outputs": [],
   "source": [
    "data = data.fillna(0)"
   ]
  },
  {
   "cell_type": "code",
   "execution_count": 11,
   "id": "9ed41cd6",
   "metadata": {},
   "outputs": [],
   "source": [
    "data_obj = DataProcessor(data,(1990,2002), (2002,2002), (2003,2014), 5)"
   ]
  },
  {
   "cell_type": "code",
   "execution_count": 12,
   "id": "714c3e5f",
   "metadata": {},
   "outputs": [],
   "source": [
    "train_data, validation_data, test_data = data_obj.split_data_periods((1990,2002), (2003,2019))"
   ]
  },
  {
   "cell_type": "markdown",
   "id": "3616a3d9",
   "metadata": {},
   "source": [
    "### Batch Processing\n",
    "\n",
    "Batch:\n",
    "\t\tTrain : (1990,2002)\n",
    "\t\tTest :  (2003,2019)\n",
    "\t\t\n",
    "\t\tRun on undersample data : Bao, XgBoost,  probit, logit, MLP\n",
    "\t\t\n",
    "\t\tOversample data and run all models: Bao, XgBoost,  probit, logit, MLP"
   ]
  },
  {
   "cell_type": "code",
   "execution_count": 9,
   "id": "2d0fd1fa",
   "metadata": {},
   "outputs": [],
   "source": [
    "test_periods = [(2003,2019)]\n",
    "train_period = (1990,2002)"
   ]
  },
  {
   "cell_type": "code",
   "execution_count": 20,
   "id": "5fa92c47",
   "metadata": {},
   "outputs": [
    {
     "name": "stdout",
     "output_type": "stream",
     "text": [
      "Optimization terminated successfully.\n",
      "         Current function value: 0.560725\n",
      "         Iterations 10\n",
      "Optimization terminated successfully.\n",
      "         Current function value: 0.598600\n",
      "         Iterations 10\n",
      "Optimization terminated successfully.\n",
      "         Current function value: 0.624152\n",
      "         Iterations 8\n",
      "Test AUC Score: 0.6701160290397631\n",
      "Test AUC Score: 0.6575388747299562\n",
      "Test AUC Score: 0.6679662459356145\n"
     ]
    }
   ],
   "source": [
    "data_items = features_comp\n",
    "res = defaultdict(lambda: defaultdict(dict))\n",
    "for test_period in test_periods:\n",
    "    for model in models.keys():\n",
    "        for data_item in data_items.keys():\n",
    "            auc = results(data_obj,train_period,test_period,data_items[data_item],models[model],sample='under')\n",
    "            res[test_period][data_item][model] = auc"
   ]
  },
  {
   "cell_type": "code",
   "execution_count": 21,
   "id": "d03fe2fd",
   "metadata": {},
   "outputs": [
    {
     "data": {
      "text/plain": [
       "defaultdict(<function __main__.<lambda>()>,\n",
       "            {(2003,\n",
       "              2019): defaultdict(dict,\n",
       "                         {'features': {'MLP': 0.6298421471947206,\n",
       "                           'RUS BOOST': 0.7045458782070577,\n",
       "                           'Logit': 0.628926424902149,\n",
       "                           'Probit': 0.649334366905736,\n",
       "                           'Xg Boost': 0.6701160290397631},\n",
       "                          'raw_financial_items_28': {'MLP': 0.6099790495289557,\n",
       "                           'RUS BOOST': 0.697365035985061,\n",
       "                           'Logit': 0.6217356536172955,\n",
       "                           'Probit': 0.6248934369636598,\n",
       "                           'Xg Boost': 0.6575388747299562},\n",
       "                          'financial_ratios_14': {'MLP': 0.6017435226593385,\n",
       "                           'RUS BOOST': 0.6727191206145153,\n",
       "                           'Logit': 0.6319123493795301,\n",
       "                           'Probit': 0.6327112753191103,\n",
       "                           'Xg Boost': 0.6679662459356145}})})"
      ]
     },
     "execution_count": 21,
     "metadata": {},
     "output_type": "execute_result"
    }
   ],
   "source": [
    "res"
   ]
  },
  {
   "cell_type": "code",
   "execution_count": 22,
   "id": "3d920870",
   "metadata": {},
   "outputs": [
    {
     "name": "stdout",
     "output_type": "stream",
     "text": [
      "Best Hyperparameters: {'activation': 'logistic', 'hidden_layer_sizes': (42, 40, 50), 'learning_rate_init': 0.001}\n",
      "Best AUC Score: 0.6759879935295615\n",
      "Test AUC Score: 0.6645966500024637\n",
      "Best Hyperparameters: {'activation': 'logistic', 'hidden_layer_sizes': (28, 30, 30, 30, 30), 'learning_rate_init': 0.001}\n",
      "Best AUC Score: 0.6916270449375599\n",
      "Test AUC Score: 0.6498537355538816\n",
      "Best Hyperparameters: {'activation': 'logistic', 'hidden_layer_sizes': (14, 30, 40), 'learning_rate_init': 0.001}\n",
      "Best AUC Score: 0.6887016357762049\n",
      "Test AUC Score: 0.6433061938948582\n"
     ]
    }
   ],
   "source": [
    "## MLP\n",
    "\n",
    "res = defaultdict(lambda: defaultdict(dict))\n",
    "for test_period in test_periods:\n",
    "    for data_item in data_items.keys():\n",
    "        param_grid = {\n",
    "            'activation': ['logistic', 'tanh', 'relu'],\n",
    "            'hidden_layer_sizes': [\n",
    "                (len(data_items[data_item]), 40),\n",
    "                (len(data_items[data_item]), 50),\n",
    "                (len(data_items[data_item]), 40, 50),\n",
    "                (len(data_items[data_item]), 30, 40),\n",
    "                (len(data_items[data_item]), 40, 30, 50),\n",
    "                (len(data_items[data_item]), 30, 40, 30),\n",
    "                (len(data_items[data_item]), 40, 50, 60, 40),\n",
    "                (len(data_items[data_item]), 50, 50, 50, 50),\n",
    "                (len(data_items[data_item]), 30, 30, 30, 30)\n",
    "                ],\n",
    "            'learning_rate_init': [0.001, 0.01, 0.1]\n",
    "            }\n",
    "        auc = results(data_obj,train_period,test_period,data_items[data_item],mlp_grid_search,param_grid,sample='under')\n",
    "        res[test_period][data_item] = auc"
   ]
  },
  {
   "cell_type": "code",
   "execution_count": 23,
   "id": "ae9f1215",
   "metadata": {},
   "outputs": [
    {
     "data": {
      "text/plain": [
       "defaultdict(<function __main__.<lambda>()>,\n",
       "            {(2003,\n",
       "              2019): defaultdict(dict,\n",
       "                         {'features': 0.6645966500024637,\n",
       "                          'raw_financial_items_28': 0.6498537355538816,\n",
       "                          'financial_ratios_14': 0.6433061938948582})})"
      ]
     },
     "execution_count": 23,
     "metadata": {},
     "output_type": "execute_result"
    }
   ],
   "source": [
    "res"
   ]
  },
  {
   "cell_type": "code",
   "execution_count": 24,
   "id": "f80d6fb9",
   "metadata": {},
   "outputs": [
    {
     "name": "stdout",
     "output_type": "stream",
     "text": [
      "Best Hyperparameters: {'activation': 'logistic', 'hidden_layer_sizes': (42, 20), 'learning_rate_init': 0.001}\n",
      "Best AUC Score: 0.6806870364366346\n",
      "Test AUC Score: 0.6416253475172\n",
      "Best Hyperparameters: {'activation': 'logistic', 'hidden_layer_sizes': (28, 20), 'learning_rate_init': 0.001}\n",
      "Best AUC Score: 0.7010594212938617\n",
      "Test AUC Score: 0.6536590897082667\n",
      "Best Hyperparameters: {'activation': 'logistic', 'hidden_layer_sizes': (14, 30, 40), 'learning_rate_init': 0.001}\n",
      "Best AUC Score: 0.6887016357762049\n",
      "Test AUC Score: 0.6433061938948582\n"
     ]
    }
   ],
   "source": [
    "#MLP2\n",
    "\n",
    "res = defaultdict(lambda: defaultdict(dict))\n",
    "for test_period in test_periods:\n",
    "    for data_item in data_items.keys():\n",
    "        param_grid = {\n",
    "            'activation': ['logistic', 'tanh', 'relu'],\n",
    "            'hidden_layer_sizes': [\n",
    "                (len(data_items[data_item]), 20),\n",
    "                (len(data_items[data_item]), 30),\n",
    "                (len(data_items[data_item]), 40, 50, 10),\n",
    "                (len(data_items[data_item]), 30, 40, 10),\n",
    "                (len(data_items[data_item]), 40, 30, 50, 20),\n",
    "                (len(data_items[data_item]), 30, 40),\n",
    "                (len(data_items[data_item]), 40, 50, 40, 40,20),\n",
    "                (len(data_items[data_item]), 30, 50, 50, 40,45),\n",
    "                (len(data_items[data_item]), 20,30,40,50,20)\n",
    "                ],\n",
    "            'learning_rate_init': [0.001, 0.01, 0.05, 0.09, 0.1, 0.5]\n",
    "            }\n",
    "        auc = results(data_obj,train_period,test_period,data_items[data_item],mlp_grid_search,param_grid)\n",
    "        res[test_period][data_item] = auc"
   ]
  },
  {
   "cell_type": "code",
   "execution_count": 25,
   "id": "e0d13342",
   "metadata": {},
   "outputs": [
    {
     "data": {
      "text/plain": [
       "defaultdict(<function __main__.<lambda>()>,\n",
       "            {(2003,\n",
       "              2019): defaultdict(dict,\n",
       "                         {'features': 0.6416253475172,\n",
       "                          'raw_financial_items_28': 0.6536590897082667,\n",
       "                          'financial_ratios_14': 0.6433061938948582})})"
      ]
     },
     "execution_count": 25,
     "metadata": {},
     "output_type": "execute_result"
    }
   ],
   "source": [
    "res"
   ]
  },
  {
   "cell_type": "code",
   "execution_count": 26,
   "id": "4cde0d3a",
   "metadata": {},
   "outputs": [
    {
     "name": "stdout",
     "output_type": "stream",
     "text": [
      "XgBoost Results:))\n",
      "Best Hyperparameters: {'learning_rate': 0.05, 'max_depth': 4}\n",
      "Best AUC Score: 0.7338142991126182\n",
      "Test AUC Score: 0.6544875579492166\n",
      "Best Hyperparameters: {'learning_rate': 0.05, 'max_depth': 4}\n",
      "Best AUC Score: 0.7245860362306307\n",
      "Test AUC Score: 0.6473188042499356\n",
      "Best Hyperparameters: {'learning_rate': 0.1, 'max_depth': 4}\n",
      "Best AUC Score: 0.7334656351399393\n",
      "Test AUC Score: 0.6770338995125409\n"
     ]
    }
   ],
   "source": [
    "#XgBoost\n",
    "res = defaultdict(lambda: defaultdict(dict))\n",
    "print(\"XgBoost Results:))\")\n",
    "for test_period in test_periods:\n",
    "    for data_item in data_items.keys():\n",
    "        param_grid = {\n",
    "                    'max_depth': [3, 4, 5],\n",
    "                    'learning_rate': [0.001, 0.01, 0.05, 0.09, 0.1, 0.5]\n",
    "                    }\n",
    "        auc = results(data_obj,train_period,test_period,data_items[data_item],xgb_model,param_grid)\n",
    "        res[test_period][data_item] = auc"
   ]
  },
  {
   "cell_type": "code",
   "execution_count": 27,
   "id": "dfd47b4b",
   "metadata": {},
   "outputs": [
    {
     "data": {
      "text/plain": [
       "defaultdict(<function __main__.<lambda>()>,\n",
       "            {(2003,\n",
       "              2019): defaultdict(dict,\n",
       "                         {'features': 0.6544875579492166,\n",
       "                          'raw_financial_items_28': 0.6473188042499356,\n",
       "                          'financial_ratios_14': 0.6770338995125409})})"
      ]
     },
     "execution_count": 27,
     "metadata": {},
     "output_type": "execute_result"
    }
   ],
   "source": [
    "res"
   ]
  },
  {
   "cell_type": "code",
   "execution_count": 28,
   "id": "9b01a8ac",
   "metadata": {},
   "outputs": [
    {
     "name": "stdout",
     "output_type": "stream",
     "text": [
      "Random Forest Results:))\n",
      "Best Hyperparameters: {'max_depth': 10, 'min_samples_leaf': 2, 'min_samples_split': 2, 'n_estimators': 200}\n",
      "Best AUC Score: 0.7545736803356562\n",
      "Test AUC Score: 0.7089564154213039\n",
      "Best Hyperparameters: {'max_depth': 20, 'min_samples_leaf': 4, 'min_samples_split': 10, 'n_estimators': 200}\n",
      "Best AUC Score: 0.7515501150406402\n",
      "Test AUC Score: 0.700872533095392\n",
      "Best Hyperparameters: {'max_depth': 10, 'min_samples_leaf': 1, 'min_samples_split': 5, 'n_estimators': 300}\n",
      "Best AUC Score: 0.7422057467297949\n",
      "Test AUC Score: 0.6946625573110257\n"
     ]
    }
   ],
   "source": [
    "#RandomForest\n",
    "res = defaultdict(lambda: defaultdict(dict))\n",
    "print(\"Random Forest Results:))\")\n",
    "for test_period in test_periods:\n",
    "    for data_item in data_items.keys():\n",
    "        param_grid = {\n",
    "                    'n_estimators': [100, 200, 300,400, 500],  # Number of trees in the forest\n",
    "                    'max_depth': [ 10, 20],  # Maximum depth of the tree\n",
    "                    'min_samples_split': [5, 10],  # Minimum number of samples required to split an internal node\n",
    "                    'min_samples_leaf': [5,6]  # Minimum number of samples required to be at a leaf node\n",
    "                    }\n",
    "        auc = results(data_obj,train_period,test_period,data_items[data_item],random_forests,param_grid)\n",
    "        res[test_period][data_item] = auc"
   ]
  },
  {
   "cell_type": "code",
   "execution_count": 29,
   "id": "6aaa2a76",
   "metadata": {
    "scrolled": false
   },
   "outputs": [
    {
     "data": {
      "text/plain": [
       "defaultdict(<function __main__.<lambda>()>,\n",
       "            {(2003,\n",
       "              2019): defaultdict(dict,\n",
       "                         {'features': 0.7089564154213039,\n",
       "                          'raw_financial_items_28': 0.700872533095392,\n",
       "                          'financial_ratios_14': 0.6946625573110257})})"
      ]
     },
     "execution_count": 29,
     "metadata": {},
     "output_type": "execute_result"
    }
   ],
   "source": [
    "res"
   ]
  },
  {
   "cell_type": "markdown",
   "id": "cd92229c",
   "metadata": {},
   "source": [
    "### Batch - Undersample"
   ]
  },
  {
   "cell_type": "markdown",
   "id": "52eda898",
   "metadata": {},
   "source": [
    "|        Model           |  MLP   |  MLP2  |  MLP3  | RUS BOOST |  Logit |  Probit | Xg Boost |  Xgb2  | Random Forest |\n",
    "|------------------------|--------|--------|--------|-----------|--------|---------|----------|--------|---------------|\n",
    "|      Features          | 0.6298 | 0.6646 | 0.6416 |   0.7046  | 0.6289 | 0.6493  |  0.6701  | 0.6545 |    0.7090     |\n",
    "| raw_financial_items_28 | 0.6100 | 0.6499 | 0.6537 |   0.6974  | 0.6217 | 0.6249  |  0.6575  | 0.6473 |    0.7009     |\n",
    "| financial_ratios_14    | 0.6017 | 0.6433 | 0.6433 |   0.6727  | 0.6319 | 0.6327  |  0.6680  | 0.6770 |    0.6947     |\n"
   ]
  },
  {
   "cell_type": "markdown",
   "id": "72fdf28b",
   "metadata": {},
   "source": [
    "---\n",
    "## Window"
   ]
  },
  {
   "cell_type": "code",
   "execution_count": 12,
   "id": "17314e58",
   "metadata": {
    "scrolled": true
   },
   "outputs": [
    {
     "name": "stdout",
     "output_type": "stream",
     "text": [
      "(1990, 1994) (1995, 1999)\n",
      "(1995, 1999) (2000, 2004)\n",
      "(2000, 2004) (2005, 2009)\n",
      "(2005, 2009) (2010, 2014)\n",
      "(2010, 2014) (2015, 2019)\n"
     ]
    }
   ],
   "source": [
    "train_batches,test_batches = data_obj.create_batches()\n",
    "\n",
    "for train_period,test_period in zip(train_batches[:-1],test_batches[:-1]):\n",
    "    print(train_period,test_period)"
   ]
  },
  {
   "cell_type": "code",
   "execution_count": 13,
   "id": "15272ba6",
   "metadata": {},
   "outputs": [],
   "source": [
    "models = {\"MLP\": MLP,\n",
    "         \"RUS BOOST\": rus_boost,\n",
    "          \"Logit\":logistic_regression_model,\n",
    "         \"Probit\":probit_regression_model,\n",
    "         \"Xg Boost\":xgb_model,\n",
    "         \"RF\":random_forests}"
   ]
  },
  {
   "cell_type": "code",
   "execution_count": 18,
   "id": "253ab1fb",
   "metadata": {
    "scrolled": true
   },
   "outputs": [
    {
     "name": "stdout",
     "output_type": "stream",
     "text": [
      "Train Shape:  (334, 42) (334,)\n",
      "Test Shape:  (51517, 42) (51517,)\n",
      "Train Shape:  (334, 28) (334,)\n",
      "Test Shape:  (51517, 28) (51517,)\n",
      "Train Shape:  (334, 14) (334,)\n",
      "Test Shape:  (51517, 14) (51517,)\n",
      "Train Shape:  (334, 42) (334,)\n",
      "Test Shape:  (51517, 42) (51517,)\n",
      "Train Shape:  (334, 28) (334,)\n",
      "Test Shape:  (51517, 28) (51517,)\n",
      "Train Shape:  (334, 14) (334,)\n",
      "Test Shape:  (51517, 14) (51517,)\n",
      "Train Shape:  (334, 42) (334,)\n",
      "Test Shape:  (51517, 42) (51517,)\n",
      "Train Shape:  (334, 28) (334,)\n",
      "Test Shape:  (51517, 28) (51517,)\n",
      "Train Shape:  (334, 14) (334,)\n",
      "Test Shape:  (51517, 14) (51517,)\n",
      "Train Shape:  (334, 42) (334,)\n",
      "Test Shape:  (51517, 42) (51517,)\n",
      "Optimization terminated successfully.\n",
      "         Current function value: 0.532998\n",
      "         Iterations 13\n",
      "Train Shape:  (334, 28) (334,)\n",
      "Test Shape:  (51517, 28) (51517,)\n",
      "Optimization terminated successfully.\n",
      "         Current function value: 0.581524\n",
      "         Iterations 12\n",
      "Train Shape:  (334, 14) (334,)\n",
      "Test Shape:  (51517, 14) (51517,)\n",
      "Optimization terminated successfully.\n",
      "         Current function value: 0.631619\n",
      "         Iterations 11\n",
      "Train Shape:  (334, 42) (334,)\n",
      "Test Shape:  (51517, 42) (51517,)\n",
      "Test AUC Score: 0.6629685835542898\n",
      "Train Shape:  (334, 28) (334,)\n",
      "Test Shape:  (51517, 28) (51517,)\n",
      "Test AUC Score: 0.6248497716731016\n",
      "Train Shape:  (334, 14) (334,)\n",
      "Test Shape:  (51517, 14) (51517,)\n",
      "Test AUC Score: 0.5721028249036013\n",
      "Train Shape:  (334, 42) (334,)\n",
      "Test Shape:  (51517, 42) (51517,)\n",
      "Random Forest Test AUC Score: 0.6694691753962568\n",
      "Train Shape:  (334, 28) (334,)\n",
      "Test Shape:  (51517, 28) (51517,)\n",
      "Random Forest Test AUC Score: 0.6640008264999051\n",
      "Train Shape:  (334, 14) (334,)\n",
      "Test Shape:  (51517, 14) (51517,)\n",
      "Random Forest Test AUC Score: 0.6170945315566105\n",
      "Train Shape:  (620, 42) (620,)\n",
      "Test Shape:  (45675, 42) (45675,)\n",
      "Train Shape:  (620, 28) (620,)\n",
      "Test Shape:  (45675, 28) (45675,)\n",
      "Train Shape:  (620, 14) (620,)\n",
      "Test Shape:  (45675, 14) (45675,)\n",
      "Train Shape:  (620, 42) (620,)\n",
      "Test Shape:  (45675, 42) (45675,)\n",
      "Train Shape:  (620, 28) (620,)\n",
      "Test Shape:  (45675, 28) (45675,)\n",
      "Train Shape:  (620, 14) (620,)\n",
      "Test Shape:  (45675, 14) (45675,)\n",
      "Train Shape:  (620, 42) (620,)\n",
      "Test Shape:  (45675, 42) (45675,)\n",
      "Train Shape:  (620, 28) (620,)\n",
      "Test Shape:  (45675, 28) (45675,)\n",
      "Train Shape:  (620, 14) (620,)\n",
      "Test Shape:  (45675, 14) (45675,)\n",
      "Train Shape:  (620, 42) (620,)\n",
      "Test Shape:  (45675, 42) (45675,)\n",
      "Optimization terminated successfully.\n",
      "         Current function value: 0.524854\n",
      "         Iterations 15\n",
      "Train Shape:  (620, 28) (620,)\n",
      "Test Shape:  (45675, 28) (45675,)\n",
      "Optimization terminated successfully.\n",
      "         Current function value: 0.588455\n",
      "         Iterations 15\n",
      "Train Shape:  (620, 14) (620,)\n",
      "Test Shape:  (45675, 14) (45675,)\n",
      "Optimization terminated successfully.\n",
      "         Current function value: 0.599653\n",
      "         Iterations 12\n",
      "Train Shape:  (620, 42) (620,)\n",
      "Test Shape:  (45675, 42) (45675,)\n",
      "Test AUC Score: 0.775976411082654\n",
      "Train Shape:  (620, 28) (620,)\n",
      "Test Shape:  (45675, 28) (45675,)\n",
      "Test AUC Score: 0.7912637283977108\n",
      "Train Shape:  (620, 14) (620,)\n",
      "Test Shape:  (45675, 14) (45675,)\n",
      "Test AUC Score: 0.7006060842667584\n",
      "Train Shape:  (620, 42) (620,)\n",
      "Test Shape:  (45675, 42) (45675,)\n",
      "Random Forest Test AUC Score: 0.7944790596601106\n",
      "Train Shape:  (620, 28) (620,)\n",
      "Test Shape:  (45675, 28) (45675,)\n",
      "Random Forest Test AUC Score: 0.7992256011186714\n",
      "Train Shape:  (620, 14) (620,)\n",
      "Test Shape:  (45675, 14) (45675,)\n",
      "Random Forest Test AUC Score: 0.7150423176174986\n",
      "Train Shape:  (1022, 42) (1022,)\n",
      "Test Shape:  (38240, 42) (38240,)\n",
      "Train Shape:  (1022, 28) (1022,)\n",
      "Test Shape:  (38240, 28) (38240,)\n",
      "Train Shape:  (1022, 14) (1022,)\n",
      "Test Shape:  (38240, 14) (38240,)\n",
      "Train Shape:  (1022, 42) (1022,)\n",
      "Test Shape:  (38240, 42) (38240,)\n",
      "Train Shape:  (1022, 28) (1022,)\n",
      "Test Shape:  (38240, 28) (38240,)\n",
      "Train Shape:  (1022, 14) (1022,)\n",
      "Test Shape:  (38240, 14) (38240,)\n",
      "Train Shape:  (1022, 42) (1022,)\n",
      "Test Shape:  (38240, 42) (38240,)\n",
      "Train Shape:  (1022, 28) (1022,)\n",
      "Test Shape:  (38240, 28) (38240,)\n",
      "Train Shape:  (1022, 14) (1022,)\n",
      "Test Shape:  (38240, 14) (38240,)\n",
      "Train Shape:  (1022, 42) (1022,)\n",
      "Test Shape:  (38240, 42) (38240,)\n",
      "Optimization terminated successfully.\n",
      "         Current function value: 0.506381\n",
      "         Iterations 14\n",
      "Train Shape:  (1022, 28) (1022,)\n",
      "Test Shape:  (38240, 28) (38240,)\n",
      "Optimization terminated successfully.\n",
      "         Current function value: 0.563220\n",
      "         Iterations 13\n",
      "Train Shape:  (1022, 14) (1022,)\n",
      "Test Shape:  (38240, 14) (38240,)\n",
      "Optimization terminated successfully.\n",
      "         Current function value: 0.579831\n",
      "         Iterations 12\n",
      "Train Shape:  (1022, 42) (1022,)\n",
      "Test Shape:  (38240, 42) (38240,)\n",
      "Test AUC Score: 0.6589791927655336\n",
      "Train Shape:  (1022, 28) (1022,)\n",
      "Test Shape:  (38240, 28) (38240,)\n",
      "Test AUC Score: 0.6422978887171321\n",
      "Train Shape:  (1022, 14) (1022,)\n",
      "Test Shape:  (38240, 14) (38240,)\n",
      "Test AUC Score: 0.6583317797145091\n",
      "Train Shape:  (1022, 42) (1022,)\n",
      "Test Shape:  (38240, 42) (38240,)\n",
      "Random Forest Test AUC Score: 0.7047521398063563\n",
      "Train Shape:  (1022, 28) (1022,)\n",
      "Test Shape:  (38240, 28) (38240,)\n",
      "Random Forest Test AUC Score: 0.7041807167600586\n",
      "Train Shape:  (1022, 14) (1022,)\n",
      "Test Shape:  (38240, 14) (38240,)\n",
      "Random Forest Test AUC Score: 0.6724830115356368\n",
      "Train Shape:  (386, 42) (386,)\n",
      "Test Shape:  (36109, 42) (36109,)\n",
      "Train Shape:  (386, 28) (386,)\n",
      "Test Shape:  (36109, 28) (36109,)\n",
      "Train Shape:  (386, 14) (386,)\n",
      "Test Shape:  (36109, 14) (36109,)\n",
      "Train Shape:  (386, 42) (386,)\n",
      "Test Shape:  (36109, 42) (36109,)\n",
      "Train Shape:  (386, 28) (386,)\n",
      "Test Shape:  (36109, 28) (36109,)\n",
      "Train Shape:  (386, 14) (386,)\n",
      "Test Shape:  (36109, 14) (36109,)\n",
      "Train Shape:  (386, 42) (386,)\n",
      "Test Shape:  (36109, 42) (36109,)\n",
      "Train Shape:  (386, 28) (386,)\n",
      "Test Shape:  (36109, 28) (36109,)\n",
      "Train Shape:  (386, 14) (386,)\n",
      "Test Shape:  (36109, 14) (36109,)\n",
      "Train Shape:  (386, 42) (386,)\n",
      "Test Shape:  (36109, 42) (36109,)\n",
      "Optimization terminated successfully.\n",
      "         Current function value: 0.549504\n",
      "         Iterations 12\n",
      "Train Shape:  (386, 28) (386,)\n",
      "Test Shape:  (36109, 28) (36109,)\n",
      "Optimization terminated successfully.\n",
      "         Current function value: 0.604793\n",
      "         Iterations 8\n",
      "Train Shape:  (386, 14) (386,)\n",
      "Test Shape:  (36109, 14) (36109,)\n",
      "Optimization terminated successfully.\n",
      "         Current function value: 0.651371\n",
      "         Iterations 12\n",
      "Train Shape:  (386, 42) (386,)\n",
      "Test Shape:  (36109, 42) (36109,)\n",
      "Test AUC Score: 0.7009566325255059\n",
      "Train Shape:  (386, 28) (386,)\n",
      "Test Shape:  (36109, 28) (36109,)\n",
      "Test AUC Score: 0.6609496722888578\n",
      "Train Shape:  (386, 14) (386,)\n",
      "Test Shape:  (36109, 14) (36109,)\n",
      "Test AUC Score: 0.6207767064080179\n",
      "Train Shape:  (386, 42) (386,)\n",
      "Test Shape:  (36109, 42) (36109,)\n",
      "Random Forest Test AUC Score: 0.6983130426434498\n",
      "Train Shape:  (386, 28) (386,)\n",
      "Test Shape:  (36109, 28) (36109,)\n",
      "Random Forest Test AUC Score: 0.6895493446777191\n",
      "Train Shape:  (386, 14) (386,)\n",
      "Test Shape:  (36109, 14) (36109,)\n",
      "Random Forest Test AUC Score: 0.6629255394683419\n",
      "Train Shape:  (278, 42) (278,)\n",
      "Test Shape:  (33759, 42) (33759,)\n",
      "Train Shape:  (278, 28) (278,)\n",
      "Test Shape:  (33759, 28) (33759,)\n",
      "Train Shape:  (278, 14) (278,)\n",
      "Test Shape:  (33759, 14) (33759,)\n",
      "Train Shape:  (278, 42) (278,)\n",
      "Test Shape:  (33759, 42) (33759,)\n",
      "Train Shape:  (278, 28) (278,)\n",
      "Test Shape:  (33759, 28) (33759,)\n",
      "Train Shape:  (278, 14) (278,)\n",
      "Test Shape:  (33759, 14) (33759,)\n",
      "Train Shape:  (278, 42) (278,)\n",
      "Test Shape:  (33759, 42) (33759,)\n",
      "Train Shape:  (278, 28) (278,)\n",
      "Test Shape:  (33759, 28) (33759,)\n",
      "Train Shape:  (278, 14) (278,)\n",
      "Test Shape:  (33759, 14) (33759,)\n",
      "Train Shape:  (278, 42) (278,)\n",
      "Test Shape:  (33759, 42) (33759,)\n",
      "Optimization terminated successfully.\n",
      "         Current function value: 0.465679\n",
      "         Iterations 11\n",
      "Train Shape:  (278, 28) (278,)\n",
      "Test Shape:  (33759, 28) (33759,)\n",
      "Optimization terminated successfully.\n",
      "         Current function value: 0.522792\n",
      "         Iterations 11\n",
      "Train Shape:  (278, 14) (278,)\n",
      "Test Shape:  (33759, 14) (33759,)\n",
      "Optimization terminated successfully.\n",
      "         Current function value: 0.605662\n",
      "         Iterations 10\n",
      "Train Shape:  (278, 42) (278,)\n",
      "Test Shape:  (33759, 42) (33759,)\n",
      "Test AUC Score: 0.7176320510404233\n",
      "Train Shape:  (278, 28) (278,)\n",
      "Test Shape:  (33759, 28) (33759,)\n"
     ]
    },
    {
     "name": "stdout",
     "output_type": "stream",
     "text": [
      "Test AUC Score: 0.6750154731407216\n",
      "Train Shape:  (278, 14) (278,)\n",
      "Test Shape:  (33759, 14) (33759,)\n",
      "Test AUC Score: 0.6623350598100876\n",
      "Train Shape:  (278, 42) (278,)\n",
      "Test Shape:  (33759, 42) (33759,)\n",
      "Random Forest Test AUC Score: 0.7175846427333245\n",
      "Train Shape:  (278, 28) (278,)\n",
      "Test Shape:  (33759, 28) (33759,)\n",
      "Random Forest Test AUC Score: 0.7020713649171547\n",
      "Train Shape:  (278, 14) (278,)\n",
      "Test Shape:  (33759, 14) (33759,)\n",
      "Random Forest Test AUC Score: 0.6733093557821848\n"
     ]
    }
   ],
   "source": [
    "res = defaultdict(lambda: defaultdict(dict))\n",
    "for train_period,test_period in zip(train_batches[:-1],test_batches[:-1]):\n",
    "    for model in models.keys():\n",
    "        for data_item in data_items.keys():\n",
    "            auc = results(data_obj,train_period,test_period,data_items[data_item],models[model])\n",
    "            res[str(train_period) + '-' +str(test_period)][data_item][model] = auc"
   ]
  },
  {
   "cell_type": "code",
   "execution_count": 19,
   "id": "1df67993",
   "metadata": {
    "scrolled": true
   },
   "outputs": [
    {
     "data": {
      "text/plain": [
       "defaultdict(<function __main__.<lambda>()>,\n",
       "            {'(1990, 1994)-(1995, 1999)': defaultdict(dict,\n",
       "                         {'features': {'MLP': 0.575236941521982,\n",
       "                           'RUS BOOST': 0.6982953439455417,\n",
       "                           'Logit': 0.6122691454104373,\n",
       "                           'Probit': 0.6090246923146219,\n",
       "                           'Xg Boost': 0.6629685835542898,\n",
       "                           'RF': 0.6694691753962568},\n",
       "                          'raw_financial_items_28': {'MLP': 0.6270016952067415,\n",
       "                           'RUS BOOST': 0.6999190193881002,\n",
       "                           'Logit': 0.5899124804635455,\n",
       "                           'Probit': 0.5879531339276322,\n",
       "                           'Xg Boost': 0.6248497716731016,\n",
       "                           'RF': 0.6640008264999051},\n",
       "                          'financial_ratios_14': {'MLP': 0.5,\n",
       "                           'RUS BOOST': 0.6008389100028536,\n",
       "                           'Logit': 0.6180479672323026,\n",
       "                           'Probit': 0.6115873774817833,\n",
       "                           'Xg Boost': 0.5721028249036013,\n",
       "                           'RF': 0.6170945315566105}}),\n",
       "             '(1995, 1999)-(2000, 2004)': defaultdict(dict,\n",
       "                         {'features': {'MLP': 0.6133018418112134,\n",
       "                           'RUS BOOST': 0.7955036144853953,\n",
       "                           'Logit': 0.7258620290722171,\n",
       "                           'Probit': 0.7281387068411345,\n",
       "                           'Xg Boost': 0.775976411082654,\n",
       "                           'RF': 0.7944790596601106},\n",
       "                          'raw_financial_items_28': {'MLP': 0.6175584748672417,\n",
       "                           'RUS BOOST': 0.8060060218025163,\n",
       "                           'Logit': 0.7141303552818421,\n",
       "                           'Probit': 0.7095692220446086,\n",
       "                           'Xg Boost': 0.7912637283977108,\n",
       "                           'RF': 0.7992256011186714},\n",
       "                          'financial_ratios_14': {'MLP': 0.5,\n",
       "                           'RUS BOOST': 0.6727730345125337,\n",
       "                           'Logit': 0.7021960930037796,\n",
       "                           'Probit': 0.6989039813328282,\n",
       "                           'Xg Boost': 0.7006060842667584,\n",
       "                           'RF': 0.7150423176174986}}),\n",
       "             '(2000, 2004)-(2005, 2009)': defaultdict(dict,\n",
       "                         {'features': {'MLP': 0.6012367986091922,\n",
       "                           'RUS BOOST': 0.696296549495436,\n",
       "                           'Logit': 0.6066864939750685,\n",
       "                           'Probit': 0.6050117178493848,\n",
       "                           'Xg Boost': 0.6589791927655336,\n",
       "                           'RF': 0.7047521398063563},\n",
       "                          'raw_financial_items_28': {'MLP': 0.5278267771072893,\n",
       "                           'RUS BOOST': 0.6974136570380431,\n",
       "                           'Logit': 0.5814215877798267,\n",
       "                           'Probit': 0.6025402723193062,\n",
       "                           'Xg Boost': 0.6422978887171321,\n",
       "                           'RF': 0.7041807167600586},\n",
       "                          'financial_ratios_14': {'MLP': 0.5744455555448122,\n",
       "                           'RUS BOOST': 0.6816953015979282,\n",
       "                           'Logit': 0.5994519186863372,\n",
       "                           'Probit': 0.597293965971458,\n",
       "                           'Xg Boost': 0.6583317797145091,\n",
       "                           'RF': 0.6724830115356368}}),\n",
       "             '(2005, 2009)-(2010, 2014)': defaultdict(dict,\n",
       "                         {'features': {'MLP': 0.5350654922267357,\n",
       "                           'RUS BOOST': 0.7141296804091339,\n",
       "                           'Logit': 0.5708756097707322,\n",
       "                           'Probit': 0.571810641561813,\n",
       "                           'Xg Boost': 0.7009566325255059,\n",
       "                           'RF': 0.6983130426434498},\n",
       "                          'raw_financial_items_28': {'MLP': 0.604244844324707,\n",
       "                           'RUS BOOST': 0.6821197920729305,\n",
       "                           'Logit': 0.5449914297086101,\n",
       "                           'Probit': 0.5537132262496925,\n",
       "                           'Xg Boost': 0.6609496722888578,\n",
       "                           'RF': 0.6895493446777191},\n",
       "                          'financial_ratios_14': {'MLP': 0.5,\n",
       "                           'RUS BOOST': 0.6363468357924169,\n",
       "                           'Logit': 0.6209751131538472,\n",
       "                           'Probit': 0.6054491852722993,\n",
       "                           'Xg Boost': 0.6207767064080179,\n",
       "                           'RF': 0.6629255394683419}}),\n",
       "             '(2010, 2014)-(2015, 2019)': defaultdict(dict,\n",
       "                         {'features': {'MLP': 0.5,\n",
       "                           'RUS BOOST': 0.7250859166497975,\n",
       "                           'Logit': 0.5696692703425265,\n",
       "                           'Probit': 0.5839441152039313,\n",
       "                           'Xg Boost': 0.7176320510404233,\n",
       "                           'RF': 0.7175846427333245},\n",
       "                          'raw_financial_items_28': {'MLP': 0.6537774241059898,\n",
       "                           'RUS BOOST': 0.6599806411231872,\n",
       "                           'Logit': 0.6158595038822459,\n",
       "                           'Probit': 0.6166753339522589,\n",
       "                           'Xg Boost': 0.6750154731407216,\n",
       "                           'RF': 0.7020713649171547},\n",
       "                          'financial_ratios_14': {'MLP': 0.5,\n",
       "                           'RUS BOOST': 0.6706600167063385,\n",
       "                           'Logit': 0.6341044309025379,\n",
       "                           'Probit': 0.6476748406731863,\n",
       "                           'Xg Boost': 0.6623350598100876,\n",
       "                           'RF': 0.6733093557821848}})})"
      ]
     },
     "execution_count": 19,
     "metadata": {},
     "output_type": "execute_result"
    }
   ],
   "source": [
    "res"
   ]
  },
  {
   "cell_type": "code",
   "execution_count": 20,
   "id": "d0a440c0",
   "metadata": {
    "collapsed": true
   },
   "outputs": [
    {
     "name": "stdout",
     "output_type": "stream",
     "text": [
      "╒════════════════════════════════════════════╤═══════╤═════════════╤═════════╤══════════╤═══════════╤═══════╕\n",
      "│ Train - Test : (1990, 1994)-(1995, 1999)   │   MLP │   RUS BOOST │   Logit │   Probit │   XgBoost │    RF │\n",
      "╞════════════════════════════════════════════╪═══════╪═════════════╪═════════╪══════════╪═══════════╪═══════╡\n",
      "│ features                                   │ 0.575 │       0.698 │   0.612 │    0.609 │     0.663 │ 0.669 │\n",
      "├────────────────────────────────────────────┼───────┼─────────────┼─────────┼──────────┼───────────┼───────┤\n",
      "│ raw_financial_items_28                     │ 0.627 │       0.7   │   0.59  │    0.588 │     0.625 │ 0.664 │\n",
      "├────────────────────────────────────────────┼───────┼─────────────┼─────────┼──────────┼───────────┼───────┤\n",
      "│ financial_ratios_14                        │ 0.5   │       0.601 │   0.618 │    0.612 │     0.572 │ 0.617 │\n",
      "╘════════════════════════════════════════════╧═══════╧═════════════╧═════════╧══════════╧═══════════╧═══════╛\n",
      "╒════════════════════════════════════════════╤═══════╤═════════════╤═════════╤══════════╤═══════════╤═══════╕\n",
      "│ Train - Test : (1995, 1999)-(2000, 2004)   │   MLP │   RUS BOOST │   Logit │   Probit │   XgBoost │    RF │\n",
      "╞════════════════════════════════════════════╪═══════╪═════════════╪═════════╪══════════╪═══════════╪═══════╡\n",
      "│ features                                   │ 0.613 │       0.796 │   0.726 │    0.728 │     0.776 │ 0.794 │\n",
      "├────────────────────────────────────────────┼───────┼─────────────┼─────────┼──────────┼───────────┼───────┤\n",
      "│ raw_financial_items_28                     │ 0.618 │       0.806 │   0.714 │    0.71  │     0.791 │ 0.799 │\n",
      "├────────────────────────────────────────────┼───────┼─────────────┼─────────┼──────────┼───────────┼───────┤\n",
      "│ financial_ratios_14                        │ 0.5   │       0.673 │   0.702 │    0.699 │     0.701 │ 0.715 │\n",
      "╘════════════════════════════════════════════╧═══════╧═════════════╧═════════╧══════════╧═══════════╧═══════╛\n",
      "╒════════════════════════════════════════════╤═══════╤═════════════╤═════════╤══════════╤═══════════╤═══════╕\n",
      "│ Train - Test : (2000, 2004)-(2005, 2009)   │   MLP │   RUS BOOST │   Logit │   Probit │   XgBoost │    RF │\n",
      "╞════════════════════════════════════════════╪═══════╪═════════════╪═════════╪══════════╪═══════════╪═══════╡\n",
      "│ features                                   │ 0.601 │       0.696 │   0.607 │    0.605 │     0.659 │ 0.705 │\n",
      "├────────────────────────────────────────────┼───────┼─────────────┼─────────┼──────────┼───────────┼───────┤\n",
      "│ raw_financial_items_28                     │ 0.528 │       0.697 │   0.581 │    0.603 │     0.642 │ 0.704 │\n",
      "├────────────────────────────────────────────┼───────┼─────────────┼─────────┼──────────┼───────────┼───────┤\n",
      "│ financial_ratios_14                        │ 0.574 │       0.682 │   0.599 │    0.597 │     0.658 │ 0.672 │\n",
      "╘════════════════════════════════════════════╧═══════╧═════════════╧═════════╧══════════╧═══════════╧═══════╛\n",
      "╒════════════════════════════════════════════╤═══════╤═════════════╤═════════╤══════════╤═══════════╤═══════╕\n",
      "│ Train - Test : (2005, 2009)-(2010, 2014)   │   MLP │   RUS BOOST │   Logit │   Probit │   XgBoost │    RF │\n",
      "╞════════════════════════════════════════════╪═══════╪═════════════╪═════════╪══════════╪═══════════╪═══════╡\n",
      "│ features                                   │ 0.535 │       0.714 │   0.571 │    0.572 │     0.701 │ 0.698 │\n",
      "├────────────────────────────────────────────┼───────┼─────────────┼─────────┼──────────┼───────────┼───────┤\n",
      "│ raw_financial_items_28                     │ 0.604 │       0.682 │   0.545 │    0.554 │     0.661 │ 0.69  │\n",
      "├────────────────────────────────────────────┼───────┼─────────────┼─────────┼──────────┼───────────┼───────┤\n",
      "│ financial_ratios_14                        │ 0.5   │       0.636 │   0.621 │    0.605 │     0.621 │ 0.663 │\n",
      "╘════════════════════════════════════════════╧═══════╧═════════════╧═════════╧══════════╧═══════════╧═══════╛\n",
      "╒════════════════════════════════════════════╤═══════╤═════════════╤═════════╤══════════╤═══════════╤═══════╕\n",
      "│ Train - Test : (2010, 2014)-(2015, 2019)   │   MLP │   RUS BOOST │   Logit │   Probit │   XgBoost │    RF │\n",
      "╞════════════════════════════════════════════╪═══════╪═════════════╪═════════╪══════════╪═══════════╪═══════╡\n",
      "│ features                                   │ 0.5   │       0.725 │   0.57  │    0.584 │     0.718 │ 0.718 │\n",
      "├────────────────────────────────────────────┼───────┼─────────────┼─────────┼──────────┼───────────┼───────┤\n",
      "│ raw_financial_items_28                     │ 0.654 │       0.66  │   0.616 │    0.617 │     0.675 │ 0.702 │\n",
      "├────────────────────────────────────────────┼───────┼─────────────┼─────────┼──────────┼───────────┼───────┤\n",
      "│ financial_ratios_14                        │ 0.5   │       0.671 │   0.634 │    0.648 │     0.662 │ 0.673 │\n",
      "╘════════════════════════════════════════════╧═══════╧═════════════╧═════════╧══════════╧═══════════╧═══════╛\n"
     ]
    }
   ],
   "source": [
    "for key in res.keys():\n",
    "    columns = [\"Train - Test : \"+str(key), 'MLP', 'RUS BOOST', 'Logit', 'Probit','XgBoost','RF']\n",
    "    df = pd.DataFrame.from_dict(res[key], orient='index').reset_index()\n",
    "    df.columns = columns\n",
    "    for col in ['MLP', 'RUS BOOST', 'Logit', 'Probit','XgBoost','RF']:\n",
    "         \n",
    "        try:\n",
    "            df[col] = df[col].round(3)\n",
    "        except:\n",
    "            pass\n",
    "    df.set_index(\"Train - Test : \"+str(key), inplace=True)\n",
    "    print(tabulate(df, headers='keys', tablefmt='fancy_grid'))"
   ]
  },
  {
   "cell_type": "markdown",
   "id": "7564e766",
   "metadata": {},
   "source": [
    "### Window- Undersample"
   ]
  },
  {
   "cell_type": "markdown",
   "id": "d687b52f",
   "metadata": {},
   "source": [
    "| Time Period                    | Subcategory           | MLP            | RUS BOOST      | Logit          | Probit         | Xg Boost       | RF             |\n",
    "|--------------------------------|-----------------------|----------------|----------------|----------------|----------------|----------------|----------------|\n",
    "| (1990, 1994)-(1995, 1999)      | Features              | 0.5752369415   | 0.6982953439   | 0.6122691454   | 0.6090246923   | 0.6629685836   | 0.6694691754   |\n",
    "|                                | Raw Financial Items 28| 0.6270016952   | 0.6999190194   | 0.5899124805   | 0.5879531339   | 0.6248497717   | 0.6640008265   |\n",
    "|                                | Financial Ratios 14   | 0.5            | 0.6008389100   | 0.6180479672   | 0.6115873775   | 0.5721028249   | 0.6170945316   |\n",
    "| (1995, 1999)-(2000, 2004)      | Features              | 0.6133018418   | 0.7955036145   | 0.7258620291   | 0.7281387068   | 0.7759764111   | 0.7944790597   |\n",
    "|                                | Raw Financial Items 28| 0.6175584749   | 0.8060060218   | 0.7141303553   | 0.7095692220   | 0.7912637284   | 0.7992256011   |\n",
    "|                                | Financial Ratios 14   | 0.5            | 0.6727730345   | 0.7021960930   | 0.6989039813   | 0.7006060843   | 0.7150423176   |\n",
    "| (2000, 2004)-(2005, 2009)      | Features              | 0.6012367986   | 0.6962965495   | 0.6066864940   | 0.6050117178   | 0.6589791928   | 0.7047521398   |\n",
    "|                                | Raw Financial Items 28| 0.5278267771   | 0.6974136570   | 0.5814215878   | 0.6025402723   | 0.6422978887   | 0.7041807168   |\n",
    "|                                | Financial Ratios 14   | 0.5744455555   | 0.6816953016   | 0.5994519187   | 0.5972939660   | 0.6583317797   | 0.6724830115   |\n",
    "| (2005, 2009)-(2010, 2014)      | Features              | 0.5350654922   | 0.7141296804   | 0.5708756098   | 0.5718106416   | 0.7009566325   | 0.6983130426   |\n",
    "|                                | Raw Financial Items 28| 0.6042448443   | 0.6821197921   | 0.5449914297   | 0.5537132262   | 0.6609496723   | 0.6895493447   |\n",
    "|                                | Financial Ratios 14   | 0.5            | 0.6363468358   | 0.6209751132   | 0.6054491853   | 0.6207767064   | 0.6629255395   |\n",
    "| (2010, 2014)-(2015, 2019)      | Features              | 0.5            | 0.7250859166   | 0.5696692703   | 0.5839441152   | 0.7176320510   | 0.7175846427   |\n",
    "|                                | Raw Financial Items 28| 0.6537774241   | 0.6599806411   | 0.6158595039   | 0.6166753340   | 0.6750154731   | 0.7020713649   |\n",
    "|                                | Financial Ratios 14   | 0.5            | 0.6706600167   | 0.6341044309   | 0.6476748407   | 0.6623350598   | 0.6733093558   |\n"
   ]
  },
  {
   "cell_type": "code",
   "execution_count": null,
   "id": "bc258b06",
   "metadata": {},
   "outputs": [],
   "source": []
  },
  {
   "cell_type": "code",
   "execution_count": null,
   "id": "bd7ec816",
   "metadata": {},
   "outputs": [],
   "source": []
  },
  {
   "cell_type": "code",
   "execution_count": null,
   "id": "24a70e79",
   "metadata": {},
   "outputs": [],
   "source": []
  },
  {
   "cell_type": "code",
   "execution_count": null,
   "id": "cd5845c8",
   "metadata": {},
   "outputs": [],
   "source": []
  },
  {
   "cell_type": "code",
   "execution_count": null,
   "id": "c0b0e031",
   "metadata": {},
   "outputs": [],
   "source": []
  }
 ],
 "metadata": {
  "kernelspec": {
   "display_name": "Python 3 (ipykernel)",
   "language": "python",
   "name": "python3"
  },
  "language_info": {
   "codemirror_mode": {
    "name": "ipython",
    "version": 3
   },
   "file_extension": ".py",
   "mimetype": "text/x-python",
   "name": "python",
   "nbconvert_exporter": "python",
   "pygments_lexer": "ipython3",
   "version": "3.10.6"
  }
 },
 "nbformat": 4,
 "nbformat_minor": 5
}

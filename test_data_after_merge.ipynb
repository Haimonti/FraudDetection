{
 "cells": [
  {
   "cell_type": "code",
   "execution_count": 1,
   "id": "70de7248",
   "metadata": {},
   "outputs": [],
   "source": [
    "import pandas as pd\n",
    "import numpy as np\n"
   ]
  },
  {
   "cell_type": "code",
   "execution_count": 2,
   "id": "6792f395",
   "metadata": {},
   "outputs": [],
   "source": [
    "df = pd.read_csv('./data/merged_compustat_and_labels.csv')"
   ]
  },
  {
   "cell_type": "code",
   "execution_count": 3,
   "id": "6c10ad41",
   "metadata": {},
   "outputs": [
    {
     "data": {
      "text/plain": [
       "Index(['gvkey', 'datadate', 'fyear', 'indfmt', 'consol', 'popsrc', 'datafmt',\n",
       "       'tic', 'cusip', 'conm', 'curcd', 'fyr', 'act', 'ap', 'at', 'ceq', 'che',\n",
       "       'cogs', 'csho', 'dlc', 'dltis', 'dltt', 'dp', 'ib', 'invt', 'ivao',\n",
       "       'ivst', 'lct', 'lt', 'ni', 'ppegt', 'ppent', 'pstk', 're', 'rect',\n",
       "       'sale', 'sstk', 'txp', 'txt', 'xint', 'cik', 'costat', 'prcc_f',\n",
       "       'conml', 'sic', 'Bank', 'dch_wc', 'ch_rsst', 'dch_rec', 'dch_inv',\n",
       "       'soft_assets', 'ch_cs', 'ch_cm', 'ch_roa', 'issue', 'bm', 'dpi', 'reoa',\n",
       "       'EBIT', 'ch_fcf', 'misstate'],\n",
       "      dtype='object')"
      ]
     },
     "execution_count": 3,
     "metadata": {},
     "output_type": "execute_result"
    }
   ],
   "source": [
    "df.columns"
   ]
  },
  {
   "cell_type": "code",
   "execution_count": 4,
   "id": "6cfca3dc",
   "metadata": {},
   "outputs": [
    {
     "data": {
      "text/html": [
       "<div>\n",
       "<style scoped>\n",
       "    .dataframe tbody tr th:only-of-type {\n",
       "        vertical-align: middle;\n",
       "    }\n",
       "\n",
       "    .dataframe tbody tr th {\n",
       "        vertical-align: top;\n",
       "    }\n",
       "\n",
       "    .dataframe thead th {\n",
       "        text-align: right;\n",
       "    }\n",
       "</style>\n",
       "<table border=\"1\" class=\"dataframe\">\n",
       "  <thead>\n",
       "    <tr style=\"text-align: right;\">\n",
       "      <th></th>\n",
       "      <th>gvkey</th>\n",
       "      <th>datadate</th>\n",
       "      <th>fyear</th>\n",
       "      <th>indfmt</th>\n",
       "      <th>consol</th>\n",
       "      <th>popsrc</th>\n",
       "      <th>datafmt</th>\n",
       "      <th>tic</th>\n",
       "      <th>cusip</th>\n",
       "      <th>conm</th>\n",
       "      <th>...</th>\n",
       "      <th>ch_cs</th>\n",
       "      <th>ch_cm</th>\n",
       "      <th>ch_roa</th>\n",
       "      <th>issue</th>\n",
       "      <th>bm</th>\n",
       "      <th>dpi</th>\n",
       "      <th>reoa</th>\n",
       "      <th>EBIT</th>\n",
       "      <th>ch_fcf</th>\n",
       "      <th>misstate</th>\n",
       "    </tr>\n",
       "  </thead>\n",
       "  <tbody>\n",
       "    <tr>\n",
       "      <th>0</th>\n",
       "      <td>1003</td>\n",
       "      <td>1990-01-31</td>\n",
       "      <td>1989</td>\n",
       "      <td>INDL</td>\n",
       "      <td>C</td>\n",
       "      <td>D</td>\n",
       "      <td>STD</td>\n",
       "      <td>ANTQ</td>\n",
       "      <td>000354100</td>\n",
       "      <td>A.A. IMPORTING CO INC</td>\n",
       "      <td>...</td>\n",
       "      <td>NaN</td>\n",
       "      <td>NaN</td>\n",
       "      <td>NaN</td>\n",
       "      <td>1</td>\n",
       "      <td>-1.240403</td>\n",
       "      <td>NaN</td>\n",
       "      <td>-0.403403</td>\n",
       "      <td>-0.087941</td>\n",
       "      <td>NaN</td>\n",
       "      <td>0</td>\n",
       "    </tr>\n",
       "    <tr>\n",
       "      <th>1</th>\n",
       "      <td>1004</td>\n",
       "      <td>1990-05-31</td>\n",
       "      <td>1989</td>\n",
       "      <td>INDL</td>\n",
       "      <td>C</td>\n",
       "      <td>D</td>\n",
       "      <td>STD</td>\n",
       "      <td>AIR</td>\n",
       "      <td>000361105</td>\n",
       "      <td>AAR CORP</td>\n",
       "      <td>...</td>\n",
       "      <td>NaN</td>\n",
       "      <td>NaN</td>\n",
       "      <td>NaN</td>\n",
       "      <td>1</td>\n",
       "      <td>0.554652</td>\n",
       "      <td>5.380405</td>\n",
       "      <td>0.240520</td>\n",
       "      <td>0.123916</td>\n",
       "      <td>27.257486</td>\n",
       "      <td>0</td>\n",
       "    </tr>\n",
       "    <tr>\n",
       "      <th>2</th>\n",
       "      <td>1004</td>\n",
       "      <td>1991-05-31</td>\n",
       "      <td>1990</td>\n",
       "      <td>INDL</td>\n",
       "      <td>C</td>\n",
       "      <td>D</td>\n",
       "      <td>STD</td>\n",
       "      <td>AIR</td>\n",
       "      <td>000361105</td>\n",
       "      <td>AAR CORP</td>\n",
       "      <td>...</td>\n",
       "      <td>0.32954</td>\n",
       "      <td>0.297848</td>\n",
       "      <td>-0.090196</td>\n",
       "      <td>0</td>\n",
       "      <td>0.863306</td>\n",
       "      <td>0.882711</td>\n",
       "      <td>0.262695</td>\n",
       "      <td>0.082704</td>\n",
       "      <td>-10.874040</td>\n",
       "      <td>0</td>\n",
       "    </tr>\n",
       "  </tbody>\n",
       "</table>\n",
       "<p>3 rows × 61 columns</p>\n",
       "</div>"
      ],
      "text/plain": [
       "   gvkey    datadate  fyear indfmt consol popsrc datafmt   tic      cusip  \\\n",
       "0   1003  1990-01-31   1989   INDL      C      D     STD  ANTQ  000354100   \n",
       "1   1004  1990-05-31   1989   INDL      C      D     STD   AIR  000361105   \n",
       "2   1004  1991-05-31   1990   INDL      C      D     STD   AIR  000361105   \n",
       "\n",
       "                    conm  ...    ch_cs     ch_cm    ch_roa  issue        bm  \\\n",
       "0  A.A. IMPORTING CO INC  ...      NaN       NaN       NaN      1 -1.240403   \n",
       "1               AAR CORP  ...      NaN       NaN       NaN      1  0.554652   \n",
       "2               AAR CORP  ...  0.32954  0.297848 -0.090196      0  0.863306   \n",
       "\n",
       "        dpi      reoa      EBIT     ch_fcf  misstate  \n",
       "0       NaN -0.403403 -0.087941        NaN         0  \n",
       "1  5.380405  0.240520  0.123916  27.257486         0  \n",
       "2  0.882711  0.262695  0.082704 -10.874040         0  \n",
       "\n",
       "[3 rows x 61 columns]"
      ]
     },
     "execution_count": 4,
     "metadata": {},
     "output_type": "execute_result"
    }
   ],
   "source": [
    "df.head(3)"
   ]
  },
  {
   "cell_type": "code",
   "execution_count": 5,
   "id": "fab4efb3",
   "metadata": {},
   "outputs": [
    {
     "data": {
      "text/plain": [
       "0    266737\n",
       "1      1376\n",
       "Name: misstate, dtype: int64"
      ]
     },
     "execution_count": 5,
     "metadata": {},
     "output_type": "execute_result"
    }
   ],
   "source": [
    "df[['fyear','misstate']]['misstate'].value_counts()"
   ]
  },
  {
   "cell_type": "code",
   "execution_count": 6,
   "id": "c48f501c",
   "metadata": {},
   "outputs": [
    {
     "data": {
      "text/plain": [
       "fyear\n",
       "1989      5\n",
       "1990     22\n",
       "1991     38\n",
       "1992     36\n",
       "1993     40\n",
       "1994     31\n",
       "1995     36\n",
       "1996     42\n",
       "1997     57\n",
       "1998     72\n",
       "1999    103\n",
       "2000    126\n",
       "2001    124\n",
       "2002    104\n",
       "2003     87\n",
       "2004     70\n",
       "2005     55\n",
       "2006     37\n",
       "2007     36\n",
       "2008     29\n",
       "2009     36\n",
       "2010     34\n",
       "2011     27\n",
       "2012     32\n",
       "2013     26\n",
       "2014     20\n",
       "2015     14\n",
       "2016     18\n",
       "2017     11\n",
       "2018      6\n",
       "2019      2\n",
       "2020      0\n",
       "2021      0\n",
       "2022      0\n",
       "2023      0\n",
       "Name: misstate, dtype: int64"
      ]
     },
     "execution_count": 6,
     "metadata": {},
     "output_type": "execute_result"
    }
   ],
   "source": [
    "df.groupby('fyear')['misstate'].sum()"
   ]
  },
  {
   "cell_type": "markdown",
   "id": "232e90b1",
   "metadata": {},
   "source": [
    "#### Retrain all of them"
   ]
  },
  {
   "cell_type": "code",
   "execution_count": 1,
   "id": "0270301a",
   "metadata": {},
   "outputs": [],
   "source": [
    "import pandas as pd\n",
    "import numpy as np\n",
    "from MLP.utils import datasets,plot_table,train_model\n",
    "from sklearn import metrics\n",
    "from imblearn.under_sampling import RandomUnderSampler\n",
    "from tabulate import tabulate\n",
    "import matplotlib.pyplot as plt\n",
    "from results.data_processing import DataProcessor\n",
    "from results.utils import evaluate,null_check,results\n",
    "from results.models import rus_boost, svm_model, xgb_model, logistic_regression_model,probit_regression_model,MLP,mlp_grid_search, random_forests\n",
    "import json\n",
    "from collections import defaultdict"
   ]
  },
  {
   "cell_type": "code",
   "execution_count": 2,
   "id": "91a15e6f",
   "metadata": {},
   "outputs": [],
   "source": [
    "data = pd.read_csv('./data/merged_compustat_and_labels.csv')\n",
    "with open('MLP/features.json') as json_file:\n",
    "    features_comp = json.load(json_file)"
   ]
  },
  {
   "cell_type": "code",
   "execution_count": 3,
   "id": "c82c74fb",
   "metadata": {},
   "outputs": [],
   "source": [
    "import numpy as np\n",
    "models = {\"MLP\": MLP,\n",
    "         \"RUS BOOST\": rus_boost,\n",
    "          \"Logit\":logistic_regression_model,\n",
    "         \"Probit\":probit_regression_model}"
   ]
  },
  {
   "cell_type": "code",
   "execution_count": 4,
   "id": "2be75486",
   "metadata": {
    "scrolled": true
   },
   "outputs": [
    {
     "data": {
      "text/plain": [
       "0    266737\n",
       "1      1376\n",
       "Name: misstate, dtype: int64"
      ]
     },
     "execution_count": 4,
     "metadata": {},
     "output_type": "execute_result"
    }
   ],
   "source": [
    "data['misstate'].value_counts()"
   ]
  },
  {
   "cell_type": "code",
   "execution_count": 5,
   "id": "101c4513",
   "metadata": {},
   "outputs": [],
   "source": [
    "data.replace([np.inf, -np.inf], np.nan, inplace=True)"
   ]
  },
  {
   "cell_type": "code",
   "execution_count": 6,
   "id": "775b828b",
   "metadata": {},
   "outputs": [],
   "source": [
    "data = data.fillna(0)"
   ]
  },
  {
   "cell_type": "code",
   "execution_count": 7,
   "id": "b705868b",
   "metadata": {
    "scrolled": true
   },
   "outputs": [
    {
     "data": {
      "text/plain": [
       "0    266737\n",
       "1      1376\n",
       "Name: misstate, dtype: int64"
      ]
     },
     "execution_count": 7,
     "metadata": {},
     "output_type": "execute_result"
    }
   ],
   "source": [
    "data['misstate'].value_counts()"
   ]
  },
  {
   "cell_type": "code",
   "execution_count": 8,
   "id": "5fa92c47",
   "metadata": {},
   "outputs": [
    {
     "name": "stdout",
     "output_type": "stream",
     "text": [
      "Train AUC: 1.0\n",
      "Train AUC: 1.0\n",
      "Train AUC: 1.0\n",
      "Train AUC: 0.7265008813098601\n",
      "Train AUC: 0.7272713372549853\n",
      "Train AUC: 0.6832483170167131\n",
      "Optimization terminated successfully.\n",
      "         Current function value: 0.596644\n",
      "         Iterations 10\n",
      "Optimization terminated successfully.\n",
      "         Current function value: 0.619102\n",
      "         Iterations 10\n",
      "Optimization terminated successfully.\n",
      "         Current function value: 0.619523\n",
      "         Iterations 10\n"
     ]
    }
   ],
   "source": [
    "### Batch Processing\n",
    "\n",
    "test_periods = [(2007,2019)]\n",
    "data_obj = DataProcessor(data,(1990,1999), (2000,2001), (2003,2014), 5)\n",
    "\n",
    "data_items = features_comp\n",
    "train_period = (1989,2006)\n",
    "res = defaultdict(lambda: defaultdict(dict))\n",
    "for test_period in test_periods:\n",
    "    for model in models.keys():\n",
    "        for data_item in data_items.keys():\n",
    "            auc = results(data_obj,train_period,test_period,data_items[data_item],models[model])\n",
    "            res[test_period][data_item][model] = auc"
   ]
  },
  {
   "cell_type": "code",
   "execution_count": 9,
   "id": "d03fe2fd",
   "metadata": {},
   "outputs": [
    {
     "name": "stdout",
     "output_type": "stream",
     "text": [
      "+----------------------------+-------+-----------+-------+--------+\n",
      "| Test Period : (2007, 2019) |  MLP  | RUS BOOST | Logit | Probit |\n",
      "+----------------------------+-------+-----------+-------+--------+\n",
      "|          features          | 0.622 |   0.657   | 0.615 | 0.622  |\n",
      "|   raw_financial_items_28   | 0.635 |   0.654   | 0.617 | 0.603  |\n",
      "|    financial_ratios_14     | 0.597 |   0.646   | 0.637 | 0.634  |\n",
      "+----------------------------+-------+-----------+-------+--------+\n"
     ]
    }
   ],
   "source": [
    "for key in res.keys():\n",
    "    columns = [\"Test Period : \"+str(key), 'MLP', 'RUS BOOST', 'Logit', 'Probit']\n",
    "    df = pd.DataFrame.from_dict(res[key], orient='index').reset_index()\n",
    "    df.columns = columns\n",
    "    for col in ['MLP', 'RUS BOOST', 'Logit', 'Probit']:\n",
    "        df[col] = df[col].round(3)\n",
    "    df.set_index(\"Test Period : \"+str(key), inplace=True)\n",
    "    print(tabulate(df, headers='keys', tablefmt='pretty'))"
   ]
  },
  {
   "cell_type": "code",
   "execution_count": null,
   "id": "3d920870",
   "metadata": {},
   "outputs": [],
   "source": []
  },
  {
   "cell_type": "code",
   "execution_count": null,
   "id": "f80d6fb9",
   "metadata": {},
   "outputs": [],
   "source": []
  },
  {
   "cell_type": "code",
   "execution_count": null,
   "id": "4cde0d3a",
   "metadata": {},
   "outputs": [],
   "source": []
  },
  {
   "cell_type": "code",
   "execution_count": null,
   "id": "9b01a8ac",
   "metadata": {},
   "outputs": [],
   "source": []
  },
  {
   "cell_type": "code",
   "execution_count": null,
   "id": "6aaa2a76",
   "metadata": {},
   "outputs": [],
   "source": []
  },
  {
   "cell_type": "code",
   "execution_count": null,
   "id": "48e8fb89",
   "metadata": {},
   "outputs": [],
   "source": []
  },
  {
   "cell_type": "code",
   "execution_count": null,
   "id": "17314e58",
   "metadata": {},
   "outputs": [],
   "source": []
  },
  {
   "cell_type": "code",
   "execution_count": null,
   "id": "253ab1fb",
   "metadata": {},
   "outputs": [],
   "source": []
  },
  {
   "cell_type": "code",
   "execution_count": null,
   "id": "b1833a36",
   "metadata": {},
   "outputs": [],
   "source": []
  },
  {
   "cell_type": "code",
   "execution_count": null,
   "id": "d0a440c0",
   "metadata": {},
   "outputs": [],
   "source": []
  },
  {
   "cell_type": "code",
   "execution_count": null,
   "id": "100df4e7",
   "metadata": {},
   "outputs": [],
   "source": []
  },
  {
   "cell_type": "code",
   "execution_count": null,
   "id": "0f562cd0",
   "metadata": {},
   "outputs": [],
   "source": []
  },
  {
   "cell_type": "code",
   "execution_count": 13,
   "id": "abe24b16",
   "metadata": {},
   "outputs": [],
   "source": [
    "import pandas as pd\n",
    "import json"
   ]
  },
  {
   "cell_type": "code",
   "execution_count": 14,
   "id": "bc374e09",
   "metadata": {},
   "outputs": [],
   "source": [
    "data = pd.read_csv('data/Bao_28_items_1990_2023_v3.csv')"
   ]
  },
  {
   "cell_type": "code",
   "execution_count": 15,
   "id": "6d32cc25",
   "metadata": {},
   "outputs": [
    {
     "data": {
      "text/plain": [
       "Index(['gvkey', 'datadate', 'fyear', 'indfmt', 'consol', 'popsrc', 'datafmt',\n",
       "       'tic', 'cusip', 'conm', 'curcd', 'fyr', 'act', 'ap', 'at', 'ceq', 'che',\n",
       "       'cogs', 'csho', 'dlc', 'dltis', 'dltt', 'dp', 'ib', 'invt', 'ivao',\n",
       "       'ivst', 'lct', 'lt', 'ni', 'ppegt', 'ppent', 'pstk', 're', 'rect',\n",
       "       'sale', 'sstk', 'txp', 'txt', 'xint', 'cik', 'costat', 'prcc_f',\n",
       "       'conml', 'sic'],\n",
       "      dtype='object')"
      ]
     },
     "execution_count": 15,
     "metadata": {},
     "output_type": "execute_result"
    }
   ],
   "source": [
    "data.columns"
   ]
  },
  {
   "cell_type": "code",
   "execution_count": 16,
   "id": "2b7e4529",
   "metadata": {
    "scrolled": false
   },
   "outputs": [
    {
     "data": {
      "text/plain": [
       "gvkey            0\n",
       "datadate         0\n",
       "fyear            0\n",
       "indfmt           0\n",
       "consol           0\n",
       "popsrc           0\n",
       "datafmt          0\n",
       "tic             96\n",
       "cusip           93\n",
       "conm             0\n",
       "curcd            0\n",
       "fyr              0\n",
       "act         107807\n",
       "ap           61018\n",
       "at           58645\n",
       "ceq          59271\n",
       "che          58984\n",
       "cogs         60155\n",
       "csho         20139\n",
       "dlc          59393\n",
       "dltis        79229\n",
       "dltt         59532\n",
       "dp           69479\n",
       "ib           59843\n",
       "invt         62697\n",
       "ivao         69326\n",
       "ivst         63544\n",
       "lct         106185\n",
       "lt           59135\n",
       "ni           59846\n",
       "ppegt        93112\n",
       "ppent        65412\n",
       "pstk         59431\n",
       "re           66839\n",
       "rect         61019\n",
       "sale         60116\n",
       "sstk         75498\n",
       "txp          87206\n",
       "txt          60116\n",
       "xint         97742\n",
       "cik          38466\n",
       "costat           0\n",
       "prcc_f       48082\n",
       "conml            0\n",
       "sic              0\n",
       "dtype: int64"
      ]
     },
     "execution_count": 16,
     "metadata": {},
     "output_type": "execute_result"
    }
   ],
   "source": [
    "data.isna().sum()"
   ]
  },
  {
   "cell_type": "code",
   "execution_count": 17,
   "id": "10386f84",
   "metadata": {
    "scrolled": false
   },
   "outputs": [],
   "source": [
    "with open('./MLP/features.json') as json_file:\n",
    "    features = json.load(json_file)"
   ]
  },
  {
   "cell_type": "code",
   "execution_count": 18,
   "id": "cad14d65",
   "metadata": {},
   "outputs": [],
   "source": [
    "for feat in features['raw_financial_items_28']:\n",
    "    if feat not in data.columns:\n",
    "        print(feat)"
   ]
  },
  {
   "cell_type": "code",
   "execution_count": 19,
   "id": "e75cfeff",
   "metadata": {
    "scrolled": false
   },
   "outputs": [
    {
     "data": {
      "text/plain": [
       "act       107807\n",
       "ap         61018\n",
       "at         58645\n",
       "ceq        59271\n",
       "che        58984\n",
       "cogs       60155\n",
       "csho       20139\n",
       "dlc        59393\n",
       "dltis      79229\n",
       "dltt       59532\n",
       "dp         69479\n",
       "ib         59843\n",
       "invt       62697\n",
       "ivao       69326\n",
       "ivst       63544\n",
       "lct       106185\n",
       "lt         59135\n",
       "ni         59846\n",
       "ppegt      93112\n",
       "pstk       59431\n",
       "re         66839\n",
       "rect       61019\n",
       "sale       60116\n",
       "sstk       75498\n",
       "txp        87206\n",
       "txt        60116\n",
       "xint       97742\n",
       "prcc_f     48082\n",
       "ppent      65412\n",
       "dtype: int64"
      ]
     },
     "execution_count": 19,
     "metadata": {},
     "output_type": "execute_result"
    }
   ],
   "source": [
    "data[features['raw_financial_items_28']+['ppent']].isna().sum()"
   ]
  },
  {
   "cell_type": "code",
   "execution_count": 20,
   "id": "794b6ba9",
   "metadata": {},
   "outputs": [],
   "source": [
    "data = data.dropna(subset=['at'])"
   ]
  },
  {
   "cell_type": "code",
   "execution_count": 21,
   "id": "275c2098",
   "metadata": {},
   "outputs": [],
   "source": [
    "data = data[data['at'] != 0]"
   ]
  },
  {
   "cell_type": "code",
   "execution_count": 22,
   "id": "7d738f6c",
   "metadata": {
    "scrolled": false
   },
   "outputs": [
    {
     "data": {
      "text/plain": [
       "act       49158\n",
       "ap         2372\n",
       "at            0\n",
       "ceq         636\n",
       "che         340\n",
       "cogs       1582\n",
       "csho       6192\n",
       "dlc         749\n",
       "dltis     20567\n",
       "dltt        891\n",
       "dp        10879\n",
       "ib         1322\n",
       "invt       4052\n",
       "ivao      10680\n",
       "ivst       4901\n",
       "lct       47535\n",
       "lt          491\n",
       "ni         1326\n",
       "ppegt     34462\n",
       "pstk        796\n",
       "re         8199\n",
       "rect       2376\n",
       "sale       1583\n",
       "sstk      16841\n",
       "txp       28561\n",
       "txt        1550\n",
       "xint      39101\n",
       "prcc_f    36558\n",
       "ppent      6770\n",
       "dtype: int64"
      ]
     },
     "execution_count": 22,
     "metadata": {},
     "output_type": "execute_result"
    }
   ],
   "source": [
    "data[features['raw_financial_items_28']+['ppent']].isna().sum()"
   ]
  },
  {
   "cell_type": "code",
   "execution_count": 23,
   "id": "ac4d892a",
   "metadata": {},
   "outputs": [],
   "source": [
    "data['Bank'] = (data['sic'] >= 6000) & (data['sic'] <= 6999)\n",
    "data['Bank'] = data['Bank'].astype(int)"
   ]
  },
  {
   "cell_type": "code",
   "execution_count": 24,
   "id": "ba3fa4fc",
   "metadata": {},
   "outputs": [
    {
     "data": {
      "text/plain": [
       "0    215127\n",
       "1     52977\n",
       "Name: Bank, dtype: int64"
      ]
     },
     "execution_count": 24,
     "metadata": {},
     "output_type": "execute_result"
    }
   ],
   "source": [
    "data['Bank'].value_counts()"
   ]
  },
  {
   "cell_type": "code",
   "execution_count": 25,
   "id": "e0d54786",
   "metadata": {},
   "outputs": [],
   "source": [
    "data[features['raw_financial_items_28']+['ppent']] = \\\n",
    "    data[features['raw_financial_items_28']+['ppent']].fillna(0)"
   ]
  },
  {
   "cell_type": "code",
   "execution_count": 26,
   "id": "5f4ae2db",
   "metadata": {},
   "outputs": [],
   "source": [
    "df = data.copy()"
   ]
  },
  {
   "cell_type": "code",
   "execution_count": 27,
   "id": "186cefeb",
   "metadata": {
    "scrolled": false
   },
   "outputs": [
    {
     "data": {
      "text/plain": [
       "Index(['gvkey', 'datadate', 'fyear', 'indfmt', 'consol', 'popsrc', 'datafmt',\n",
       "       'tic', 'cusip', 'conm', 'curcd', 'fyr', 'act', 'ap', 'at', 'ceq', 'che',\n",
       "       'cogs', 'csho', 'dlc', 'dltis', 'dltt', 'dp', 'ib', 'invt', 'ivao',\n",
       "       'ivst', 'lct', 'lt', 'ni', 'ppegt', 'ppent', 'pstk', 're', 'rect',\n",
       "       'sale', 'sstk', 'txp', 'txt', 'xint', 'cik', 'costat', 'prcc_f',\n",
       "       'conml', 'sic', 'Bank'],\n",
       "      dtype='object')"
      ]
     },
     "execution_count": 27,
     "metadata": {},
     "output_type": "execute_result"
    }
   ],
   "source": [
    "df.columns"
   ]
  },
  {
   "cell_type": "code",
   "execution_count": 28,
   "id": "ec35edd1",
   "metadata": {},
   "outputs": [],
   "source": [
    "#1 changes in working capital accruals\n",
    "df['wc'] = (df['act'] - df['che']) - (df['lct'] - df['dlc'] - df['txp'])\n",
    "df['ch_wc'] = df['wc'] - df['wc'].shift(1)\n",
    "df['dch_wc'] = df['ch_wc'] * 2 / (df['at'] - df['at'].shift(1))\n",
    "\n",
    "#2 changes in RSST_accruals\n",
    "df['nco'] = (df['at'] - df['act'] - df['ivao']) - (df['lt'] - df['lct'] - df['dltt'])\n",
    "df['ch_nco'] = df['nco'] - df['nco'].shift(1)\n",
    "\n",
    "df['fin'] = (df['ivst'] + df['ivao']) - (df['dltt'] + df['dlc'] + df['pstk'])\n",
    "df['ch_fin'] = df['fin'] - df['fin'].shift(1)\n",
    "\n",
    "df['ch_rsst'] = (df['ch_wc'] + df['ch_nco'] + df['ch_fin']) * 2 / (df['at'] + df['at'].shift(1))\n",
    "\n",
    "#3 changes in receivables\n",
    "df['ch_rec'] = df['rect'] - df['rect'].shift(1)\n",
    "df['dch_rec'] = df['ch_rec'] * 2 / (df['at'] + df['at'].shift(1))\n",
    "\n",
    "#4 changes in inventories\n",
    "df['ch_inv'] = df['invt'] - df['invt'].shift(1)\n",
    "df['dch_inv'] = df['ch_inv'] * 2 / (df['at'] + df['at'].shift(1))\n",
    "\n",
    "#5 percentage of soft assets\n",
    "df['soft_assets'] = (df['at'] - df['ppent'] - df['che']) / df['at']\n",
    "\n",
    "#6 percentage change in cash sales\n",
    "df['cs'] = df['sale'] - (df['rect'] - df['rect'].shift(1))\n",
    "df['ch_cs'] = (df['cs'] - df['cs'].shift(1)) / df['cs'].shift(1)\n",
    "\n",
    "#7 change in cash margin\n",
    "df['cmm'] = (df['cogs'] - (df['invt'] - df['invt'].shift(1)) + (df['ap'] - df['ap'].shift(1))) / (df['sale'] - (df['rect'] - df['rect'].shift(1)))\n",
    "df['ch_cm'] = (df['cmm'] - df['cmm'].shift(1)) / df['cmm'].shift(1)\n",
    "\n",
    "#8 change in return on assets\n",
    "df['roa'] = (df['ni'] * 2) / (df['at'] + df['at'].shift(1))\n",
    "\n",
    "df['ch_roa'] = df['roa'] - df['roa'].shift(1)\n",
    "\n",
    "#9 actual issuance\n",
    "df['issue'] = ((df['sstk'] > 0) | (df['dltis'] > 0)).astype(int)\n",
    "\n",
    "#10 Book-to-market\n",
    "df['bm'] = df['ceq'] / (df['prcc_f'] * df['csho'])\n",
    "\n",
    "#11 Depreciation Index (Ratio from Beneish 1999)\n",
    "df['dpi'] = (df['dp'].shift(1) / (df['dp'].shift(1) + df['ppent'].shift(1))) / (df['dp'] / (df['dp'] + df['ppent']))\n",
    "\n",
    "#12 Retained earnings over assets\n",
    "df['reoa'] = df['re'] / df['at']\n",
    "\n",
    "#13 Earnings before interest and tax (Ratios from Summers and Sweeney, 1998)\n",
    "df['EBIT'] = (df['ni'] + df['xint'] + df['txt']) / df['at']\n",
    "\n",
    "#14 changes in free cash flow\n",
    "df['ch_ib'] = df['ib'] - df['ib'].shift(1)\n",
    "df['ch_fcf'] = df['ch_ib'] - df['ch_rsst']\n"
   ]
  },
  {
   "cell_type": "code",
   "execution_count": 29,
   "id": "3c436f99",
   "metadata": {},
   "outputs": [],
   "source": [
    "selected_columns = ['dch_wc', 'ch_rsst', 'dch_rec', 'dch_inv', 'soft_assets', 'ch_cs', 'ch_cm', 'ch_roa', 'issue', 'bm', 'dpi', 'reoa', 'EBIT', 'ch_fcf']\n",
    "selected_df = df[selected_columns]"
   ]
  },
  {
   "cell_type": "code",
   "execution_count": 30,
   "id": "d8f2c7af",
   "metadata": {},
   "outputs": [
    {
     "data": {
      "text/plain": [
       "dch_wc            21\n",
       "ch_rsst            1\n",
       "dch_rec            1\n",
       "dch_inv            1\n",
       "soft_assets        0\n",
       "ch_cs           4126\n",
       "ch_cm           7500\n",
       "ch_roa             2\n",
       "issue              0\n",
       "bm               327\n",
       "dpi            21291\n",
       "reoa               0\n",
       "EBIT               0\n",
       "ch_fcf             1\n",
       "dtype: int64"
      ]
     },
     "execution_count": 30,
     "metadata": {},
     "output_type": "execute_result"
    }
   ],
   "source": [
    "selected_df.isna().sum()"
   ]
  },
  {
   "cell_type": "code",
   "execution_count": 31,
   "id": "1aae7fb3",
   "metadata": {},
   "outputs": [],
   "source": [
    "data[selected_columns] = df[selected_columns]\n"
   ]
  },
  {
   "cell_type": "code",
   "execution_count": 32,
   "id": "9a10c116",
   "metadata": {},
   "outputs": [
    {
     "data": {
      "text/plain": [
       "Index(['gvkey', 'datadate', 'fyear', 'indfmt', 'consol', 'popsrc', 'datafmt',\n",
       "       'tic', 'cusip', 'conm', 'curcd', 'fyr', 'act', 'ap', 'at', 'ceq', 'che',\n",
       "       'cogs', 'csho', 'dlc', 'dltis', 'dltt', 'dp', 'ib', 'invt', 'ivao',\n",
       "       'ivst', 'lct', 'lt', 'ni', 'ppegt', 'ppent', 'pstk', 're', 'rect',\n",
       "       'sale', 'sstk', 'txp', 'txt', 'xint', 'cik', 'costat', 'prcc_f',\n",
       "       'conml', 'sic', 'Bank', 'dch_wc', 'ch_rsst', 'dch_rec', 'dch_inv',\n",
       "       'soft_assets', 'ch_cs', 'ch_cm', 'ch_roa', 'issue', 'bm', 'dpi', 'reoa',\n",
       "       'EBIT', 'ch_fcf'],\n",
       "      dtype='object')"
      ]
     },
     "execution_count": 32,
     "metadata": {},
     "output_type": "execute_result"
    }
   ],
   "source": [
    "data.columns"
   ]
  },
  {
   "cell_type": "code",
   "execution_count": 42,
   "id": "3e5b412a",
   "metadata": {},
   "outputs": [],
   "source": [
    "df_labels = pd.read_csv('data/Annual_Labels2.csv')"
   ]
  },
  {
   "cell_type": "code",
   "execution_count": 36,
   "id": "8bb774b5",
   "metadata": {},
   "outputs": [],
   "source": [
    "# Merge dataframes on specified columns\n",
    "merged_df = pd.merge(data, df_labels, left_on=['cik', 'fyear'], right_on=['CIK', 'YEARA'], how='left')"
   ]
  },
  {
   "cell_type": "code",
   "execution_count": 37,
   "id": "b3906f39",
   "metadata": {},
   "outputs": [],
   "source": [
    "# Add a column with 1 for each record that is in df_labels\n",
    "merged_df['misstate'] = merged_df['CIK'].notnull().astype(int)"
   ]
  },
  {
   "cell_type": "code",
   "execution_count": 40,
   "id": "ad713dea",
   "metadata": {},
   "outputs": [
    {
     "data": {
      "text/plain": [
       "gvkey               0\n",
       "datadate            0\n",
       "fyear               0\n",
       "indfmt              0\n",
       "consol              0\n",
       "                ...  \n",
       "P_AAER         266737\n",
       "Unnamed: 9     268113\n",
       "Unnamed: 10    268113\n",
       "Unnamed: 11    268113\n",
       "misstate            0\n",
       "Length: 73, dtype: int64"
      ]
     },
     "execution_count": 40,
     "metadata": {},
     "output_type": "execute_result"
    }
   ],
   "source": [
    "merged_df.isna().sum()"
   ]
  },
  {
   "cell_type": "code",
   "execution_count": 44,
   "id": "55a10d49",
   "metadata": {},
   "outputs": [
    {
     "data": {
      "text/plain": [
       "1842"
      ]
     },
     "execution_count": 44,
     "metadata": {},
     "output_type": "execute_result"
    }
   ],
   "source": [
    "len(df_labels)"
   ]
  },
  {
   "cell_type": "code",
   "execution_count": 46,
   "id": "cc84ff64",
   "metadata": {},
   "outputs": [
    {
     "data": {
      "text/plain": [
       "0    266737\n",
       "1      1376\n",
       "Name: misstate, dtype: int64"
      ]
     },
     "execution_count": 46,
     "metadata": {},
     "output_type": "execute_result"
    }
   ],
   "source": [
    "merged_df['misstate'].value_counts()"
   ]
  },
  {
   "cell_type": "code",
   "execution_count": 47,
   "id": "684a6935",
   "metadata": {},
   "outputs": [
    {
     "data": {
      "text/plain": [
       "Index(['gvkey', 'datadate', 'fyear', 'indfmt', 'consol', 'popsrc', 'datafmt',\n",
       "       'tic', 'cusip', 'conm', 'curcd', 'fyr', 'act', 'ap', 'at', 'ceq', 'che',\n",
       "       'cogs', 'csho', 'dlc', 'dltis', 'dltt', 'dp', 'ib', 'invt', 'ivao',\n",
       "       'ivst', 'lct', 'lt', 'ni', 'ppegt', 'ppent', 'pstk', 're', 'rect',\n",
       "       'sale', 'sstk', 'txp', 'txt', 'xint', 'cik', 'costat', 'prcc_f',\n",
       "       'conml', 'sic', 'Bank', 'dch_wc', 'ch_rsst', 'dch_rec', 'dch_inv',\n",
       "       'soft_assets', 'ch_cs', 'ch_cm', 'ch_roa', 'issue', 'bm', 'dpi', 'reoa',\n",
       "       'EBIT', 'ch_fcf', 'ID', 'CONAME', 'CIK', 'GVKEY', 'PERMNO', 'TICKER',\n",
       "       'CNUM', 'YEARA', 'P_AAER', 'Unnamed: 9', 'Unnamed: 10', 'Unnamed: 11',\n",
       "       'misstate'],\n",
       "      dtype='object')"
      ]
     },
     "execution_count": 47,
     "metadata": {},
     "output_type": "execute_result"
    }
   ],
   "source": [
    "merged_df.columns"
   ]
  },
  {
   "cell_type": "code",
   "execution_count": null,
   "id": "dae62c25",
   "metadata": {},
   "outputs": [],
   "source": []
  }
 ],
 "metadata": {
  "kernelspec": {
   "display_name": "Python 3 (ipykernel)",
   "language": "python",
   "name": "python3"
  },
  "language_info": {
   "codemirror_mode": {
    "name": "ipython",
    "version": 3
   },
   "file_extension": ".py",
   "mimetype": "text/x-python",
   "name": "python",
   "nbconvert_exporter": "python",
   "pygments_lexer": "ipython3",
   "version": "3.10.6"
  }
 },
 "nbformat": 4,
 "nbformat_minor": 5
}

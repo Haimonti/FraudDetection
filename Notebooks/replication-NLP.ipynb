{
 "cells": [
  {
   "cell_type": "code",
   "execution_count": 2,
   "id": "5f66b28d",
   "metadata": {},
   "outputs": [],
   "source": [
    "import boto3\n",
    "import pandas as pd\n",
    "import sagemaker\n",
    "pd.get_option(\"display.max_columns\", None)\n",
    "\n",
    "import smjsindustry\n",
    "from smjsindustry.finance import utils\n",
    "from smjsindustry import NLPScoreType, NLPSCORE_NO_WORD_LIST\n",
    "from smjsindustry import NLPScorerConfig, JaccardSummarizerConfig, KMedoidsSummarizerConfig\n",
    "from smjsindustry import Summarizer, NLPScorer\n",
    "from smjsindustry.finance.processor import DataLoader, SECXMLFilingParser\n",
    "from smjsindustry.finance.processor_config import EDGARDataSetConfig"
   ]
  },
  {
   "cell_type": "code",
   "execution_count": 3,
   "id": "b20ba5d5",
   "metadata": {},
   "outputs": [],
   "source": [
    "dataset_config = EDGARDataSetConfig(\n",
    "    tickers_or_ciks=['amzn'],  # list of stock tickers or CIKs\n",
    "    form_types=['10-K'],              # list of SEC form types\n",
    "    filing_date_start='2019-01-01',                  # starting filing date\n",
    "    filing_date_end='2020-12-31',                    # ending filing date\n",
    "    email_as_user_agent='test-user@test.com')        # user agent email"
   ]
  },
  {
   "cell_type": "code",
   "execution_count": 5,
   "id": "5f452e9b",
   "metadata": {},
   "outputs": [
    {
     "data": {
      "text/plain": [
       "<bound method EDGARDataSetConfig.get_config of <smjsindustry.finance.processor_config.EDGARDataSetConfig object at 0x0000017E2B74BA30>>"
      ]
     },
     "execution_count": 5,
     "metadata": {},
     "output_type": "execute_result"
    }
   ],
   "source": []
  },
  {
   "cell_type": "code",
   "execution_count": null,
   "id": "aa818f6b",
   "metadata": {},
   "outputs": [],
   "source": []
  }
 ],
 "metadata": {
  "kernelspec": {
   "display_name": "Python 3 (ipykernel)",
   "language": "python",
   "name": "python3"
  },
  "language_info": {
   "codemirror_mode": {
    "name": "ipython",
    "version": 3
   },
   "file_extension": ".py",
   "mimetype": "text/x-python",
   "name": "python",
   "nbconvert_exporter": "python",
   "pygments_lexer": "ipython3",
   "version": "3.10.6"
  }
 },
 "nbformat": 4,
 "nbformat_minor": 5
}

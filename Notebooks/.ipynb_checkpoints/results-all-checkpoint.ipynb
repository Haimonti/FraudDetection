{
 "cells": [
  {
   "cell_type": "code",
   "execution_count": 6,
   "id": "ee02b0ba",
   "metadata": {},
   "outputs": [
    {
     "ename": "ModuleNotFoundError",
     "evalue": "No module named 'results'",
     "output_type": "error",
     "traceback": [
      "\u001b[1;31m---------------------------------------------------------------------------\u001b[0m",
      "\u001b[1;31mModuleNotFoundError\u001b[0m                       Traceback (most recent call last)",
      "Input \u001b[1;32mIn [6]\u001b[0m, in \u001b[0;36m<cell line: 1>\u001b[1;34m()\u001b[0m\n\u001b[1;32m----> 1\u001b[0m \u001b[38;5;28;01mfrom\u001b[39;00m \u001b[38;5;21;01mresults\u001b[39;00m\u001b[38;5;21;01m.\u001b[39;00m\u001b[38;5;21;01mdata_processing\u001b[39;00m \u001b[38;5;28;01mimport\u001b[39;00m DataProcessor\n\u001b[0;32m      2\u001b[0m \u001b[38;5;28;01mfrom\u001b[39;00m \u001b[38;5;21;01mresults\u001b[39;00m\u001b[38;5;21;01m.\u001b[39;00m\u001b[38;5;21;01mutils\u001b[39;00m \u001b[38;5;28;01mimport\u001b[39;00m evaluate,null_check,results\n\u001b[0;32m      3\u001b[0m \u001b[38;5;28;01mfrom\u001b[39;00m \u001b[38;5;21;01mresults\u001b[39;00m\u001b[38;5;21;01m.\u001b[39;00m\u001b[38;5;21;01mmodels\u001b[39;00m \u001b[38;5;28;01mimport\u001b[39;00m rus_boost, svm_model, xgb_model, logistic_regression_model, probit_regression_model\n",
      "\u001b[1;31mModuleNotFoundError\u001b[0m: No module named 'results'"
     ]
    }
   ],
   "source": [
    "from results.data_processing import DataProcessor\n",
    "from results.utils import evaluate,null_check,results\n",
    "from results.models import rus_boost, svm_model, xgb_model, logistic_regression_model, probit_regression_model\n",
    "import pandas as pd\n",
    "import json"
   ]
  },
  {
   "cell_type": "code",
   "execution_count": null,
   "id": "8b9e0154",
   "metadata": {},
   "outputs": [],
   "source": [
    "data = pd.read_csv('data/data_FraudDetection_JAR2020.csv')"
   ]
  },
  {
   "cell_type": "code",
   "execution_count": 5,
   "id": "99e8cad3",
   "metadata": {},
   "outputs": [],
   "source": [
    "data_obj = DataProcessor(data,(1991,1999), (2000,2001), (2003,2014), 5)"
   ]
  },
  {
   "cell_type": "code",
   "execution_count": 9,
   "id": "6d6801c3",
   "metadata": {},
   "outputs": [],
   "source": [
    "with open('results/features.json') as json_file:\n",
    "    features_comp = json.load(json_file)"
   ]
  },
  {
   "cell_type": "code",
   "execution_count": 10,
   "id": "cac5d581",
   "metadata": {},
   "outputs": [],
   "source": [
    "test_periods = [(2003,2005), (2003,2008), (2003,2011), (2003,2014)]\n",
    "models = {\"RUS BOOST\": rus_boost,\n",
    "          \"Logit\":logistic_regression_model,\n",
    "         \"SVM\": svm_model}\n",
    "data_items = features_comp"
   ]
  },
  {
   "cell_type": "code",
   "execution_count": null,
   "id": "b6a5e71f",
   "metadata": {},
   "outputs": [
    {
     "name": "stdout",
     "output_type": "stream",
     "text": [
      "MODEL:  RUS BOOST\n",
      "---------------------------------------------------------------------------\n",
      "Test period:  (2003, 2005)\n",
      "------------------------------\n",
      "28 Raw Financial Items + 14 Financial Ratios\n",
      "---------------\n",
      "Training data Shape after sampling: (596, 42)\n",
      "Test data Shape: (15724, 42)\n",
      "0.6537854929525344\n",
      "------------------------------------------------------------\n",
      "28 Raw Financial Items\n",
      "---------------\n",
      "Training data Shape after sampling: (664, 28)\n",
      "Test data Shape: (17778, 28)\n",
      "0.7137204150804826\n",
      "------------------------------------------------------------\n",
      "14 Financial Ratios\n",
      "---------------\n",
      "Training data Shape after sampling: (596, 14)\n",
      "Test data Shape: (15724, 14)\n",
      "0.6343848537434243\n",
      "------------------------------------------------------------\n",
      "Test period:  (2003, 2008)\n",
      "------------------------------\n",
      "28 Raw Financial Items + 14 Financial Ratios\n",
      "---------------\n",
      "Training data Shape after sampling: (596, 42)\n",
      "Test data Shape: (30777, 42)\n",
      "0.6510523798604514\n",
      "------------------------------------------------------------\n",
      "28 Raw Financial Items\n",
      "---------------\n",
      "Training data Shape after sampling: (664, 28)\n",
      "Test data Shape: (35166, 28)\n",
      "0.6830690418053161\n",
      "------------------------------------------------------------\n",
      "14 Financial Ratios\n",
      "---------------\n",
      "Training data Shape after sampling: (596, 14)\n",
      "Test data Shape: (30777, 14)\n",
      "0.6193810069774298\n",
      "------------------------------------------------------------\n",
      "Test period:  (2003, 2011)\n",
      "------------------------------\n",
      "28 Raw Financial Items + 14 Financial Ratios\n",
      "---------------\n",
      "Training data Shape after sampling: (596, 42)\n",
      "Test data Shape: (44674, 42)\n",
      "0.6751373806017654\n",
      "------------------------------------------------------------\n",
      "28 Raw Financial Items\n",
      "---------------\n",
      "Training data Shape after sampling: (664, 28)\n",
      "Test data Shape: (51326, 28)\n",
      "0.6723201986879297\n",
      "------------------------------------------------------------\n",
      "14 Financial Ratios\n",
      "---------------\n",
      "Training data Shape after sampling: (596, 14)\n",
      "Test data Shape: (44674, 14)\n",
      "0.6283706336280238\n",
      "------------------------------------------------------------\n",
      "Test period:  (2003, 2014)\n",
      "------------------------------\n",
      "28 Raw Financial Items + 14 Financial Ratios\n",
      "---------------\n",
      "Training data Shape after sampling: (596, 42)\n",
      "Test data Shape: (58405, 42)\n",
      "0.6761847724205448\n",
      "------------------------------------------------------------\n",
      "28 Raw Financial Items\n",
      "---------------\n",
      "Training data Shape after sampling: (664, 28)\n",
      "Test data Shape: (68230, 28)\n",
      "0.6680632718363223\n",
      "------------------------------------------------------------\n",
      "14 Financial Ratios\n",
      "---------------\n",
      "Training data Shape after sampling: (596, 14)\n",
      "Test data Shape: (58405, 14)\n",
      "0.6229533503037379\n",
      "------------------------------------------------------------\n",
      "MODEL:  Logit\n",
      "---------------------------------------------------------------------------\n",
      "Test period:  (2003, 2005)\n",
      "------------------------------\n",
      "28 Raw Financial Items + 14 Financial Ratios\n",
      "---------------\n",
      "Training data Shape after sampling: (596, 42)\n",
      "Test data Shape: (15724, 42)\n"
     ]
    },
    {
     "name": "stderr",
     "output_type": "stream",
     "text": [
      "C:\\Users\\saite\\AppData\\Local\\Programs\\Python\\Python310\\lib\\site-packages\\sklearn\\svm\\_base.py:1244: ConvergenceWarning: Liblinear failed to converge, increase the number of iterations.\n",
      "  warnings.warn(\n"
     ]
    },
    {
     "name": "stdout",
     "output_type": "stream",
     "text": [
      "0.5678999000870587\n",
      "------------------------------------------------------------\n",
      "28 Raw Financial Items\n",
      "---------------\n",
      "Training data Shape after sampling: (664, 28)\n",
      "Test data Shape: (17778, 28)\n",
      "0.6520753693904563\n",
      "------------------------------------------------------------\n",
      "14 Financial Ratios\n",
      "---------------\n",
      "Training data Shape after sampling: (596, 14)\n",
      "Test data Shape: (15724, 14)\n",
      "0.6108498053353121\n",
      "------------------------------------------------------------\n",
      "Test period:  (2003, 2008)\n",
      "------------------------------\n",
      "28 Raw Financial Items + 14 Financial Ratios\n",
      "---------------\n",
      "Training data Shape after sampling: (596, 42)\n",
      "Test data Shape: (30777, 42)\n"
     ]
    },
    {
     "name": "stderr",
     "output_type": "stream",
     "text": [
      "C:\\Users\\saite\\AppData\\Local\\Programs\\Python\\Python310\\lib\\site-packages\\sklearn\\svm\\_base.py:1244: ConvergenceWarning: Liblinear failed to converge, increase the number of iterations.\n",
      "  warnings.warn(\n"
     ]
    },
    {
     "name": "stdout",
     "output_type": "stream",
     "text": [
      "0.5673432698922265\n",
      "------------------------------------------------------------\n",
      "28 Raw Financial Items\n",
      "---------------\n",
      "Training data Shape after sampling: (664, 28)\n",
      "Test data Shape: (35166, 28)\n",
      "0.6012622657777734\n",
      "------------------------------------------------------------\n",
      "14 Financial Ratios\n",
      "---------------\n",
      "Training data Shape after sampling: (596, 14)\n",
      "Test data Shape: (30777, 14)\n",
      "0.6239855865299572\n",
      "------------------------------------------------------------\n",
      "Test period:  (2003, 2011)\n",
      "------------------------------\n",
      "28 Raw Financial Items + 14 Financial Ratios\n",
      "---------------\n",
      "Training data Shape after sampling: (596, 42)\n",
      "Test data Shape: (44674, 42)\n"
     ]
    },
    {
     "name": "stderr",
     "output_type": "stream",
     "text": [
      "C:\\Users\\saite\\AppData\\Local\\Programs\\Python\\Python310\\lib\\site-packages\\sklearn\\svm\\_base.py:1244: ConvergenceWarning: Liblinear failed to converge, increase the number of iterations.\n",
      "  warnings.warn(\n"
     ]
    },
    {
     "name": "stdout",
     "output_type": "stream",
     "text": [
      "0.5658260961568815\n",
      "------------------------------------------------------------\n",
      "28 Raw Financial Items\n",
      "---------------\n",
      "Training data Shape after sampling: (664, 28)\n",
      "Test data Shape: (51326, 28)\n",
      "0.5785436775977312\n",
      "------------------------------------------------------------\n",
      "14 Financial Ratios\n",
      "---------------\n",
      "Training data Shape after sampling: (596, 14)\n",
      "Test data Shape: (44674, 14)\n",
      "0.6251586281539605\n",
      "------------------------------------------------------------\n",
      "Test period:  (2003, 2014)\n",
      "------------------------------\n",
      "28 Raw Financial Items + 14 Financial Ratios\n",
      "---------------\n",
      "Training data Shape after sampling: (596, 42)\n",
      "Test data Shape: (58405, 42)\n"
     ]
    },
    {
     "name": "stderr",
     "output_type": "stream",
     "text": [
      "C:\\Users\\saite\\AppData\\Local\\Programs\\Python\\Python310\\lib\\site-packages\\sklearn\\svm\\_base.py:1244: ConvergenceWarning: Liblinear failed to converge, increase the number of iterations.\n",
      "  warnings.warn(\n"
     ]
    },
    {
     "name": "stdout",
     "output_type": "stream",
     "text": [
      "0.5611472124682287\n",
      "------------------------------------------------------------\n",
      "28 Raw Financial Items\n",
      "---------------\n",
      "Training data Shape after sampling: (664, 28)\n",
      "Test data Shape: (68230, 28)\n",
      "0.5688908717160726\n",
      "------------------------------------------------------------\n",
      "14 Financial Ratios\n",
      "---------------\n",
      "Training data Shape after sampling: (596, 14)\n",
      "Test data Shape: (58405, 14)\n",
      "0.6376537315587756\n",
      "------------------------------------------------------------\n",
      "MODEL:  SVM\n",
      "---------------------------------------------------------------------------\n",
      "Test period:  (2003, 2005)\n",
      "------------------------------\n",
      "28 Raw Financial Items + 14 Financial Ratios\n",
      "---------------\n",
      "Training data Shape after sampling: (596, 42)\n",
      "Test data Shape: (15724, 42)\n"
     ]
    }
   ],
   "source": [
    "train_period = (1991,1999)\n",
    "for model in models.keys():\n",
    "    print(\"MODEL: \", model)\n",
    "    print(\"---\"*25)\n",
    "    for test_period in test_periods:\n",
    "        print(\"Test period: \", test_period)\n",
    "        print(\"---\"*10)\n",
    "        for data_item in data_items.keys():\n",
    "            print(data_item)\n",
    "            print(\"---\"*5)\n",
    "            print(results(data_obj,train_period,test_period,data_items[data_item],models[model]))\n",
    "            print(\"---\"*20)"
   ]
  },
  {
   "cell_type": "code",
   "execution_count": null,
   "id": "2ba6a6e0",
   "metadata": {},
   "outputs": [],
   "source": []
  }
 ],
 "metadata": {
  "kernelspec": {
   "display_name": "Python 3 (ipykernel)",
   "language": "python",
   "name": "python3"
  },
  "language_info": {
   "codemirror_mode": {
    "name": "ipython",
    "version": 3
   },
   "file_extension": ".py",
   "mimetype": "text/x-python",
   "name": "python",
   "nbconvert_exporter": "python",
   "pygments_lexer": "ipython3",
   "version": "3.10.6"
  }
 },
 "nbformat": 4,
 "nbformat_minor": 5
}
